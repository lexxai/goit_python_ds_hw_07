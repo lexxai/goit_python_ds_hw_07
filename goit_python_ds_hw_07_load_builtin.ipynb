{
  "nbformat": 4,
  "nbformat_minor": 0,
  "metadata": {
    "colab": {
      "provenance": [],
      "collapsed_sections": [
        "OLW2WK4cK08b",
        "VumP61raGOTE",
        "PYbeZAPjtK1_",
        "ueUxG3LaLG4I",
        "eCXw_cYz2z45",
        "Q9A4q5cF3OF0",
        "O_uWjxHB2OVX",
        "xUP_-6eYM_1T",
        "4TrQTNYlL-zX",
        "ZEf1LzGQH1qZ",
        "9oZbFr2xZnyM",
        "UfO5MUvEABAK",
        "t9xezE86PB4A",
        "NmFGtg1lSWng"
      ],
      "authorship_tag": "ABX9TyOqAOoxxdw+/+nZ+TD4vZUA",
      "include_colab_link": true
    },
    "kernelspec": {
      "name": "python3",
      "display_name": "Python 3"
    },
    "language_info": {
      "name": "python"
    }
  },
  "cells": [
    {
      "cell_type": "markdown",
      "metadata": {
        "id": "view-in-github",
        "colab_type": "text"
      },
      "source": [
        "<a href=\"https://colab.research.google.com/github/lexxai/goit_python_ds_hw_07/blob/main/goit_python_ds_hw_07_load_builtin.ipynb\" target=\"_parent\"><img src=\"https://colab.research.google.com/assets/colab-badge.svg\" alt=\"Open In Colab\"/></a>"
      ]
    },
    {
      "cell_type": "markdown",
      "source": [
        "# Модуль 7. Рекомендаційні системи.\n",
        "\n",
        "*З циклу [домашніх завдань Python Data Science](https://github.com/lexxai/goit_python_data_sciense_homework).*\n",
        "\n",
        "# Домашнє завдання"
      ],
      "metadata": {
        "id": "VTvBpLm5Jqyj"
      }
    },
    {
      "cell_type": "markdown",
      "source": [
        "## LOAD DATASET"
      ],
      "metadata": {
        "id": "OLW2WK4cK08b"
      }
    },
    {
      "cell_type": "code",
      "source": [
        "!pip install scikit-surprise"
      ],
      "metadata": {
        "colab": {
          "base_uri": "https://localhost:8080/"
        },
        "id": "IQlrrC64Ei_D",
        "outputId": "8b3c5a02-997a-438a-d6fa-9647f259b046"
      },
      "execution_count": 1,
      "outputs": [
        {
          "output_type": "stream",
          "name": "stdout",
          "text": [
            "Collecting scikit-surprise\n",
            "  Downloading scikit-surprise-1.1.3.tar.gz (771 kB)\n",
            "\u001b[2K     \u001b[90m━━━━━━━━━━━━━━━━━━━━━━━━━━━━━━━━━━━━━━━━\u001b[0m \u001b[32m772.0/772.0 kB\u001b[0m \u001b[31m6.2 MB/s\u001b[0m eta \u001b[36m0:00:00\u001b[0m\n",
            "\u001b[?25h  Preparing metadata (setup.py) ... \u001b[?25l\u001b[?25hdone\n",
            "Requirement already satisfied: joblib>=1.0.0 in /usr/local/lib/python3.10/dist-packages (from scikit-surprise) (1.3.2)\n",
            "Requirement already satisfied: numpy>=1.17.3 in /usr/local/lib/python3.10/dist-packages (from scikit-surprise) (1.25.2)\n",
            "Requirement already satisfied: scipy>=1.3.2 in /usr/local/lib/python3.10/dist-packages (from scikit-surprise) (1.11.4)\n",
            "Building wheels for collected packages: scikit-surprise\n",
            "  Building wheel for scikit-surprise (setup.py) ... \u001b[?25l\u001b[?25hdone\n",
            "  Created wheel for scikit-surprise: filename=scikit_surprise-1.1.3-cp310-cp310-linux_x86_64.whl size=3163009 sha256=e6ced9278176b02d481e5b319505209453c57ff1a40b4de3d66ef63959ca699b\n",
            "  Stored in directory: /root/.cache/pip/wheels/a5/ca/a8/4e28def53797fdc4363ca4af740db15a9c2f1595ebc51fb445\n",
            "Successfully built scikit-surprise\n",
            "Installing collected packages: scikit-surprise\n",
            "Successfully installed scikit-surprise-1.1.3\n"
          ]
        }
      ]
    },
    {
      "cell_type": "code",
      "source": [
        "from surprise import accuracy, Dataset, Reader, SVD\n",
        "from surprise.model_selection import cross_validate, train_test_split\n",
        "import pandas as pd\n",
        "import numpy as np\n",
        "from pathlib import Path"
      ],
      "metadata": {
        "id": "m63KlyHSprCX"
      },
      "execution_count": 2,
      "outputs": []
    },
    {
      "cell_type": "code",
      "source": [
        "laod_mode = \"load_builtin\""
      ],
      "metadata": {
        "id": "8_JhmJld6eFR"
      },
      "execution_count": 3,
      "outputs": []
    },
    {
      "cell_type": "code",
      "execution_count": 4,
      "metadata": {
        "id": "6SaBHI8tEE-8",
        "colab": {
          "base_uri": "https://localhost:8080/"
        },
        "outputId": "1577ce64-ac23-40ee-8290-d0ecb074973f"
      },
      "outputs": [
        {
          "output_type": "stream",
          "name": "stdout",
          "text": [
            "Trying to download dataset from https://files.grouplens.org/datasets/movielens/ml-100k.zip...\n",
            "Done! Dataset ml-100k has been saved to /root/.surprise_data/ml-100k\n"
          ]
        }
      ],
      "source": [
        "if laod_mode == \"load_builtin\":\n",
        "  # Load the movielens-100k dataset (download it if needed).\n",
        "  data = Dataset.load_builtin('ml-100k', prompt=False)"
      ]
    },
    {
      "cell_type": "code",
      "source": [
        "if laod_mode == \"load_builtin\":\n",
        "  !ls -1  /root/.surprise_data/ml-100k/ml-100k/u* | sed  's/\\/root\\/\\.surprise_data\\/ml-100k\\/ml-100k\\///g' | sort"
      ],
      "metadata": {
        "id": "T0DErstIgFzd",
        "colab": {
          "base_uri": "https://localhost:8080/"
        },
        "outputId": "f2eecf64-536e-4cba-bc64-6df2170ef0d8"
      },
      "execution_count": 5,
      "outputs": [
        {
          "output_type": "stream",
          "name": "stdout",
          "text": [
            "u1.base\n",
            "u1.test\n",
            "u2.base\n",
            "u2.test\n",
            "u3.base\n",
            "u3.test\n",
            "u4.base\n",
            "u4.test\n",
            "u5.base\n",
            "u5.test\n",
            "ua.base\n",
            "ua.test\n",
            "ub.base\n",
            "ub.test\n",
            "u.data\n",
            "u.genre\n",
            "u.info\n",
            "u.item\n",
            "u.occupation\n",
            "u.user\n"
          ]
        }
      ]
    },
    {
      "cell_type": "code",
      "source": [
        "if laod_mode == \"load_builtin\":\n",
        "  base_path = Path(\"/root/.surprise_data/ml-100k/ml-100k\")\n",
        "  filelist =  list(map(lambda x: x.name, sorted(base_path.glob(\"u*\"))))\n",
        "  types = {\n",
        "      \"test\": \"Test_files\",\n",
        "      \"base\": \"Train_files\"\n",
        "  }\n",
        "  for f, d in types.items():\n",
        "    print(f\"\\n{d}:\")\n",
        "    print(list(filter(lambda x : x.endswith(f\".{f}\") ,filelist)))"
      ],
      "metadata": {
        "id": "z-K7JzgVjES4",
        "colab": {
          "base_uri": "https://localhost:8080/"
        },
        "outputId": "fd6b337c-5825-4c9e-f349-09d71acba857"
      },
      "execution_count": 6,
      "outputs": [
        {
          "output_type": "stream",
          "name": "stdout",
          "text": [
            "\n",
            "Test_files:\n",
            "['u1.test', 'u2.test', 'u3.test', 'u4.test', 'u5.test', 'ua.test', 'ub.test']\n",
            "\n",
            "Train_files:\n",
            "['u1.base', 'u2.base', 'u3.base', 'u4.base', 'u5.base', 'ua.base', 'ub.base']\n"
          ]
        }
      ]
    },
    {
      "cell_type": "code",
      "source": [
        "  latest_url = \"https://files.grouplens.org/datasets/movielens/ml-latest-small.zip\"\n",
        "  latest_zip_file = Path(\"ml-latest-small.zip\")\n",
        "  if not latest_zip_file.exists():\n",
        "    !wget -q $latest_url\n",
        "    !unzip -q $latest_zip_file\n",
        "  base_path = Path(\"/content/ml-latest-small/\")\n",
        "  rating_csv = base_path.joinpath(\"ratings.csv\")\n",
        "  tags_csv = base_path.joinpath(\"tags.csv\")\n",
        "  movies_csv = base_path.joinpath(\"movies.csv\")"
      ],
      "metadata": {
        "id": "oVTS5xZsmyJS"
      },
      "execution_count": 7,
      "outputs": []
    },
    {
      "cell_type": "code",
      "source": [
        "if laod_mode == \"load_from_file\":\n",
        "  reader = Reader(line_format=u'user item rating timestamp', sep=',', rating_scale=(1, 5), skip_lines=1)\n",
        "  data = Dataset.load_from_file(rating_csv, reader=reader)"
      ],
      "metadata": {
        "id": "dNYxkIYrpWZE"
      },
      "execution_count": 8,
      "outputs": []
    },
    {
      "cell_type": "code",
      "source": [
        "if laod_mode == \"load_from_df\":\n",
        "  df = pd.read_csv(rating_csv)\n",
        "\n",
        "  # A reader is still needed but only the rating_scale param is requiered.\n",
        "  reader = Reader(rating_scale=(1, 5))\n",
        "\n",
        "  # The columns must correspond to user id, item id and ratings (in that order).\n",
        "  data = Dataset.load_from_df(df[[\"userId\", \"movieId\",  \"rating\"]], reader)"
      ],
      "metadata": {
        "id": "NEEvbfqBquBr"
      },
      "execution_count": 9,
      "outputs": []
    },
    {
      "cell_type": "code",
      "source": [
        "type(data)"
      ],
      "metadata": {
        "id": "zk4mZ2b0cx7F",
        "colab": {
          "base_uri": "https://localhost:8080/",
          "height": 228
        },
        "outputId": "14ea597a-a281-40d7-ef65-9e78947e8cdb"
      },
      "execution_count": 10,
      "outputs": [
        {
          "output_type": "execute_result",
          "data": {
            "text/plain": [
              "surprise.dataset.DatasetAutoFolds"
            ],
            "text/html": [
              "<div style=\"max-width:800px; border: 1px solid var(--colab-border-color);\"><style>\n",
              "      pre.function-repr-contents {\n",
              "        overflow-x: auto;\n",
              "        padding: 8px 12px;\n",
              "        max-height: 500px;\n",
              "      }\n",
              "\n",
              "      pre.function-repr-contents.function-repr-contents-collapsed {\n",
              "        cursor: pointer;\n",
              "        max-height: 100px;\n",
              "      }\n",
              "    </style>\n",
              "    <pre style=\"white-space: initial; background:\n",
              "         var(--colab-secondary-surface-color); padding: 8px 12px;\n",
              "         border-bottom: 1px solid var(--colab-border-color);\"><b>surprise.dataset.DatasetAutoFolds</b><br/>def __init__(ratings_file=None, reader=None, df=None)</pre><pre class=\"function-repr-contents function-repr-contents-collapsed\" style=\"\"><a class=\"filepath\" style=\"display:none\" href=\"#\">/usr/local/lib/python3.10/dist-packages/surprise/dataset.py</a>A derived class from :class:`Dataset` for which folds (for\n",
              "cross-validation) are not predefined. (Or for when there are no folds at\n",
              "all).</pre>\n",
              "      <script>\n",
              "      if (google.colab.kernel.accessAllowed && google.colab.files && google.colab.files.view) {\n",
              "        for (const element of document.querySelectorAll('.filepath')) {\n",
              "          element.style.display = 'block'\n",
              "          element.onclick = (event) => {\n",
              "            event.preventDefault();\n",
              "            event.stopPropagation();\n",
              "            google.colab.files.view(element.textContent, 247);\n",
              "          };\n",
              "        }\n",
              "      }\n",
              "      for (const element of document.querySelectorAll('.function-repr-contents')) {\n",
              "        element.onclick = (event) => {\n",
              "          event.preventDefault();\n",
              "          event.stopPropagation();\n",
              "          element.classList.toggle('function-repr-contents-collapsed');\n",
              "        };\n",
              "      }\n",
              "      </script>\n",
              "      </div>"
            ]
          },
          "metadata": {},
          "execution_count": 10
        }
      ]
    },
    {
      "cell_type": "markdown",
      "source": [
        "### Аналіз записів"
      ],
      "metadata": {
        "id": "VumP61raGOTE"
      }
    },
    {
      "cell_type": "markdown",
      "source": [
        "Неважлива інофромаційна частина для пошуку реальних значень з датасету: uid, iid, ur. А також для уявлення змісту даних датасету."
      ],
      "metadata": {
        "id": "DjEBc7AqBy9O"
      }
    },
    {
      "cell_type": "code",
      "source": [
        "from datetime import date\n",
        "\n",
        "dater = None\n",
        "\n",
        "# Access dataset attributes\n",
        "raw_ratings = data.raw_ratings\n",
        "print(\"Number of ratings:\", len(raw_ratings))\n",
        "\n",
        "# Print a sample of raw ratings\n",
        "print(\"\\nTop 5 samples of raw ratings:\")\n",
        "for rating in raw_ratings[:5]:\n",
        "  uid, iid, ur, timestamp = rating\n",
        "  if timestamp:\n",
        "    dater = date.fromtimestamp(int(timestamp))\n",
        "  print(f\"UserID: {uid:5}, ItemID: {iid:5}, UserRateForItem: {ur:5}, date: {dater}\")\n",
        "\n",
        "search_uid = uid\n",
        "count_uid = 5\n",
        "print(f\"\\nTop {count_uid} ratings of user: {search_uid}\")\n",
        "\n",
        "for rating in raw_ratings:\n",
        "  uid, iid, ur, timestamp = rating\n",
        "  if uid == search_uid:\n",
        "    if timestamp:\n",
        "      dater = date.fromtimestamp(int(timestamp))\n",
        "    count_uid -= 1;\n",
        "    print(f\"UserID: {uid:5}, ItemID: {iid:5}, UserRateForItem: {ur:5}, date: {dater}\")\n",
        "    if count_uid <= 0:\n",
        "      break\n",
        "\n",
        "search_iid = iid\n",
        "count_iid = 5\n",
        "print(f\"\\nTop {count_iid} ratings of item: {search_iid}\")\n",
        "\n",
        "for rating in raw_ratings:\n",
        "  uid, iid, ur, timestamp = rating\n",
        "  if iid == search_iid:\n",
        "    if timestamp:\n",
        "      dater = date.fromtimestamp(int(timestamp))\n",
        "    count_iid -= 1;\n",
        "    print(f\"UserID: {uid:5}, ItemID: {iid:5}, UserRateForItem: {ur:5}, date: {dater}\")\n",
        "    if count_iid <= 0:\n",
        "      break"
      ],
      "metadata": {
        "id": "HPNxTcHLbyWK",
        "colab": {
          "base_uri": "https://localhost:8080/"
        },
        "outputId": "cc4159ee-a910-4ea3-d66a-058017751b8c"
      },
      "execution_count": 11,
      "outputs": [
        {
          "output_type": "stream",
          "name": "stdout",
          "text": [
            "Number of ratings: 100000\n",
            "\n",
            "Top 5 samples of raw ratings:\n",
            "UserID: 196  , ItemID: 242  , UserRateForItem:   3.0, date: 1997-12-04\n",
            "UserID: 186  , ItemID: 302  , UserRateForItem:   3.0, date: 1998-04-04\n",
            "UserID: 22   , ItemID: 377  , UserRateForItem:   1.0, date: 1997-11-07\n",
            "UserID: 244  , ItemID: 51   , UserRateForItem:   2.0, date: 1997-11-27\n",
            "UserID: 166  , ItemID: 346  , UserRateForItem:   1.0, date: 1998-02-02\n",
            "\n",
            "Top 5 ratings of user: 166\n",
            "UserID: 166  , ItemID: 346  , UserRateForItem:   1.0, date: 1998-02-02\n",
            "UserID: 166  , ItemID: 328  , UserRateForItem:   5.0, date: 1998-02-02\n",
            "UserID: 166  , ItemID: 322  , UserRateForItem:   5.0, date: 1998-02-02\n",
            "UserID: 166  , ItemID: 288  , UserRateForItem:   3.0, date: 1998-02-02\n",
            "UserID: 166  , ItemID: 258  , UserRateForItem:   4.0, date: 1998-02-02\n",
            "\n",
            "Top 5 ratings of item: 258\n",
            "UserID: 26   , ItemID: 258  , UserRateForItem:   3.0, date: 1998-03-31\n",
            "UserID: 66   , ItemID: 258  , UserRateForItem:   4.0, date: 1997-12-31\n",
            "UserID: 207  , ItemID: 258  , UserRateForItem:   4.0, date: 1997-10-26\n",
            "UserID: 90   , ItemID: 258  , UserRateForItem:   3.0, date: 1998-03-31\n",
            "UserID: 6    , ItemID: 258  , UserRateForItem:   2.0, date: 1997-12-28\n"
          ]
        }
      ]
    },
    {
      "cell_type": "markdown",
      "source": [
        "Використовуєтьс прямий відгук (Explicit feedback) - це оцінка, яку користувач поставив, щоб висловити свою задоволеність товаром."
      ],
      "metadata": {
        "id": "UGbdKhLZGOTI"
      }
    },
    {
      "cell_type": "markdown",
      "source": [
        "Для оцінки що базується на спільній інформації про користувачів  та їхню взаємодію з об'єктами (Collaborative Filtering) вибранно модель матричної факторизації (Matrix Factorization)."
      ],
      "metadata": {
        "id": "vd_a5Z0QGOTI"
      }
    },
    {
      "cell_type": "code",
      "source": [
        "# uid = 6\n",
        "# iid = 258\n",
        "# ur = 2.0\n",
        "# dater = \"1997-12-28\""
      ],
      "metadata": {
        "id": "djCv_xDbDPFc"
      },
      "execution_count": 12,
      "outputs": []
    },
    {
      "cell_type": "markdown",
      "source": [
        "Ми використовуємо об'єкт ***DatasetAutoFolds*** у Surprise, це означає, що ми працюємо з набором даних, який вже було розбито на файли (folds) для перехресної перевірки.\n",
        "\n",
        "\n",
        "\n",
        "Мета цього методу - охопити загальний випадок використання, коли набір даних вже розбито на попередньо визначені складові, наприклад, набір даних movielens-100k ('ml-100k'), який визначає файли u1.base, u1.test, u2.base, u2.test і т.д... Його також можна використовувати, коли ми не хочемо виконувати перехресну перевірку, але все одно хочемо вказати наші навчальні та тестові дані (що в будь-якому випадку зводиться до 1-кратної перехресної перевірки)."
      ],
      "metadata": {
        "id": "yzuccKchc2ji"
      }
    },
    {
      "cell_type": "markdown",
      "source": [
        "## Mоделі матричної факторизації"
      ],
      "metadata": {
        "id": "PYbeZAPjtK1_"
      }
    },
    {
      "cell_type": "markdown",
      "source": [
        "### Algorithm SVD.\n",
        "\n",
        "Метод SVD може бути адаптований до наборів даних з неявним зворотним зв'язком (implicit feedback)."
      ],
      "metadata": {
        "id": "ueUxG3LaLG4I"
      }
    },
    {
      "cell_type": "markdown",
      "source": [
        "\n",
        "- RMSE - root-mean-square error\n",
        "- MAE - mean absolute error"
      ],
      "metadata": {
        "id": "uyQ5s_mFwxP5"
      }
    },
    {
      "cell_type": "code",
      "source": [
        "SEED = 42\n",
        "algo_cv = {}\n",
        "algo_split = {}\n",
        "# Use the SVD algorithm.\n",
        "algo = SVD(random_state=SEED)"
      ],
      "metadata": {
        "id": "xtGVOa9MvqW-"
      },
      "execution_count": 13,
      "outputs": []
    },
    {
      "cell_type": "markdown",
      "source": [
        "#### Прогноз"
      ],
      "metadata": {
        "id": "AXSz9le_xsT4"
      }
    },
    {
      "cell_type": "markdown",
      "source": [
        "#### Full_trainset та він же і testset. Accuracy RMSE (root-mean-square error).\n"
      ],
      "metadata": {
        "id": "eCXw_cYz2z45"
      }
    },
    {
      "cell_type": "code",
      "source": [
        "def data_full_trainset(algo, data):\n",
        "  algorithm_name = algo.__class__.__name__\n",
        "  print(f\"Algo: {algorithm_name}, UserID: {uid:5}, ItemID: {iid:5}, UserRateForItem: {ur:5}, date: {dater}\")\n",
        "\n",
        "  #trainset, testset = train_test_split(data, test_size=0.25)\n",
        "  trainset = data.build_full_trainset()\n",
        "\n",
        "  print(\"Number of train ratings:\", len(list(trainset.all_ratings())))\n",
        "  algo.fit(trainset)\n",
        "  pred = algo.predict(uid, iid, r_ui=ur, verbose=True)\n",
        "\n",
        "  testset = trainset.build_testset()\n",
        "  print(\"Number of test ratings:\", len(testset))\n",
        "\n",
        "  predictions = algo.test(testset)\n",
        "  # RMSE має бути низьким, оскільки ми є упередженими\n",
        "  accuracy.rmse(predictions, verbose=True)  # ~ 0.68 (що є низьким показником)"
      ],
      "metadata": {
        "id": "Vqp3Qyoivlrg"
      },
      "execution_count": 14,
      "outputs": []
    },
    {
      "cell_type": "code",
      "source": [
        "data_full_trainset(algo, data)"
      ],
      "metadata": {
        "id": "IA0MEHsC_pac",
        "colab": {
          "base_uri": "https://localhost:8080/"
        },
        "outputId": "9166d8ef-4a6e-4276-e1b8-5e92243bf093"
      },
      "execution_count": 15,
      "outputs": [
        {
          "output_type": "stream",
          "name": "stdout",
          "text": [
            "Algo: SVD, UserID: 6    , ItemID: 258  , UserRateForItem:   2.0, date: 1997-12-28\n",
            "Number of train ratings: 100000\n",
            "user: 6          item: 258        r_ui = 2.00   est = 2.60   {'was_impossible': False}\n",
            "Number of test ratings: 100000\n",
            "RMSE: 0.6752\n"
          ]
        }
      ]
    },
    {
      "cell_type": "markdown",
      "source": [
        "#### Train_test_split 25%. Accuracy RMSE (root-mean-square error).\n"
      ],
      "metadata": {
        "id": "Q9A4q5cF3OF0"
      }
    },
    {
      "cell_type": "code",
      "source": [
        "def data_train_test_split(algo, data, name_opt=None, test_size=0.25):\n",
        "  algorithm_name = algo.__class__.__name__\n",
        "  if name_opt:\n",
        "    algorithm_name = f\"{algorithm_name}_{name_opt}\"\n",
        "  print(f\"Algo: {algorithm_name}, UserID: {uid:5}, ItemID: {iid:5}, UserRateForItem: {ur:5}, date: {dater}\")\n",
        "  trainset, testset = train_test_split(data, test_size=test_size)\n",
        "\n",
        "  print(\"Number of train ratings:\", len(list(trainset.all_ratings())))\n",
        "  algo.fit(trainset)\n",
        "  pred = algo.predict(uid, iid, r_ui=ur, verbose=True)\n",
        "\n",
        "  print(\"Number of test ratings:\", len(testset))\n",
        "\n",
        "  predictions = algo.test(testset)\n",
        "  # RMSE має бути більшим\n",
        "  rmse = accuracy.rmse(predictions, verbose=True)  # ~ 0.94 (що є високим показником)\n",
        "  return {algorithm_name: rmse}"
      ],
      "metadata": {
        "id": "LdeuubKe2U_G"
      },
      "execution_count": 50,
      "outputs": []
    },
    {
      "cell_type": "code",
      "source": [
        "algo_split.update(data_train_test_split(algo, data))"
      ],
      "metadata": {
        "id": "glUST0_nAXnR",
        "colab": {
          "base_uri": "https://localhost:8080/"
        },
        "outputId": "4d92330b-deb0-4190-e938-0b0cb7aa9484"
      },
      "execution_count": 17,
      "outputs": [
        {
          "output_type": "stream",
          "name": "stdout",
          "text": [
            "Algo: SVD, UserID: 6    , ItemID: 258  , UserRateForItem:   2.0, date: 1997-12-28\n",
            "Number of train ratings: 75000\n",
            "user: 6          item: 258        r_ui = 2.00   est = 2.91   {'was_impossible': False}\n",
            "Number of test ratings: 25000\n",
            "RMSE: 0.9390\n"
          ]
        }
      ]
    },
    {
      "cell_type": "markdown",
      "source": [
        "#### Cross Validate, cv = 5"
      ],
      "metadata": {
        "id": "O_uWjxHB2OVX"
      }
    },
    {
      "cell_type": "code",
      "source": [
        "import numpy as np\n",
        "\n",
        "def data_cross_validate(algo, data, name_opt=None, cv=5):\n",
        "  algorithm_name = algo.__class__.__name__\n",
        "  if name_opt:\n",
        "    algorithm_name = f\"{algorithm_name}_{name_opt}\"\n",
        "  print(f\"Algo: {algorithm_name}. Cross Validate: {cv}\")\n",
        "  # Run 5-fold cross-validation and print results.\n",
        "  cv_result = cross_validate(algo, data, measures=['RMSE', 'MAE'], cv=cv, verbose=True)\n",
        "  mean_rmse = np.array(cv_result.get('test_rmse')).mean()\n",
        "  mean_fit = np.array(cv_result.get('fit_time')).mean()\n",
        "  mean_test = np.array(cv_result.get('test_time')).mean()\n",
        "\n",
        "  print(f\"{mean_rmse=}\")\n",
        "  return {algorithm_name: (mean_rmse, mean_fit, mean_test)}"
      ],
      "metadata": {
        "id": "s2Kyk9JeGBJy"
      },
      "execution_count": 59,
      "outputs": []
    },
    {
      "cell_type": "code",
      "source": [
        "algo_cv.update(data_cross_validate(algo, data))"
      ],
      "metadata": {
        "colab": {
          "base_uri": "https://localhost:8080/"
        },
        "id": "NxWiH8bUWrk3",
        "outputId": "599bb7d4-732d-4931-f735-ce7840fd2221"
      },
      "execution_count": 19,
      "outputs": [
        {
          "output_type": "stream",
          "name": "stdout",
          "text": [
            "Algo: SVD. Cross Validate: 5\n",
            "Evaluating RMSE, MAE of algorithm SVD on 5 split(s).\n",
            "\n",
            "                  Fold 1  Fold 2  Fold 3  Fold 4  Fold 5  Mean    Std     \n",
            "RMSE (testset)    0.9370  0.9348  0.9389  0.9312  0.9372  0.9358  0.0027  \n",
            "MAE (testset)     0.7381  0.7399  0.7378  0.7327  0.7399  0.7377  0.0026  \n",
            "Fit time          3.54    3.03    2.71    3.13    1.55    2.79    0.68    \n",
            "Test time         0.32    0.23    0.25    0.19    0.12    0.22    0.07    \n",
            "mean_rmse=0.9358139953699286\n"
          ]
        }
      ]
    },
    {
      "cell_type": "markdown",
      "source": [
        "### Algorithm SVD++ (SVDpp)\n",
        "\n",
        "Алгоритм SVD++ можна використовувати, коли ми маємо доступ як до явного (explicit), так і до неявного (implicit) зворотного зв'язку. Це може бути дуже корисно, тому що зазвичай користувачі взаємодіють з багатьма елементами (= неявний зворотній зв'язок), але оцінюють лише невелику підмножину з них (= явний зворотній зв'язок).\n"
      ],
      "metadata": {
        "id": "xUP_-6eYM_1T"
      }
    },
    {
      "cell_type": "code",
      "source": [
        " # surprise.prediction_algorithms.matrix_factorization.SVDpp\n",
        "from surprise import SVDpp\n",
        "\n",
        "# Use the SVDpp algorithm.\n",
        "algo = SVDpp()"
      ],
      "metadata": {
        "id": "QxLJcJhUNA2o"
      },
      "execution_count": 20,
      "outputs": []
    },
    {
      "cell_type": "code",
      "source": [
        "data_full_trainset(algo, data)"
      ],
      "metadata": {
        "id": "IS0gaLu--bMW",
        "colab": {
          "base_uri": "https://localhost:8080/"
        },
        "outputId": "58de80e1-5c04-46e2-bc9e-490068f0ed80"
      },
      "execution_count": 21,
      "outputs": [
        {
          "output_type": "stream",
          "name": "stdout",
          "text": [
            "Algo: SVDpp, UserID: 6    , ItemID: 258  , UserRateForItem:   2.0, date: 1997-12-28\n",
            "Number of train ratings: 100000\n",
            "user: 6          item: 258        r_ui = 2.00   est = 3.11   {'was_impossible': False}\n",
            "Number of test ratings: 100000\n",
            "RMSE: 0.7559\n"
          ]
        }
      ]
    },
    {
      "cell_type": "code",
      "source": [
        "algo_split.update(data_train_test_split(algo, data))"
      ],
      "metadata": {
        "id": "F9aQtziO-fTA",
        "colab": {
          "base_uri": "https://localhost:8080/"
        },
        "outputId": "9e840739-b721-4575-fcb5-9ade71a4ce80"
      },
      "execution_count": 22,
      "outputs": [
        {
          "output_type": "stream",
          "name": "stdout",
          "text": [
            "Algo: SVDpp, UserID: 6    , ItemID: 258  , UserRateForItem:   2.0, date: 1997-12-28\n",
            "Number of train ratings: 75000\n",
            "user: 6          item: 258        r_ui = 2.00   est = 3.29   {'was_impossible': False}\n",
            "Number of test ratings: 25000\n",
            "RMSE: 0.9253\n"
          ]
        }
      ]
    },
    {
      "cell_type": "code",
      "source": [
        "algo_cv.update(data_cross_validate(algo, data))"
      ],
      "metadata": {
        "id": "D1mlY6C_-WWh",
        "colab": {
          "base_uri": "https://localhost:8080/"
        },
        "outputId": "30d8c38b-3fc7-4e76-b5cb-41d8475a2253"
      },
      "execution_count": 23,
      "outputs": [
        {
          "output_type": "stream",
          "name": "stdout",
          "text": [
            "Algo: SVDpp. Cross Validate: 5\n",
            "Evaluating RMSE, MAE of algorithm SVDpp on 5 split(s).\n",
            "\n",
            "                  Fold 1  Fold 2  Fold 3  Fold 4  Fold 5  Mean    Std     \n",
            "RMSE (testset)    0.9167  0.9189  0.9179  0.9202  0.9183  0.9184  0.0012  \n",
            "MAE (testset)     0.7186  0.7196  0.7207  0.7222  0.7202  0.7203  0.0012  \n",
            "Fit time          28.43   26.93   26.68   26.93   38.13   29.42   4.40    \n",
            "Test time         4.39    5.32    4.47    4.92    4.44    4.71    0.36    \n",
            "mean_rmse=0.9183848633406491\n"
          ]
        }
      ]
    },
    {
      "cell_type": "markdown",
      "source": [
        "### Algorithm NMF"
      ],
      "metadata": {
        "id": "7yAcmVTsMtDD"
      }
    },
    {
      "cell_type": "code",
      "source": [
        "# surprise.prediction_algorithms.matrix_factorization.NMF\n",
        "from surprise import NMF\n",
        "\n",
        "# Use the NMF algorithm.\n",
        "algo = NMF()"
      ],
      "metadata": {
        "id": "fsbcpEK5MuMz"
      },
      "execution_count": 24,
      "outputs": []
    },
    {
      "cell_type": "code",
      "source": [
        "data_full_trainset(algo, data)"
      ],
      "metadata": {
        "colab": {
          "base_uri": "https://localhost:8080/"
        },
        "id": "Hnz2KCaC_EDw",
        "outputId": "07371ca5-cefe-46e8-e989-e756aca7829d"
      },
      "execution_count": 25,
      "outputs": [
        {
          "output_type": "stream",
          "name": "stdout",
          "text": [
            "Algo: NMF, UserID: 6    , ItemID: 258  , UserRateForItem:   2.0, date: 1997-12-28\n",
            "Number of train ratings: 100000\n",
            "user: 6          item: 258        r_ui = 2.00   est = 3.82   {'was_impossible': False}\n",
            "Number of test ratings: 100000\n",
            "RMSE: 0.8199\n"
          ]
        }
      ]
    },
    {
      "cell_type": "code",
      "source": [
        "algo_split.update(data_train_test_split(algo, data))"
      ],
      "metadata": {
        "colab": {
          "base_uri": "https://localhost:8080/"
        },
        "id": "u92zY9Yi_ILp",
        "outputId": "60148fc1-2a58-4ec0-b371-2a77154d13ba"
      },
      "execution_count": 26,
      "outputs": [
        {
          "output_type": "stream",
          "name": "stdout",
          "text": [
            "Algo: NMF, UserID: 6    , ItemID: 258  , UserRateForItem:   2.0, date: 1997-12-28\n",
            "Number of train ratings: 75000\n",
            "user: 6          item: 258        r_ui = 2.00   est = 3.65   {'was_impossible': False}\n",
            "Number of test ratings: 25000\n",
            "RMSE: 0.9689\n"
          ]
        }
      ]
    },
    {
      "cell_type": "code",
      "source": [
        "algo_cv.update(data_cross_validate(algo, data))"
      ],
      "metadata": {
        "colab": {
          "base_uri": "https://localhost:8080/"
        },
        "id": "bnuu_byH_Hiw",
        "outputId": "eb0d5e75-fbdd-43fd-abda-d9184c35f0fb"
      },
      "execution_count": 27,
      "outputs": [
        {
          "output_type": "stream",
          "name": "stdout",
          "text": [
            "Algo: NMF. Cross Validate: 5\n",
            "Evaluating RMSE, MAE of algorithm NMF on 5 split(s).\n",
            "\n",
            "                  Fold 1  Fold 2  Fold 3  Fold 4  Fold 5  Mean    Std     \n",
            "RMSE (testset)    0.9529  0.9664  0.9648  0.9655  0.9555  0.9610  0.0057  \n",
            "MAE (testset)     0.7476  0.7615  0.7563  0.7593  0.7519  0.7553  0.0050  \n",
            "Fit time          2.04    2.02    2.19    2.41    2.00    2.13    0.15    \n",
            "Test time         0.11    0.10    0.28    0.12    0.19    0.16    0.07    \n",
            "mean_rmse=0.9610232683090464\n"
          ]
        }
      ]
    },
    {
      "cell_type": "markdown",
      "source": [
        "## Сімейство алгоритмів k-NN\n"
      ],
      "metadata": {
        "id": "7GiwVM6d_pBf"
      }
    },
    {
      "cell_type": "markdown",
      "source": [
        "\n",
        "Ці алгоритми безпосередньо випливають з базового методу найближчих сусідів.\n"
      ],
      "metadata": {
        "id": "sa_CWfroAVwO"
      }
    },
    {
      "cell_type": "markdown",
      "source": [
        "### Algorithm KNNBasic."
      ],
      "metadata": {
        "id": "4TrQTNYlL-zX"
      }
    },
    {
      "cell_type": "markdown",
      "source": [
        "sim_options={'user_based': True}"
      ],
      "metadata": {
        "id": "7R243CJgBPdY"
      }
    },
    {
      "cell_type": "code",
      "source": [
        "from surprise import KNNBasic\n",
        "\n",
        "# Build an algorithm, and train it.\n",
        "algo = KNNBasic(sim_options={'user_based': True})"
      ],
      "metadata": {
        "id": "vr_csvEwI1f0"
      },
      "execution_count": 55,
      "outputs": []
    },
    {
      "cell_type": "code",
      "source": [
        "data_full_trainset(algo, data)"
      ],
      "metadata": {
        "colab": {
          "base_uri": "https://localhost:8080/"
        },
        "id": "8QwLukw-JGdP",
        "outputId": "43b348a2-435b-4222-c2fd-7b5b01c72060"
      },
      "execution_count": 56,
      "outputs": [
        {
          "output_type": "stream",
          "name": "stdout",
          "text": [
            "Algo: KNNBasic, UserID: 244  , ItemID: 1449 , UserRateForItem:   2.0, date: 1997-12-28\n",
            "Number of train ratings: 100000\n",
            "Computing the msd similarity matrix...\n",
            "Done computing similarity matrix.\n",
            "user: 244        item: 1449       r_ui = 2.00   est = 4.67   {'actual_k': 8, 'was_impossible': False}\n",
            "Number of test ratings: 100000\n",
            "RMSE: 0.7781\n"
          ]
        }
      ]
    },
    {
      "cell_type": "code",
      "source": [
        "algo_split.update(data_train_test_split(algo, data, name_opt=\"user_on\"))"
      ],
      "metadata": {
        "colab": {
          "base_uri": "https://localhost:8080/"
        },
        "id": "uNmfqM4I97wW",
        "outputId": "f5f3bdc3-805d-49c2-8c52-c33f41725e3b"
      },
      "execution_count": 60,
      "outputs": [
        {
          "output_type": "stream",
          "name": "stdout",
          "text": [
            "Algo: KNNBasic_user_on, UserID: 244  , ItemID: 1449 , UserRateForItem:   2.0, date: 1997-12-28\n",
            "Number of train ratings: 75000\n",
            "Computing the msd similarity matrix...\n",
            "Done computing similarity matrix.\n",
            "user: 244        item: 1449       r_ui = 2.00   est = 4.67   {'actual_k': 8, 'was_impossible': False}\n",
            "Number of test ratings: 25000\n",
            "RMSE: 0.9835\n"
          ]
        }
      ]
    },
    {
      "cell_type": "code",
      "source": [
        "algo_cv.update(data_cross_validate(algo, data, name_opt=\"user_on\"))"
      ],
      "metadata": {
        "colab": {
          "base_uri": "https://localhost:8080/"
        },
        "id": "ZrM3m5dh-MTt",
        "outputId": "178a8d5c-5870-4f68-b125-02ed90d34f53"
      },
      "execution_count": 61,
      "outputs": [
        {
          "output_type": "stream",
          "name": "stdout",
          "text": [
            "Algo: KNNBasic_user_on. Cross Validate: 5\n",
            "Computing the msd similarity matrix...\n",
            "Done computing similarity matrix.\n",
            "Computing the msd similarity matrix...\n",
            "Done computing similarity matrix.\n",
            "Computing the msd similarity matrix...\n",
            "Done computing similarity matrix.\n",
            "Computing the msd similarity matrix...\n",
            "Done computing similarity matrix.\n",
            "Computing the msd similarity matrix...\n",
            "Done computing similarity matrix.\n",
            "Evaluating RMSE, MAE of algorithm KNNBasic on 5 split(s).\n",
            "\n",
            "                  Fold 1  Fold 2  Fold 3  Fold 4  Fold 5  Mean    Std     \n",
            "RMSE (testset)    0.9842  0.9743  0.9774  0.9771  0.9799  0.9786  0.0033  \n",
            "MAE (testset)     0.7785  0.7681  0.7719  0.7723  0.7741  0.7730  0.0034  \n",
            "Fit time          0.51    0.37    0.36    0.50    0.36    0.42    0.07    \n",
            "Test time         4.01    3.09    3.13    3.70    3.11    3.41    0.38    \n",
            "mean_rmse=0.9785791598707767\n"
          ]
        }
      ]
    },
    {
      "cell_type": "markdown",
      "source": [
        "### Algorithm KNNBasic."
      ],
      "metadata": {
        "id": "IfuCUaXnwFSz"
      }
    },
    {
      "cell_type": "markdown",
      "source": [
        "sim_options={'user_based': False}"
      ],
      "metadata": {
        "id": "SACrcBQ0wFS2"
      }
    },
    {
      "cell_type": "code",
      "source": [
        "from surprise import KNNBasic\n",
        "\n",
        "# Build an algorithm, and train it.\n",
        "algo = KNNBasic(sim_options={'user_based': False})"
      ],
      "metadata": {
        "id": "Lu12nFsRwFS3"
      },
      "execution_count": 62,
      "outputs": []
    },
    {
      "cell_type": "code",
      "source": [
        "data_full_trainset(algo, data)"
      ],
      "metadata": {
        "colab": {
          "base_uri": "https://localhost:8080/"
        },
        "outputId": "bcb71a7d-80b9-4efa-fea2-19e48b4675bd",
        "id": "AOko3LB3wFS4"
      },
      "execution_count": 63,
      "outputs": [
        {
          "output_type": "stream",
          "name": "stdout",
          "text": [
            "Algo: KNNBasic, UserID: 244  , ItemID: 1449 , UserRateForItem:   2.0, date: 1997-12-28\n",
            "Number of train ratings: 100000\n",
            "Computing the msd similarity matrix...\n",
            "Done computing similarity matrix.\n",
            "user: 244        item: 1449       r_ui = 2.00   est = 3.95   {'actual_k': 40, 'was_impossible': False}\n",
            "Number of test ratings: 100000\n",
            "RMSE: 0.7166\n"
          ]
        }
      ]
    },
    {
      "cell_type": "code",
      "source": [
        "algo_split.update(data_train_test_split(algo, data, name_opt=\"user_off\"))"
      ],
      "metadata": {
        "colab": {
          "base_uri": "https://localhost:8080/"
        },
        "outputId": "f32673da-dd52-4534-ac26-0c0bbc104f11",
        "id": "BY2xVXMCwFS6"
      },
      "execution_count": 64,
      "outputs": [
        {
          "output_type": "stream",
          "name": "stdout",
          "text": [
            "Algo: KNNBasic_user_off, UserID: 244  , ItemID: 1449 , UserRateForItem:   2.0, date: 1997-12-28\n",
            "Number of train ratings: 75000\n",
            "Computing the msd similarity matrix...\n",
            "Done computing similarity matrix.\n",
            "user: 244        item: 1449       r_ui = 2.00   est = 3.91   {'actual_k': 40, 'was_impossible': False}\n",
            "Number of test ratings: 25000\n",
            "RMSE: 0.9732\n"
          ]
        }
      ]
    },
    {
      "cell_type": "code",
      "source": [
        "algo_cv.update(data_cross_validate(algo, data, name_opt=\"user_off\"))"
      ],
      "metadata": {
        "colab": {
          "base_uri": "https://localhost:8080/"
        },
        "outputId": "c6c17c55-eb15-4764-8338-425a73f049e9",
        "id": "usGWn8g3wFS6"
      },
      "execution_count": 65,
      "outputs": [
        {
          "output_type": "stream",
          "name": "stdout",
          "text": [
            "Algo: KNNBasic_user_off. Cross Validate: 5\n",
            "Computing the msd similarity matrix...\n",
            "Done computing similarity matrix.\n",
            "Computing the msd similarity matrix...\n",
            "Done computing similarity matrix.\n",
            "Computing the msd similarity matrix...\n",
            "Done computing similarity matrix.\n",
            "Computing the msd similarity matrix...\n",
            "Done computing similarity matrix.\n",
            "Computing the msd similarity matrix...\n",
            "Done computing similarity matrix.\n",
            "Evaluating RMSE, MAE of algorithm KNNBasic on 5 split(s).\n",
            "\n",
            "                  Fold 1  Fold 2  Fold 3  Fold 4  Fold 5  Mean    Std     \n",
            "RMSE (testset)    0.9783  0.9718  0.9740  0.9779  0.9704  0.9745  0.0032  \n",
            "MAE (testset)     0.7716  0.7676  0.7696  0.7735  0.7665  0.7697  0.0026  \n",
            "Fit time          0.55    0.53    0.52    0.74    0.55    0.58    0.08    \n",
            "Test time         4.61    3.53    3.55    4.18    3.57    3.89    0.44    \n",
            "mean_rmse=0.9744575309985397\n"
          ]
        }
      ]
    },
    {
      "cell_type": "markdown",
      "source": [
        "## Результати accuracy для різних алгоритмів"
      ],
      "metadata": {
        "id": "ZEf1LzGQH1qZ"
      }
    },
    {
      "cell_type": "code",
      "source": [
        "algo_split"
      ],
      "metadata": {
        "colab": {
          "base_uri": "https://localhost:8080/"
        },
        "id": "0s7f5PcQH_lH",
        "outputId": "60da1b8b-670b-4102-d327-a952c83b9bf8"
      },
      "execution_count": 68,
      "outputs": [
        {
          "output_type": "execute_result",
          "data": {
            "text/plain": [
              "{'SVD': 0.9389789510116466,\n",
              " 'SVDpp': 0.9253395909276804,\n",
              " 'NMF': 0.9689142969809889,\n",
              " 'KNNBasic_user_on': 0.9835228263710808,\n",
              " 'KNNBasic_user_off': 0.9732485565027006}"
            ]
          },
          "metadata": {},
          "execution_count": 68
        }
      ]
    },
    {
      "cell_type": "code",
      "source": [
        "algo_split_s = dict(sorted(algo_split.items(), key=lambda x: x[1]))"
      ],
      "metadata": {
        "id": "QslxVHDiIj8S"
      },
      "execution_count": 69,
      "outputs": []
    },
    {
      "cell_type": "code",
      "source": [
        "import matplotlib.pyplot as plt\n",
        "\n",
        "def plot_algo(input_data: dict, title_type: str=\"\", ylabel_type: str=\"RMSE\", column=None):\n",
        "  x = list(input_data.keys())\n",
        "  if column is None:\n",
        "    y = list(input_data.values())\n",
        "  else:\n",
        "    y = [v[column] for v in input_data.values()]\n",
        "\n",
        "  y = np.array(y)\n",
        "\n",
        "  plt.figure(figsize=(16, 5))\n",
        "  h_y = y[-1] -  y[0]\n",
        "  max_y = y[-1] + h_y * 0.16\n",
        "  min_y = y[0] - h_y * 0.16\n",
        "  min_y = 0 if min_y < 0 else min_y\n",
        "  plt.ylim(min_y, max_y)\n",
        "  plt.title(f\"Результати {title_type} для різних алгоритмів. [зміна у % від поперед.] (зміна у % від найкр.)\")\n",
        "\n",
        "  cmap = plt.get_cmap('Paired')\n",
        "  num_colors = len(x)\n",
        "  colors_map = [cmap(i / num_colors) for i in range(num_colors)]\n",
        "  custom_colors = {key: colors_map[i] for i, key in enumerate(sorted(x))}\n",
        "  colors = [custom_colors.get(x_v, 'blue') for x_v in x]\n",
        "\n",
        "  bar_w = 0.6\n",
        "\n",
        "  plt.bar(x, height=y, width=bar_w, label=x, color=colors)\n",
        "  plt.plot(x, y, \"o-\")\n",
        "  plt.xlabel(\"Назва алгоритму\")\n",
        "  plt.ylabel(ylabel_type)\n",
        "  plt.vlines(x[0], min_y, max_y, color=\"red\", linestyle=\"-.\", label=\"Best Algo, lower value\")\n",
        "  plt.hlines(y[0], -bar_w / 2, len(x) - 1 + bar_w / 2, color=\"red\", linestyle=\"-.\")\n",
        "  diff_y = np.diff(y) / y[:-1] * 100\n",
        "  diff_y_best = y / y[0] * 100 - 100\n",
        "\n",
        "  for i, val in enumerate(y):\n",
        "      text = str(round(val, 4))\n",
        "      if i > 0:\n",
        "        text += f\" [{round(diff_y[i-1], 1):+,}%]\"\n",
        "      if i > 1:\n",
        "        text += f\" ({round(diff_y_best[i], 1):+,}%)\"\n",
        "\n",
        "      plt.text(x[i], val + h_y * 0.05 , text, ha='center',  va='bottom', bbox=dict(facecolor='white', alpha=0.95))\n",
        "  plt.legend(loc=\"best\")\n",
        "  plt.show()\n",
        "  print(f\"Best algo: {x[0]}, with value: {y[0]:.4f}\")"
      ],
      "metadata": {
        "id": "SojB-No_IrpS"
      },
      "execution_count": 70,
      "outputs": []
    },
    {
      "cell_type": "code",
      "source": [
        "plot_algo(algo_split_s, \"predict accuracy\", \" Значення RMSE\")"
      ],
      "metadata": {
        "colab": {
          "base_uri": "https://localhost:8080/",
          "height": 505
        },
        "id": "orw3cpgESMTs",
        "outputId": "3082dac1-39ab-4c55-f3b7-c4904a1ee610"
      },
      "execution_count": 71,
      "outputs": [
        {
          "output_type": "display_data",
          "data": {
            "text/plain": [
              "<Figure size 1600x500 with 1 Axes>"
            ],
            "image/png": "[encoded data removed]"
          },
          "metadata": {}
        },
        {
          "output_type": "stream",
          "name": "stdout",
          "text": [
            "Best algo: SVDpp, with value: 0.9253\n"
          ]
        }
      ]
    },
    {
      "cell_type": "markdown",
      "source": [
        "## Результати кросвалідації для різних алгоритмів"
      ],
      "metadata": {
        "id": "9oZbFr2xZnyM"
      }
    },
    {
      "cell_type": "code",
      "source": [
        "algo_cv"
      ],
      "metadata": {
        "colab": {
          "base_uri": "https://localhost:8080/"
        },
        "id": "5l5ekHeqZnba",
        "outputId": "ca0e622d-4c7c-4060-9aa0-b916367e1692"
      },
      "execution_count": 75,
      "outputs": [
        {
          "output_type": "execute_result",
          "data": {
            "text/plain": [
              "{'SVD': (0.9358139953699286, 2.792861223220825, 0.2228849411010742),\n",
              " 'SVDpp': (0.9183848633406491, 29.419613695144655, 4.708288049697876),\n",
              " 'NMF': (0.9610232683090464, 2.133493185043335, 0.15938348770141603),\n",
              " 'KNNBasic_user_on': (0.9785791598707767,\n",
              "  0.420868444442749,\n",
              "  3.4068908214569094),\n",
              " 'KNNBasic_user_off': (0.9744575309985397,\n",
              "  0.5808469295501709,\n",
              "  3.8856775760650635)}"
            ]
          },
          "metadata": {},
          "execution_count": 75
        }
      ]
    },
    {
      "cell_type": "code",
      "source": [
        "column = 0\n",
        "algo_cv_s_rmse = dict(sorted(algo_cv.items(), key=lambda x: x[1][column]))\n",
        "plot_algo(algo_cv_s_rmse, \"кросвалідації\", \"Середнє значення RMSE\", column=column)"
      ],
      "metadata": {
        "id": "yUon2b_nbUFS",
        "colab": {
          "base_uri": "https://localhost:8080/",
          "height": 505
        },
        "outputId": "20141f7c-40db-40d0-ee10-d7b70ccc815e"
      },
      "execution_count": 76,
      "outputs": [
        {
          "output_type": "display_data",
          "data": {
            "text/plain": [
              "<Figure size 1600x500 with 1 Axes>"
            ],
            "image/png": "[encoded data removed]"
          },
          "metadata": {}
        },
        {
          "output_type": "stream",
          "name": "stdout",
          "text": [
            "Best algo: SVDpp, with value: 0.9184\n"
          ]
        }
      ]
    },
    {
      "cell_type": "code",
      "source": [
        "column = 1\n",
        "algo_cv_s_fit = dict(sorted(algo_cv.items(), key=lambda x: x[1][column]))\n",
        "plot_algo(algo_cv_s_fit, \"часу кросвалідації\", \"Середнє значення часу навчання (fit), сек\", column=column)"
      ],
      "metadata": {
        "colab": {
          "base_uri": "https://localhost:8080/",
          "height": 505
        },
        "id": "He1I-qal5Oh8",
        "outputId": "e32e7b4b-dd24-40b9-f0b7-d6f85b3719d2"
      },
      "execution_count": 78,
      "outputs": [
        {
          "output_type": "display_data",
          "data": {
            "text/plain": [
              "<Figure size 1600x500 with 1 Axes>"
            ],
            "image/png": "[encoded data removed]"
          },
          "metadata": {}
        },
        {
          "output_type": "stream",
          "name": "stdout",
          "text": [
            "Best algo: KNNBasic_user_on, with value: 0.4209\n"
          ]
        }
      ]
    },
    {
      "cell_type": "code",
      "source": [
        "column = 2\n",
        "algo_cv_s_test = dict(sorted(algo_cv.items(), key=lambda x: x[1][column]))\n",
        "plot_algo(algo_cv_s_test, \"часу кросвалідації\", \"Середнє значення часу тестування (test), сек\",  column=column)"
      ],
      "metadata": {
        "colab": {
          "base_uri": "https://localhost:8080/",
          "height": 505
        },
        "id": "4rRRGBOf5jis",
        "outputId": "26069d6a-afa5-482f-c1e0-0a67585f6893"
      },
      "execution_count": 79,
      "outputs": [
        {
          "output_type": "display_data",
          "data": {
            "text/plain": [
              "<Figure size 1600x500 with 1 Axes>"
            ],
            "image/png": "[encoded data removed]"
          },
          "metadata": {}
        },
        {
          "output_type": "stream",
          "name": "stdout",
          "text": [
            "Best algo: NMF, with value: 0.1594\n"
          ]
        }
      ]
    },
    {
      "cell_type": "markdown",
      "source": [
        "## Найкращій алгорим"
      ],
      "metadata": {
        "id": "UfO5MUvEABAK"
      }
    },
    {
      "cell_type": "markdown",
      "source": [
        "- за точністю предбачення: SVD++, SVD\n",
        "- за часом навчання моделі: KNNBasic, SVD\n",
        "- за часом тестування моделі: NMF,SVD\n",
        "\n",
        "Тому вибираємо для подальшіх розрахунків за критерієм точності: SVD++, але за критерієм швидкісті та точності вибриаємо: SVD."
      ],
      "metadata": {
        "id": "nav4ol5M-YkZ"
      }
    },
    {
      "cell_type": "code",
      "source": [
        "best_algo = SVDpp"
      ],
      "metadata": {
        "id": "qodh0GyF6zry"
      },
      "execution_count": 40,
      "outputs": []
    },
    {
      "cell_type": "markdown",
      "source": [
        "## Пошук оптимальних параметрів використовуючи GridSearchCV для SVD++ (SVDpp)"
      ],
      "metadata": {
        "id": "t9xezE86PB4A"
      }
    },
    {
      "cell_type": "code",
      "source": [
        "from surprise.model_selection import GridSearchCV\n",
        "\n",
        "param_grid = {\"random_state\": [SEED],\n",
        "              \"n_epochs\": [15, 20], \"lr_all\": [0.007], \"reg_all\": [0.02, 0.2]\n",
        "              }\n",
        "gs = GridSearchCV(best_algo, param_grid, measures=[\"rmse\"], cv=5, n_jobs=-1)\n",
        "\n",
        "%time gs.fit(data)\n",
        "\n",
        "# best RMSE score\n",
        "print(gs.best_score[\"rmse\"])\n",
        "\n",
        "# combination of parameters that gave the best RMSE score\n",
        "best_params = gs.best_params[\"rmse\"]\n",
        "print(f\"{best_params=}\")"
      ],
      "metadata": {
        "colab": {
          "base_uri": "https://localhost:8080/"
        },
        "id": "3xG17GmmPClu",
        "outputId": "488d8d8e-f4ff-4b69-fec1-7a8fdaa9a1be"
      },
      "execution_count": 41,
      "outputs": [
        {
          "output_type": "stream",
          "name": "stdout",
          "text": [
            "CPU times: user 7.21 s, sys: 1.12 s, total: 8.33 s\n",
            "Wall time: 7min 53s\n",
            "0.9175445602961035\n",
            "best_params={'random_state': 42, 'n_epochs': 15, 'lr_all': 0.007, 'reg_all': 0.02}\n"
          ]
        }
      ]
    },
    {
      "cell_type": "markdown",
      "source": [
        "#### Звіт роботи GridSearchCV для всіх комбінацій параметрів"
      ],
      "metadata": {
        "id": "-hEdiA9J8XbC"
      }
    },
    {
      "cell_type": "code",
      "source": [
        "results_df = pd.DataFrame.from_dict(gs.cv_results)\n",
        "results_df.head(10)"
      ],
      "metadata": {
        "colab": {
          "base_uri": "https://localhost:8080/",
          "height": 334
        },
        "id": "RE51ObkqRAua",
        "outputId": "af6f40c7-8168-42b5-93d6-00c8fe12e237"
      },
      "execution_count": 42,
      "outputs": [
        {
          "output_type": "execute_result",
          "data": {
            "text/plain": [
              "   split0_test_rmse  split1_test_rmse  split2_test_rmse  split3_test_rmse  \\\n",
              "0          0.923154          0.913083          0.910013          0.922126   \n",
              "1          0.949519          0.944492          0.941126          0.952146   \n",
              "2          0.923251          0.913915          0.910829          0.923096   \n",
              "3          0.948422          0.943261          0.939979          0.951171   \n",
              "\n",
              "   split4_test_rmse  mean_test_rmse  std_test_rmse  rank_test_rmse  \\\n",
              "0          0.919347        0.917545       0.005145               1   \n",
              "1          0.946538        0.946764       0.003836               4   \n",
              "2          0.921542        0.918527       0.005154               2   \n",
              "3          0.945285        0.945624       0.003903               3   \n",
              "\n",
              "   mean_fit_time  std_fit_time  mean_test_time  std_test_time  \\\n",
              "0      34.786697      0.311591        5.851484       0.038042   \n",
              "1      34.546105      0.215875        6.286263       0.562962   \n",
              "2      47.465124      2.111579        6.904918       0.813040   \n",
              "3      45.592980      0.441380        6.522812       0.361262   \n",
              "\n",
              "                                              params  param_random_state  \\\n",
              "0  {'random_state': 42, 'n_epochs': 15, 'lr_all':...                  42   \n",
              "1  {'random_state': 42, 'n_epochs': 15, 'lr_all':...                  42   \n",
              "2  {'random_state': 42, 'n_epochs': 20, 'lr_all':...                  42   \n",
              "3  {'random_state': 42, 'n_epochs': 20, 'lr_all':...                  42   \n",
              "\n",
              "   param_n_epochs  param_lr_all  param_reg_all  \n",
              "0              15         0.007           0.02  \n",
              "1              15         0.007           0.20  \n",
              "2              20         0.007           0.02  \n",
              "3              20         0.007           0.20  "
            ],
            "text/html": [
              "\n",
              "  <div id=\"df-c914d403-c395-4289-94c8-65d7f14f4225\" class=\"colab-df-container\">\n",
              "    <div>\n",
              "<style scoped>\n",
              "    .dataframe tbody tr th:only-of-type {\n",
              "        vertical-align: middle;\n",
              "    }\n",
              "\n",
              "    .dataframe tbody tr th {\n",
              "        vertical-align: top;\n",
              "    }\n",
              "\n",
              "    .dataframe thead th {\n",
              "        text-align: right;\n",
              "    }\n",
              "</style>\n",
              "<table border=\"1\" class=\"dataframe\">\n",
              "  <thead>\n",
              "    <tr style=\"text-align: right;\">\n",
              "      <th></th>\n",
              "      <th>split0_test_rmse</th>\n",
              "      <th>split1_test_rmse</th>\n",
              "      <th>split2_test_rmse</th>\n",
              "      <th>split3_test_rmse</th>\n",
              "      <th>split4_test_rmse</th>\n",
              "      <th>mean_test_rmse</th>\n",
              "      <th>std_test_rmse</th>\n",
              "      <th>rank_test_rmse</th>\n",
              "      <th>mean_fit_time</th>\n",
              "      <th>std_fit_time</th>\n",
              "      <th>mean_test_time</th>\n",
              "      <th>std_test_time</th>\n",
              "      <th>params</th>\n",
              "      <th>param_random_state</th>\n",
              "      <th>param_n_epochs</th>\n",
              "      <th>param_lr_all</th>\n",
              "      <th>param_reg_all</th>\n",
              "    </tr>\n",
              "  </thead>\n",
              "  <tbody>\n",
              "    <tr>\n",
              "      <th>0</th>\n",
              "      <td>0.923154</td>\n",
              "      <td>0.913083</td>\n",
              "      <td>0.910013</td>\n",
              "      <td>0.922126</td>\n",
              "      <td>0.919347</td>\n",
              "      <td>0.917545</td>\n",
              "      <td>0.005145</td>\n",
              "      <td>1</td>\n",
              "      <td>34.786697</td>\n",
              "      <td>0.311591</td>\n",
              "      <td>5.851484</td>\n",
              "      <td>0.038042</td>\n",
              "      <td>{'random_state': 42, 'n_epochs': 15, 'lr_all':...</td>\n",
              "      <td>42</td>\n",
              "      <td>15</td>\n",
              "      <td>0.007</td>\n",
              "      <td>0.02</td>\n",
              "    </tr>\n",
              "    <tr>\n",
              "      <th>1</th>\n",
              "      <td>0.949519</td>\n",
              "      <td>0.944492</td>\n",
              "      <td>0.941126</td>\n",
              "      <td>0.952146</td>\n",
              "      <td>0.946538</td>\n",
              "      <td>0.946764</td>\n",
              "      <td>0.003836</td>\n",
              "      <td>4</td>\n",
              "      <td>34.546105</td>\n",
              "      <td>0.215875</td>\n",
              "      <td>6.286263</td>\n",
              "      <td>0.562962</td>\n",
              "      <td>{'random_state': 42, 'n_epochs': 15, 'lr_all':...</td>\n",
              "      <td>42</td>\n",
              "      <td>15</td>\n",
              "      <td>0.007</td>\n",
              "      <td>0.20</td>\n",
              "    </tr>\n",
              "    <tr>\n",
              "      <th>2</th>\n",
              "      <td>0.923251</td>\n",
              "      <td>0.913915</td>\n",
              "      <td>0.910829</td>\n",
              "      <td>0.923096</td>\n",
              "      <td>0.921542</td>\n",
              "      <td>0.918527</td>\n",
              "      <td>0.005154</td>\n",
              "      <td>2</td>\n",
              "      <td>47.465124</td>\n",
              "      <td>2.111579</td>\n",
              "      <td>6.904918</td>\n",
              "      <td>0.813040</td>\n",
              "      <td>{'random_state': 42, 'n_epochs': 20, 'lr_all':...</td>\n",
              "      <td>42</td>\n",
              "      <td>20</td>\n",
              "      <td>0.007</td>\n",
              "      <td>0.02</td>\n",
              "    </tr>\n",
              "    <tr>\n",
              "      <th>3</th>\n",
              "      <td>0.948422</td>\n",
              "      <td>0.943261</td>\n",
              "      <td>0.939979</td>\n",
              "      <td>0.951171</td>\n",
              "      <td>0.945285</td>\n",
              "      <td>0.945624</td>\n",
              "      <td>0.003903</td>\n",
              "      <td>3</td>\n",
              "      <td>45.592980</td>\n",
              "      <td>0.441380</td>\n",
              "      <td>6.522812</td>\n",
              "      <td>0.361262</td>\n",
              "      <td>{'random_state': 42, 'n_epochs': 20, 'lr_all':...</td>\n",
              "      <td>42</td>\n",
              "      <td>20</td>\n",
              "      <td>0.007</td>\n",
              "      <td>0.20</td>\n",
              "    </tr>\n",
              "  </tbody>\n",
              "</table>\n",
              "</div>\n",
              "    <div class=\"colab-df-buttons\">\n",
              "\n",
              "  <div class=\"colab-df-container\">\n",
              "    <button class=\"colab-df-convert\" onclick=\"convertToInteractive('df-c914d403-c395-4289-94c8-65d7f14f4225')\"\n",
              "            title=\"Convert this dataframe to an interactive table.\"\n",
              "            style=\"display:none;\">\n",
              "\n",
              "  <svg xmlns=\"http://www.w3.org/2000/svg\" height=\"24px\" viewBox=\"0 -960 960 960\">\n",
              "    <path d=\"M120-120v-720h720v720H120Zm60-500h600v-160H180v160Zm220 220h160v-160H400v160Zm0 220h160v-160H400v160ZM180-400h160v-160H180v160Zm440 0h160v-160H620v160ZM180-180h160v-160H180v160Zm440 0h160v-160H620v160Z\"/>\n",
              "  </svg>\n",
              "    </button>\n",
              "\n",
              "  <style>\n",
              "    .colab-df-container {\n",
              "      display:flex;\n",
              "      gap: 12px;\n",
              "    }\n",
              "\n",
              "    .colab-df-convert {\n",
              "      background-color: #E8F0FE;\n",
              "      border: none;\n",
              "      border-radius: 50%;\n",
              "      cursor: pointer;\n",
              "      display: none;\n",
              "      fill: #1967D2;\n",
              "      height: 32px;\n",
              "      padding: 0 0 0 0;\n",
              "      width: 32px;\n",
              "    }\n",
              "\n",
              "    .colab-df-convert:hover {\n",
              "      background-color: #E2EBFA;\n",
              "      box-shadow: 0px 1px 2px rgba(60, 64, 67, 0.3), 0px 1px 3px 1px rgba(60, 64, 67, 0.15);\n",
              "      fill: #174EA6;\n",
              "    }\n",
              "\n",
              "    .colab-df-buttons div {\n",
              "      margin-bottom: 4px;\n",
              "    }\n",
              "\n",
              "    [theme=dark] .colab-df-convert {\n",
              "      background-color: #3B4455;\n",
              "      fill: #D2E3FC;\n",
              "    }\n",
              "\n",
              "    [theme=dark] .colab-df-convert:hover {\n",
              "      background-color: #434B5C;\n",
              "      box-shadow: 0px 1px 3px 1px rgba(0, 0, 0, 0.15);\n",
              "      filter: drop-shadow(0px 1px 2px rgba(0, 0, 0, 0.3));\n",
              "      fill: #FFFFFF;\n",
              "    }\n",
              "  </style>\n",
              "\n",
              "    <script>\n",
              "      const buttonEl =\n",
              "        document.querySelector('#df-c914d403-c395-4289-94c8-65d7f14f4225 button.colab-df-convert');\n",
              "      buttonEl.style.display =\n",
              "        google.colab.kernel.accessAllowed ? 'block' : 'none';\n",
              "\n",
              "      async function convertToInteractive(key) {\n",
              "        const element = document.querySelector('#df-c914d403-c395-4289-94c8-65d7f14f4225');\n",
              "        const dataTable =\n",
              "          await google.colab.kernel.invokeFunction('convertToInteractive',\n",
              "                                                    [key], {});\n",
              "        if (!dataTable) return;\n",
              "\n",
              "        const docLinkHtml = 'Like what you see? Visit the ' +\n",
              "          '<a target=\"_blank\" href=https://colab.research.google.com/notebooks/data_table.ipynb>data table notebook</a>'\n",
              "          + ' to learn more about interactive tables.';\n",
              "        element.innerHTML = '';\n",
              "        dataTable['output_type'] = 'display_data';\n",
              "        await google.colab.output.renderOutput(dataTable, element);\n",
              "        const docLink = document.createElement('div');\n",
              "        docLink.innerHTML = docLinkHtml;\n",
              "        element.appendChild(docLink);\n",
              "      }\n",
              "    </script>\n",
              "  </div>\n",
              "\n",
              "\n",
              "<div id=\"df-8fed927c-0bc7-461d-a179-b114ca48a487\">\n",
              "  <button class=\"colab-df-quickchart\" onclick=\"quickchart('df-8fed927c-0bc7-461d-a179-b114ca48a487')\"\n",
              "            title=\"Suggest charts\"\n",
              "            style=\"display:none;\">\n",
              "\n",
              "<svg xmlns=\"http://www.w3.org/2000/svg\" height=\"24px\"viewBox=\"0 0 24 24\"\n",
              "     width=\"24px\">\n",
              "    <g>\n",
              "        <path d=\"M19 3H5c-1.1 0-2 .9-2 2v14c0 1.1.9 2 2 2h14c1.1 0 2-.9 2-2V5c0-1.1-.9-2-2-2zM9 17H7v-7h2v7zm4 0h-2V7h2v10zm4 0h-2v-4h2v4z\"/>\n",
              "    </g>\n",
              "</svg>\n",
              "  </button>\n",
              "\n",
              "<style>\n",
              "  .colab-df-quickchart {\n",
              "      --bg-color: #E8F0FE;\n",
              "      --fill-color: #1967D2;\n",
              "      --hover-bg-color: #E2EBFA;\n",
              "      --hover-fill-color: #174EA6;\n",
              "      --disabled-fill-color: #AAA;\n",
              "      --disabled-bg-color: #DDD;\n",
              "  }\n",
              "\n",
              "  [theme=dark] .colab-df-quickchart {\n",
              "      --bg-color: #3B4455;\n",
              "      --fill-color: #D2E3FC;\n",
              "      --hover-bg-color: #434B5C;\n",
              "      --hover-fill-color: #FFFFFF;\n",
              "      --disabled-bg-color: #3B4455;\n",
              "      --disabled-fill-color: #666;\n",
              "  }\n",
              "\n",
              "  .colab-df-quickchart {\n",
              "    background-color: var(--bg-color);\n",
              "    border: none;\n",
              "    border-radius: 50%;\n",
              "    cursor: pointer;\n",
              "    display: none;\n",
              "    fill: var(--fill-color);\n",
              "    height: 32px;\n",
              "    padding: 0;\n",
              "    width: 32px;\n",
              "  }\n",
              "\n",
              "  .colab-df-quickchart:hover {\n",
              "    background-color: var(--hover-bg-color);\n",
              "    box-shadow: 0 1px 2px rgba(60, 64, 67, 0.3), 0 1px 3px 1px rgba(60, 64, 67, 0.15);\n",
              "    fill: var(--button-hover-fill-color);\n",
              "  }\n",
              "\n",
              "  .colab-df-quickchart-complete:disabled,\n",
              "  .colab-df-quickchart-complete:disabled:hover {\n",
              "    background-color: var(--disabled-bg-color);\n",
              "    fill: var(--disabled-fill-color);\n",
              "    box-shadow: none;\n",
              "  }\n",
              "\n",
              "  .colab-df-spinner {\n",
              "    border: 2px solid var(--fill-color);\n",
              "    border-color: transparent;\n",
              "    border-bottom-color: var(--fill-color);\n",
              "    animation:\n",
              "      spin 1s steps(1) infinite;\n",
              "  }\n",
              "\n",
              "  @keyframes spin {\n",
              "    0% {\n",
              "      border-color: transparent;\n",
              "      border-bottom-color: var(--fill-color);\n",
              "      border-left-color: var(--fill-color);\n",
              "    }\n",
              "    20% {\n",
              "      border-color: transparent;\n",
              "      border-left-color: var(--fill-color);\n",
              "      border-top-color: var(--fill-color);\n",
              "    }\n",
              "    30% {\n",
              "      border-color: transparent;\n",
              "      border-left-color: var(--fill-color);\n",
              "      border-top-color: var(--fill-color);\n",
              "      border-right-color: var(--fill-color);\n",
              "    }\n",
              "    40% {\n",
              "      border-color: transparent;\n",
              "      border-right-color: var(--fill-color);\n",
              "      border-top-color: var(--fill-color);\n",
              "    }\n",
              "    60% {\n",
              "      border-color: transparent;\n",
              "      border-right-color: var(--fill-color);\n",
              "    }\n",
              "    80% {\n",
              "      border-color: transparent;\n",
              "      border-right-color: var(--fill-color);\n",
              "      border-bottom-color: var(--fill-color);\n",
              "    }\n",
              "    90% {\n",
              "      border-color: transparent;\n",
              "      border-bottom-color: var(--fill-color);\n",
              "    }\n",
              "  }\n",
              "</style>\n",
              "\n",
              "  <script>\n",
              "    async function quickchart(key) {\n",
              "      const quickchartButtonEl =\n",
              "        document.querySelector('#' + key + ' button');\n",
              "      quickchartButtonEl.disabled = true;  // To prevent multiple clicks.\n",
              "      quickchartButtonEl.classList.add('colab-df-spinner');\n",
              "      try {\n",
              "        const charts = await google.colab.kernel.invokeFunction(\n",
              "            'suggestCharts', [key], {});\n",
              "      } catch (error) {\n",
              "        console.error('Error during call to suggestCharts:', error);\n",
              "      }\n",
              "      quickchartButtonEl.classList.remove('colab-df-spinner');\n",
              "      quickchartButtonEl.classList.add('colab-df-quickchart-complete');\n",
              "    }\n",
              "    (() => {\n",
              "      let quickchartButtonEl =\n",
              "        document.querySelector('#df-8fed927c-0bc7-461d-a179-b114ca48a487 button');\n",
              "      quickchartButtonEl.style.display =\n",
              "        google.colab.kernel.accessAllowed ? 'block' : 'none';\n",
              "    })();\n",
              "  </script>\n",
              "</div>\n",
              "    </div>\n",
              "  </div>\n"
            ],
            "application/vnd.google.colaboratory.intrinsic+json": {
              "type": "dataframe",
              "variable_name": "results_df",
              "repr_error": "unhashable type: 'dict'"
            }
          },
          "metadata": {},
          "execution_count": 42
        }
      ]
    },
    {
      "cell_type": "markdown",
      "source": [
        "#### навчання на full_trainset для найкращого алгоритму"
      ],
      "metadata": {
        "id": "7bF8ur3t79PC"
      }
    },
    {
      "cell_type": "code",
      "source": [
        "# We can now use the algorithm that yields the best rmse:\n",
        "algo = gs.best_estimator[\"rmse\"]"
      ],
      "metadata": {
        "id": "rwvpU1k9Qtgf"
      },
      "execution_count": 43,
      "outputs": []
    },
    {
      "cell_type": "markdown",
      "source": [
        "## Найкращі рекомендації для користувачів (SVDpp):"
      ],
      "metadata": {
        "id": "NmFGtg1lSWng"
      }
    },
    {
      "cell_type": "code",
      "source": [
        "from collections import defaultdict\n",
        "\n",
        "\n",
        "def get_top_n(predictions, n=10):\n",
        "    \"\"\"Return the top-N recommendation for each user from a set of predictions.\n",
        "\n",
        "    Args:\n",
        "        predictions(list of Prediction objects): The list of predictions, as\n",
        "            returned by the test method of an algorithm.\n",
        "        n(int): The number of recommendation to output for each user. Default\n",
        "            is 10.\n",
        "\n",
        "    Returns:\n",
        "    A dict where keys are user (raw) ids and values are lists of tuples:\n",
        "        [(raw item id, rating estimation), ...] of size n.\n",
        "    \"\"\"\n",
        "\n",
        "    # First map the predictions to each user.\n",
        "    top_n = defaultdict(list)\n",
        "    for uid, iid, true_r, est, _ in predictions:\n",
        "        top_n[uid].append((iid, est))\n",
        "\n",
        "    # Then sort the predictions for each user and retrieve the k highest ones.\n",
        "    for uid, user_ratings in top_n.items():\n",
        "        user_ratings.sort(key=lambda x: x[1], reverse=True)\n",
        "        top_n[uid] = user_ratings[:n]\n",
        "\n",
        "    return top_n"
      ],
      "metadata": {
        "id": "sUtJHoN-SXaz"
      },
      "execution_count": 44,
      "outputs": []
    },
    {
      "cell_type": "code",
      "source": [
        "# First train an SVD algorithm on the movielens dataset.\n",
        "trainset = data.build_full_trainset()\n",
        "\n",
        "# # best value from GridSearchCV\n",
        "# algo_param = {'random_state': SEED, 'n_epochs': 20, 'lr_all': 0.005, 'reg_all': 0.02}\n",
        "print(algo.__class__.__name__, \"params:\", best_params)\n",
        "# algo = SVDpp(**algo_param)\n",
        "%time algo.fit(trainset)\n",
        "\n",
        "# Than predict ratings for all pairs (u, i) that are NOT in the training set.\n",
        "testset = trainset.build_anti_testset()\n",
        "%time predictions = algo.test(testset)"
      ],
      "metadata": {
        "colab": {
          "base_uri": "https://localhost:8080/"
        },
        "id": "Qc14fUnHGuVi",
        "outputId": "c51e0743-9e39-4fd5-936f-a1d8b6a31f2e"
      },
      "execution_count": 45,
      "outputs": [
        {
          "output_type": "stream",
          "name": "stdout",
          "text": [
            "SVDpp params: {'random_state': 42, 'n_epochs': 15, 'lr_all': 0.007, 'reg_all': 0.02}\n",
            "CPU times: user 32 s, sys: 69.3 ms, total: 32.1 s\n",
            "Wall time: 34.8 s\n",
            "CPU times: user 3min 26s, sys: 7.3 s, total: 3min 33s\n",
            "Wall time: 3min 32s\n"
          ]
        }
      ]
    },
    {
      "cell_type": "code",
      "source": [
        "recomendations = 5\n",
        "top_n = get_top_n(predictions, n=recomendations)"
      ],
      "metadata": {
        "id": "2wgCVlumNEit"
      },
      "execution_count": 46,
      "outputs": []
    },
    {
      "cell_type": "code",
      "source": [
        "counter=15\n",
        "# Print the recommended items for each user\n",
        "print(f\"Найкращі рекомендації для перших {counter} користувачів:\\n\")\n",
        "\n",
        "for uid, user_ratings in top_n.items():\n",
        "    recomend = [f\"{iid:6}: {'*'*round(est):5} ({est:.2f})\" for (iid, est) in user_ratings]\n",
        "    print(f\"Для користувача: {uid:2}, найкращі {recomendations} рекомендацій: {recomend}\")\n",
        "    counter -= 1\n",
        "    if counter <= 0:\n",
        "      break"
      ],
      "metadata": {
        "colab": {
          "base_uri": "https://localhost:8080/"
        },
        "id": "_692eM54DUzj",
        "outputId": "806e2688-38ce-47e9-cb50-57693ac51025"
      },
      "execution_count": 47,
      "outputs": [
        {
          "output_type": "stream",
          "name": "stdout",
          "text": [
            "Найкращі рекомендації для перших 15 користувачів:\n",
            "\n",
            "Для користувача: 196, найкращі 5 рекомендацій: ['318   : ****  (4.44)', '169   : ****  (4.43)', '408   : ****  (4.37)', '483   : ****  (4.33)', '515   : ****  (4.29)']\n",
            "Для користувача: 186, найкращі 5 рекомендацій: ['318   : ****  (4.49)', '174   : ****  (4.38)', '64    : ****  (4.37)', '143   : ****  (4.34)', '169   : ****  (4.31)']\n",
            "Для користувача: 22, найкращі 5 рекомендацій: ['169   : ***** (4.94)', '64    : ***** (4.85)', '408   : ***** (4.77)', '199   : ***** (4.75)', '313   : ***** (4.74)']\n",
            "Для користувача: 244, найкращі 5 рекомендацій: ['127   : ***** (5.00)', '408   : ***** (4.95)', '187   : ***** (4.92)', '12    : ***** (4.89)', '1449  : ***** (4.87)']\n",
            "Для користувача: 166, найкращі 5 рекомендацій: ['169   : ***** (4.66)', '318   : ***** (4.64)', '174   : ***** (4.63)', '408   : ***** (4.58)', '22    : ***** (4.57)']\n",
            "Для користувача: 298, найкращі 5 рекомендацій: ['408   : ***** (4.68)', '169   : ***** (4.67)', '64    : ***** (4.65)', '114   : ***** (4.52)', '515   : ***** (4.51)']\n",
            "Для користувача: 115, найкращі 5 рекомендацій: ['408   : ***** (5.00)', '179   : ***** (4.96)', '285   : ***** (4.85)', '134   : ***** (4.84)', '474   : ***** (4.81)']\n",
            "Для користувача: 253, найкращі 5 рекомендацій: ['174   : ***** (4.69)', '272   : ***** (4.60)', '313   : ***** (4.59)', '603   : ***** (4.58)', '169   : ***** (4.56)']\n",
            "Для користувача: 305, найкращі 5 рекомендацій: ['657   : ****  (4.19)', '515   : ****  (4.15)', '114   : ****  (4.13)', '603   : ****  (4.13)', '513   : ****  (4.07)']\n",
            "Для користувача: 6 , найкращі 5 рекомендацій: ['603   : ****  (4.46)', '657   : ****  (4.32)', '923   : ****  (4.31)', '251   : ****  (4.29)', '48    : ****  (4.28)']\n",
            "Для користувача: 62, найкращі 5 рекомендацій: ['169   : ****  (4.39)', '654   : ****  (4.32)', '963   : ****  (4.30)', '408   : ****  (4.29)', '187   : ****  (4.28)']\n",
            "Для користувача: 286, найкращі 5 рекомендацій: ['318   : ***** (4.80)', '480   : ***** (4.66)', '114   : ***** (4.64)', '515   : ***** (4.62)', '134   : ***** (4.61)']\n",
            "Для користувача: 200, найкращі 5 рекомендацій: ['181   : ***** (5.00)', '64    : ***** (5.00)', '12    : ***** (4.92)', '272   : ***** (4.88)', '316   : ***** (4.79)']\n",
            "Для користувача: 210, найкращі 5 рекомендацій: ['64    : ***** (4.85)', '603   : ***** (4.80)', '318   : ***** (4.79)', '169   : ***** (4.77)', '12    : ***** (4.77)']\n",
            "Для користувача: 224, найкращі 5 рекомендацій: ['174   : ****  (4.31)', '121   : ****  (4.29)', '96    : ****  (4.16)', '210   : ****  (4.12)', '117   : ****  (4.08)']\n"
          ]
        }
      ]
    },
    {
      "cell_type": "markdown",
      "source": [
        "### Decode name of movies"
      ],
      "metadata": {
        "id": "st-VpfsOHfV7"
      }
    },
    {
      "cell_type": "code",
      "source": [
        "if laod_mode == \"load_builtin\":\n",
        "  movie_list = pd.read_csv(movies_csv ) # index_col=\"movieId\"\n",
        "else:\n",
        "  movie_list = pd.read_csv(movies_csv, index_col=\"movieId\")\n",
        "movie_list.sample(3)"
      ],
      "metadata": {
        "colab": {
          "base_uri": "https://localhost:8080/",
          "height": 143
        },
        "id": "2P4cU4v11CpR",
        "outputId": "8981c24a-da3a-460a-f29c-617e9d609dc5"
      },
      "execution_count": 53,
      "outputs": [
        {
          "output_type": "execute_result",
          "data": {
            "text/plain": [
              "      movieId                            title                      genres\n",
              "767      1009  Escape to Witch Mountain (1975)  Adventure|Children|Fantasy\n",
              "3224     4354            Unlawful Entry (1992)              Crime|Thriller\n",
              "2051     2730              Barry Lyndon (1975)           Drama|Romance|War"
            ],
            "text/html": [
              "\n",
              "  <div id=\"df-d9ae6e77-6d10-4ea1-8612-2776282c760a\" class=\"colab-df-container\">\n",
              "    <div>\n",
              "<style scoped>\n",
              "    .dataframe tbody tr th:only-of-type {\n",
              "        vertical-align: middle;\n",
              "    }\n",
              "\n",
              "    .dataframe tbody tr th {\n",
              "        vertical-align: top;\n",
              "    }\n",
              "\n",
              "    .dataframe thead th {\n",
              "        text-align: right;\n",
              "    }\n",
              "</style>\n",
              "<table border=\"1\" class=\"dataframe\">\n",
              "  <thead>\n",
              "    <tr style=\"text-align: right;\">\n",
              "      <th></th>\n",
              "      <th>movieId</th>\n",
              "      <th>title</th>\n",
              "      <th>genres</th>\n",
              "    </tr>\n",
              "  </thead>\n",
              "  <tbody>\n",
              "    <tr>\n",
              "      <th>767</th>\n",
              "      <td>1009</td>\n",
              "      <td>Escape to Witch Mountain (1975)</td>\n",
              "      <td>Adventure|Children|Fantasy</td>\n",
              "    </tr>\n",
              "    <tr>\n",
              "      <th>3224</th>\n",
              "      <td>4354</td>\n",
              "      <td>Unlawful Entry (1992)</td>\n",
              "      <td>Crime|Thriller</td>\n",
              "    </tr>\n",
              "    <tr>\n",
              "      <th>2051</th>\n",
              "      <td>2730</td>\n",
              "      <td>Barry Lyndon (1975)</td>\n",
              "      <td>Drama|Romance|War</td>\n",
              "    </tr>\n",
              "  </tbody>\n",
              "</table>\n",
              "</div>\n",
              "    <div class=\"colab-df-buttons\">\n",
              "\n",
              "  <div class=\"colab-df-container\">\n",
              "    <button class=\"colab-df-convert\" onclick=\"convertToInteractive('df-d9ae6e77-6d10-4ea1-8612-2776282c760a')\"\n",
              "            title=\"Convert this dataframe to an interactive table.\"\n",
              "            style=\"display:none;\">\n",
              "\n",
              "  <svg xmlns=\"http://www.w3.org/2000/svg\" height=\"24px\" viewBox=\"0 -960 960 960\">\n",
              "    <path d=\"M120-120v-720h720v720H120Zm60-500h600v-160H180v160Zm220 220h160v-160H400v160Zm0 220h160v-160H400v160ZM180-400h160v-160H180v160Zm440 0h160v-160H620v160ZM180-180h160v-160H180v160Zm440 0h160v-160H620v160Z\"/>\n",
              "  </svg>\n",
              "    </button>\n",
              "\n",
              "  <style>\n",
              "    .colab-df-container {\n",
              "      display:flex;\n",
              "      gap: 12px;\n",
              "    }\n",
              "\n",
              "    .colab-df-convert {\n",
              "      background-color: #E8F0FE;\n",
              "      border: none;\n",
              "      border-radius: 50%;\n",
              "      cursor: pointer;\n",
              "      display: none;\n",
              "      fill: #1967D2;\n",
              "      height: 32px;\n",
              "      padding: 0 0 0 0;\n",
              "      width: 32px;\n",
              "    }\n",
              "\n",
              "    .colab-df-convert:hover {\n",
              "      background-color: #E2EBFA;\n",
              "      box-shadow: 0px 1px 2px rgba(60, 64, 67, 0.3), 0px 1px 3px 1px rgba(60, 64, 67, 0.15);\n",
              "      fill: #174EA6;\n",
              "    }\n",
              "\n",
              "    .colab-df-buttons div {\n",
              "      margin-bottom: 4px;\n",
              "    }\n",
              "\n",
              "    [theme=dark] .colab-df-convert {\n",
              "      background-color: #3B4455;\n",
              "      fill: #D2E3FC;\n",
              "    }\n",
              "\n",
              "    [theme=dark] .colab-df-convert:hover {\n",
              "      background-color: #434B5C;\n",
              "      box-shadow: 0px 1px 3px 1px rgba(0, 0, 0, 0.15);\n",
              "      filter: drop-shadow(0px 1px 2px rgba(0, 0, 0, 0.3));\n",
              "      fill: #FFFFFF;\n",
              "    }\n",
              "  </style>\n",
              "\n",
              "    <script>\n",
              "      const buttonEl =\n",
              "        document.querySelector('#df-d9ae6e77-6d10-4ea1-8612-2776282c760a button.colab-df-convert');\n",
              "      buttonEl.style.display =\n",
              "        google.colab.kernel.accessAllowed ? 'block' : 'none';\n",
              "\n",
              "      async function convertToInteractive(key) {\n",
              "        const element = document.querySelector('#df-d9ae6e77-6d10-4ea1-8612-2776282c760a');\n",
              "        const dataTable =\n",
              "          await google.colab.kernel.invokeFunction('convertToInteractive',\n",
              "                                                    [key], {});\n",
              "        if (!dataTable) return;\n",
              "\n",
              "        const docLinkHtml = 'Like what you see? Visit the ' +\n",
              "          '<a target=\"_blank\" href=https://colab.research.google.com/notebooks/data_table.ipynb>data table notebook</a>'\n",
              "          + ' to learn more about interactive tables.';\n",
              "        element.innerHTML = '';\n",
              "        dataTable['output_type'] = 'display_data';\n",
              "        await google.colab.output.renderOutput(dataTable, element);\n",
              "        const docLink = document.createElement('div');\n",
              "        docLink.innerHTML = docLinkHtml;\n",
              "        element.appendChild(docLink);\n",
              "      }\n",
              "    </script>\n",
              "  </div>\n",
              "\n",
              "\n",
              "<div id=\"df-b0016ec7-9820-43e8-92fe-882d45754aca\">\n",
              "  <button class=\"colab-df-quickchart\" onclick=\"quickchart('df-b0016ec7-9820-43e8-92fe-882d45754aca')\"\n",
              "            title=\"Suggest charts\"\n",
              "            style=\"display:none;\">\n",
              "\n",
              "<svg xmlns=\"http://www.w3.org/2000/svg\" height=\"24px\"viewBox=\"0 0 24 24\"\n",
              "     width=\"24px\">\n",
              "    <g>\n",
              "        <path d=\"M19 3H5c-1.1 0-2 .9-2 2v14c0 1.1.9 2 2 2h14c1.1 0 2-.9 2-2V5c0-1.1-.9-2-2-2zM9 17H7v-7h2v7zm4 0h-2V7h2v10zm4 0h-2v-4h2v4z\"/>\n",
              "    </g>\n",
              "</svg>\n",
              "  </button>\n",
              "\n",
              "<style>\n",
              "  .colab-df-quickchart {\n",
              "      --bg-color: #E8F0FE;\n",
              "      --fill-color: #1967D2;\n",
              "      --hover-bg-color: #E2EBFA;\n",
              "      --hover-fill-color: #174EA6;\n",
              "      --disabled-fill-color: #AAA;\n",
              "      --disabled-bg-color: #DDD;\n",
              "  }\n",
              "\n",
              "  [theme=dark] .colab-df-quickchart {\n",
              "      --bg-color: #3B4455;\n",
              "      --fill-color: #D2E3FC;\n",
              "      --hover-bg-color: #434B5C;\n",
              "      --hover-fill-color: #FFFFFF;\n",
              "      --disabled-bg-color: #3B4455;\n",
              "      --disabled-fill-color: #666;\n",
              "  }\n",
              "\n",
              "  .colab-df-quickchart {\n",
              "    background-color: var(--bg-color);\n",
              "    border: none;\n",
              "    border-radius: 50%;\n",
              "    cursor: pointer;\n",
              "    display: none;\n",
              "    fill: var(--fill-color);\n",
              "    height: 32px;\n",
              "    padding: 0;\n",
              "    width: 32px;\n",
              "  }\n",
              "\n",
              "  .colab-df-quickchart:hover {\n",
              "    background-color: var(--hover-bg-color);\n",
              "    box-shadow: 0 1px 2px rgba(60, 64, 67, 0.3), 0 1px 3px 1px rgba(60, 64, 67, 0.15);\n",
              "    fill: var(--button-hover-fill-color);\n",
              "  }\n",
              "\n",
              "  .colab-df-quickchart-complete:disabled,\n",
              "  .colab-df-quickchart-complete:disabled:hover {\n",
              "    background-color: var(--disabled-bg-color);\n",
              "    fill: var(--disabled-fill-color);\n",
              "    box-shadow: none;\n",
              "  }\n",
              "\n",
              "  .colab-df-spinner {\n",
              "    border: 2px solid var(--fill-color);\n",
              "    border-color: transparent;\n",
              "    border-bottom-color: var(--fill-color);\n",
              "    animation:\n",
              "      spin 1s steps(1) infinite;\n",
              "  }\n",
              "\n",
              "  @keyframes spin {\n",
              "    0% {\n",
              "      border-color: transparent;\n",
              "      border-bottom-color: var(--fill-color);\n",
              "      border-left-color: var(--fill-color);\n",
              "    }\n",
              "    20% {\n",
              "      border-color: transparent;\n",
              "      border-left-color: var(--fill-color);\n",
              "      border-top-color: var(--fill-color);\n",
              "    }\n",
              "    30% {\n",
              "      border-color: transparent;\n",
              "      border-left-color: var(--fill-color);\n",
              "      border-top-color: var(--fill-color);\n",
              "      border-right-color: var(--fill-color);\n",
              "    }\n",
              "    40% {\n",
              "      border-color: transparent;\n",
              "      border-right-color: var(--fill-color);\n",
              "      border-top-color: var(--fill-color);\n",
              "    }\n",
              "    60% {\n",
              "      border-color: transparent;\n",
              "      border-right-color: var(--fill-color);\n",
              "    }\n",
              "    80% {\n",
              "      border-color: transparent;\n",
              "      border-right-color: var(--fill-color);\n",
              "      border-bottom-color: var(--fill-color);\n",
              "    }\n",
              "    90% {\n",
              "      border-color: transparent;\n",
              "      border-bottom-color: var(--fill-color);\n",
              "    }\n",
              "  }\n",
              "</style>\n",
              "\n",
              "  <script>\n",
              "    async function quickchart(key) {\n",
              "      const quickchartButtonEl =\n",
              "        document.querySelector('#' + key + ' button');\n",
              "      quickchartButtonEl.disabled = true;  // To prevent multiple clicks.\n",
              "      quickchartButtonEl.classList.add('colab-df-spinner');\n",
              "      try {\n",
              "        const charts = await google.colab.kernel.invokeFunction(\n",
              "            'suggestCharts', [key], {});\n",
              "      } catch (error) {\n",
              "        console.error('Error during call to suggestCharts:', error);\n",
              "      }\n",
              "      quickchartButtonEl.classList.remove('colab-df-spinner');\n",
              "      quickchartButtonEl.classList.add('colab-df-quickchart-complete');\n",
              "    }\n",
              "    (() => {\n",
              "      let quickchartButtonEl =\n",
              "        document.querySelector('#df-b0016ec7-9820-43e8-92fe-882d45754aca button');\n",
              "      quickchartButtonEl.style.display =\n",
              "        google.colab.kernel.accessAllowed ? 'block' : 'none';\n",
              "    })();\n",
              "  </script>\n",
              "</div>\n",
              "    </div>\n",
              "  </div>\n"
            ],
            "application/vnd.google.colaboratory.intrinsic+json": {
              "type": "dataframe",
              "summary": "{\n  \"name\": \"movie_list\",\n  \"rows\": 3,\n  \"fields\": [\n    {\n      \"column\": \"movieId\",\n      \"properties\": {\n        \"dtype\": \"number\",\n        \"std\": 1672,\n        \"min\": 1009,\n        \"max\": 4354,\n        \"samples\": [\n          1009,\n          4354,\n          2730\n        ],\n        \"num_unique_values\": 3,\n        \"semantic_type\": \"\",\n        \"description\": \"\"\n      }\n    },\n    {\n      \"column\": \"title\",\n      \"properties\": {\n        \"dtype\": \"string\",\n        \"samples\": [\n          \"Escape to Witch Mountain (1975)\",\n          \"Unlawful Entry (1992)\",\n          \"Barry Lyndon (1975)\"\n        ],\n        \"num_unique_values\": 3,\n        \"semantic_type\": \"\",\n        \"description\": \"\"\n      }\n    },\n    {\n      \"column\": \"genres\",\n      \"properties\": {\n        \"dtype\": \"string\",\n        \"samples\": [\n          \"Adventure|Children|Fantasy\",\n          \"Crime|Thriller\",\n          \"Drama|Romance|War\"\n        ],\n        \"num_unique_values\": 3,\n        \"semantic_type\": \"\",\n        \"description\": \"\"\n      }\n    }\n  ]\n}"
            }
          },
          "metadata": {},
          "execution_count": 53
        }
      ]
    },
    {
      "cell_type": "code",
      "source": [
        "recomendations = 5\n",
        "# top_n = get_top_n(predictions, n=recomendations)\n",
        "\n",
        "counter=4\n",
        "# Print the recommended items for each user\n",
        "print(f\"Найкращі рекомендації для перших {counter} користувачів:\\n\")\n",
        "\n",
        "for uid, user_ratings in top_n.items():\n",
        "    print(f\"Для користувача: {uid}, найкращі {recomendations} рекомендацій:\")\n",
        "    for (iid, est) in user_ratings:\n",
        "      title = movie_list['title'].get(int(iid), f\"ID: {iid}\")\n",
        "      genre = movie_list['genres'].get(int(iid))\n",
        "      link = \"\" if laod_mode == \"load_builtin\" else f\"https://www.themoviedb.org/movie/{iid}\"\n",
        "      if genre:\n",
        "        genre = genre.split('|')[0]\n",
        "      print(f\" - {'*'*round(est):5} ({est:.2f}): {title}, [{genre}] {link}\")\n",
        "    counter -= 1\n",
        "    if counter <= 0:\n",
        "      break"
      ],
      "metadata": {
        "colab": {
          "base_uri": "https://localhost:8080/"
        },
        "id": "WYBFE850AlC8",
        "outputId": "9d78c852-3da8-4d12-875f-c2019fde9518"
      },
      "execution_count": 54,
      "outputs": [
        {
          "output_type": "stream",
          "name": "stdout",
          "text": [
            "Найкращі рекомендації для перших 4 користувачів:\n",
            "\n",
            "Для користувача: 196, найкращі 5 рекомендацій:\n",
            " - ****  (4.44): I Love Trouble (1994), [Action] \n",
            " - ****  (4.43): Three Wishes (1995), [Drama] \n",
            " - ****  (4.37): House Party 3 (1994), [Comedy] \n",
            " - ****  (4.33): Nightmare Before Christmas, The (1993), [Animation] \n",
            " - ****  (4.29): Wild Bunch, The (1969), [Adventure] \n",
            "Для користувача: 186, найкращі 5 рекомендацій:\n",
            " - ****  (4.49): I Love Trouble (1994), [Action] \n",
            " - ****  (4.38): Unzipped (1995), [Documentary] \n",
            " - ****  (4.37): Kicking and Screaming (1995), [Comedy] \n",
            " - ****  (4.34): Jeffrey (1995), [Comedy] \n",
            " - ****  (4.31): Three Wishes (1995), [Drama] \n",
            "Для користувача: 22, найкращі 5 рекомендацій:\n",
            " - ***** (4.94): Three Wishes (1995), [Drama] \n",
            " - ***** (4.85): Kicking and Screaming (1995), [Comedy] \n",
            " - ***** (4.77): House Party 3 (1994), [Comedy] \n",
            " - ***** (4.75): Exotica (1994), [Drama] \n",
            " - ***** (4.74): Flintstones, The (1994), [Children] \n",
            "Для користувача: 244, найкращі 5 рекомендацій:\n",
            " - ***** (5.00): Beauty of the Day (Belle de jour) (1967), [Drama] \n",
            " - ***** (4.95): House Party 3 (1994), [Comedy] \n",
            " - ***** (4.92): Cure, The (1995), [Drama] \n",
            " - ***** (4.89): Balto (1995), [Adventure] \n",
            " - ***** (4.87): Nightmare on Elm Street 5: The Dream Child, A (1989), [Horror] \n"
          ]
        }
      ]
    }
  ]
}