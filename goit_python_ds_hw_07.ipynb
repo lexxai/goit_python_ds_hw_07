{
  "cells": [
    {
      "cell_type": "markdown",
      "metadata": {
        "id": "view-in-github",
        "colab_type": "text"
      },
      "source": [
        "<a href=\"https://colab.research.google.com/github/lexxai/goit_python_ds_hw_07/blob/main/goit_python_ds_hw_07.ipynb\" target=\"_parent\"><img src=\"https://colab.research.google.com/assets/colab-badge.svg\" alt=\"Open In Colab\"/></a>"
      ]
    },
    {
      "cell_type": "markdown",
      "metadata": {
        "id": "VTvBpLm5Jqyj"
      },
      "source": [
        "# Модуль 7. Рекомендаційні системи.\n",
        "\n",
        "*З циклу [домашніх завдань Python Data Science](https://github.com/lexxai/goit_python_data_sciense_homework).*\n",
        "\n",
        "# Домашнє завдання"
      ]
    },
    {
      "cell_type": "markdown",
      "metadata": {
        "id": "OLW2WK4cK08b"
      },
      "source": [
        "## LOAD DATASET"
      ]
    },
    {
      "cell_type": "code",
      "execution_count": 25,
      "metadata": {
        "colab": {
          "base_uri": "https://localhost:8080/"
        },
        "id": "IQlrrC64Ei_D",
        "outputId": "06ca648c-0b09-4203-d0a6-ba1ca6210125"
      },
      "outputs": [
        {
          "output_type": "stream",
          "name": "stdout",
          "text": [
            "Requirement already satisfied: scikit-surprise in /usr/local/lib/python3.10/dist-packages (1.1.3)\n",
            "Requirement already satisfied: joblib>=1.0.0 in /usr/local/lib/python3.10/dist-packages (from scikit-surprise) (1.3.2)\n",
            "Requirement already satisfied: numpy>=1.17.3 in /usr/local/lib/python3.10/dist-packages (from scikit-surprise) (1.25.2)\n",
            "Requirement already satisfied: scipy>=1.3.2 in /usr/local/lib/python3.10/dist-packages (from scikit-surprise) (1.11.4)\n"
          ]
        }
      ],
      "source": [
        "!pip install scikit-surprise"
      ]
    },
    {
      "cell_type": "code",
      "execution_count": 26,
      "metadata": {
        "id": "m63KlyHSprCX"
      },
      "outputs": [],
      "source": [
        "from surprise import accuracy, Dataset, Reader, SVD\n",
        "from surprise.model_selection import cross_validate, train_test_split\n",
        "import pandas as pd\n",
        "import numpy as np\n",
        "from pathlib import Path"
      ]
    },
    {
      "cell_type": "code",
      "execution_count": 27,
      "metadata": {
        "id": "8_JhmJld6eFR"
      },
      "outputs": [],
      "source": [
        "laod_mode = \"load_from_df\""
      ]
    },
    {
      "cell_type": "code",
      "execution_count": 28,
      "metadata": {
        "id": "6SaBHI8tEE-8"
      },
      "outputs": [],
      "source": [
        "if laod_mode == \"load_builtin\":\n",
        "  # Load the movielens-100k dataset (download it if needed).\n",
        "  data = Dataset.load_builtin('ml-100k', prompt=False)"
      ]
    },
    {
      "cell_type": "code",
      "execution_count": 29,
      "metadata": {
        "id": "T0DErstIgFzd"
      },
      "outputs": [],
      "source": [
        "if laod_mode == \"load_builtin\":\n",
        "  !ls -1  /root/.surprise_data/ml-100k/ml-100k/u* | sed  's/\\/root\\/\\.surprise_data\\/ml-100k\\/ml-100k\\///g' | sort"
      ]
    },
    {
      "cell_type": "code",
      "execution_count": 30,
      "metadata": {
        "id": "z-K7JzgVjES4"
      },
      "outputs": [],
      "source": [
        "if laod_mode == \"load_builtin\":\n",
        "  base_path = Path(\"/root/.surprise_data/ml-100k/ml-100k\")\n",
        "  filelist =  list(map(lambda x: x.name, sorted(base_path.glob(\"u*\"))))\n",
        "  types = {\n",
        "      \"test\": \"Test_files\",\n",
        "      \"base\": \"Train_files\"\n",
        "  }\n",
        "  for f, d in types.items():\n",
        "    print(f\"\\n{d}:\")\n",
        "    print(list(filter(lambda x : x.endswith(f\".{f}\") ,filelist)))"
      ]
    },
    {
      "cell_type": "code",
      "execution_count": 31,
      "metadata": {
        "id": "oVTS5xZsmyJS"
      },
      "outputs": [],
      "source": [
        "  latest_url = \"https://files.grouplens.org/datasets/movielens/ml-latest-small.zip\"\n",
        "  latest_zip_file = Path(\"ml-latest-small.zip\")\n",
        "  if not latest_zip_file.exists():\n",
        "    !wget $latest_url\n",
        "    !unzip $latest_zip_file\n",
        "  base_path = Path(\"/content/ml-latest-small/\")\n",
        "  rating_csv = base_path.joinpath(\"ratings.csv\")\n",
        "  tags_csv = base_path.joinpath(\"tags.csv\")\n",
        "  movies_csv = base_path.joinpath(\"movies.csv\")"
      ]
    },
    {
      "cell_type": "code",
      "execution_count": 32,
      "metadata": {
        "id": "dNYxkIYrpWZE"
      },
      "outputs": [],
      "source": [
        "if laod_mode == \"load_from_file\":\n",
        "  reader = Reader(line_format=u'user item rating timestamp', sep=',', rating_scale=(1, 5), skip_lines=1)\n",
        "  data = Dataset.load_from_file(rating_csv, reader=reader)"
      ]
    },
    {
      "cell_type": "code",
      "execution_count": 33,
      "metadata": {
        "id": "NEEvbfqBquBr"
      },
      "outputs": [],
      "source": [
        "if laod_mode == \"load_from_df\":\n",
        "  df = pd.read_csv(rating_csv)\n",
        "\n",
        "  # A reader is still needed but only the rating_scale param is requiered.\n",
        "  reader = Reader(rating_scale=(1, 5))\n",
        "\n",
        "  # The columns must correspond to user id, item id and ratings (in that order).\n",
        "  data = Dataset.load_from_df(df[[\"userId\", \"movieId\",  \"rating\"]], reader)"
      ]
    },
    {
      "cell_type": "code",
      "execution_count": 34,
      "metadata": {
        "colab": {
          "base_uri": "https://localhost:8080/",
          "height": 228
        },
        "id": "zk4mZ2b0cx7F",
        "outputId": "e0f1747d-03d8-451b-cbf0-fe693fdb0127"
      },
      "outputs": [
        {
          "output_type": "execute_result",
          "data": {
            "text/plain": [
              "surprise.dataset.DatasetAutoFolds"
            ],
            "text/html": [
              "<div style=\"max-width:800px; border: 1px solid var(--colab-border-color);\"><style>\n",
              "      pre.function-repr-contents {\n",
              "        overflow-x: auto;\n",
              "        padding: 8px 12px;\n",
              "        max-height: 500px;\n",
              "      }\n",
              "\n",
              "      pre.function-repr-contents.function-repr-contents-collapsed {\n",
              "        cursor: pointer;\n",
              "        max-height: 100px;\n",
              "      }\n",
              "    </style>\n",
              "    <pre style=\"white-space: initial; background:\n",
              "         var(--colab-secondary-surface-color); padding: 8px 12px;\n",
              "         border-bottom: 1px solid var(--colab-border-color);\"><b>surprise.dataset.DatasetAutoFolds</b><br/>def __init__(ratings_file=None, reader=None, df=None)</pre><pre class=\"function-repr-contents function-repr-contents-collapsed\" style=\"\"><a class=\"filepath\" style=\"display:none\" href=\"#\">/usr/local/lib/python3.10/dist-packages/surprise/dataset.py</a>A derived class from :class:`Dataset` for which folds (for\n",
              "cross-validation) are not predefined. (Or for when there are no folds at\n",
              "all).</pre>\n",
              "      <script>\n",
              "      if (google.colab.kernel.accessAllowed && google.colab.files && google.colab.files.view) {\n",
              "        for (const element of document.querySelectorAll('.filepath')) {\n",
              "          element.style.display = 'block'\n",
              "          element.onclick = (event) => {\n",
              "            event.preventDefault();\n",
              "            event.stopPropagation();\n",
              "            google.colab.files.view(element.textContent, 247);\n",
              "          };\n",
              "        }\n",
              "      }\n",
              "      for (const element of document.querySelectorAll('.function-repr-contents')) {\n",
              "        element.onclick = (event) => {\n",
              "          event.preventDefault();\n",
              "          event.stopPropagation();\n",
              "          element.classList.toggle('function-repr-contents-collapsed');\n",
              "        };\n",
              "      }\n",
              "      </script>\n",
              "      </div>"
            ]
          },
          "metadata": {},
          "execution_count": 34
        }
      ],
      "source": [
        "type(data)"
      ]
    },
    {
      "cell_type": "markdown",
      "metadata": {
        "id": "VumP61raGOTE"
      },
      "source": [
        "### Аналіз записів"
      ]
    },
    {
      "cell_type": "markdown",
      "metadata": {
        "id": "DjEBc7AqBy9O"
      },
      "source": [
        "Неважлива інофромаційна частина для пошуку реальних значень з датасету: uid, iid, ur. А також для уявлення змісту даних датасету."
      ]
    },
    {
      "cell_type": "code",
      "execution_count": 35,
      "metadata": {
        "colab": {
          "base_uri": "https://localhost:8080/"
        },
        "id": "HPNxTcHLbyWK",
        "outputId": "2a42f51f-7515-4237-d7cb-970a48c1b0f4"
      },
      "outputs": [
        {
          "output_type": "stream",
          "name": "stdout",
          "text": [
            "Number of ratings: 100836\n",
            "\n",
            "Top 5 samples of raw ratings:\n",
            "UserID:     1, ItemID:     1, UserRateForItem:   4.0, date: None\n",
            "UserID:     1, ItemID:     3, UserRateForItem:   4.0, date: None\n",
            "UserID:     1, ItemID:     6, UserRateForItem:   4.0, date: None\n",
            "UserID:     1, ItemID:    47, UserRateForItem:   5.0, date: None\n",
            "UserID:     1, ItemID:    50, UserRateForItem:   5.0, date: None\n",
            "\n",
            "Top 5 ratings of user: 1\n",
            "UserID:     1, ItemID:     1, UserRateForItem:   4.0, date: None\n",
            "UserID:     1, ItemID:     3, UserRateForItem:   4.0, date: None\n",
            "UserID:     1, ItemID:     6, UserRateForItem:   4.0, date: None\n",
            "UserID:     1, ItemID:    47, UserRateForItem:   5.0, date: None\n",
            "UserID:     1, ItemID:    50, UserRateForItem:   5.0, date: None\n",
            "\n",
            "Top 5 ratings of item: 50\n",
            "UserID:     1, ItemID:    50, UserRateForItem:   5.0, date: None\n",
            "UserID:     5, ItemID:    50, UserRateForItem:   4.0, date: None\n",
            "UserID:     6, ItemID:    50, UserRateForItem:   1.0, date: None\n",
            "UserID:     7, ItemID:    50, UserRateForItem:   4.5, date: None\n",
            "UserID:     8, ItemID:    50, UserRateForItem:   5.0, date: None\n"
          ]
        }
      ],
      "source": [
        "from datetime import date\n",
        "\n",
        "dater = None\n",
        "\n",
        "# Access dataset attributes\n",
        "raw_ratings = data.raw_ratings\n",
        "print(\"Number of ratings:\", len(raw_ratings))\n",
        "\n",
        "# Print a sample of raw ratings\n",
        "print(\"\\nTop 5 samples of raw ratings:\")\n",
        "for rating in raw_ratings[:5]:\n",
        "  uid, iid, ur, timestamp = rating\n",
        "  if timestamp:\n",
        "    dater = date.fromtimestamp(int(timestamp))\n",
        "  print(f\"UserID: {uid:5}, ItemID: {iid:5}, UserRateForItem: {ur:5}, date: {dater}\")\n",
        "\n",
        "search_uid = uid\n",
        "count_uid = 5\n",
        "print(f\"\\nTop {count_uid} ratings of user: {search_uid}\")\n",
        "\n",
        "for rating in raw_ratings:\n",
        "  uid, iid, ur, timestamp = rating\n",
        "  if uid == search_uid:\n",
        "    if timestamp:\n",
        "      dater = date.fromtimestamp(int(timestamp))\n",
        "    count_uid -= 1;\n",
        "    print(f\"UserID: {uid:5}, ItemID: {iid:5}, UserRateForItem: {ur:5}, date: {dater}\")\n",
        "    if count_uid <= 0:\n",
        "      break\n",
        "\n",
        "search_iid = iid\n",
        "count_iid = 5\n",
        "print(f\"\\nTop {count_iid} ratings of item: {search_iid}\")\n",
        "\n",
        "for rating in raw_ratings:\n",
        "  uid, iid, ur, timestamp = rating\n",
        "  if iid == search_iid:\n",
        "    if timestamp:\n",
        "      dater = date.fromtimestamp(int(timestamp))\n",
        "    count_iid -= 1;\n",
        "    print(f\"UserID: {uid:5}, ItemID: {iid:5}, UserRateForItem: {ur:5}, date: {dater}\")\n",
        "    if count_iid <= 0:\n",
        "      break"
      ]
    },
    {
      "cell_type": "markdown",
      "metadata": {
        "id": "UGbdKhLZGOTI"
      },
      "source": [
        "Використовуєтьс прямий відгук (Explicit feedback) - це оцінка, яку користувач поставив, щоб висловити свою задоволеність товаром."
      ]
    },
    {
      "cell_type": "markdown",
      "metadata": {
        "id": "vd_a5Z0QGOTI"
      },
      "source": [
        "Для оцінки що базується на спільній інформації про користувачів  та їхню взаємодію з об'єктами (Collaborative Filtering) вибранно модель матричної факторизації (Matrix Factorization)."
      ]
    },
    {
      "cell_type": "code",
      "execution_count": 36,
      "metadata": {
        "id": "djCv_xDbDPFc"
      },
      "outputs": [],
      "source": [
        "# uid = 6\n",
        "# iid = 258\n",
        "# ur = 2.0\n",
        "# dater = \"1997-12-28\""
      ]
    },
    {
      "cell_type": "markdown",
      "metadata": {
        "id": "yzuccKchc2ji"
      },
      "source": [
        "Ми використовуємо об'єкт ***DatasetAutoFolds*** у Surprise, це означає, що ми працюємо з набором даних, який вже було розбито на файли (folds) для перехресної перевірки.\n",
        "\n",
        "\n",
        "\n",
        "Мета цього методу - охопити загальний випадок використання, коли набір даних вже розбито на попередньо визначені складові, наприклад, набір даних movielens-100k ('ml-100k'), який визначає файли u1.base, u1.test, u2.base, u2.test і т.д... Його також можна використовувати, коли ми не хочемо виконувати перехресну перевірку, але все одно хочемо вказати наші навчальні та тестові дані (що в будь-якому випадку зводиться до 1-кратної перехресної перевірки)."
      ]
    },
    {
      "cell_type": "markdown",
      "metadata": {
        "id": "PYbeZAPjtK1_"
      },
      "source": [
        "## Mоделі матричної факторизації"
      ]
    },
    {
      "cell_type": "markdown",
      "metadata": {
        "id": "ueUxG3LaLG4I"
      },
      "source": [
        "### Algorithm SVD.\n",
        "\n",
        "Метод SVD може бути адаптований до наборів даних з неявним зворотним зв'язком (implicit feedback).\n",
        "\n",
        "Додаткові внутрішні фактори користувача та фільмів ініціалізуються випадковим чином відповідно до нормального розподілу."
      ]
    },
    {
      "cell_type": "markdown",
      "metadata": {
        "id": "uyQ5s_mFwxP5"
      },
      "source": [
        "\n",
        "- RMSE - root-mean-square error\n",
        "- MAE - mean absolute error"
      ]
    },
    {
      "cell_type": "code",
      "execution_count": 37,
      "metadata": {
        "id": "xtGVOa9MvqW-"
      },
      "outputs": [],
      "source": [
        "SEED = 42\n",
        "algo_cv = {}\n",
        "algo_split = {}\n",
        "# Use the SVD algorithm.\n",
        "algo = SVD(random_state=SEED)"
      ]
    },
    {
      "cell_type": "markdown",
      "metadata": {
        "id": "AXSz9le_xsT4"
      },
      "source": [
        "#### Прогноз"
      ]
    },
    {
      "cell_type": "markdown",
      "metadata": {
        "id": "eCXw_cYz2z45"
      },
      "source": [
        "#### Full_trainset та він же і testset. Accuracy RMSE (root-mean-square error).\n"
      ]
    },
    {
      "cell_type": "code",
      "execution_count": 38,
      "metadata": {
        "id": "Vqp3Qyoivlrg"
      },
      "outputs": [],
      "source": [
        "def data_full_trainset(algo, data, name_opt=None):\n",
        "  algorithm_name = algo.__class__.__name__\n",
        "  if name_opt:\n",
        "    algorithm_name = f\"{algorithm_name}_{name_opt}\"\n",
        "  print(f\"Algo: {algorithm_name}, UserID: {uid:5}, ItemID: {iid:5}, UserRateForItem: {ur:5}, date: {dater}\")\n",
        "\n",
        "  #trainset, testset = train_test_split(data, test_size=0.25)\n",
        "  trainset = data.build_full_trainset()\n",
        "\n",
        "  print(\"Number of train ratings:\", len(list(trainset.all_ratings())))\n",
        "  algo.fit(trainset)\n",
        "  pred = algo.predict(uid, iid, r_ui=ur, verbose=True)\n",
        "\n",
        "  testset = trainset.build_testset()\n",
        "  print(\"Number of test ratings:\", len(testset))\n",
        "\n",
        "  predictions = algo.test(testset)\n",
        "  # RMSE має бути низьким, оскільки ми є упередженими\n",
        "  accuracy.rmse(predictions, verbose=True)  # ~ 0.68 (що є низьким показником)"
      ]
    },
    {
      "cell_type": "code",
      "execution_count": 39,
      "metadata": {
        "colab": {
          "base_uri": "https://localhost:8080/"
        },
        "id": "IA0MEHsC_pac",
        "outputId": "6e7c9cb9-1c94-4222-e9ed-97b700b950d1"
      },
      "outputs": [
        {
          "output_type": "stream",
          "name": "stdout",
          "text": [
            "Algo: SVD, UserID:     8, ItemID:    50, UserRateForItem:   5.0, date: None\n",
            "Number of train ratings: 100836\n",
            "user: 8          item: 50         r_ui = 5.00   est = 4.39   {'was_impossible': False}\n",
            "Number of test ratings: 100836\n",
            "RMSE: 0.6390\n"
          ]
        }
      ],
      "source": [
        "data_full_trainset(algo, data)"
      ]
    },
    {
      "cell_type": "markdown",
      "metadata": {
        "id": "Q9A4q5cF3OF0"
      },
      "source": [
        "#### Train_test_split 25%. Accuracy RMSE (root-mean-square error).\n"
      ]
    },
    {
      "cell_type": "code",
      "execution_count": 55,
      "metadata": {
        "id": "LdeuubKe2U_G"
      },
      "outputs": [],
      "source": [
        "def data_train_test_split(algo, data, name_opt=None, test_size=0.25):\n",
        "  algorithm_name = algo.__class__.__name__\n",
        "  if name_opt:\n",
        "    algorithm_name = f\"{algorithm_name}_{name_opt}\"\n",
        "  print(f\"Algo: {algorithm_name}, UserID: {uid:5}, ItemID: {iid:5}, UserRateForItem: {ur:5}, date: {dater}\")\n",
        "  trainset, testset = train_test_split(data, test_size=test_size)\n",
        "\n",
        "  print(\"Number of train ratings:\", len(list(trainset.all_ratings())))\n",
        "  algo.fit(trainset)\n",
        "  pred = algo.predict(uid, iid, r_ui=ur, verbose=True)\n",
        "\n",
        "  print(\"Number of test ratings:\", len(testset))\n",
        "\n",
        "  predictions = algo.test(testset)\n",
        "  # RMSE має бути більшим\n",
        "  rmse = accuracy.rmse(predictions, verbose=True)  # ~ 0.94 (що є високим показником)\n",
        "  return {algorithm_name: rmse}"
      ]
    },
    {
      "cell_type": "code",
      "execution_count": 41,
      "metadata": {
        "colab": {
          "base_uri": "https://localhost:8080/"
        },
        "id": "glUST0_nAXnR",
        "outputId": "82ba9531-a319-44cc-c332-f5992bf3f91d"
      },
      "outputs": [
        {
          "output_type": "stream",
          "name": "stdout",
          "text": [
            "Algo: SVD, UserID:     8, ItemID:    50, UserRateForItem:   5.0, date: None\n",
            "Number of train ratings: 75627\n",
            "user: 8          item: 50         r_ui = 5.00   est = 4.14   {'was_impossible': False}\n",
            "Number of test ratings: 25209\n",
            "RMSE: 0.8752\n"
          ]
        }
      ],
      "source": [
        "algo_split.update(data_train_test_split(algo, data))"
      ]
    },
    {
      "cell_type": "markdown",
      "metadata": {
        "id": "O_uWjxHB2OVX"
      },
      "source": [
        "#### Cross Validate, cv = 5"
      ]
    },
    {
      "cell_type": "code",
      "execution_count": 42,
      "metadata": {
        "id": "s2Kyk9JeGBJy"
      },
      "outputs": [],
      "source": [
        "import numpy as np\n",
        "\n",
        "def data_cross_validate(algo, data, name_opt=None, cv=5):\n",
        "  algorithm_name = algo.__class__.__name__\n",
        "  if name_opt:\n",
        "    algorithm_name = f\"{algorithm_name}_{name_opt}\"\n",
        "  print(f\"Algo: {algorithm_name}. Cross Validate: {cv}\")\n",
        "  # Run 5-fold cross-validation and print results.\n",
        "  cv_result = cross_validate(algo, data, measures=['RMSE', 'MAE'], cv=cv, verbose=True)\n",
        "  mean_rmse = np.array(cv_result.get('test_rmse')).mean()\n",
        "  mean_fit = np.array(cv_result.get('fit_time')).mean()\n",
        "  mean_test = np.array(cv_result.get('test_time')).mean()\n",
        "\n",
        "  print(f\"{mean_rmse=}\")\n",
        "  return {algorithm_name: (mean_rmse, mean_fit, mean_test)}"
      ]
    },
    {
      "cell_type": "code",
      "execution_count": 43,
      "metadata": {
        "colab": {
          "base_uri": "https://localhost:8080/"
        },
        "id": "NxWiH8bUWrk3",
        "outputId": "67dff561-b367-468e-c648-472d7948fe71"
      },
      "outputs": [
        {
          "output_type": "stream",
          "name": "stdout",
          "text": [
            "Algo: SVD. Cross Validate: 5\n",
            "Evaluating RMSE, MAE of algorithm SVD on 5 split(s).\n",
            "\n",
            "                  Fold 1  Fold 2  Fold 3  Fold 4  Fold 5  Mean    Std     \n",
            "RMSE (testset)    0.8734  0.8753  0.8740  0.8749  0.8719  0.8739  0.0012  \n",
            "MAE (testset)     0.6708  0.6697  0.6724  0.6729  0.6689  0.6710  0.0015  \n",
            "Fit time          1.47    2.76    3.27    3.22    3.80    2.91    0.79    \n",
            "Test time         0.11    0.26    1.02    0.22    0.61    0.44    0.33    \n",
            "mean_rmse=0.8738940553015198\n"
          ]
        }
      ],
      "source": [
        "algo_cv.update(data_cross_validate(algo, data))"
      ]
    },
    {
      "cell_type": "markdown",
      "metadata": {
        "id": "xUP_-6eYM_1T"
      },
      "source": [
        "### Algorithm SVD++ (SVDpp)\n",
        "\n",
        "Алгоритм SVD++ можна використовувати, коли ми маємо доступ як до явного (explicit), так і до неявного (implicit) зворотного зв'язку. Це може бути дуже корисно, тому що зазвичай користувачі взаємодіють з багатьма елементами (= неявний зворотній зв'язок), але оцінюють лише невелику підмножину з них (= явний зворотній зв'язок).\n"
      ]
    },
    {
      "cell_type": "code",
      "execution_count": 85,
      "metadata": {
        "id": "QxLJcJhUNA2o"
      },
      "outputs": [],
      "source": [
        " # surprise.prediction_algorithms.matrix_factorization.SVDpp\n",
        "from surprise import SVDpp\n",
        "\n",
        "# Use the SVDpp algorithm.\n",
        "algo = SVDpp(cache_ratings=True, random_state=SEED)"
      ]
    },
    {
      "cell_type": "code",
      "execution_count": 86,
      "metadata": {
        "colab": {
          "base_uri": "https://localhost:8080/"
        },
        "id": "IS0gaLu--bMW",
        "outputId": "4a8aa5de-e789-4b9c-9723-3c68c5741778"
      },
      "outputs": [
        {
          "output_type": "stream",
          "name": "stdout",
          "text": [
            "Algo: SVDpp, UserID:     4, ItemID:  1276, UserRateForItem:   5.0, date: None\n",
            "Number of train ratings: 100836\n",
            "user: 4          item: 1276       r_ui = 5.00   est = 4.12   {'was_impossible': False}\n",
            "Number of test ratings: 100836\n",
            "RMSE: 0.6811\n"
          ]
        }
      ],
      "source": [
        "data_full_trainset(algo, data)"
      ]
    },
    {
      "cell_type": "code",
      "execution_count": 46,
      "metadata": {
        "colab": {
          "base_uri": "https://localhost:8080/"
        },
        "id": "F9aQtziO-fTA",
        "outputId": "c1673608-92c6-402d-c9d8-8d371e2adcb4"
      },
      "outputs": [
        {
          "output_type": "stream",
          "name": "stdout",
          "text": [
            "Algo: SVDpp, UserID:     8, ItemID:    50, UserRateForItem:   5.0, date: None\n",
            "Number of train ratings: 75627\n",
            "user: 8          item: 50         r_ui = 5.00   est = 4.47   {'was_impossible': False}\n",
            "Number of test ratings: 25209\n",
            "RMSE: 0.8596\n"
          ]
        }
      ],
      "source": [
        "algo_split.update(data_train_test_split(algo, data))"
      ]
    },
    {
      "cell_type": "code",
      "execution_count": 47,
      "metadata": {
        "colab": {
          "base_uri": "https://localhost:8080/"
        },
        "id": "D1mlY6C_-WWh",
        "outputId": "567e327a-3a78-4574-976a-b169c8c1d662"
      },
      "outputs": [
        {
          "output_type": "stream",
          "name": "stdout",
          "text": [
            "Algo: SVDpp. Cross Validate: 5\n",
            "Evaluating RMSE, MAE of algorithm SVDpp on 5 split(s).\n",
            "\n",
            "                  Fold 1  Fold 2  Fold 3  Fold 4  Fold 5  Mean    Std     \n",
            "RMSE (testset)    0.8687  0.8542  0.8614  0.8658  0.8623  0.8625  0.0049  \n",
            "MAE (testset)     0.6665  0.6540  0.6612  0.6619  0.6598  0.6607  0.0040  \n",
            "Fit time          94.98   87.57   95.62   95.75   96.35   94.05   3.27    \n",
            "Test time         12.22   12.17   12.03   12.22   12.07   12.14   0.08    \n",
            "mean_rmse=0.8624868395853745\n"
          ]
        }
      ],
      "source": [
        "algo_cv.update(data_cross_validate(algo, data))"
      ]
    },
    {
      "cell_type": "markdown",
      "metadata": {
        "id": "7yAcmVTsMtDD"
      },
      "source": [
        "### Algorithm NMF"
      ]
    },
    {
      "cell_type": "code",
      "execution_count": 48,
      "metadata": {
        "id": "fsbcpEK5MuMz"
      },
      "outputs": [],
      "source": [
        "# surprise.prediction_algorithms.matrix_factorization.NMF\n",
        "from surprise import NMF\n",
        "\n",
        "# Use the NMF algorithm.\n",
        "algo = NMF()"
      ]
    },
    {
      "cell_type": "code",
      "execution_count": 49,
      "metadata": {
        "colab": {
          "base_uri": "https://localhost:8080/"
        },
        "id": "Hnz2KCaC_EDw",
        "outputId": "a83749ca-dc28-4d38-d777-fe09c7d7f546"
      },
      "outputs": [
        {
          "output_type": "stream",
          "name": "stdout",
          "text": [
            "Algo: NMF, UserID:     8, ItemID:    50, UserRateForItem:   5.0, date: None\n",
            "Number of train ratings: 100836\n",
            "user: 8          item: 50         r_ui = 5.00   est = 4.45   {'was_impossible': False}\n",
            "Number of test ratings: 100836\n",
            "RMSE: 0.6365\n"
          ]
        }
      ],
      "source": [
        "data_full_trainset(algo, data)"
      ]
    },
    {
      "cell_type": "code",
      "execution_count": 50,
      "metadata": {
        "colab": {
          "base_uri": "https://localhost:8080/"
        },
        "id": "u92zY9Yi_ILp",
        "outputId": "551fed11-052e-4a39-8c22-7094a4912df1"
      },
      "outputs": [
        {
          "output_type": "stream",
          "name": "stdout",
          "text": [
            "Algo: NMF, UserID:     8, ItemID:    50, UserRateForItem:   5.0, date: None\n",
            "Number of train ratings: 75627\n",
            "user: 8          item: 50         r_ui = 5.00   est = 4.26   {'was_impossible': False}\n",
            "Number of test ratings: 25209\n",
            "RMSE: 0.9269\n"
          ]
        }
      ],
      "source": [
        "algo_split.update(data_train_test_split(algo, data))"
      ]
    },
    {
      "cell_type": "code",
      "execution_count": 51,
      "metadata": {
        "colab": {
          "base_uri": "https://localhost:8080/"
        },
        "id": "bnuu_byH_Hiw",
        "outputId": "967f3c39-64ba-46d0-d28a-1a91fadf3ec5"
      },
      "outputs": [
        {
          "output_type": "stream",
          "name": "stdout",
          "text": [
            "Algo: NMF. Cross Validate: 5\n",
            "Evaluating RMSE, MAE of algorithm NMF on 5 split(s).\n",
            "\n",
            "                  Fold 1  Fold 2  Fold 3  Fold 4  Fold 5  Mean    Std     \n",
            "RMSE (testset)    0.9192  0.9268  0.9227  0.9227  0.9202  0.9223  0.0026  \n",
            "MAE (testset)     0.7036  0.7105  0.7080  0.7078  0.7046  0.7069  0.0025  \n",
            "Fit time          2.61    3.35    2.63    2.62    2.64    2.77    0.29    \n",
            "Test time         0.09    0.22    0.10    0.21    0.16    0.16    0.05    \n",
            "mean_rmse=0.9223173555082889\n"
          ]
        }
      ],
      "source": [
        "algo_cv.update(data_cross_validate(algo, data))"
      ]
    },
    {
      "cell_type": "markdown",
      "metadata": {
        "id": "7GiwVM6d_pBf"
      },
      "source": [
        "## Сімейство алгоритмів k-NN\n"
      ]
    },
    {
      "cell_type": "markdown",
      "metadata": {
        "id": "sa_CWfroAVwO"
      },
      "source": [
        "\n",
        "Ці алгоритми безпосередньо випливають з базового методу найближчих сусідів.\n"
      ]
    },
    {
      "cell_type": "markdown",
      "metadata": {
        "id": "4TrQTNYlL-zX"
      },
      "source": [
        "### Algorithm KNNBasic (User based ON)."
      ]
    },
    {
      "cell_type": "markdown",
      "source": [
        "Whether similarities will be computed between users."
      ],
      "metadata": {
        "id": "uOjGDVxuY0Es"
      }
    },
    {
      "cell_type": "code",
      "execution_count": 52,
      "metadata": {
        "id": "vr_csvEwI1f0"
      },
      "outputs": [],
      "source": [
        "from surprise import KNNBasic\n",
        "\n",
        "# Build an algorithm, and train it.\n",
        "algo = KNNBasic(sim_options={'user_based': True})"
      ]
    },
    {
      "cell_type": "code",
      "execution_count": 53,
      "metadata": {
        "colab": {
          "base_uri": "https://localhost:8080/"
        },
        "id": "8QwLukw-JGdP",
        "outputId": "7c7a84c8-ef02-4db2-a317-9aa71c7caa92"
      },
      "outputs": [
        {
          "output_type": "stream",
          "name": "stdout",
          "text": [
            "Algo: KNNBasic, UserID:     8, ItemID:    50, UserRateForItem:   5.0, date: None\n",
            "Number of train ratings: 100836\n",
            "Computing the msd similarity matrix...\n",
            "Done computing similarity matrix.\n",
            "user: 8          item: 50         r_ui = 5.00   est = 4.64   {'actual_k': 40, 'was_impossible': False}\n",
            "Number of test ratings: 100836\n",
            "RMSE: 0.7265\n"
          ]
        }
      ],
      "source": [
        "data_full_trainset(algo, data)"
      ]
    },
    {
      "cell_type": "code",
      "execution_count": 56,
      "metadata": {
        "colab": {
          "base_uri": "https://localhost:8080/"
        },
        "id": "uNmfqM4I97wW",
        "outputId": "044b0457-3501-4b7e-e97e-9551e254b5c6"
      },
      "outputs": [
        {
          "output_type": "stream",
          "name": "stdout",
          "text": [
            "Algo: KNNBasic_user_on, UserID:     8, ItemID:    50, UserRateForItem:   5.0, date: None\n",
            "Number of train ratings: 75627\n",
            "Computing the msd similarity matrix...\n",
            "Done computing similarity matrix.\n",
            "user: 8          item: 50         r_ui = 5.00   est = 4.43   {'actual_k': 40, 'was_impossible': False}\n",
            "Number of test ratings: 25209\n",
            "RMSE: 0.9532\n"
          ]
        }
      ],
      "source": [
        "algo_split.update(data_train_test_split(algo, data, name_opt=\"user_on\"))"
      ]
    },
    {
      "cell_type": "code",
      "execution_count": 58,
      "metadata": {
        "colab": {
          "base_uri": "https://localhost:8080/"
        },
        "id": "ZrM3m5dh-MTt",
        "outputId": "3b232ea1-b9ac-4ea1-995b-a177ab96ee88"
      },
      "outputs": [
        {
          "output_type": "stream",
          "name": "stdout",
          "text": [
            "Algo: KNNBasic_user_on. Cross Validate: 5\n",
            "Computing the msd similarity matrix...\n",
            "Done computing similarity matrix.\n",
            "Computing the msd similarity matrix...\n",
            "Done computing similarity matrix.\n",
            "Computing the msd similarity matrix...\n",
            "Done computing similarity matrix.\n",
            "Computing the msd similarity matrix...\n",
            "Done computing similarity matrix.\n",
            "Computing the msd similarity matrix...\n",
            "Done computing similarity matrix.\n",
            "Evaluating RMSE, MAE of algorithm KNNBasic on 5 split(s).\n",
            "\n",
            "                  Fold 1  Fold 2  Fold 3  Fold 4  Fold 5  Mean    Std     \n",
            "RMSE (testset)    0.9449  0.9477  0.9421  0.9464  0.9480  0.9458  0.0022  \n",
            "MAE (testset)     0.7243  0.7240  0.7243  0.7246  0.7268  0.7248  0.0010  \n",
            "Fit time          0.16    0.19    0.16    0.14    0.14    0.16    0.02    \n",
            "Test time         1.57    2.04    1.36    1.45    1.36    1.56    0.25    \n",
            "mean_rmse=0.9458186051560442\n"
          ]
        }
      ],
      "source": [
        "algo_cv.update(data_cross_validate(algo, data, name_opt=\"user_on\"))"
      ]
    },
    {
      "cell_type": "markdown",
      "metadata": {
        "id": "c6WUPYir3QpX"
      },
      "source": [
        "### Algorithm KNNBasic (User based OFF)."
      ]
    },
    {
      "cell_type": "markdown",
      "source": [
        "Whether similarities will be computed between movies"
      ],
      "metadata": {
        "id": "kzrf_pydY47p"
      }
    },
    {
      "cell_type": "code",
      "execution_count": 59,
      "metadata": {
        "id": "IBr2u-613QpZ"
      },
      "outputs": [],
      "source": [
        "from surprise import KNNBasic\n",
        "\n",
        "# Build an algorithm, and train it.\n",
        "algo = KNNBasic(sim_options={'user_based': False})"
      ]
    },
    {
      "cell_type": "code",
      "execution_count": 60,
      "metadata": {
        "colab": {
          "base_uri": "https://localhost:8080/"
        },
        "id": "ffSwqQWZ3Qpc",
        "outputId": "8628e331-e98e-4992-b06f-656fc407bcd8"
      },
      "outputs": [
        {
          "output_type": "stream",
          "name": "stdout",
          "text": [
            "Algo: KNNBasic, UserID:     8, ItemID:    50, UserRateForItem:   5.0, date: None\n",
            "Number of train ratings: 100836\n",
            "Computing the msd similarity matrix...\n",
            "Done computing similarity matrix.\n",
            "user: 8          item: 50         r_ui = 5.00   est = 3.77   {'actual_k': 40, 'was_impossible': False}\n",
            "Number of test ratings: 100836\n",
            "RMSE: 0.4572\n"
          ]
        }
      ],
      "source": [
        "data_full_trainset(algo, data)"
      ]
    },
    {
      "cell_type": "code",
      "execution_count": 61,
      "metadata": {
        "colab": {
          "base_uri": "https://localhost:8080/"
        },
        "id": "pM_rSiKr3Qpd",
        "outputId": "7f55e64a-1f1f-4b06-8d05-f2a07831372c"
      },
      "outputs": [
        {
          "output_type": "stream",
          "name": "stdout",
          "text": [
            "Algo: KNNBasic_user_off, UserID:     8, ItemID:    50, UserRateForItem:   5.0, date: None\n",
            "Number of train ratings: 75627\n",
            "Computing the msd similarity matrix...\n",
            "Done computing similarity matrix.\n",
            "user: 8          item: 50         r_ui = 5.00   est = 3.77   {'actual_k': 40, 'was_impossible': False}\n",
            "Number of test ratings: 25209\n",
            "RMSE: 0.9079\n"
          ]
        }
      ],
      "source": [
        "algo_split.update(data_train_test_split(algo, data, name_opt=\"user_off\"))"
      ]
    },
    {
      "cell_type": "code",
      "execution_count": 62,
      "metadata": {
        "colab": {
          "base_uri": "https://localhost:8080/"
        },
        "id": "Dy3xJyDY3Qpe",
        "outputId": "4f2297af-21d8-4095-b4e0-2cd957325e68"
      },
      "outputs": [
        {
          "output_type": "stream",
          "name": "stdout",
          "text": [
            "Algo: KNNBasic_user_off. Cross Validate: 5\n",
            "Computing the msd similarity matrix...\n",
            "Done computing similarity matrix.\n",
            "Computing the msd similarity matrix...\n",
            "Done computing similarity matrix.\n",
            "Computing the msd similarity matrix...\n",
            "Done computing similarity matrix.\n",
            "Computing the msd similarity matrix...\n",
            "Done computing similarity matrix.\n",
            "Computing the msd similarity matrix...\n",
            "Done computing similarity matrix.\n",
            "Evaluating RMSE, MAE of algorithm KNNBasic on 5 split(s).\n",
            "\n",
            "                  Fold 1  Fold 2  Fold 3  Fold 4  Fold 5  Mean    Std     \n",
            "RMSE (testset)    0.9021  0.9077  0.9129  0.9097  0.9083  0.9082  0.0035  \n",
            "MAE (testset)     0.6961  0.7017  0.7018  0.6983  0.6996  0.6995  0.0021  \n",
            "Fit time          4.54    5.61    6.63    4.77    4.55    5.22    0.81    \n",
            "Test time         8.94    7.85    8.24    8.85    8.81    8.54    0.42    \n",
            "mean_rmse=0.908158259405757\n"
          ]
        }
      ],
      "source": [
        "algo_cv.update(data_cross_validate(algo, data, name_opt=\"user_off\"))"
      ]
    },
    {
      "cell_type": "markdown",
      "metadata": {
        "id": "ZEf1LzGQH1qZ"
      },
      "source": [
        "## Результати accuracy для різних алгоритмів"
      ]
    },
    {
      "cell_type": "code",
      "execution_count": 63,
      "metadata": {
        "id": "SojB-No_IrpS"
      },
      "outputs": [],
      "source": [
        "import matplotlib.pyplot as plt\n",
        "\n",
        "def plot_algo(input_data: dict, title_type: str=\"\", ylabel_type: str=\"RMSE\", column=None):\n",
        "  x = list(input_data.keys())\n",
        "  if column is None:\n",
        "    y = list(input_data.values())\n",
        "  else:\n",
        "    y = [v[column] for v in input_data.values()]\n",
        "\n",
        "  y = np.array(y)\n",
        "\n",
        "  plt.figure(figsize=(16, 5))\n",
        "  h_y = y[-1] -  y[0]\n",
        "  max_y = y[-1] + h_y * 0.16\n",
        "  min_y = y[0] - h_y * 0.16\n",
        "  min_y = 0 if min_y < 0 else min_y\n",
        "  plt.ylim(min_y, max_y)\n",
        "  plt.title(f\"Результати {title_type} для різних алгоритмів. [зміна у % від поперед.] (зміна у % від найкр.)\")\n",
        "\n",
        "  cmap = plt.get_cmap('Paired')\n",
        "  num_colors = len(x)\n",
        "  colors_map = [cmap(i / num_colors) for i in range(num_colors)]\n",
        "  custom_colors = {key: colors_map[i] for i, key in enumerate(sorted(x))}\n",
        "  colors = [custom_colors.get(x_v, 'blue') for x_v in x]\n",
        "\n",
        "  bar_w = 0.6\n",
        "\n",
        "  plt.bar(x, height=y, width=bar_w, label=x, color=colors)\n",
        "  plt.plot(x, y, \"o-\")\n",
        "  plt.xlabel(\"Назва алгоритму\")\n",
        "  plt.ylabel(ylabel_type)\n",
        "  plt.vlines(x[0], min_y, max_y, color=\"red\", linestyle=\"-.\", label=\"Best Algo, lower value\")\n",
        "  plt.hlines(y[0], -bar_w / 2, len(x) - 1 + bar_w / 2, color=\"red\", linestyle=\"-.\")\n",
        "  diff_y = np.diff(y) / y[:-1] * 100\n",
        "  diff_y_best = y / y[0] * 100 - 100\n",
        "\n",
        "  for i, val in enumerate(y):\n",
        "      text = str(round(val, 4))\n",
        "      if i > 0:\n",
        "        text += f\" [{round(diff_y[i-1], 1):+,}%]\"\n",
        "      if i > 1:\n",
        "        text += f\" ({round(diff_y_best[i], 1):+,}%)\"\n",
        "\n",
        "      plt.text(x[i], val + h_y * 0.05 , text, ha='center',  va='bottom', bbox=dict(facecolor='white', alpha=0.95))\n",
        "  plt.legend(loc=\"best\")\n",
        "  plt.show()\n",
        "  print(f\"Best algo: {x[0]}, with value: {y[0]:.4f}\")"
      ]
    },
    {
      "cell_type": "code",
      "execution_count": 64,
      "metadata": {
        "colab": {
          "base_uri": "https://localhost:8080/"
        },
        "id": "0s7f5PcQH_lH",
        "outputId": "42fd1908-6072-4eba-8599-de2d9b5b6f87"
      },
      "outputs": [
        {
          "output_type": "execute_result",
          "data": {
            "text/plain": [
              "{'SVD': 0.8752241498320181,\n",
              " 'SVDpp': 0.8596436124244224,\n",
              " 'NMF': 0.9269388053103035,\n",
              " 'KNNBasic_user_on': 0.9532127552729714,\n",
              " 'KNNBasic_user_off': 0.9078954061347988}"
            ]
          },
          "metadata": {},
          "execution_count": 64
        }
      ],
      "source": [
        "algo_split"
      ]
    },
    {
      "cell_type": "code",
      "execution_count": 65,
      "metadata": {
        "id": "QslxVHDiIj8S"
      },
      "outputs": [],
      "source": [
        "algo_split_s = dict(sorted(algo_split.items(), key=lambda x: x[1]))"
      ]
    },
    {
      "cell_type": "code",
      "execution_count": 66,
      "metadata": {
        "colab": {
          "base_uri": "https://localhost:8080/",
          "height": 487
        },
        "id": "orw3cpgESMTs",
        "outputId": "4a505f5f-b320-4314-bf1b-cfd41e15b6eb"
      },
      "outputs": [
        {
          "output_type": "display_data",
          "data": {
            "text/plain": [
              "<Figure size 1600x500 with 1 Axes>"
            ],
            "image/png": "[encoded data removed]"
          },
          "metadata": {}
        }
      ],
      "source": [
        "plot_algo(algo_split_s, \"predict accuracy\", \" Значення RMSE\")"
      ]
    },
    {
      "cell_type": "markdown",
      "metadata": {
        "id": "9oZbFr2xZnyM"
      },
      "source": [
        "## Результати кросвалідації для різних алгоритмів"
      ]
    },
    {
      "cell_type": "code",
      "execution_count": 67,
      "metadata": {
        "colab": {
          "base_uri": "https://localhost:8080/"
        },
        "id": "5l5ekHeqZnba",
        "outputId": "5ee11222-2014-49e4-848d-6292f8b0151c"
      },
      "outputs": [
        {
          "output_type": "stream",
          "name": "stdout",
          "text": [
            "Best algo: SVDpp, with value: 0.8596\n"
          ]
        },
        {
          "output_type": "execute_result",
          "data": {
            "text/plain": [
              "{'SVD': (0.8738940553015198, 2.905899429321289, 0.44420251846313474),\n",
              " 'SVDpp': (0.8624868395853745, 94.05305962562561, 12.141802740097045),\n",
              " 'NMF': (0.9223173555082889, 2.768272542953491, 0.1576249122619629),\n",
              " 'KNNBasic_user_on': (0.9458186051560442,\n",
              "  0.15866055488586425,\n",
              "  1.5575635433197021),\n",
              " 'KNNBasic_user_off': (0.908158259405757,\n",
              "  5.221751022338867,\n",
              "  8.539007520675659)}"
            ]
          },
          "metadata": {},
          "execution_count": 67
        }
      ],
      "source": [
        "algo_cv"
      ]
    },
    {
      "cell_type": "code",
      "execution_count": 68,
      "metadata": {
        "colab": {
          "base_uri": "https://localhost:8080/",
          "height": 505
        },
        "id": "yUon2b_nbUFS",
        "outputId": "584e3d6b-38ab-4df4-85d1-d4f11965996e"
      },
      "outputs": [
        {
          "output_type": "display_data",
          "data": {
            "text/plain": [
              "<Figure size 1600x500 with 1 Axes>"
            ],
            "image/png": "[encoded data removed]"
          },
          "metadata": {}
        },
        {
          "output_type": "stream",
          "name": "stdout",
          "text": [
            "Best algo: SVDpp, with value: 0.8625\n"
          ]
        }
      ],
      "source": [
        "column = 0\n",
        "algo_cv_s_rmse = dict(sorted(algo_cv.items(), key=lambda x: x[1][column]))\n",
        "plot_algo(algo_cv_s_rmse, \"кросвалідації\", \"Середнє значення RMSE\", column=column)"
      ]
    },
    {
      "cell_type": "code",
      "execution_count": 69,
      "metadata": {
        "colab": {
          "base_uri": "https://localhost:8080/",
          "height": 505
        },
        "id": "He1I-qal5Oh8",
        "outputId": "be15e977-f31f-4c3e-d398-fc6eaee23031"
      },
      "outputs": [
        {
          "output_type": "display_data",
          "data": {
            "text/plain": [
              "<Figure size 1600x500 with 1 Axes>"
            ],
            "image/png": "[encoded data removed]"
          },
          "metadata": {}
        },
        {
          "output_type": "stream",
          "name": "stdout",
          "text": [
            "Best algo: KNNBasic_user_on, with value: 0.1587\n"
          ]
        }
      ],
      "source": [
        "column = 1\n",
        "algo_cv_s_fit = dict(sorted(algo_cv.items(), key=lambda x: x[1][column]))\n",
        "plot_algo(algo_cv_s_fit, \"часу кросвалідації\", \"Середнє значення часу навчання (fit), сек\", column=column)"
      ]
    },
    {
      "cell_type": "code",
      "execution_count": 70,
      "metadata": {
        "colab": {
          "base_uri": "https://localhost:8080/",
          "height": 505
        },
        "id": "4rRRGBOf5jis",
        "outputId": "d1b445df-31f7-4378-8f6e-ca403c5a46e7"
      },
      "outputs": [
        {
          "output_type": "display_data",
          "data": {
            "text/plain": [
              "<Figure size 1600x500 with 1 Axes>"
            ],
            "image/png": "[encoded data removed]"
          },
          "metadata": {}
        },
        {
          "output_type": "stream",
          "name": "stdout",
          "text": [
            "Best algo: NMF, with value: 0.1576\n"
          ]
        }
      ],
      "source": [
        "column = 2\n",
        "algo_cv_s_test = dict(sorted(algo_cv.items(), key=lambda x: x[1][column]))\n",
        "plot_algo(algo_cv_s_test, \"часу кросвалідації\", \"Середнє значення часу тестування (test), сек\",  column=column)"
      ]
    },
    {
      "cell_type": "markdown",
      "metadata": {
        "id": "UfO5MUvEABAK"
      },
      "source": [
        "## Найкращій алгорим"
      ]
    },
    {
      "cell_type": "markdown",
      "metadata": {
        "id": "nav4ol5M-YkZ"
      },
      "source": [
        "- за точністю предбачення: SVD++, SVD\n",
        "- за часом навчання моделі: KNNBasic (user_based: on), NMF\n",
        "- за часом тестування моделі: NMF, SVD\n",
        "\n",
        "Тому вибираємо для подальшіх розрахунків за критерієм точності: SVD++, але за критерієм швидкісті та точності вибриаємо: SVD."
      ]
    },
    {
      "cell_type": "code",
      "execution_count": 71,
      "metadata": {
        "id": "qodh0GyF6zry"
      },
      "outputs": [],
      "source": [
        "best_algo = SVDpp"
      ]
    },
    {
      "cell_type": "markdown",
      "metadata": {
        "id": "t9xezE86PB4A"
      },
      "source": [
        "## Пошук оптимальних параметрів використовуючи GridSearchCV для SVD++ (SVDpp)"
      ]
    },
    {
      "cell_type": "code",
      "execution_count": 89,
      "metadata": {
        "id": "3xG17GmmPClu",
        "colab": {
          "base_uri": "https://localhost:8080/"
        },
        "outputId": "515f0f06-0865-4e9e-ad76-5f94a95b84d1"
      },
      "outputs": [
        {
          "output_type": "stream",
          "name": "stdout",
          "text": [
            "CPU times: user 13.7 s, sys: 2.52 s, total: 16.2 s\n",
            "Wall time: 21min 7s\n",
            "0.8608948378550695\n",
            "best_params={'random_state': 42, 'cache_ratings': True, 'n_epochs': 15, 'lr_all': 0.007, 'reg_all': 0.02}\n"
          ]
        }
      ],
      "source": [
        "from surprise.model_selection import GridSearchCV\n",
        "\n",
        "param_grid = {\"random_state\": [SEED], \"cache_ratings\": [True],\n",
        "              \"n_epochs\": [15, 20], \"lr_all\": [0.007], \"reg_all\": [0.02, 0.2]\n",
        "              }\n",
        "gs = GridSearchCV(best_algo, param_grid, measures=[\"rmse\"], cv=5, n_jobs=-1)\n",
        "\n",
        "%time gs.fit(data)\n",
        "\n",
        "# best RMSE score\n",
        "print(gs.best_score[\"rmse\"])\n",
        "\n",
        "# combination of parameters that gave the best RMSE score\n",
        "best_params = gs.best_params[\"rmse\"]\n",
        "print(f\"{best_params=}\")"
      ]
    },
    {
      "cell_type": "markdown",
      "metadata": {
        "id": "-hEdiA9J8XbC"
      },
      "source": [
        "#### Звіт роботи GridSearchCV для всіх комбінацій параметрів"
      ]
    },
    {
      "cell_type": "code",
      "execution_count": 73,
      "metadata": {
        "id": "RE51ObkqRAua",
        "colab": {
          "base_uri": "https://localhost:8080/",
          "height": 334
        },
        "outputId": "3cc79348-f3cd-4533-a977-9d9d2b235834"
      },
      "outputs": [
        {
          "output_type": "execute_result",
          "data": {
            "text/plain": [
              "   split0_test_rmse  split1_test_rmse  split2_test_rmse  split3_test_rmse  \\\n",
              "0          0.858057          0.868958          0.867402          0.853616   \n",
              "1          0.870662          0.880421          0.879793          0.866478   \n",
              "2          0.858877          0.868329          0.868316          0.854492   \n",
              "3          0.868235          0.878242          0.877917          0.864350   \n",
              "\n",
              "   split4_test_rmse  mean_test_rmse  std_test_rmse  rank_test_rmse  \\\n",
              "0          0.857795        0.861166       0.005961               1   \n",
              "1          0.869906        0.873452       0.005618               4   \n",
              "2          0.857984        0.861600       0.005682               2   \n",
              "3          0.867924        0.871334       0.005676               3   \n",
              "\n",
              "   mean_fit_time  std_fit_time  mean_test_time  std_test_time  \\\n",
              "0     114.430803      3.489723       19.896509       2.220639   \n",
              "1     114.851092      4.553037       20.348207       1.759981   \n",
              "2     147.591258      0.959810       17.777250       0.827567   \n",
              "3     148.329253      0.535867       16.306678       1.132268   \n",
              "\n",
              "                                              params  param_random_state  \\\n",
              "0  {'random_state': 42, 'n_epochs': 15, 'lr_all':...                  42   \n",
              "1  {'random_state': 42, 'n_epochs': 15, 'lr_all':...                  42   \n",
              "2  {'random_state': 42, 'n_epochs': 20, 'lr_all':...                  42   \n",
              "3  {'random_state': 42, 'n_epochs': 20, 'lr_all':...                  42   \n",
              "\n",
              "   param_n_epochs  param_lr_all  param_reg_all  \n",
              "0              15         0.007           0.02  \n",
              "1              15         0.007           0.20  \n",
              "2              20         0.007           0.02  \n",
              "3              20         0.007           0.20  "
            ],
            "text/html": [
              "\n",
              "  <div id=\"df-de4e06d4-4736-4653-95f7-0137c329af48\" class=\"colab-df-container\">\n",
              "    <div>\n",
              "<style scoped>\n",
              "    .dataframe tbody tr th:only-of-type {\n",
              "        vertical-align: middle;\n",
              "    }\n",
              "\n",
              "    .dataframe tbody tr th {\n",
              "        vertical-align: top;\n",
              "    }\n",
              "\n",
              "    .dataframe thead th {\n",
              "        text-align: right;\n",
              "    }\n",
              "</style>\n",
              "<table border=\"1\" class=\"dataframe\">\n",
              "  <thead>\n",
              "    <tr style=\"text-align: right;\">\n",
              "      <th></th>\n",
              "      <th>split0_test_rmse</th>\n",
              "      <th>split1_test_rmse</th>\n",
              "      <th>split2_test_rmse</th>\n",
              "      <th>split3_test_rmse</th>\n",
              "      <th>split4_test_rmse</th>\n",
              "      <th>mean_test_rmse</th>\n",
              "      <th>std_test_rmse</th>\n",
              "      <th>rank_test_rmse</th>\n",
              "      <th>mean_fit_time</th>\n",
              "      <th>std_fit_time</th>\n",
              "      <th>mean_test_time</th>\n",
              "      <th>std_test_time</th>\n",
              "      <th>params</th>\n",
              "      <th>param_random_state</th>\n",
              "      <th>param_n_epochs</th>\n",
              "      <th>param_lr_all</th>\n",
              "      <th>param_reg_all</th>\n",
              "    </tr>\n",
              "  </thead>\n",
              "  <tbody>\n",
              "    <tr>\n",
              "      <th>0</th>\n",
              "      <td>0.858057</td>\n",
              "      <td>0.868958</td>\n",
              "      <td>0.867402</td>\n",
              "      <td>0.853616</td>\n",
              "      <td>0.857795</td>\n",
              "      <td>0.861166</td>\n",
              "      <td>0.005961</td>\n",
              "      <td>1</td>\n",
              "      <td>114.430803</td>\n",
              "      <td>3.489723</td>\n",
              "      <td>19.896509</td>\n",
              "      <td>2.220639</td>\n",
              "      <td>{'random_state': 42, 'n_epochs': 15, 'lr_all':...</td>\n",
              "      <td>42</td>\n",
              "      <td>15</td>\n",
              "      <td>0.007</td>\n",
              "      <td>0.02</td>\n",
              "    </tr>\n",
              "    <tr>\n",
              "      <th>1</th>\n",
              "      <td>0.870662</td>\n",
              "      <td>0.880421</td>\n",
              "      <td>0.879793</td>\n",
              "      <td>0.866478</td>\n",
              "      <td>0.869906</td>\n",
              "      <td>0.873452</td>\n",
              "      <td>0.005618</td>\n",
              "      <td>4</td>\n",
              "      <td>114.851092</td>\n",
              "      <td>4.553037</td>\n",
              "      <td>20.348207</td>\n",
              "      <td>1.759981</td>\n",
              "      <td>{'random_state': 42, 'n_epochs': 15, 'lr_all':...</td>\n",
              "      <td>42</td>\n",
              "      <td>15</td>\n",
              "      <td>0.007</td>\n",
              "      <td>0.20</td>\n",
              "    </tr>\n",
              "    <tr>\n",
              "      <th>2</th>\n",
              "      <td>0.858877</td>\n",
              "      <td>0.868329</td>\n",
              "      <td>0.868316</td>\n",
              "      <td>0.854492</td>\n",
              "      <td>0.857984</td>\n",
              "      <td>0.861600</td>\n",
              "      <td>0.005682</td>\n",
              "      <td>2</td>\n",
              "      <td>147.591258</td>\n",
              "      <td>0.959810</td>\n",
              "      <td>17.777250</td>\n",
              "      <td>0.827567</td>\n",
              "      <td>{'random_state': 42, 'n_epochs': 20, 'lr_all':...</td>\n",
              "      <td>42</td>\n",
              "      <td>20</td>\n",
              "      <td>0.007</td>\n",
              "      <td>0.02</td>\n",
              "    </tr>\n",
              "    <tr>\n",
              "      <th>3</th>\n",
              "      <td>0.868235</td>\n",
              "      <td>0.878242</td>\n",
              "      <td>0.877917</td>\n",
              "      <td>0.864350</td>\n",
              "      <td>0.867924</td>\n",
              "      <td>0.871334</td>\n",
              "      <td>0.005676</td>\n",
              "      <td>3</td>\n",
              "      <td>148.329253</td>\n",
              "      <td>0.535867</td>\n",
              "      <td>16.306678</td>\n",
              "      <td>1.132268</td>\n",
              "      <td>{'random_state': 42, 'n_epochs': 20, 'lr_all':...</td>\n",
              "      <td>42</td>\n",
              "      <td>20</td>\n",
              "      <td>0.007</td>\n",
              "      <td>0.20</td>\n",
              "    </tr>\n",
              "  </tbody>\n",
              "</table>\n",
              "</div>\n",
              "    <div class=\"colab-df-buttons\">\n",
              "\n",
              "  <div class=\"colab-df-container\">\n",
              "    <button class=\"colab-df-convert\" onclick=\"convertToInteractive('df-de4e06d4-4736-4653-95f7-0137c329af48')\"\n",
              "            title=\"Convert this dataframe to an interactive table.\"\n",
              "            style=\"display:none;\">\n",
              "\n",
              "  <svg xmlns=\"http://www.w3.org/2000/svg\" height=\"24px\" viewBox=\"0 -960 960 960\">\n",
              "    <path d=\"M120-120v-720h720v720H120Zm60-500h600v-160H180v160Zm220 220h160v-160H400v160Zm0 220h160v-160H400v160ZM180-400h160v-160H180v160Zm440 0h160v-160H620v160ZM180-180h160v-160H180v160Zm440 0h160v-160H620v160Z\"/>\n",
              "  </svg>\n",
              "    </button>\n",
              "\n",
              "  <style>\n",
              "    .colab-df-container {\n",
              "      display:flex;\n",
              "      gap: 12px;\n",
              "    }\n",
              "\n",
              "    .colab-df-convert {\n",
              "      background-color: #E8F0FE;\n",
              "      border: none;\n",
              "      border-radius: 50%;\n",
              "      cursor: pointer;\n",
              "      display: none;\n",
              "      fill: #1967D2;\n",
              "      height: 32px;\n",
              "      padding: 0 0 0 0;\n",
              "      width: 32px;\n",
              "    }\n",
              "\n",
              "    .colab-df-convert:hover {\n",
              "      background-color: #E2EBFA;\n",
              "      box-shadow: 0px 1px 2px rgba(60, 64, 67, 0.3), 0px 1px 3px 1px rgba(60, 64, 67, 0.15);\n",
              "      fill: #174EA6;\n",
              "    }\n",
              "\n",
              "    .colab-df-buttons div {\n",
              "      margin-bottom: 4px;\n",
              "    }\n",
              "\n",
              "    [theme=dark] .colab-df-convert {\n",
              "      background-color: #3B4455;\n",
              "      fill: #D2E3FC;\n",
              "    }\n",
              "\n",
              "    [theme=dark] .colab-df-convert:hover {\n",
              "      background-color: #434B5C;\n",
              "      box-shadow: 0px 1px 3px 1px rgba(0, 0, 0, 0.15);\n",
              "      filter: drop-shadow(0px 1px 2px rgba(0, 0, 0, 0.3));\n",
              "      fill: #FFFFFF;\n",
              "    }\n",
              "  </style>\n",
              "\n",
              "    <script>\n",
              "      const buttonEl =\n",
              "        document.querySelector('#df-de4e06d4-4736-4653-95f7-0137c329af48 button.colab-df-convert');\n",
              "      buttonEl.style.display =\n",
              "        google.colab.kernel.accessAllowed ? 'block' : 'none';\n",
              "\n",
              "      async function convertToInteractive(key) {\n",
              "        const element = document.querySelector('#df-de4e06d4-4736-4653-95f7-0137c329af48');\n",
              "        const dataTable =\n",
              "          await google.colab.kernel.invokeFunction('convertToInteractive',\n",
              "                                                    [key], {});\n",
              "        if (!dataTable) return;\n",
              "\n",
              "        const docLinkHtml = 'Like what you see? Visit the ' +\n",
              "          '<a target=\"_blank\" href=https://colab.research.google.com/notebooks/data_table.ipynb>data table notebook</a>'\n",
              "          + ' to learn more about interactive tables.';\n",
              "        element.innerHTML = '';\n",
              "        dataTable['output_type'] = 'display_data';\n",
              "        await google.colab.output.renderOutput(dataTable, element);\n",
              "        const docLink = document.createElement('div');\n",
              "        docLink.innerHTML = docLinkHtml;\n",
              "        element.appendChild(docLink);\n",
              "      }\n",
              "    </script>\n",
              "  </div>\n",
              "\n",
              "\n",
              "<div id=\"df-3263569c-d68a-404f-b351-2bd4b888f613\">\n",
              "  <button class=\"colab-df-quickchart\" onclick=\"quickchart('df-3263569c-d68a-404f-b351-2bd4b888f613')\"\n",
              "            title=\"Suggest charts\"\n",
              "            style=\"display:none;\">\n",
              "\n",
              "<svg xmlns=\"http://www.w3.org/2000/svg\" height=\"24px\"viewBox=\"0 0 24 24\"\n",
              "     width=\"24px\">\n",
              "    <g>\n",
              "        <path d=\"M19 3H5c-1.1 0-2 .9-2 2v14c0 1.1.9 2 2 2h14c1.1 0 2-.9 2-2V5c0-1.1-.9-2-2-2zM9 17H7v-7h2v7zm4 0h-2V7h2v10zm4 0h-2v-4h2v4z\"/>\n",
              "    </g>\n",
              "</svg>\n",
              "  </button>\n",
              "\n",
              "<style>\n",
              "  .colab-df-quickchart {\n",
              "      --bg-color: #E8F0FE;\n",
              "      --fill-color: #1967D2;\n",
              "      --hover-bg-color: #E2EBFA;\n",
              "      --hover-fill-color: #174EA6;\n",
              "      --disabled-fill-color: #AAA;\n",
              "      --disabled-bg-color: #DDD;\n",
              "  }\n",
              "\n",
              "  [theme=dark] .colab-df-quickchart {\n",
              "      --bg-color: #3B4455;\n",
              "      --fill-color: #D2E3FC;\n",
              "      --hover-bg-color: #434B5C;\n",
              "      --hover-fill-color: #FFFFFF;\n",
              "      --disabled-bg-color: #3B4455;\n",
              "      --disabled-fill-color: #666;\n",
              "  }\n",
              "\n",
              "  .colab-df-quickchart {\n",
              "    background-color: var(--bg-color);\n",
              "    border: none;\n",
              "    border-radius: 50%;\n",
              "    cursor: pointer;\n",
              "    display: none;\n",
              "    fill: var(--fill-color);\n",
              "    height: 32px;\n",
              "    padding: 0;\n",
              "    width: 32px;\n",
              "  }\n",
              "\n",
              "  .colab-df-quickchart:hover {\n",
              "    background-color: var(--hover-bg-color);\n",
              "    box-shadow: 0 1px 2px rgba(60, 64, 67, 0.3), 0 1px 3px 1px rgba(60, 64, 67, 0.15);\n",
              "    fill: var(--button-hover-fill-color);\n",
              "  }\n",
              "\n",
              "  .colab-df-quickchart-complete:disabled,\n",
              "  .colab-df-quickchart-complete:disabled:hover {\n",
              "    background-color: var(--disabled-bg-color);\n",
              "    fill: var(--disabled-fill-color);\n",
              "    box-shadow: none;\n",
              "  }\n",
              "\n",
              "  .colab-df-spinner {\n",
              "    border: 2px solid var(--fill-color);\n",
              "    border-color: transparent;\n",
              "    border-bottom-color: var(--fill-color);\n",
              "    animation:\n",
              "      spin 1s steps(1) infinite;\n",
              "  }\n",
              "\n",
              "  @keyframes spin {\n",
              "    0% {\n",
              "      border-color: transparent;\n",
              "      border-bottom-color: var(--fill-color);\n",
              "      border-left-color: var(--fill-color);\n",
              "    }\n",
              "    20% {\n",
              "      border-color: transparent;\n",
              "      border-left-color: var(--fill-color);\n",
              "      border-top-color: var(--fill-color);\n",
              "    }\n",
              "    30% {\n",
              "      border-color: transparent;\n",
              "      border-left-color: var(--fill-color);\n",
              "      border-top-color: var(--fill-color);\n",
              "      border-right-color: var(--fill-color);\n",
              "    }\n",
              "    40% {\n",
              "      border-color: transparent;\n",
              "      border-right-color: var(--fill-color);\n",
              "      border-top-color: var(--fill-color);\n",
              "    }\n",
              "    60% {\n",
              "      border-color: transparent;\n",
              "      border-right-color: var(--fill-color);\n",
              "    }\n",
              "    80% {\n",
              "      border-color: transparent;\n",
              "      border-right-color: var(--fill-color);\n",
              "      border-bottom-color: var(--fill-color);\n",
              "    }\n",
              "    90% {\n",
              "      border-color: transparent;\n",
              "      border-bottom-color: var(--fill-color);\n",
              "    }\n",
              "  }\n",
              "</style>\n",
              "\n",
              "  <script>\n",
              "    async function quickchart(key) {\n",
              "      const quickchartButtonEl =\n",
              "        document.querySelector('#' + key + ' button');\n",
              "      quickchartButtonEl.disabled = true;  // To prevent multiple clicks.\n",
              "      quickchartButtonEl.classList.add('colab-df-spinner');\n",
              "      try {\n",
              "        const charts = await google.colab.kernel.invokeFunction(\n",
              "            'suggestCharts', [key], {});\n",
              "      } catch (error) {\n",
              "        console.error('Error during call to suggestCharts:', error);\n",
              "      }\n",
              "      quickchartButtonEl.classList.remove('colab-df-spinner');\n",
              "      quickchartButtonEl.classList.add('colab-df-quickchart-complete');\n",
              "    }\n",
              "    (() => {\n",
              "      let quickchartButtonEl =\n",
              "        document.querySelector('#df-3263569c-d68a-404f-b351-2bd4b888f613 button');\n",
              "      quickchartButtonEl.style.display =\n",
              "        google.colab.kernel.accessAllowed ? 'block' : 'none';\n",
              "    })();\n",
              "  </script>\n",
              "</div>\n",
              "    </div>\n",
              "  </div>\n"
            ],
            "application/vnd.google.colaboratory.intrinsic+json": {
              "type": "dataframe",
              "variable_name": "results_df",
              "repr_error": "unhashable type: 'dict'"
            }
          },
          "metadata": {},
          "execution_count": 73
        }
      ],
      "source": [
        "results_df = pd.DataFrame.from_dict(gs.cv_results)\n",
        "results_df.head(10)"
      ]
    },
    {
      "cell_type": "markdown",
      "metadata": {
        "id": "7bF8ur3t79PC"
      },
      "source": [
        "#### навчання на full_trainset для найкращого алгоритму"
      ]
    },
    {
      "cell_type": "code",
      "execution_count": 74,
      "metadata": {
        "id": "rwvpU1k9Qtgf"
      },
      "outputs": [],
      "source": [
        "# We can now use the algorithm that yields the best rmse:\n",
        "algo = gs.best_estimator[\"rmse\"]"
      ]
    },
    {
      "cell_type": "markdown",
      "metadata": {
        "id": "NmFGtg1lSWng"
      },
      "source": [
        "## Найкращі рекомендації для користувачів (SVDpp):"
      ]
    },
    {
      "cell_type": "code",
      "execution_count": 75,
      "metadata": {
        "id": "sUtJHoN-SXaz"
      },
      "outputs": [],
      "source": [
        "from collections import defaultdict\n",
        "\n",
        "\n",
        "def get_top_n(predictions, n=10):\n",
        "    \"\"\"Return the top-N recommendation for each user from a set of predictions.\n",
        "\n",
        "    Args:\n",
        "        predictions(list of Prediction objects): The list of predictions, as\n",
        "            returned by the test method of an algorithm.\n",
        "        n(int): The number of recommendation to output for each user. Default\n",
        "            is 10.\n",
        "\n",
        "    Returns:\n",
        "    A dict where keys are user (raw) ids and values are lists of tuples:\n",
        "        [(raw item id, rating estimation), ...] of size n.\n",
        "    \"\"\"\n",
        "\n",
        "    # First map the predictions to each user.\n",
        "    top_n = defaultdict(list)\n",
        "    for uid, iid, true_r, est, _ in predictions:\n",
        "        top_n[uid].append((iid, est))\n",
        "\n",
        "    # Then sort the predictions for each user and retrieve the k highest ones.\n",
        "    for uid, user_ratings in top_n.items():\n",
        "        user_ratings.sort(key=lambda x: x[1], reverse=True)\n",
        "        top_n[uid] = user_ratings[:n]\n",
        "\n",
        "    return top_n"
      ]
    },
    {
      "cell_type": "code",
      "execution_count": 76,
      "metadata": {
        "id": "Qc14fUnHGuVi",
        "colab": {
          "base_uri": "https://localhost:8080/"
        },
        "outputId": "c8c9584b-3129-4b23-d345-7c08b11288c7"
      },
      "outputs": [
        {
          "output_type": "stream",
          "name": "stdout",
          "text": [
            "SVDpp params: {'random_state': 42, 'n_epochs': 15, 'lr_all': 0.007, 'reg_all': 0.02}\n",
            "CPU times: user 1min 36s, sys: 214 ms, total: 1min 36s\n",
            "Wall time: 1min 37s\n",
            "CPU times: user 18min 54s, sys: 29.8 s, total: 19min 24s\n",
            "Wall time: 19min 14s\n"
          ]
        }
      ],
      "source": [
        "# First train an SVD algorithm on the movielens dataset.\n",
        "trainset = data.build_full_trainset()\n",
        "\n",
        "# # best value from GridSearchCV\n",
        "# algo_param = {'random_state': SEED, 'n_epochs': 20, 'lr_all': 0.005, 'reg_all': 0.02}\n",
        "print(algo.__class__.__name__, \"params:\", best_params)\n",
        "# algo = SVDpp(**algo_param)\n",
        "%time algo.fit(trainset)\n",
        "\n",
        "# Than predict ratings for all pairs (u, i) that are NOT in the training set.\n",
        "testset = trainset.build_anti_testset()\n",
        "%time predictions = algo.test(testset)"
      ]
    },
    {
      "cell_type": "code",
      "execution_count": 77,
      "metadata": {
        "id": "2wgCVlumNEit"
      },
      "outputs": [],
      "source": [
        "recomendations = 5\n",
        "top_n = get_top_n(predictions, n=recomendations)"
      ]
    },
    {
      "cell_type": "code",
      "execution_count": 78,
      "metadata": {
        "id": "_692eM54DUzj",
        "colab": {
          "base_uri": "https://localhost:8080/"
        },
        "outputId": "0dd206cd-914a-43b9-8382-5f5ec0384d01"
      },
      "outputs": [
        {
          "output_type": "stream",
          "name": "stdout",
          "text": [
            "Найкращі рекомендації для перших 15 користувачів:\n",
            "\n",
            "Для користувача:  1, найкращі 5 рекомендацій: ['   318: ***** (5.00)', ' 58559: ***** (5.00)', '   720: ***** (5.00)', '   914: ***** (5.00)', '   898: ***** (5.00)']\n",
            "Для користувача:  2, найкращі 5 рекомендацій: ['  1204: ****  (4.41)', '   750: ****  (4.41)', '  3451: ****  (4.35)', '  2324: ****  (4.34)', '   933: ****  (4.34)']\n",
            "Для користувача:  3, найкращі 5 рекомендацій: ['   356: ****  (3.64)', '   318: ****  (3.56)', '  1204: ****  (3.54)', '   457: ****  (3.50)', '  1223: ***   (3.50)']\n",
            "Для користувача:  4, найкращі 5 рекомендацій: [' 56782: ****  (4.34)', '   922: ****  (4.28)', '  6016: ****  (4.23)', '  1228: ****  (4.22)', '  1276: ****  (4.20)']\n",
            "Для користувача:  5, найкращі 5 рекомендацій: ['   933: ****  (4.24)', '  1204: ****  (4.20)', '  3451: ****  (4.19)', '   898: ****  (4.19)', '  1276: ****  (4.18)']\n",
            "Для користувача:  6, найкращі 5 рекомендацій: ['  1197: ****  (4.49)', '  1203: ****  (4.35)', '  1223: ****  (4.35)', '   922: ****  (4.34)', '   910: ****  (4.34)']\n",
            "Для користувача:  7, найкращі 5 рекомендацій: ['   296: ****  (4.29)', '  1203: ****  (4.22)', '  2959: ****  (4.11)', '   318: ****  (4.09)', '  1291: ****  (4.09)']\n",
            "Для користувача:  8, найкращі 5 рекомендацій: ['   750: ****  (4.49)', '  1204: ****  (4.44)', '  2959: ****  (4.42)', '  7361: ****  (4.37)', '  2858: ****  (4.36)']\n",
            "Для користувача:  9, найкращі 5 рекомендацій: ['   296: ****  (4.35)', '   858: ****  (4.33)', '  3030: ****  (4.20)', '  4973: ****  (4.19)', '   898: ****  (4.18)']\n",
            "Для користувача: 10, найкращі 5 рекомендацій: ['  2572: ****  (4.05)', '  3451: ****  (4.03)', '  1584: ****  (3.96)', '    58: ****  (3.96)', '  2580: ****  (3.91)']\n",
            "Для користувача: 11, найкращі 5 рекомендацій: ['   898: ***** (4.60)', '  2571: ***** (4.58)', '  1262: ***** (4.58)', '   904: ***** (4.56)', '  1248: ***** (4.56)']\n",
            "Для користувача: 12, найкращі 5 рекомендацій: ['    50: ***** (5.00)', '   260: ***** (5.00)', '   954: ***** (5.00)', '  1197: ***** (5.00)', '  1219: ***** (5.00)']\n",
            "Для користувача: 13, найкращі 5 рекомендацій: ['   318: ****  (4.50)', '   898: ****  (4.45)', '   922: ****  (4.45)', '  1204: ****  (4.45)', '   246: ****  (4.41)']\n",
            "Для користувача: 14, найкращі 5 рекомендацій: ['  1204: ****  (4.31)', '  3451: ****  (4.30)', '105504: ****  (4.21)', '  1104: ****  (4.19)', '   908: ****  (4.18)']\n",
            "Для користувача: 15, найкращі 5 рекомендацій: ['  1204: ****  (4.04)', '   922: ****  (4.00)', '  1704: ****  (3.99)', '   750: ****  (3.96)', '  1203: ****  (3.95)']\n"
          ]
        }
      ],
      "source": [
        "counter=15\n",
        "# Print the recommended items for each user\n",
        "print(f\"Найкращі рекомендації для перших {counter} користувачів:\\n\")\n",
        "\n",
        "for uid, user_ratings in top_n.items():\n",
        "    recomend = [f\"{iid:6}: {'*'*round(est):5} ({est:.2f})\" for (iid, est) in user_ratings]\n",
        "    print(f\"Для користувача: {uid:2}, найкращі {recomendations} рекомендацій: {recomend}\")\n",
        "    counter -= 1\n",
        "    if counter <= 0:\n",
        "      break"
      ]
    },
    {
      "cell_type": "markdown",
      "metadata": {
        "id": "st-VpfsOHfV7"
      },
      "source": [
        "### Decode name of movies"
      ]
    },
    {
      "cell_type": "code",
      "execution_count": 79,
      "metadata": {
        "id": "2P4cU4v11CpR",
        "colab": {
          "base_uri": "https://localhost:8080/",
          "height": 175
        },
        "outputId": "7d4fe6f4-c4fd-4fbf-9e8b-1289207f0587"
      },
      "outputs": [
        {
          "output_type": "execute_result",
          "data": {
            "text/plain": [
              "                    title                            genres\n",
              "movieId                                                    \n",
              "6517     Babe, The (1992)                             Drama\n",
              "1029         Dumbo (1941)  Animation|Children|Drama|Musical\n",
              "7714       Camelot (1967)             Drama|Musical|Romance"
            ],
            "text/html": [
              "\n",
              "  <div id=\"df-309974b9-24b1-4245-85c2-06b3c8d5a58e\" class=\"colab-df-container\">\n",
              "    <div>\n",
              "<style scoped>\n",
              "    .dataframe tbody tr th:only-of-type {\n",
              "        vertical-align: middle;\n",
              "    }\n",
              "\n",
              "    .dataframe tbody tr th {\n",
              "        vertical-align: top;\n",
              "    }\n",
              "\n",
              "    .dataframe thead th {\n",
              "        text-align: right;\n",
              "    }\n",
              "</style>\n",
              "<table border=\"1\" class=\"dataframe\">\n",
              "  <thead>\n",
              "    <tr style=\"text-align: right;\">\n",
              "      <th></th>\n",
              "      <th>title</th>\n",
              "      <th>genres</th>\n",
              "    </tr>\n",
              "    <tr>\n",
              "      <th>movieId</th>\n",
              "      <th></th>\n",
              "      <th></th>\n",
              "    </tr>\n",
              "  </thead>\n",
              "  <tbody>\n",
              "    <tr>\n",
              "      <th>6517</th>\n",
              "      <td>Babe, The (1992)</td>\n",
              "      <td>Drama</td>\n",
              "    </tr>\n",
              "    <tr>\n",
              "      <th>1029</th>\n",
              "      <td>Dumbo (1941)</td>\n",
              "      <td>Animation|Children|Drama|Musical</td>\n",
              "    </tr>\n",
              "    <tr>\n",
              "      <th>7714</th>\n",
              "      <td>Camelot (1967)</td>\n",
              "      <td>Drama|Musical|Romance</td>\n",
              "    </tr>\n",
              "  </tbody>\n",
              "</table>\n",
              "</div>\n",
              "    <div class=\"colab-df-buttons\">\n",
              "\n",
              "  <div class=\"colab-df-container\">\n",
              "    <button class=\"colab-df-convert\" onclick=\"convertToInteractive('df-309974b9-24b1-4245-85c2-06b3c8d5a58e')\"\n",
              "            title=\"Convert this dataframe to an interactive table.\"\n",
              "            style=\"display:none;\">\n",
              "\n",
              "  <svg xmlns=\"http://www.w3.org/2000/svg\" height=\"24px\" viewBox=\"0 -960 960 960\">\n",
              "    <path d=\"M120-120v-720h720v720H120Zm60-500h600v-160H180v160Zm220 220h160v-160H400v160Zm0 220h160v-160H400v160ZM180-400h160v-160H180v160Zm440 0h160v-160H620v160ZM180-180h160v-160H180v160Zm440 0h160v-160H620v160Z\"/>\n",
              "  </svg>\n",
              "    </button>\n",
              "\n",
              "  <style>\n",
              "    .colab-df-container {\n",
              "      display:flex;\n",
              "      gap: 12px;\n",
              "    }\n",
              "\n",
              "    .colab-df-convert {\n",
              "      background-color: #E8F0FE;\n",
              "      border: none;\n",
              "      border-radius: 50%;\n",
              "      cursor: pointer;\n",
              "      display: none;\n",
              "      fill: #1967D2;\n",
              "      height: 32px;\n",
              "      padding: 0 0 0 0;\n",
              "      width: 32px;\n",
              "    }\n",
              "\n",
              "    .colab-df-convert:hover {\n",
              "      background-color: #E2EBFA;\n",
              "      box-shadow: 0px 1px 2px rgba(60, 64, 67, 0.3), 0px 1px 3px 1px rgba(60, 64, 67, 0.15);\n",
              "      fill: #174EA6;\n",
              "    }\n",
              "\n",
              "    .colab-df-buttons div {\n",
              "      margin-bottom: 4px;\n",
              "    }\n",
              "\n",
              "    [theme=dark] .colab-df-convert {\n",
              "      background-color: #3B4455;\n",
              "      fill: #D2E3FC;\n",
              "    }\n",
              "\n",
              "    [theme=dark] .colab-df-convert:hover {\n",
              "      background-color: #434B5C;\n",
              "      box-shadow: 0px 1px 3px 1px rgba(0, 0, 0, 0.15);\n",
              "      filter: drop-shadow(0px 1px 2px rgba(0, 0, 0, 0.3));\n",
              "      fill: #FFFFFF;\n",
              "    }\n",
              "  </style>\n",
              "\n",
              "    <script>\n",
              "      const buttonEl =\n",
              "        document.querySelector('#df-309974b9-24b1-4245-85c2-06b3c8d5a58e button.colab-df-convert');\n",
              "      buttonEl.style.display =\n",
              "        google.colab.kernel.accessAllowed ? 'block' : 'none';\n",
              "\n",
              "      async function convertToInteractive(key) {\n",
              "        const element = document.querySelector('#df-309974b9-24b1-4245-85c2-06b3c8d5a58e');\n",
              "        const dataTable =\n",
              "          await google.colab.kernel.invokeFunction('convertToInteractive',\n",
              "                                                    [key], {});\n",
              "        if (!dataTable) return;\n",
              "\n",
              "        const docLinkHtml = 'Like what you see? Visit the ' +\n",
              "          '<a target=\"_blank\" href=https://colab.research.google.com/notebooks/data_table.ipynb>data table notebook</a>'\n",
              "          + ' to learn more about interactive tables.';\n",
              "        element.innerHTML = '';\n",
              "        dataTable['output_type'] = 'display_data';\n",
              "        await google.colab.output.renderOutput(dataTable, element);\n",
              "        const docLink = document.createElement('div');\n",
              "        docLink.innerHTML = docLinkHtml;\n",
              "        element.appendChild(docLink);\n",
              "      }\n",
              "    </script>\n",
              "  </div>\n",
              "\n",
              "\n",
              "<div id=\"df-4b1874dd-971c-463d-b10c-7564dcc718ca\">\n",
              "  <button class=\"colab-df-quickchart\" onclick=\"quickchart('df-4b1874dd-971c-463d-b10c-7564dcc718ca')\"\n",
              "            title=\"Suggest charts\"\n",
              "            style=\"display:none;\">\n",
              "\n",
              "<svg xmlns=\"http://www.w3.org/2000/svg\" height=\"24px\"viewBox=\"0 0 24 24\"\n",
              "     width=\"24px\">\n",
              "    <g>\n",
              "        <path d=\"M19 3H5c-1.1 0-2 .9-2 2v14c0 1.1.9 2 2 2h14c1.1 0 2-.9 2-2V5c0-1.1-.9-2-2-2zM9 17H7v-7h2v7zm4 0h-2V7h2v10zm4 0h-2v-4h2v4z\"/>\n",
              "    </g>\n",
              "</svg>\n",
              "  </button>\n",
              "\n",
              "<style>\n",
              "  .colab-df-quickchart {\n",
              "      --bg-color: #E8F0FE;\n",
              "      --fill-color: #1967D2;\n",
              "      --hover-bg-color: #E2EBFA;\n",
              "      --hover-fill-color: #174EA6;\n",
              "      --disabled-fill-color: #AAA;\n",
              "      --disabled-bg-color: #DDD;\n",
              "  }\n",
              "\n",
              "  [theme=dark] .colab-df-quickchart {\n",
              "      --bg-color: #3B4455;\n",
              "      --fill-color: #D2E3FC;\n",
              "      --hover-bg-color: #434B5C;\n",
              "      --hover-fill-color: #FFFFFF;\n",
              "      --disabled-bg-color: #3B4455;\n",
              "      --disabled-fill-color: #666;\n",
              "  }\n",
              "\n",
              "  .colab-df-quickchart {\n",
              "    background-color: var(--bg-color);\n",
              "    border: none;\n",
              "    border-radius: 50%;\n",
              "    cursor: pointer;\n",
              "    display: none;\n",
              "    fill: var(--fill-color);\n",
              "    height: 32px;\n",
              "    padding: 0;\n",
              "    width: 32px;\n",
              "  }\n",
              "\n",
              "  .colab-df-quickchart:hover {\n",
              "    background-color: var(--hover-bg-color);\n",
              "    box-shadow: 0 1px 2px rgba(60, 64, 67, 0.3), 0 1px 3px 1px rgba(60, 64, 67, 0.15);\n",
              "    fill: var(--button-hover-fill-color);\n",
              "  }\n",
              "\n",
              "  .colab-df-quickchart-complete:disabled,\n",
              "  .colab-df-quickchart-complete:disabled:hover {\n",
              "    background-color: var(--disabled-bg-color);\n",
              "    fill: var(--disabled-fill-color);\n",
              "    box-shadow: none;\n",
              "  }\n",
              "\n",
              "  .colab-df-spinner {\n",
              "    border: 2px solid var(--fill-color);\n",
              "    border-color: transparent;\n",
              "    border-bottom-color: var(--fill-color);\n",
              "    animation:\n",
              "      spin 1s steps(1) infinite;\n",
              "  }\n",
              "\n",
              "  @keyframes spin {\n",
              "    0% {\n",
              "      border-color: transparent;\n",
              "      border-bottom-color: var(--fill-color);\n",
              "      border-left-color: var(--fill-color);\n",
              "    }\n",
              "    20% {\n",
              "      border-color: transparent;\n",
              "      border-left-color: var(--fill-color);\n",
              "      border-top-color: var(--fill-color);\n",
              "    }\n",
              "    30% {\n",
              "      border-color: transparent;\n",
              "      border-left-color: var(--fill-color);\n",
              "      border-top-color: var(--fill-color);\n",
              "      border-right-color: var(--fill-color);\n",
              "    }\n",
              "    40% {\n",
              "      border-color: transparent;\n",
              "      border-right-color: var(--fill-color);\n",
              "      border-top-color: var(--fill-color);\n",
              "    }\n",
              "    60% {\n",
              "      border-color: transparent;\n",
              "      border-right-color: var(--fill-color);\n",
              "    }\n",
              "    80% {\n",
              "      border-color: transparent;\n",
              "      border-right-color: var(--fill-color);\n",
              "      border-bottom-color: var(--fill-color);\n",
              "    }\n",
              "    90% {\n",
              "      border-color: transparent;\n",
              "      border-bottom-color: var(--fill-color);\n",
              "    }\n",
              "  }\n",
              "</style>\n",
              "\n",
              "  <script>\n",
              "    async function quickchart(key) {\n",
              "      const quickchartButtonEl =\n",
              "        document.querySelector('#' + key + ' button');\n",
              "      quickchartButtonEl.disabled = true;  // To prevent multiple clicks.\n",
              "      quickchartButtonEl.classList.add('colab-df-spinner');\n",
              "      try {\n",
              "        const charts = await google.colab.kernel.invokeFunction(\n",
              "            'suggestCharts', [key], {});\n",
              "      } catch (error) {\n",
              "        console.error('Error during call to suggestCharts:', error);\n",
              "      }\n",
              "      quickchartButtonEl.classList.remove('colab-df-spinner');\n",
              "      quickchartButtonEl.classList.add('colab-df-quickchart-complete');\n",
              "    }\n",
              "    (() => {\n",
              "      let quickchartButtonEl =\n",
              "        document.querySelector('#df-4b1874dd-971c-463d-b10c-7564dcc718ca button');\n",
              "      quickchartButtonEl.style.display =\n",
              "        google.colab.kernel.accessAllowed ? 'block' : 'none';\n",
              "    })();\n",
              "  </script>\n",
              "</div>\n",
              "    </div>\n",
              "  </div>\n"
            ],
            "application/vnd.google.colaboratory.intrinsic+json": {
              "type": "dataframe",
              "summary": "{\n  \"name\": \"movie_list\",\n  \"rows\": 3,\n  \"fields\": [\n    {\n      \"column\": \"title\",\n      \"properties\": {\n        \"dtype\": \"string\",\n        \"samples\": [\n          \"Babe, The (1992)\",\n          \"Dumbo (1941)\",\n          \"Camelot (1967)\"\n        ],\n        \"num_unique_values\": 3,\n        \"semantic_type\": \"\",\n        \"description\": \"\"\n      }\n    },\n    {\n      \"column\": \"genres\",\n      \"properties\": {\n        \"dtype\": \"string\",\n        \"samples\": [\n          \"Drama\",\n          \"Animation|Children|Drama|Musical\",\n          \"Drama|Musical|Romance\"\n        ],\n        \"num_unique_values\": 3,\n        \"semantic_type\": \"\",\n        \"description\": \"\"\n      }\n    }\n  ]\n}"
            }
          },
          "metadata": {},
          "execution_count": 79
        }
      ],
      "source": [
        "if laod_mode == \"load_builtin\":\n",
        "  movie_list = pd.read_csv(movies_csv ) # index_col=\"movieId\"\n",
        "else:\n",
        "  movie_list = pd.read_csv(movies_csv, index_col=\"movieId\")\n",
        "movie_list.sample(3)"
      ]
    },
    {
      "cell_type": "code",
      "execution_count": 84,
      "metadata": {
        "id": "WYBFE850AlC8",
        "colab": {
          "base_uri": "https://localhost:8080/"
        },
        "outputId": "e6ba7012-137c-44ad-8b59-1ed7b42f3cd4"
      },
      "outputs": [
        {
          "output_type": "stream",
          "name": "stdout",
          "text": [
            "Найкращі рекомендації для перших 4 користувачів:\n",
            "\n",
            "Для користувача: 1, найкращі 5 рекомендацій:\n",
            " - ***** (5.00): Shawshank Redemption, The (1994), [Crime] , ID: 318\n",
            " - ***** (5.00): Dark Knight, The (2008), [Action] , ID: 58559\n",
            " - ***** (5.00): Wallace & Gromit: The Best of Aardman Animation (1996), [Adventure] , ID: 720\n",
            " - ***** (5.00): My Fair Lady (1964), [Comedy] , ID: 914\n",
            " - ***** (5.00): Philadelphia Story, The (1940), [Comedy] , ID: 898\n",
            "Для користувача: 2, найкращі 5 рекомендацій:\n",
            " - ****  (4.41): Lawrence of Arabia (1962), [Adventure] , ID: 1204\n",
            " - ****  (4.41): Dr. Strangelove or: How I Learned to Stop Worrying and Love the Bomb (1964), [Comedy] , ID: 750\n",
            " - ****  (4.35): Guess Who's Coming to Dinner (1967), [Drama] , ID: 3451\n",
            " - ****  (4.34): Life Is Beautiful (La Vita è bella) (1997), [Comedy] , ID: 2324\n",
            " - ****  (4.34): To Catch a Thief (1955), [Crime] , ID: 933\n",
            "Для користувача: 3, найкращі 5 рекомендацій:\n",
            " - ****  (3.64): Forrest Gump (1994), [Comedy] , ID: 356\n",
            " - ****  (3.56): Shawshank Redemption, The (1994), [Crime] , ID: 318\n",
            " - ****  (3.54): Lawrence of Arabia (1962), [Adventure] , ID: 1204\n",
            " - ****  (3.50): Fugitive, The (1993), [Thriller] , ID: 457\n",
            " - ***   (3.50): Grand Day Out with Wallace and Gromit, A (1989), [Adventure] , ID: 1223\n",
            "Для користувача: 4, найкращі 5 рекомендацій:\n",
            " - ****  (4.34): There Will Be Blood (2007), [Drama] , ID: 56782\n",
            " - ****  (4.28): Sunset Blvd. (a.k.a. Sunset Boulevard) (1950), [Drama] , ID: 922\n",
            " - ****  (4.23): City of God (Cidade de Deus) (2002), [Action] , ID: 6016\n",
            " - ****  (4.22): Raging Bull (1980), [Drama] , ID: 1228\n",
            " - ****  (4.20): Cool Hand Luke (1967), [Drama] , ID: 1276\n"
          ]
        }
      ],
      "source": [
        "recomendations = 5\n",
        "# top_n = get_top_n(predictions, n=recomendations)\n",
        "\n",
        "counter=4\n",
        "# Print the recommended items for each user\n",
        "print(f\"Найкращі рекомендації для перших {counter} користувачів:\\n\")\n",
        "\n",
        "for uid, user_ratings in top_n.items():\n",
        "    print(f\"Для користувача: {uid}, найкращі {recomendations} рекомендацій:\")\n",
        "    for (iid, est) in user_ratings:\n",
        "      title = movie_list['title'].get(int(iid), f\"ID: {iid}\")\n",
        "      genre = movie_list['genres'].get(int(iid))\n",
        "      link = \"\" if laod_mode == \"load_builtin\" else f\", ID: {iid}\"\n",
        "      if genre:\n",
        "        genre = genre.split('|')[0]\n",
        "      print(f\" - {'*'*round(est):5} ({est:.2f}): {title}, [{genre}] {link}\")\n",
        "    counter -= 1\n",
        "    if counter <= 0:\n",
        "      break"
      ]
    }
  ],
  "metadata": {
    "colab": {
      "collapsed_sections": [
        "OLW2WK4cK08b",
        "VumP61raGOTE",
        "eCXw_cYz2z45",
        "Q9A4q5cF3OF0",
        "t9xezE86PB4A"
      ],
      "provenance": [],
      "authorship_tag": "ABX9TyN0dC0AiMVyJSqEPgU4LNKX",
      "include_colab_link": true
    },
    "kernelspec": {
      "display_name": "Python 3",
      "name": "python3"
    },
    "language_info": {
      "name": "python"
    }
  },
  "nbformat": 4,
  "nbformat_minor": 0
}