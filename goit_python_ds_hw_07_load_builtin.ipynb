{
  "nbformat": 4,
  "nbformat_minor": 0,
  "metadata": {
    "colab": {
      "provenance": [],
      "collapsed_sections": [
        "OLW2WK4cK08b",
        "VumP61raGOTE",
        "PYbeZAPjtK1_",
        "ueUxG3LaLG4I",
        "eCXw_cYz2z45",
        "Q9A4q5cF3OF0",
        "O_uWjxHB2OVX",
        "xUP_-6eYM_1T",
        "4TrQTNYlL-zX",
        "ZEf1LzGQH1qZ",
        "9oZbFr2xZnyM",
        "UfO5MUvEABAK",
        "t9xezE86PB4A",
        "NmFGtg1lSWng"
      ],
      "authorship_tag": "ABX9TyMxLQYSyFx4CHeQIyOPk0ba",
      "include_colab_link": true
    },
    "kernelspec": {
      "name": "python3",
      "display_name": "Python 3"
    },
    "language_info": {
      "name": "python"
    }
  },
  "cells": [
    {
      "cell_type": "markdown",
      "metadata": {
        "id": "view-in-github",
        "colab_type": "text"
      },
      "source": [
        "<a href=\"https://colab.research.google.com/github/lexxai/goit_python_ds_hw_07/blob/main/goit_python_ds_hw_07_load_builtin.ipynb\" target=\"_parent\"><img src=\"https://colab.research.google.com/assets/colab-badge.svg\" alt=\"Open In Colab\"/></a>"
      ]
    },
    {
      "cell_type": "markdown",
      "source": [
        "# Модуль 7. Рекомендаційні системи.\n",
        "\n",
        "*З циклу [домашніх завдань Python Data Science](https://github.com/lexxai/goit_python_data_sciense_homework).*\n",
        "\n",
        "# Домашнє завдання"
      ],
      "metadata": {
        "id": "VTvBpLm5Jqyj"
      }
    },
    {
      "cell_type": "markdown",
      "source": [
        "## LOAD DATASET"
      ],
      "metadata": {
        "id": "OLW2WK4cK08b"
      }
    },
    {
      "cell_type": "code",
      "source": [
        "!pip install scikit-surprise"
      ],
      "metadata": {
        "colab": {
          "base_uri": "https://localhost:8080/"
        },
        "id": "IQlrrC64Ei_D",
        "outputId": "f2be5640-12e1-41b7-d987-18ba5c568239"
      },
      "execution_count": 1,
      "outputs": [
        {
          "output_type": "stream",
          "name": "stdout",
          "text": [
            "Collecting scikit-surprise\n",
            "  Downloading scikit-surprise-1.1.3.tar.gz (771 kB)\n",
            "\u001b[?25l     \u001b[90m━━━━━━━━━━━━━━━━━━━━━━━━━━━━━━━━━━━━━━━━\u001b[0m \u001b[32m0.0/772.0 kB\u001b[0m \u001b[31m?\u001b[0m eta \u001b[36m-:--:--\u001b[0m\r\u001b[2K     \u001b[91m━━━━━━━━━━\u001b[0m\u001b[90m╺\u001b[0m\u001b[90m━━━━━━━━━━━━━━━━━━━━━━━━━━━━━\u001b[0m \u001b[32m194.6/772.0 kB\u001b[0m \u001b[31m5.8 MB/s\u001b[0m eta \u001b[36m0:00:01\u001b[0m\r\u001b[2K     \u001b[91m━━━━━━━━━━━━━━━━━━━━━━━━━━━━━━━━━\u001b[0m\u001b[90m╺\u001b[0m\u001b[90m━━━━━━\u001b[0m \u001b[32m645.1/772.0 kB\u001b[0m \u001b[31m9.2 MB/s\u001b[0m eta \u001b[36m0:00:01\u001b[0m\r\u001b[2K     \u001b[90m━━━━━━━━━━━━━━━━━━━━━━━━━━━━━━━━━━━━━━━━\u001b[0m \u001b[32m772.0/772.0 kB\u001b[0m \u001b[31m8.3 MB/s\u001b[0m eta \u001b[36m0:00:00\u001b[0m\n",
            "\u001b[?25h  Preparing metadata (setup.py) ... \u001b[?25l\u001b[?25hdone\n",
            "Requirement already satisfied: joblib>=1.0.0 in /usr/local/lib/python3.10/dist-packages (from scikit-surprise) (1.3.2)\n",
            "Requirement already satisfied: numpy>=1.17.3 in /usr/local/lib/python3.10/dist-packages (from scikit-surprise) (1.23.5)\n",
            "Requirement already satisfied: scipy>=1.3.2 in /usr/local/lib/python3.10/dist-packages (from scikit-surprise) (1.11.4)\n",
            "Building wheels for collected packages: scikit-surprise\n",
            "  Building wheel for scikit-surprise (setup.py) ... \u001b[?25l\u001b[?25hdone\n",
            "  Created wheel for scikit-surprise: filename=scikit_surprise-1.1.3-cp310-cp310-linux_x86_64.whl size=3162666 sha256=64a566218a07101052af440efd9c5fac6958375dade972d4ee4e9bf9788f0cc9\n",
            "  Stored in directory: /root/.cache/pip/wheels/a5/ca/a8/4e28def53797fdc4363ca4af740db15a9c2f1595ebc51fb445\n",
            "Successfully built scikit-surprise\n",
            "Installing collected packages: scikit-surprise\n",
            "Successfully installed scikit-surprise-1.1.3\n"
          ]
        }
      ]
    },
    {
      "cell_type": "code",
      "source": [
        "from surprise import accuracy, Dataset, Reader, SVD\n",
        "from surprise.model_selection import cross_validate, train_test_split\n",
        "import pandas as pd\n",
        "import numpy as np\n",
        "from pathlib import Path"
      ],
      "metadata": {
        "id": "m63KlyHSprCX"
      },
      "execution_count": 2,
      "outputs": []
    },
    {
      "cell_type": "code",
      "source": [
        "laod_mode = \"load_builtin\""
      ],
      "metadata": {
        "id": "8_JhmJld6eFR"
      },
      "execution_count": 3,
      "outputs": []
    },
    {
      "cell_type": "code",
      "execution_count": 4,
      "metadata": {
        "id": "6SaBHI8tEE-8",
        "colab": {
          "base_uri": "https://localhost:8080/"
        },
        "outputId": "9589ba54-ed27-436a-91a5-27877db8a30d"
      },
      "outputs": [
        {
          "output_type": "stream",
          "name": "stdout",
          "text": [
            "Trying to download dataset from https://files.grouplens.org/datasets/movielens/ml-100k.zip...\n",
            "Done! Dataset ml-100k has been saved to /root/.surprise_data/ml-100k\n"
          ]
        }
      ],
      "source": [
        "if laod_mode == \"load_builtin\":\n",
        "  # Load the movielens-100k dataset (download it if needed).\n",
        "  data = Dataset.load_builtin('ml-100k', prompt=False)"
      ]
    },
    {
      "cell_type": "code",
      "source": [
        "if laod_mode == \"load_builtin\":\n",
        "  !ls -1  /root/.surprise_data/ml-100k/ml-100k/u* | sed  's/\\/root\\/\\.surprise_data\\/ml-100k\\/ml-100k\\///g' | sort"
      ],
      "metadata": {
        "id": "T0DErstIgFzd",
        "colab": {
          "base_uri": "https://localhost:8080/"
        },
        "outputId": "6fa0d6c1-ce30-425e-daea-19b6e9a4b590"
      },
      "execution_count": 5,
      "outputs": [
        {
          "output_type": "stream",
          "name": "stdout",
          "text": [
            "u1.base\n",
            "u1.test\n",
            "u2.base\n",
            "u2.test\n",
            "u3.base\n",
            "u3.test\n",
            "u4.base\n",
            "u4.test\n",
            "u5.base\n",
            "u5.test\n",
            "ua.base\n",
            "ua.test\n",
            "ub.base\n",
            "ub.test\n",
            "u.data\n",
            "u.genre\n",
            "u.info\n",
            "u.item\n",
            "u.occupation\n",
            "u.user\n"
          ]
        }
      ]
    },
    {
      "cell_type": "code",
      "source": [
        "if laod_mode == \"load_builtin\":\n",
        "  base_path = Path(\"/root/.surprise_data/ml-100k/ml-100k\")\n",
        "  filelist =  list(map(lambda x: x.name, sorted(base_path.glob(\"u*\"))))\n",
        "  types = {\n",
        "      \"test\": \"Test_files\",\n",
        "      \"base\": \"Train_files\"\n",
        "  }\n",
        "  for f, d in types.items():\n",
        "    print(f\"\\n{d}:\")\n",
        "    print(list(filter(lambda x : x.endswith(f\".{f}\") ,filelist)))"
      ],
      "metadata": {
        "id": "z-K7JzgVjES4",
        "colab": {
          "base_uri": "https://localhost:8080/"
        },
        "outputId": "485aee83-fe0f-4fd6-df94-a1742d2cb848"
      },
      "execution_count": 6,
      "outputs": [
        {
          "output_type": "stream",
          "name": "stdout",
          "text": [
            "\n",
            "Test_files:\n",
            "['u1.test', 'u2.test', 'u3.test', 'u4.test', 'u5.test', 'ua.test', 'ub.test']\n",
            "\n",
            "Train_files:\n",
            "['u1.base', 'u2.base', 'u3.base', 'u4.base', 'u5.base', 'ua.base', 'ub.base']\n"
          ]
        }
      ]
    },
    {
      "cell_type": "code",
      "source": [
        "  latest_url = \"https://files.grouplens.org/datasets/movielens/ml-latest-small.zip\"\n",
        "  latest_zip_file = Path(\"ml-latest-small.zip\")\n",
        "  if not latest_zip_file.exists():\n",
        "    !wget -q $latest_url\n",
        "    !unzip -q $latest_zip_file\n",
        "  base_path = Path(\"/content/ml-latest-small/\")\n",
        "  rating_csv = base_path.joinpath(\"ratings.csv\")\n",
        "  tags_csv = base_path.joinpath(\"tags.csv\")\n",
        "  movies_csv = base_path.joinpath(\"movies.csv\")"
      ],
      "metadata": {
        "id": "oVTS5xZsmyJS",
        "colab": {
          "base_uri": "https://localhost:8080/"
        },
        "outputId": "6718ba01-2012-4a6c-d2fa-5f5d02f964a0"
      },
      "execution_count": 51,
      "outputs": [
        {
          "output_type": "stream",
          "name": "stdout",
          "text": [
            "--2024-02-13 11:52:51--  https://files.grouplens.org/datasets/movielens/ml-latest-small.zip\n",
            "Resolving files.grouplens.org (files.grouplens.org)... 128.101.65.152\n",
            "Connecting to files.grouplens.org (files.grouplens.org)|128.101.65.152|:443... connected.\n",
            "HTTP request sent, awaiting response... 200 OK\n",
            "Length: 978202 (955K) [application/zip]\n",
            "Saving to: ‘ml-latest-small.zip’\n",
            "\n",
            "ml-latest-small.zip 100%[===================>] 955.28K  3.04MB/s    in 0.3s    \n",
            "\n",
            "2024-02-13 11:52:52 (3.04 MB/s) - ‘ml-latest-small.zip’ saved [978202/978202]\n",
            "\n",
            "Archive:  ml-latest-small.zip\n",
            "   creating: ml-latest-small/\n",
            "  inflating: ml-latest-small/links.csv  \n",
            "  inflating: ml-latest-small/tags.csv  \n",
            "  inflating: ml-latest-small/ratings.csv  \n",
            "  inflating: ml-latest-small/README.txt  \n",
            "  inflating: ml-latest-small/movies.csv  \n"
          ]
        }
      ]
    },
    {
      "cell_type": "code",
      "source": [
        "if laod_mode == \"load_from_file\":\n",
        "  reader = Reader(line_format=u'user item rating timestamp', sep=',', rating_scale=(1, 5), skip_lines=1)\n",
        "  data = Dataset.load_from_file(rating_csv, reader=reader)"
      ],
      "metadata": {
        "id": "dNYxkIYrpWZE"
      },
      "execution_count": 8,
      "outputs": []
    },
    {
      "cell_type": "code",
      "source": [
        "if laod_mode == \"load_from_df\":\n",
        "  df = pd.read_csv(rating_csv)\n",
        "\n",
        "  # A reader is still needed but only the rating_scale param is requiered.\n",
        "  reader = Reader(rating_scale=(1, 5))\n",
        "\n",
        "  # The columns must correspond to user id, item id and ratings (in that order).\n",
        "  data = Dataset.load_from_df(df[[\"userId\", \"movieId\",  \"rating\"]], reader)"
      ],
      "metadata": {
        "id": "NEEvbfqBquBr"
      },
      "execution_count": 9,
      "outputs": []
    },
    {
      "cell_type": "code",
      "source": [
        "type(data)"
      ],
      "metadata": {
        "id": "zk4mZ2b0cx7F",
        "colab": {
          "base_uri": "https://localhost:8080/"
        },
        "outputId": "90f7e736-3b8a-413f-e90b-04c082a61820"
      },
      "execution_count": 10,
      "outputs": [
        {
          "output_type": "execute_result",
          "data": {
            "text/plain": [
              "surprise.dataset.DatasetAutoFolds"
            ]
          },
          "metadata": {},
          "execution_count": 10
        }
      ]
    },
    {
      "cell_type": "markdown",
      "source": [
        "### Аналіз записів"
      ],
      "metadata": {
        "id": "VumP61raGOTE"
      }
    },
    {
      "cell_type": "markdown",
      "source": [
        "Неважлива інофромаційна частина для пошуку реальних значень з датасету: uid, iid, ur. А також для уявлення змісту даних датасету."
      ],
      "metadata": {
        "id": "DjEBc7AqBy9O"
      }
    },
    {
      "cell_type": "code",
      "source": [
        "from datetime import date\n",
        "\n",
        "dater = None\n",
        "\n",
        "# Access dataset attributes\n",
        "raw_ratings = data.raw_ratings\n",
        "print(\"Number of ratings:\", len(raw_ratings))\n",
        "\n",
        "# Print a sample of raw ratings\n",
        "print(\"\\nTop 5 samples of raw ratings:\")\n",
        "for rating in raw_ratings[:5]:\n",
        "  uid, iid, ur, timestamp = rating\n",
        "  if timestamp:\n",
        "    dater = date.fromtimestamp(int(timestamp))\n",
        "  print(f\"UserID: {uid:5}, ItemID: {iid:5}, UserRateForItem: {ur:5}, date: {dater}\")\n",
        "\n",
        "search_uid = uid\n",
        "count_uid = 5\n",
        "print(f\"\\nTop {count_uid} ratings of user: {search_uid}\")\n",
        "\n",
        "for rating in raw_ratings:\n",
        "  uid, iid, ur, timestamp = rating\n",
        "  if uid == search_uid:\n",
        "    if timestamp:\n",
        "      dater = date.fromtimestamp(int(timestamp))\n",
        "    count_uid -= 1;\n",
        "    print(f\"UserID: {uid:5}, ItemID: {iid:5}, UserRateForItem: {ur:5}, date: {dater}\")\n",
        "    if count_uid <= 0:\n",
        "      break\n",
        "\n",
        "search_iid = iid\n",
        "count_iid = 5\n",
        "print(f\"\\nTop {count_iid} ratings of item: {search_iid}\")\n",
        "\n",
        "for rating in raw_ratings:\n",
        "  uid, iid, ur, timestamp = rating\n",
        "  if iid == search_iid:\n",
        "    if timestamp:\n",
        "      dater = date.fromtimestamp(int(timestamp))\n",
        "    count_iid -= 1;\n",
        "    print(f\"UserID: {uid:5}, ItemID: {iid:5}, UserRateForItem: {ur:5}, date: {dater}\")\n",
        "    if count_iid <= 0:\n",
        "      break"
      ],
      "metadata": {
        "id": "HPNxTcHLbyWK",
        "colab": {
          "base_uri": "https://localhost:8080/"
        },
        "outputId": "1560e6d0-443e-4d8a-ffac-64bb4d854e13"
      },
      "execution_count": 11,
      "outputs": [
        {
          "output_type": "stream",
          "name": "stdout",
          "text": [
            "Number of ratings: 100000\n",
            "\n",
            "Top 5 samples of raw ratings:\n",
            "UserID: 196  , ItemID: 242  , UserRateForItem:   3.0, date: 1997-12-04\n",
            "UserID: 186  , ItemID: 302  , UserRateForItem:   3.0, date: 1998-04-04\n",
            "UserID: 22   , ItemID: 377  , UserRateForItem:   1.0, date: 1997-11-07\n",
            "UserID: 244  , ItemID: 51   , UserRateForItem:   2.0, date: 1997-11-27\n",
            "UserID: 166  , ItemID: 346  , UserRateForItem:   1.0, date: 1998-02-02\n",
            "\n",
            "Top 5 ratings of user: 166\n",
            "UserID: 166  , ItemID: 346  , UserRateForItem:   1.0, date: 1998-02-02\n",
            "UserID: 166  , ItemID: 328  , UserRateForItem:   5.0, date: 1998-02-02\n",
            "UserID: 166  , ItemID: 322  , UserRateForItem:   5.0, date: 1998-02-02\n",
            "UserID: 166  , ItemID: 288  , UserRateForItem:   3.0, date: 1998-02-02\n",
            "UserID: 166  , ItemID: 258  , UserRateForItem:   4.0, date: 1998-02-02\n",
            "\n",
            "Top 5 ratings of item: 258\n",
            "UserID: 26   , ItemID: 258  , UserRateForItem:   3.0, date: 1998-03-31\n",
            "UserID: 66   , ItemID: 258  , UserRateForItem:   4.0, date: 1997-12-31\n",
            "UserID: 207  , ItemID: 258  , UserRateForItem:   4.0, date: 1997-10-26\n",
            "UserID: 90   , ItemID: 258  , UserRateForItem:   3.0, date: 1998-03-31\n",
            "UserID: 6    , ItemID: 258  , UserRateForItem:   2.0, date: 1997-12-28\n"
          ]
        }
      ]
    },
    {
      "cell_type": "markdown",
      "source": [
        "Використовуєтьс прямий відгук (Explicit feedback) - це оцінка, яку користувач поставив, щоб висловити свою задоволеність товаром."
      ],
      "metadata": {
        "id": "UGbdKhLZGOTI"
      }
    },
    {
      "cell_type": "markdown",
      "source": [
        "Для оцінки що базується на спільній інформації про користувачів  та їхню взаємодію з об'єктами (Collaborative Filtering) вибранно модель матричної факторизації (Matrix Factorization)."
      ],
      "metadata": {
        "id": "vd_a5Z0QGOTI"
      }
    },
    {
      "cell_type": "code",
      "source": [
        "# uid = 6\n",
        "# iid = 258\n",
        "# ur = 2.0\n",
        "# dater = \"1997-12-28\""
      ],
      "metadata": {
        "id": "djCv_xDbDPFc"
      },
      "execution_count": 12,
      "outputs": []
    },
    {
      "cell_type": "markdown",
      "source": [
        "Ми використовуємо об'єкт ***DatasetAutoFolds*** у Surprise, це означає, що ми працюємо з набором даних, який вже було розбито на файли (folds) для перехресної перевірки.\n",
        "\n",
        "\n",
        "\n",
        "Мета цього методу - охопити загальний випадок використання, коли набір даних вже розбито на попередньо визначені складові, наприклад, набір даних movielens-100k ('ml-100k'), який визначає файли u1.base, u1.test, u2.base, u2.test і т.д... Його також можна використовувати, коли ми не хочемо виконувати перехресну перевірку, але все одно хочемо вказати наші навчальні та тестові дані (що в будь-якому випадку зводиться до 1-кратної перехресної перевірки)."
      ],
      "metadata": {
        "id": "yzuccKchc2ji"
      }
    },
    {
      "cell_type": "markdown",
      "source": [
        "## Mоделі матричної факторизації"
      ],
      "metadata": {
        "id": "PYbeZAPjtK1_"
      }
    },
    {
      "cell_type": "markdown",
      "source": [
        "### Algorithm SVD.\n",
        "\n",
        "Метод SVD може бути адаптований до наборів даних з неявним зворотним зв'язком (implicit feedback)."
      ],
      "metadata": {
        "id": "ueUxG3LaLG4I"
      }
    },
    {
      "cell_type": "markdown",
      "source": [
        "\n",
        "- RMSE - root-mean-square error\n",
        "- MAE - mean absolute error"
      ],
      "metadata": {
        "id": "uyQ5s_mFwxP5"
      }
    },
    {
      "cell_type": "code",
      "source": [
        "SEED = 42\n",
        "algo_cv = {}\n",
        "algo_split = {}\n",
        "# Use the SVD algorithm.\n",
        "algo = SVD(random_state=SEED)"
      ],
      "metadata": {
        "id": "xtGVOa9MvqW-"
      },
      "execution_count": 13,
      "outputs": []
    },
    {
      "cell_type": "markdown",
      "source": [
        "#### Прогноз"
      ],
      "metadata": {
        "id": "AXSz9le_xsT4"
      }
    },
    {
      "cell_type": "markdown",
      "source": [
        "#### Full_trainset та він же і testset. Accuracy RMSE (root-mean-square error).\n"
      ],
      "metadata": {
        "id": "eCXw_cYz2z45"
      }
    },
    {
      "cell_type": "code",
      "source": [
        "def data_full_trainset(algo, data):\n",
        "  algorithm_name = algo.__class__.__name__\n",
        "  print(f\"Algo: {algorithm_name}, UserID: {uid:5}, ItemID: {iid:5}, UserRateForItem: {ur:5}, date: {dater}\")\n",
        "\n",
        "  #trainset, testset = train_test_split(data, test_size=0.25)\n",
        "  trainset = data.build_full_trainset()\n",
        "\n",
        "  print(\"Number of train ratings:\", len(list(trainset.all_ratings())))\n",
        "  algo.fit(trainset)\n",
        "  pred = algo.predict(uid, iid, r_ui=ur, verbose=True)\n",
        "\n",
        "  testset = trainset.build_testset()\n",
        "  print(\"Number of test ratings:\", len(testset))\n",
        "\n",
        "  predictions = algo.test(testset)\n",
        "  # RMSE має бути низьким, оскільки ми є упередженими\n",
        "  accuracy.rmse(predictions, verbose=True)  # ~ 0.68 (що є низьким показником)"
      ],
      "metadata": {
        "id": "Vqp3Qyoivlrg"
      },
      "execution_count": 14,
      "outputs": []
    },
    {
      "cell_type": "code",
      "source": [
        "data_full_trainset(algo, data)"
      ],
      "metadata": {
        "id": "IA0MEHsC_pac",
        "colab": {
          "base_uri": "https://localhost:8080/"
        },
        "outputId": "89dc3994-62e7-43d9-c935-e28151d5a5b2"
      },
      "execution_count": 15,
      "outputs": [
        {
          "output_type": "stream",
          "name": "stdout",
          "text": [
            "Algo: SVD, UserID: 6    , ItemID: 258  , UserRateForItem:   2.0, date: 1997-12-28\n",
            "Number of train ratings: 100000\n",
            "user: 6          item: 258        r_ui = 2.00   est = 2.60   {'was_impossible': False}\n",
            "Number of test ratings: 100000\n",
            "RMSE: 0.6752\n"
          ]
        }
      ]
    },
    {
      "cell_type": "markdown",
      "source": [
        "#### Train_test_split 25%. Accuracy RMSE (root-mean-square error).\n"
      ],
      "metadata": {
        "id": "Q9A4q5cF3OF0"
      }
    },
    {
      "cell_type": "code",
      "source": [
        "def data_train_test_split(algo, data, test_size=0.25):\n",
        "  algorithm_name = algo.__class__.__name__\n",
        "  print(f\"Algo: {algorithm_name}, UserID: {uid:5}, ItemID: {iid:5}, UserRateForItem: {ur:5}, date: {dater}\")\n",
        "  trainset, testset = train_test_split(data, test_size=test_size)\n",
        "\n",
        "  print(\"Number of train ratings:\", len(list(trainset.all_ratings())))\n",
        "  algo.fit(trainset)\n",
        "  pred = algo.predict(uid, iid, r_ui=ur, verbose=True)\n",
        "\n",
        "  print(\"Number of test ratings:\", len(testset))\n",
        "\n",
        "  predictions = algo.test(testset)\n",
        "  # RMSE має бути більшим\n",
        "  rmse = accuracy.rmse(predictions, verbose=True)  # ~ 0.94 (що є високим показником)\n",
        "  return {algorithm_name: rmse}"
      ],
      "metadata": {
        "id": "LdeuubKe2U_G"
      },
      "execution_count": 16,
      "outputs": []
    },
    {
      "cell_type": "code",
      "source": [
        "algo_split.update(data_train_test_split(algo, data))"
      ],
      "metadata": {
        "id": "glUST0_nAXnR",
        "colab": {
          "base_uri": "https://localhost:8080/"
        },
        "outputId": "bf2f76dc-59b8-4523-9e15-adeb53a95ffa"
      },
      "execution_count": 17,
      "outputs": [
        {
          "output_type": "stream",
          "name": "stdout",
          "text": [
            "Algo: SVD, UserID: 6    , ItemID: 258  , UserRateForItem:   2.0, date: 1997-12-28\n",
            "Number of train ratings: 75000\n",
            "user: 6          item: 258        r_ui = 2.00   est = 3.10   {'was_impossible': False}\n",
            "Number of test ratings: 25000\n",
            "RMSE: 0.9437\n"
          ]
        }
      ]
    },
    {
      "cell_type": "markdown",
      "source": [
        "#### Cross Validate, cv = 5"
      ],
      "metadata": {
        "id": "O_uWjxHB2OVX"
      }
    },
    {
      "cell_type": "code",
      "source": [
        "import numpy as np\n",
        "\n",
        "def data_cross_validate(algo, data, cv=5):\n",
        "  algorithm_name = algo.__class__.__name__\n",
        "  print(f\"Algo: {algorithm_name}. Cross Validate: {cv}\")\n",
        "  # Run 5-fold cross-validation and print results.\n",
        "  cv_result = cross_validate(algo, data, measures=['RMSE', 'MAE'], cv=cv, verbose=True)\n",
        "  mean_rmse = np.array(cv_result.get('test_rmse')).mean()\n",
        "  mean_fit = np.array(cv_result.get('fit_time')).mean()\n",
        "  mean_test = np.array(cv_result.get('test_time')).mean()\n",
        "\n",
        "  print(f\"{mean_rmse=}\")\n",
        "  return {algorithm_name: (mean_rmse, mean_fit, mean_test)}"
      ],
      "metadata": {
        "id": "s2Kyk9JeGBJy"
      },
      "execution_count": 18,
      "outputs": []
    },
    {
      "cell_type": "code",
      "source": [
        "algo_cv.update(data_cross_validate(algo, data))"
      ],
      "metadata": {
        "colab": {
          "base_uri": "https://localhost:8080/"
        },
        "id": "NxWiH8bUWrk3",
        "outputId": "bf6e5297-b8e4-42c7-ecd5-2d982c901739"
      },
      "execution_count": 19,
      "outputs": [
        {
          "output_type": "stream",
          "name": "stdout",
          "text": [
            "Algo: SVD. Cross Validate: 5\n",
            "Evaluating RMSE, MAE of algorithm SVD on 5 split(s).\n",
            "\n",
            "                  Fold 1  Fold 2  Fold 3  Fold 4  Fold 5  Mean    Std     \n",
            "RMSE (testset)    0.9269  0.9361  0.9329  0.9408  0.9386  0.9350  0.0048  \n",
            "MAE (testset)     0.7277  0.7385  0.7362  0.7410  0.7418  0.7370  0.0050  \n",
            "Fit time          2.97    3.56    4.24    2.63    1.66    3.01    0.87    \n",
            "Test time         0.45    0.59    0.58    0.21    0.20    0.41    0.17    \n",
            "mean_rmse=0.9350490157165563\n"
          ]
        }
      ]
    },
    {
      "cell_type": "markdown",
      "source": [
        "### Algorithm SVD++ (SVDpp)\n",
        "\n",
        "Алгоритм SVD++ можна використовувати, коли ми маємо доступ як до явного (explicit), так і до неявного (implicit) зворотного зв'язку. Це може бути дуже корисно, тому що зазвичай користувачі взаємодіють з багатьма елементами (= неявний зворотній зв'язок), але оцінюють лише невелику підмножину з них (= явний зворотній зв'язок).\n"
      ],
      "metadata": {
        "id": "xUP_-6eYM_1T"
      }
    },
    {
      "cell_type": "code",
      "source": [
        " # surprise.prediction_algorithms.matrix_factorization.SVDpp\n",
        "from surprise import SVDpp\n",
        "\n",
        "# Use the SVDpp algorithm.\n",
        "algo = SVDpp()"
      ],
      "metadata": {
        "id": "QxLJcJhUNA2o"
      },
      "execution_count": 20,
      "outputs": []
    },
    {
      "cell_type": "code",
      "source": [
        "data_full_trainset(algo, data)"
      ],
      "metadata": {
        "id": "IS0gaLu--bMW",
        "colab": {
          "base_uri": "https://localhost:8080/"
        },
        "outputId": "32695ccb-3464-440d-9cc9-6aa47aff2f5c"
      },
      "execution_count": 21,
      "outputs": [
        {
          "output_type": "stream",
          "name": "stdout",
          "text": [
            "Algo: SVDpp, UserID: 6    , ItemID: 258  , UserRateForItem:   2.0, date: 1997-12-28\n",
            "Number of train ratings: 100000\n",
            "user: 6          item: 258        r_ui = 2.00   est = 2.97   {'was_impossible': False}\n",
            "Number of test ratings: 100000\n",
            "RMSE: 0.7558\n"
          ]
        }
      ]
    },
    {
      "cell_type": "code",
      "source": [
        "algo_split.update(data_train_test_split(algo, data))"
      ],
      "metadata": {
        "id": "F9aQtziO-fTA",
        "colab": {
          "base_uri": "https://localhost:8080/"
        },
        "outputId": "8e7e01b3-b0a5-4902-f7d1-f9ec218f49bf"
      },
      "execution_count": 22,
      "outputs": [
        {
          "output_type": "stream",
          "name": "stdout",
          "text": [
            "Algo: SVDpp, UserID: 6    , ItemID: 258  , UserRateForItem:   2.0, date: 1997-12-28\n",
            "Number of train ratings: 75000\n",
            "user: 6          item: 258        r_ui = 2.00   est = 3.00   {'was_impossible': False}\n",
            "Number of test ratings: 25000\n",
            "RMSE: 0.9281\n"
          ]
        }
      ]
    },
    {
      "cell_type": "code",
      "source": [
        "algo_cv.update(data_cross_validate(algo, data))"
      ],
      "metadata": {
        "id": "D1mlY6C_-WWh",
        "colab": {
          "base_uri": "https://localhost:8080/"
        },
        "outputId": "2dd70bcd-28fe-4404-8adc-0178957b3e2c"
      },
      "execution_count": 23,
      "outputs": [
        {
          "output_type": "stream",
          "name": "stdout",
          "text": [
            "Algo: SVDpp. Cross Validate: 5\n",
            "Evaluating RMSE, MAE of algorithm SVDpp on 5 split(s).\n",
            "\n",
            "                  Fold 1  Fold 2  Fold 3  Fold 4  Fold 5  Mean    Std     \n",
            "RMSE (testset)    0.9247  0.9254  0.9170  0.9183  0.9129  0.9196  0.0047  \n",
            "MAE (testset)     0.7234  0.7265  0.7194  0.7208  0.7196  0.7219  0.0027  \n",
            "Fit time          26.53   26.22   26.62   27.79   26.25   26.68   0.58    \n",
            "Test time         4.26    4.94    4.30    4.65    4.50    4.53    0.25    \n",
            "mean_rmse=0.9196498695706629\n"
          ]
        }
      ]
    },
    {
      "cell_type": "markdown",
      "source": [
        "### Algorithm NMF"
      ],
      "metadata": {
        "id": "7yAcmVTsMtDD"
      }
    },
    {
      "cell_type": "code",
      "source": [
        "# surprise.prediction_algorithms.matrix_factorization.NMF\n",
        "from surprise import NMF\n",
        "\n",
        "# Use the NMF algorithm.\n",
        "algo = NMF()"
      ],
      "metadata": {
        "id": "fsbcpEK5MuMz"
      },
      "execution_count": 24,
      "outputs": []
    },
    {
      "cell_type": "code",
      "source": [
        "data_full_trainset(algo, data)"
      ],
      "metadata": {
        "colab": {
          "base_uri": "https://localhost:8080/"
        },
        "id": "Hnz2KCaC_EDw",
        "outputId": "aff19106-95fb-4633-9c84-da894a17ee9e"
      },
      "execution_count": 25,
      "outputs": [
        {
          "output_type": "stream",
          "name": "stdout",
          "text": [
            "Algo: NMF, UserID: 6    , ItemID: 258  , UserRateForItem:   2.0, date: 1997-12-28\n",
            "Number of train ratings: 100000\n",
            "user: 6          item: 258        r_ui = 2.00   est = 3.08   {'was_impossible': False}\n",
            "Number of test ratings: 100000\n",
            "RMSE: 0.8166\n"
          ]
        }
      ]
    },
    {
      "cell_type": "code",
      "source": [
        "algo_split.update(data_train_test_split(algo, data))"
      ],
      "metadata": {
        "colab": {
          "base_uri": "https://localhost:8080/"
        },
        "id": "u92zY9Yi_ILp",
        "outputId": "89ee12de-b93f-4678-bd1b-f108c28a8cd9"
      },
      "execution_count": 26,
      "outputs": [
        {
          "output_type": "stream",
          "name": "stdout",
          "text": [
            "Algo: NMF, UserID: 6    , ItemID: 258  , UserRateForItem:   2.0, date: 1997-12-28\n",
            "Number of train ratings: 75000\n",
            "user: 6          item: 258        r_ui = 2.00   est = 3.48   {'was_impossible': False}\n",
            "Number of test ratings: 25000\n",
            "RMSE: 0.9583\n"
          ]
        }
      ]
    },
    {
      "cell_type": "code",
      "source": [
        "algo_cv.update(data_cross_validate(algo, data))"
      ],
      "metadata": {
        "colab": {
          "base_uri": "https://localhost:8080/"
        },
        "id": "bnuu_byH_Hiw",
        "outputId": "60212755-fa69-4f5f-cce2-85b4fd4ec54c"
      },
      "execution_count": 27,
      "outputs": [
        {
          "output_type": "stream",
          "name": "stdout",
          "text": [
            "Algo: NMF. Cross Validate: 5\n",
            "Evaluating RMSE, MAE of algorithm NMF on 5 split(s).\n",
            "\n",
            "                  Fold 1  Fold 2  Fold 3  Fold 4  Fold 5  Mean    Std     \n",
            "RMSE (testset)    0.9648  0.9628  0.9579  0.9689  0.9668  0.9642  0.0038  \n",
            "MAE (testset)     0.7581  0.7541  0.7527  0.7633  0.7594  0.7575  0.0038  \n",
            "Fit time          2.17    2.13    2.83    2.11    2.12    2.27    0.28    \n",
            "Test time         0.23    0.12    0.12    0.10    0.20    0.15    0.05    \n",
            "mean_rmse=0.9642477441087873\n"
          ]
        }
      ]
    },
    {
      "cell_type": "markdown",
      "source": [
        "## Сімейство алгоритмів k-NN\n"
      ],
      "metadata": {
        "id": "7GiwVM6d_pBf"
      }
    },
    {
      "cell_type": "markdown",
      "source": [
        "\n",
        "Ці алгоритми безпосередньо випливають з базового методу найближчих сусідів.\n"
      ],
      "metadata": {
        "id": "sa_CWfroAVwO"
      }
    },
    {
      "cell_type": "markdown",
      "source": [
        "### Algorithm KNNBasic."
      ],
      "metadata": {
        "id": "4TrQTNYlL-zX"
      }
    },
    {
      "cell_type": "markdown",
      "source": [
        "\"Сусідів\" до: k=40"
      ],
      "metadata": {
        "id": "7R243CJgBPdY"
      }
    },
    {
      "cell_type": "code",
      "source": [
        "from surprise import KNNBasic\n",
        "\n",
        "# Build an algorithm, and train it.\n",
        "algo = KNNBasic()"
      ],
      "metadata": {
        "id": "vr_csvEwI1f0"
      },
      "execution_count": 28,
      "outputs": []
    },
    {
      "cell_type": "code",
      "source": [
        "data_full_trainset(algo, data)"
      ],
      "metadata": {
        "colab": {
          "base_uri": "https://localhost:8080/"
        },
        "id": "8QwLukw-JGdP",
        "outputId": "cea4d658-be03-46c7-dae5-8ca4e19322cd"
      },
      "execution_count": 29,
      "outputs": [
        {
          "output_type": "stream",
          "name": "stdout",
          "text": [
            "Algo: KNNBasic, UserID: 6    , ItemID: 258  , UserRateForItem:   2.0, date: 1997-12-28\n",
            "Number of train ratings: 100000\n",
            "Computing the msd similarity matrix...\n",
            "Done computing similarity matrix.\n",
            "user: 6          item: 258        r_ui = 2.00   est = 3.34   {'actual_k': 40, 'was_impossible': False}\n",
            "Number of test ratings: 100000\n",
            "RMSE: 0.7781\n"
          ]
        }
      ]
    },
    {
      "cell_type": "code",
      "source": [
        "algo_split.update(data_train_test_split(algo, data))"
      ],
      "metadata": {
        "colab": {
          "base_uri": "https://localhost:8080/"
        },
        "id": "uNmfqM4I97wW",
        "outputId": "9e6f0ff7-e5e8-440a-99c5-ee47ecb4443f"
      },
      "execution_count": 30,
      "outputs": [
        {
          "output_type": "stream",
          "name": "stdout",
          "text": [
            "Algo: KNNBasic, UserID: 6    , ItemID: 258  , UserRateForItem:   2.0, date: 1997-12-28\n",
            "Number of train ratings: 75000\n",
            "Computing the msd similarity matrix...\n",
            "Done computing similarity matrix.\n",
            "user: 6          item: 258        r_ui = 2.00   est = 2.99   {'actual_k': 40, 'was_impossible': False}\n",
            "Number of test ratings: 25000\n",
            "RMSE: 0.9899\n"
          ]
        }
      ]
    },
    {
      "cell_type": "code",
      "source": [
        "algo_cv.update(data_cross_validate(algo, data))"
      ],
      "metadata": {
        "colab": {
          "base_uri": "https://localhost:8080/"
        },
        "id": "ZrM3m5dh-MTt",
        "outputId": "f82abc24-dec4-4f26-ca7d-bbae2b445aa7"
      },
      "execution_count": 31,
      "outputs": [
        {
          "output_type": "stream",
          "name": "stdout",
          "text": [
            "Algo: KNNBasic. Cross Validate: 5\n",
            "Computing the msd similarity matrix...\n",
            "Done computing similarity matrix.\n",
            "Computing the msd similarity matrix...\n",
            "Done computing similarity matrix.\n",
            "Computing the msd similarity matrix...\n",
            "Done computing similarity matrix.\n",
            "Computing the msd similarity matrix...\n",
            "Done computing similarity matrix.\n",
            "Computing the msd similarity matrix...\n",
            "Done computing similarity matrix.\n",
            "Evaluating RMSE, MAE of algorithm KNNBasic on 5 split(s).\n",
            "\n",
            "                  Fold 1  Fold 2  Fold 3  Fold 4  Fold 5  Mean    Std     \n",
            "RMSE (testset)    0.9787  0.9773  0.9766  0.9815  0.9821  0.9792  0.0022  \n",
            "MAE (testset)     0.7755  0.7705  0.7717  0.7762  0.7731  0.7734  0.0022  \n",
            "Fit time          0.39    0.47    0.39    0.42    0.50    0.43    0.04    \n",
            "Test time         3.19    3.96    3.10    3.18    3.91    3.47    0.38    \n",
            "mean_rmse=0.9792183362447628\n"
          ]
        }
      ]
    },
    {
      "cell_type": "markdown",
      "source": [
        "## Результати accuracy для різних алгоритмів"
      ],
      "metadata": {
        "id": "ZEf1LzGQH1qZ"
      }
    },
    {
      "cell_type": "code",
      "source": [
        "algo_split"
      ],
      "metadata": {
        "colab": {
          "base_uri": "https://localhost:8080/"
        },
        "id": "0s7f5PcQH_lH",
        "outputId": "4f74a8a8-2567-4fdb-c283-d3d04bdc221c"
      },
      "execution_count": 32,
      "outputs": [
        {
          "output_type": "execute_result",
          "data": {
            "text/plain": [
              "{'SVD': 0.9437191017393265,\n",
              " 'SVDpp': 0.9281330118584669,\n",
              " 'NMF': 0.9583451050866998,\n",
              " 'KNNBasic': 0.9898810367720722}"
            ]
          },
          "metadata": {},
          "execution_count": 32
        }
      ]
    },
    {
      "cell_type": "code",
      "source": [
        "algo_split_s = dict(sorted(algo_split.items(), key=lambda x: x[1]))"
      ],
      "metadata": {
        "id": "QslxVHDiIj8S"
      },
      "execution_count": 33,
      "outputs": []
    },
    {
      "cell_type": "code",
      "source": [
        "import matplotlib.pyplot as plt\n",
        "\n",
        "def plot_algo(input_data: dict, title_type: str = \"\", ylabel_type: str=\"RMSE\", column=None):\n",
        "  x = list(input_data.keys())\n",
        "  if column is None:\n",
        "    y = list(input_data.values())\n",
        "  else:\n",
        "    y = [v[column] for v in input_data.values()]\n",
        "\n",
        "  plt.figure(figsize=(16, 5))\n",
        "  max_y = y[-1]*1.02\n",
        "  min_y = y[0]*.95\n",
        "  plt.ylim(min_y, max_y)\n",
        "  plt.title(f\"Результати {title_type} для різних алгоритмів\")\n",
        "\n",
        "  cmap = plt.get_cmap('Paired')\n",
        "  num_colors = len(x)\n",
        "  colors_map = [cmap(i / num_colors) for i in range(num_colors)]\n",
        "  custom_colors = {key: colors_map[i] for i,key in enumerate(sorted(x))}\n",
        "  colors = [custom_colors.get(x_v, 'blue') for x_v in x]\n",
        "\n",
        "  plt.bar(x, height=y, width=0.6, label=x, color=colors)\n",
        "  plt.plot(x, y, \"o-\")\n",
        "  plt.xlabel(\"Назва алгоритму\")\n",
        "  plt.ylabel(ylabel_type)\n",
        "  plt.vlines(x[0], min_y, max_y, color=\"red\", linestyle=\"-.\", label=\"Best Algo, lower value\")\n",
        "  plt.hlines(y[0], -0.3, x[-1], color=\"red\", linestyle=\"-.\")\n",
        "  diff_y = np.diff(y) / y[:-1] * 100\n",
        "  for i, val in enumerate(y):\n",
        "      text = str(round(val,4))\n",
        "      if i>0:\n",
        "        text += f\" [{round(diff_y[i-1],1):+}%]\"\n",
        "      plt.text(x[i], val * 1.01, text, ha='center', bbox=dict(facecolor='white', alpha=0.95))\n",
        "  plt.legend(loc=\"best\")\n",
        "  plt.show()\n",
        "  print(f\"Best algo: {x[0]}, with value: {y[0]:.4f}\")"
      ],
      "metadata": {
        "id": "SojB-No_IrpS"
      },
      "execution_count": 75,
      "outputs": []
    },
    {
      "cell_type": "code",
      "source": [
        "plot_algo(algo_split_s, \"predict accuracy\", \" Значення RMSE\")"
      ],
      "metadata": {
        "colab": {
          "base_uri": "https://localhost:8080/",
          "height": 491
        },
        "id": "orw3cpgESMTs",
        "outputId": "5074ff45-7010-4980-d5eb-4f5bb2184ab5"
      },
      "execution_count": 81,
      "outputs": [
        {
          "output_type": "display_data",
          "data": {
            "text/plain": [
              "<Figure size 1600x500 with 1 Axes>"
            ],
            "image/png": "[encoded data removed]"
          },
          "metadata": {}
        },
        {
          "output_type": "stream",
          "name": "stdout",
          "text": [
            "Best algo: SVDpp, with value: 0.9281\n"
          ]
        }
      ]
    },
    {
      "cell_type": "markdown",
      "source": [
        "## Результати кросвалідації для різних алгоритмів"
      ],
      "metadata": {
        "id": "9oZbFr2xZnyM"
      }
    },
    {
      "cell_type": "code",
      "source": [
        "algo_cv"
      ],
      "metadata": {
        "colab": {
          "base_uri": "https://localhost:8080/"
        },
        "id": "5l5ekHeqZnba",
        "outputId": "c0b2cbc2-5e29-484a-f040-4225410e0df0"
      },
      "execution_count": 36,
      "outputs": [
        {
          "output_type": "execute_result",
          "data": {
            "text/plain": [
              "{'SVD': (0.9350490157165563, 3.01357159614563, 0.40639677047729494),\n",
              " 'SVDpp': (0.9196498695706629, 26.680706453323364, 4.530910348892212),\n",
              " 'NMF': (0.9642477441087873, 2.2719913005828856, 0.15323171615600586),\n",
              " 'KNNBasic': (0.9792183362447628, 0.4339865207672119, 3.469624662399292)}"
            ]
          },
          "metadata": {},
          "execution_count": 36
        }
      ]
    },
    {
      "cell_type": "code",
      "source": [
        "column = 0\n",
        "algo_cv_s_rmse = dict(sorted(algo_cv.items(), key=lambda x: x[1][column]))\n",
        "plot_algo(algo_cv_s_rmse, \"кросвалідації\", \"Середнє значення RMSE\", column=column)"
      ],
      "metadata": {
        "id": "yUon2b_nbUFS",
        "colab": {
          "base_uri": "https://localhost:8080/",
          "height": 491
        },
        "outputId": "050735a8-ea46-4dc9-b507-b861a1f74d5b"
      },
      "execution_count": 80,
      "outputs": [
        {
          "output_type": "display_data",
          "data": {
            "text/plain": [
              "<Figure size 1600x500 with 1 Axes>"
            ],
            "image/png": "[encoded data removed]"
          },
          "metadata": {}
        },
        {
          "output_type": "stream",
          "name": "stdout",
          "text": [
            "Best algo: SVDpp, with value: 0.9196\n"
          ]
        }
      ]
    },
    {
      "cell_type": "code",
      "source": [
        "column = 1\n",
        "algo_cv_s_fit = dict(sorted(algo_cv.items(), key=lambda x: x[1][column]))\n",
        "plot_algo(algo_cv_s_fit, \"часу кросвалідації\", \"Середнє значення часу навчання (fit), сек\", column=column)"
      ],
      "metadata": {
        "colab": {
          "base_uri": "https://localhost:8080/",
          "height": 496
        },
        "id": "He1I-qal5Oh8",
        "outputId": "80028484-6d1e-407e-db45-9b77737f4477"
      },
      "execution_count": 78,
      "outputs": [
        {
          "output_type": "display_data",
          "data": {
            "text/plain": [
              "<Figure size 1600x500 with 1 Axes>"
            ],
            "image/png": "[encoded data removed]"
          },
          "metadata": {}
        },
        {
          "output_type": "stream",
          "name": "stdout",
          "text": [
            "Best algo: KNNBasic, with value: 0.4340\n"
          ]
        }
      ]
    },
    {
      "cell_type": "code",
      "source": [
        "column = 2\n",
        "algo_cv_s_test = dict(sorted(algo_cv.items(), key=lambda x: x[1][column]))\n",
        "plot_algo(algo_cv_s_test, \"часу кросвалідації\", \"Середнє значення часу тестування (test), сек\",  column=column)"
      ],
      "metadata": {
        "colab": {
          "base_uri": "https://localhost:8080/",
          "height": 495
        },
        "id": "4rRRGBOf5jis",
        "outputId": "64886385-3822-423f-8341-e3e4604438e5"
      },
      "execution_count": 79,
      "outputs": [
        {
          "output_type": "display_data",
          "data": {
            "text/plain": [
              "<Figure size 1600x500 with 1 Axes>"
            ],
            "image/png": "[encoded data removed]"
          },
          "metadata": {}
        },
        {
          "output_type": "stream",
          "name": "stdout",
          "text": [
            "Best algo: NMF, with value: 0.1532\n"
          ]
        }
      ]
    },
    {
      "cell_type": "markdown",
      "source": [
        "## Найкращій алгорим"
      ],
      "metadata": {
        "id": "UfO5MUvEABAK"
      }
    },
    {
      "cell_type": "markdown",
      "source": [
        "- за точністю предбачення: SVD++, SVD\n",
        "- за часом навчання моделі: KNNBasic, SVD\n",
        "- за часом тестування моделі: NMF,SVD\n",
        "\n",
        "Тому вибираємо для подальшіх розрахунків за критерієм точності: SVD++, але за критерієм швидкісті та точності вибриаємо: SVD."
      ],
      "metadata": {
        "id": "nav4ol5M-YkZ"
      }
    },
    {
      "cell_type": "code",
      "source": [
        "best_algo = SVDpp"
      ],
      "metadata": {
        "id": "qodh0GyF6zry"
      },
      "execution_count": 40,
      "outputs": []
    },
    {
      "cell_type": "markdown",
      "source": [
        "## Пошук оптимальних параметрів використовуючи GridSearchCV для SVD++ (SVDpp)"
      ],
      "metadata": {
        "id": "t9xezE86PB4A"
      }
    },
    {
      "cell_type": "code",
      "source": [
        "from surprise.model_selection import GridSearchCV\n",
        "\n",
        "param_grid = {\"random_state\": [SEED],\n",
        "              \"n_epochs\": [15, 20], \"lr_all\": [0.007], \"reg_all\": [0.02, 0.2]\n",
        "              }\n",
        "gs = GridSearchCV(best_algo, param_grid, measures=[\"rmse\"], cv=5, n_jobs=-1)\n",
        "\n",
        "%time gs.fit(data)\n",
        "\n",
        "# best RMSE score\n",
        "print(gs.best_score[\"rmse\"])\n",
        "\n",
        "# combination of parameters that gave the best RMSE score\n",
        "best_params = gs.best_params[\"rmse\"]\n",
        "print(f\"{best_params=}\")"
      ],
      "metadata": {
        "colab": {
          "base_uri": "https://localhost:8080/"
        },
        "id": "3xG17GmmPClu",
        "outputId": "923a264d-c860-4a53-ae7f-d219ae63c35e"
      },
      "execution_count": 41,
      "outputs": [
        {
          "output_type": "stream",
          "name": "stdout",
          "text": [
            "CPU times: user 7.06 s, sys: 1.09 s, total: 8.15 s\n",
            "Wall time: 7min 29s\n",
            "0.9175237259689121\n",
            "best_params={'random_state': 42, 'n_epochs': 15, 'lr_all': 0.007, 'reg_all': 0.02}\n"
          ]
        }
      ]
    },
    {
      "cell_type": "markdown",
      "source": [
        "#### Звіт роботи GridSearchCV для всіх комбінацій параметрів"
      ],
      "metadata": {
        "id": "-hEdiA9J8XbC"
      }
    },
    {
      "cell_type": "code",
      "source": [
        "results_df = pd.DataFrame.from_dict(gs.cv_results)\n",
        "results_df.head(10)"
      ],
      "metadata": {
        "colab": {
          "base_uri": "https://localhost:8080/",
          "height": 334
        },
        "id": "RE51ObkqRAua",
        "outputId": "69b76185-eef4-4e78-cdcd-f768f0610c69"
      },
      "execution_count": 42,
      "outputs": [
        {
          "output_type": "execute_result",
          "data": {
            "text/plain": [
              "   split0_test_rmse  split1_test_rmse  split2_test_rmse  split3_test_rmse  \\\n",
              "0          0.923258          0.914219          0.912066          0.920325   \n",
              "1          0.950966          0.943046          0.942141          0.949656   \n",
              "2          0.923758          0.915255          0.912463          0.922168   \n",
              "3          0.950000          0.942042          0.941169          0.948459   \n",
              "\n",
              "   split4_test_rmse  mean_test_rmse  std_test_rmse  rank_test_rmse  \\\n",
              "0          0.917751        0.917524       0.004037               1   \n",
              "1          0.944879        0.946137       0.003544               4   \n",
              "2          0.919785        0.918686       0.004232               2   \n",
              "3          0.943801        0.945094       0.003515               3   \n",
              "\n",
              "   mean_fit_time  std_fit_time  mean_test_time  std_test_time  \\\n",
              "0      33.457254      0.264395        5.470460       0.089024   \n",
              "1      33.338263      0.305094        5.520040       0.144002   \n",
              "2      43.751288      0.535208        6.379536       0.437085   \n",
              "3      43.460575      0.251479        6.569903       0.393458   \n",
              "\n",
              "                                              params  param_random_state  \\\n",
              "0  {'random_state': 42, 'n_epochs': 15, 'lr_all':...                  42   \n",
              "1  {'random_state': 42, 'n_epochs': 15, 'lr_all':...                  42   \n",
              "2  {'random_state': 42, 'n_epochs': 20, 'lr_all':...                  42   \n",
              "3  {'random_state': 42, 'n_epochs': 20, 'lr_all':...                  42   \n",
              "\n",
              "   param_n_epochs  param_lr_all  param_reg_all  \n",
              "0              15         0.007           0.02  \n",
              "1              15         0.007           0.20  \n",
              "2              20         0.007           0.02  \n",
              "3              20         0.007           0.20  "
            ],
            "text/html": [
              "\n",
              "  <div id=\"df-0018ac21-5881-4023-bb70-7a10ce1911a1\" class=\"colab-df-container\">\n",
              "    <div>\n",
              "<style scoped>\n",
              "    .dataframe tbody tr th:only-of-type {\n",
              "        vertical-align: middle;\n",
              "    }\n",
              "\n",
              "    .dataframe tbody tr th {\n",
              "        vertical-align: top;\n",
              "    }\n",
              "\n",
              "    .dataframe thead th {\n",
              "        text-align: right;\n",
              "    }\n",
              "</style>\n",
              "<table border=\"1\" class=\"dataframe\">\n",
              "  <thead>\n",
              "    <tr style=\"text-align: right;\">\n",
              "      <th></th>\n",
              "      <th>split0_test_rmse</th>\n",
              "      <th>split1_test_rmse</th>\n",
              "      <th>split2_test_rmse</th>\n",
              "      <th>split3_test_rmse</th>\n",
              "      <th>split4_test_rmse</th>\n",
              "      <th>mean_test_rmse</th>\n",
              "      <th>std_test_rmse</th>\n",
              "      <th>rank_test_rmse</th>\n",
              "      <th>mean_fit_time</th>\n",
              "      <th>std_fit_time</th>\n",
              "      <th>mean_test_time</th>\n",
              "      <th>std_test_time</th>\n",
              "      <th>params</th>\n",
              "      <th>param_random_state</th>\n",
              "      <th>param_n_epochs</th>\n",
              "      <th>param_lr_all</th>\n",
              "      <th>param_reg_all</th>\n",
              "    </tr>\n",
              "  </thead>\n",
              "  <tbody>\n",
              "    <tr>\n",
              "      <th>0</th>\n",
              "      <td>0.923258</td>\n",
              "      <td>0.914219</td>\n",
              "      <td>0.912066</td>\n",
              "      <td>0.920325</td>\n",
              "      <td>0.917751</td>\n",
              "      <td>0.917524</td>\n",
              "      <td>0.004037</td>\n",
              "      <td>1</td>\n",
              "      <td>33.457254</td>\n",
              "      <td>0.264395</td>\n",
              "      <td>5.470460</td>\n",
              "      <td>0.089024</td>\n",
              "      <td>{'random_state': 42, 'n_epochs': 15, 'lr_all':...</td>\n",
              "      <td>42</td>\n",
              "      <td>15</td>\n",
              "      <td>0.007</td>\n",
              "      <td>0.02</td>\n",
              "    </tr>\n",
              "    <tr>\n",
              "      <th>1</th>\n",
              "      <td>0.950966</td>\n",
              "      <td>0.943046</td>\n",
              "      <td>0.942141</td>\n",
              "      <td>0.949656</td>\n",
              "      <td>0.944879</td>\n",
              "      <td>0.946137</td>\n",
              "      <td>0.003544</td>\n",
              "      <td>4</td>\n",
              "      <td>33.338263</td>\n",
              "      <td>0.305094</td>\n",
              "      <td>5.520040</td>\n",
              "      <td>0.144002</td>\n",
              "      <td>{'random_state': 42, 'n_epochs': 15, 'lr_all':...</td>\n",
              "      <td>42</td>\n",
              "      <td>15</td>\n",
              "      <td>0.007</td>\n",
              "      <td>0.20</td>\n",
              "    </tr>\n",
              "    <tr>\n",
              "      <th>2</th>\n",
              "      <td>0.923758</td>\n",
              "      <td>0.915255</td>\n",
              "      <td>0.912463</td>\n",
              "      <td>0.922168</td>\n",
              "      <td>0.919785</td>\n",
              "      <td>0.918686</td>\n",
              "      <td>0.004232</td>\n",
              "      <td>2</td>\n",
              "      <td>43.751288</td>\n",
              "      <td>0.535208</td>\n",
              "      <td>6.379536</td>\n",
              "      <td>0.437085</td>\n",
              "      <td>{'random_state': 42, 'n_epochs': 20, 'lr_all':...</td>\n",
              "      <td>42</td>\n",
              "      <td>20</td>\n",
              "      <td>0.007</td>\n",
              "      <td>0.02</td>\n",
              "    </tr>\n",
              "    <tr>\n",
              "      <th>3</th>\n",
              "      <td>0.950000</td>\n",
              "      <td>0.942042</td>\n",
              "      <td>0.941169</td>\n",
              "      <td>0.948459</td>\n",
              "      <td>0.943801</td>\n",
              "      <td>0.945094</td>\n",
              "      <td>0.003515</td>\n",
              "      <td>3</td>\n",
              "      <td>43.460575</td>\n",
              "      <td>0.251479</td>\n",
              "      <td>6.569903</td>\n",
              "      <td>0.393458</td>\n",
              "      <td>{'random_state': 42, 'n_epochs': 20, 'lr_all':...</td>\n",
              "      <td>42</td>\n",
              "      <td>20</td>\n",
              "      <td>0.007</td>\n",
              "      <td>0.20</td>\n",
              "    </tr>\n",
              "  </tbody>\n",
              "</table>\n",
              "</div>\n",
              "    <div class=\"colab-df-buttons\">\n",
              "\n",
              "  <div class=\"colab-df-container\">\n",
              "    <button class=\"colab-df-convert\" onclick=\"convertToInteractive('df-0018ac21-5881-4023-bb70-7a10ce1911a1')\"\n",
              "            title=\"Convert this dataframe to an interactive table.\"\n",
              "            style=\"display:none;\">\n",
              "\n",
              "  <svg xmlns=\"http://www.w3.org/2000/svg\" height=\"24px\" viewBox=\"0 -960 960 960\">\n",
              "    <path d=\"M120-120v-720h720v720H120Zm60-500h600v-160H180v160Zm220 220h160v-160H400v160Zm0 220h160v-160H400v160ZM180-400h160v-160H180v160Zm440 0h160v-160H620v160ZM180-180h160v-160H180v160Zm440 0h160v-160H620v160Z\"/>\n",
              "  </svg>\n",
              "    </button>\n",
              "\n",
              "  <style>\n",
              "    .colab-df-container {\n",
              "      display:flex;\n",
              "      gap: 12px;\n",
              "    }\n",
              "\n",
              "    .colab-df-convert {\n",
              "      background-color: #E8F0FE;\n",
              "      border: none;\n",
              "      border-radius: 50%;\n",
              "      cursor: pointer;\n",
              "      display: none;\n",
              "      fill: #1967D2;\n",
              "      height: 32px;\n",
              "      padding: 0 0 0 0;\n",
              "      width: 32px;\n",
              "    }\n",
              "\n",
              "    .colab-df-convert:hover {\n",
              "      background-color: #E2EBFA;\n",
              "      box-shadow: 0px 1px 2px rgba(60, 64, 67, 0.3), 0px 1px 3px 1px rgba(60, 64, 67, 0.15);\n",
              "      fill: #174EA6;\n",
              "    }\n",
              "\n",
              "    .colab-df-buttons div {\n",
              "      margin-bottom: 4px;\n",
              "    }\n",
              "\n",
              "    [theme=dark] .colab-df-convert {\n",
              "      background-color: #3B4455;\n",
              "      fill: #D2E3FC;\n",
              "    }\n",
              "\n",
              "    [theme=dark] .colab-df-convert:hover {\n",
              "      background-color: #434B5C;\n",
              "      box-shadow: 0px 1px 3px 1px rgba(0, 0, 0, 0.15);\n",
              "      filter: drop-shadow(0px 1px 2px rgba(0, 0, 0, 0.3));\n",
              "      fill: #FFFFFF;\n",
              "    }\n",
              "  </style>\n",
              "\n",
              "    <script>\n",
              "      const buttonEl =\n",
              "        document.querySelector('#df-0018ac21-5881-4023-bb70-7a10ce1911a1 button.colab-df-convert');\n",
              "      buttonEl.style.display =\n",
              "        google.colab.kernel.accessAllowed ? 'block' : 'none';\n",
              "\n",
              "      async function convertToInteractive(key) {\n",
              "        const element = document.querySelector('#df-0018ac21-5881-4023-bb70-7a10ce1911a1');\n",
              "        const dataTable =\n",
              "          await google.colab.kernel.invokeFunction('convertToInteractive',\n",
              "                                                    [key], {});\n",
              "        if (!dataTable) return;\n",
              "\n",
              "        const docLinkHtml = 'Like what you see? Visit the ' +\n",
              "          '<a target=\"_blank\" href=https://colab.research.google.com/notebooks/data_table.ipynb>data table notebook</a>'\n",
              "          + ' to learn more about interactive tables.';\n",
              "        element.innerHTML = '';\n",
              "        dataTable['output_type'] = 'display_data';\n",
              "        await google.colab.output.renderOutput(dataTable, element);\n",
              "        const docLink = document.createElement('div');\n",
              "        docLink.innerHTML = docLinkHtml;\n",
              "        element.appendChild(docLink);\n",
              "      }\n",
              "    </script>\n",
              "  </div>\n",
              "\n",
              "\n",
              "<div id=\"df-5b5d338d-6224-4cc8-a881-83e31b0a8d88\">\n",
              "  <button class=\"colab-df-quickchart\" onclick=\"quickchart('df-5b5d338d-6224-4cc8-a881-83e31b0a8d88')\"\n",
              "            title=\"Suggest charts\"\n",
              "            style=\"display:none;\">\n",
              "\n",
              "<svg xmlns=\"http://www.w3.org/2000/svg\" height=\"24px\"viewBox=\"0 0 24 24\"\n",
              "     width=\"24px\">\n",
              "    <g>\n",
              "        <path d=\"M19 3H5c-1.1 0-2 .9-2 2v14c0 1.1.9 2 2 2h14c1.1 0 2-.9 2-2V5c0-1.1-.9-2-2-2zM9 17H7v-7h2v7zm4 0h-2V7h2v10zm4 0h-2v-4h2v4z\"/>\n",
              "    </g>\n",
              "</svg>\n",
              "  </button>\n",
              "\n",
              "<style>\n",
              "  .colab-df-quickchart {\n",
              "      --bg-color: #E8F0FE;\n",
              "      --fill-color: #1967D2;\n",
              "      --hover-bg-color: #E2EBFA;\n",
              "      --hover-fill-color: #174EA6;\n",
              "      --disabled-fill-color: #AAA;\n",
              "      --disabled-bg-color: #DDD;\n",
              "  }\n",
              "\n",
              "  [theme=dark] .colab-df-quickchart {\n",
              "      --bg-color: #3B4455;\n",
              "      --fill-color: #D2E3FC;\n",
              "      --hover-bg-color: #434B5C;\n",
              "      --hover-fill-color: #FFFFFF;\n",
              "      --disabled-bg-color: #3B4455;\n",
              "      --disabled-fill-color: #666;\n",
              "  }\n",
              "\n",
              "  .colab-df-quickchart {\n",
              "    background-color: var(--bg-color);\n",
              "    border: none;\n",
              "    border-radius: 50%;\n",
              "    cursor: pointer;\n",
              "    display: none;\n",
              "    fill: var(--fill-color);\n",
              "    height: 32px;\n",
              "    padding: 0;\n",
              "    width: 32px;\n",
              "  }\n",
              "\n",
              "  .colab-df-quickchart:hover {\n",
              "    background-color: var(--hover-bg-color);\n",
              "    box-shadow: 0 1px 2px rgba(60, 64, 67, 0.3), 0 1px 3px 1px rgba(60, 64, 67, 0.15);\n",
              "    fill: var(--button-hover-fill-color);\n",
              "  }\n",
              "\n",
              "  .colab-df-quickchart-complete:disabled,\n",
              "  .colab-df-quickchart-complete:disabled:hover {\n",
              "    background-color: var(--disabled-bg-color);\n",
              "    fill: var(--disabled-fill-color);\n",
              "    box-shadow: none;\n",
              "  }\n",
              "\n",
              "  .colab-df-spinner {\n",
              "    border: 2px solid var(--fill-color);\n",
              "    border-color: transparent;\n",
              "    border-bottom-color: var(--fill-color);\n",
              "    animation:\n",
              "      spin 1s steps(1) infinite;\n",
              "  }\n",
              "\n",
              "  @keyframes spin {\n",
              "    0% {\n",
              "      border-color: transparent;\n",
              "      border-bottom-color: var(--fill-color);\n",
              "      border-left-color: var(--fill-color);\n",
              "    }\n",
              "    20% {\n",
              "      border-color: transparent;\n",
              "      border-left-color: var(--fill-color);\n",
              "      border-top-color: var(--fill-color);\n",
              "    }\n",
              "    30% {\n",
              "      border-color: transparent;\n",
              "      border-left-color: var(--fill-color);\n",
              "      border-top-color: var(--fill-color);\n",
              "      border-right-color: var(--fill-color);\n",
              "    }\n",
              "    40% {\n",
              "      border-color: transparent;\n",
              "      border-right-color: var(--fill-color);\n",
              "      border-top-color: var(--fill-color);\n",
              "    }\n",
              "    60% {\n",
              "      border-color: transparent;\n",
              "      border-right-color: var(--fill-color);\n",
              "    }\n",
              "    80% {\n",
              "      border-color: transparent;\n",
              "      border-right-color: var(--fill-color);\n",
              "      border-bottom-color: var(--fill-color);\n",
              "    }\n",
              "    90% {\n",
              "      border-color: transparent;\n",
              "      border-bottom-color: var(--fill-color);\n",
              "    }\n",
              "  }\n",
              "</style>\n",
              "\n",
              "  <script>\n",
              "    async function quickchart(key) {\n",
              "      const quickchartButtonEl =\n",
              "        document.querySelector('#' + key + ' button');\n",
              "      quickchartButtonEl.disabled = true;  // To prevent multiple clicks.\n",
              "      quickchartButtonEl.classList.add('colab-df-spinner');\n",
              "      try {\n",
              "        const charts = await google.colab.kernel.invokeFunction(\n",
              "            'suggestCharts', [key], {});\n",
              "      } catch (error) {\n",
              "        console.error('Error during call to suggestCharts:', error);\n",
              "      }\n",
              "      quickchartButtonEl.classList.remove('colab-df-spinner');\n",
              "      quickchartButtonEl.classList.add('colab-df-quickchart-complete');\n",
              "    }\n",
              "    (() => {\n",
              "      let quickchartButtonEl =\n",
              "        document.querySelector('#df-5b5d338d-6224-4cc8-a881-83e31b0a8d88 button');\n",
              "      quickchartButtonEl.style.display =\n",
              "        google.colab.kernel.accessAllowed ? 'block' : 'none';\n",
              "    })();\n",
              "  </script>\n",
              "</div>\n",
              "    </div>\n",
              "  </div>\n"
            ]
          },
          "metadata": {},
          "execution_count": 42
        }
      ]
    },
    {
      "cell_type": "markdown",
      "source": [
        "#### навчання на full_trainset для найкращого алгоритму"
      ],
      "metadata": {
        "id": "7bF8ur3t79PC"
      }
    },
    {
      "cell_type": "code",
      "source": [
        "# We can now use the algorithm that yields the best rmse:\n",
        "algo = gs.best_estimator[\"rmse\"]"
      ],
      "metadata": {
        "id": "rwvpU1k9Qtgf"
      },
      "execution_count": 43,
      "outputs": []
    },
    {
      "cell_type": "markdown",
      "source": [
        "## Найкращі рекомендації для користувачів (SVDpp):"
      ],
      "metadata": {
        "id": "NmFGtg1lSWng"
      }
    },
    {
      "cell_type": "code",
      "source": [
        "from collections import defaultdict\n",
        "\n",
        "\n",
        "def get_top_n(predictions, n=10):\n",
        "    \"\"\"Return the top-N recommendation for each user from a set of predictions.\n",
        "\n",
        "    Args:\n",
        "        predictions(list of Prediction objects): The list of predictions, as\n",
        "            returned by the test method of an algorithm.\n",
        "        n(int): The number of recommendation to output for each user. Default\n",
        "            is 10.\n",
        "\n",
        "    Returns:\n",
        "    A dict where keys are user (raw) ids and values are lists of tuples:\n",
        "        [(raw item id, rating estimation), ...] of size n.\n",
        "    \"\"\"\n",
        "\n",
        "    # First map the predictions to each user.\n",
        "    top_n = defaultdict(list)\n",
        "    for uid, iid, true_r, est, _ in predictions:\n",
        "        top_n[uid].append((iid, est))\n",
        "\n",
        "    # Then sort the predictions for each user and retrieve the k highest ones.\n",
        "    for uid, user_ratings in top_n.items():\n",
        "        user_ratings.sort(key=lambda x: x[1], reverse=True)\n",
        "        top_n[uid] = user_ratings[:n]\n",
        "\n",
        "    return top_n"
      ],
      "metadata": {
        "id": "sUtJHoN-SXaz"
      },
      "execution_count": 44,
      "outputs": []
    },
    {
      "cell_type": "code",
      "source": [
        "# First train an SVD algorithm on the movielens dataset.\n",
        "trainset = data.build_full_trainset()\n",
        "\n",
        "# # best value from GridSearchCV\n",
        "# algo_param = {'random_state': SEED, 'n_epochs': 20, 'lr_all': 0.005, 'reg_all': 0.02}\n",
        "print(algo.__class__.__name__, \"params:\", best_params)\n",
        "# algo = SVDpp(**algo_param)\n",
        "%time algo.fit(trainset)\n",
        "\n",
        "# Than predict ratings for all pairs (u, i) that are NOT in the training set.\n",
        "testset = trainset.build_anti_testset()\n",
        "%time predictions = algo.test(testset)"
      ],
      "metadata": {
        "colab": {
          "base_uri": "https://localhost:8080/"
        },
        "id": "Qc14fUnHGuVi",
        "outputId": "8b093010-ee37-40e5-8d63-48f0191367bd"
      },
      "execution_count": 45,
      "outputs": [
        {
          "output_type": "stream",
          "name": "stdout",
          "text": [
            "SVDpp params: {'random_state': 42, 'n_epochs': 15, 'lr_all': 0.007, 'reg_all': 0.02}\n",
            "CPU times: user 30.8 s, sys: 58.3 ms, total: 30.9 s\n",
            "Wall time: 31.1 s\n",
            "CPU times: user 3min 3s, sys: 7.21 s, total: 3min 11s\n",
            "Wall time: 3min 7s\n"
          ]
        }
      ]
    },
    {
      "cell_type": "code",
      "source": [
        "recomendations = 5\n",
        "top_n = get_top_n(predictions, n=recomendations)"
      ],
      "metadata": {
        "id": "2wgCVlumNEit"
      },
      "execution_count": 46,
      "outputs": []
    },
    {
      "cell_type": "code",
      "source": [
        "counter=15\n",
        "# Print the recommended items for each user\n",
        "print(f\"Найкращі рекомендації для перших {counter} користувачів:\\n\")\n",
        "\n",
        "for uid, user_ratings in top_n.items():\n",
        "    recomend = [f\"{iid:6}: {'*'*round(est):5} ({est:.2f})\" for (iid, est) in user_ratings]\n",
        "    print(f\"Для користувача: {uid:2}, найкращі {recomendations} рекомендацій: {recomend}\")\n",
        "    counter -= 1\n",
        "    if counter <= 0:\n",
        "      break"
      ],
      "metadata": {
        "colab": {
          "base_uri": "https://localhost:8080/"
        },
        "id": "_692eM54DUzj",
        "outputId": "99d03adb-6c9b-47c8-e2a8-067212b36417"
      },
      "execution_count": 47,
      "outputs": [
        {
          "output_type": "stream",
          "name": "stdout",
          "text": [
            "Найкращі рекомендації для перших 15 користувачів:\n",
            "\n",
            "Для користувача: 196, найкращі 5 рекомендацій: ['318   : ****  (4.44)', '169   : ****  (4.43)', '408   : ****  (4.37)', '483   : ****  (4.33)', '515   : ****  (4.29)']\n",
            "Для користувача: 186, найкращі 5 рекомендацій: ['318   : ****  (4.49)', '174   : ****  (4.38)', '64    : ****  (4.37)', '143   : ****  (4.34)', '169   : ****  (4.31)']\n",
            "Для користувача: 22, найкращі 5 рекомендацій: ['169   : ***** (4.94)', '64    : ***** (4.85)', '408   : ***** (4.77)', '199   : ***** (4.75)', '313   : ***** (4.74)']\n",
            "Для користувача: 244, найкращі 5 рекомендацій: ['127   : ***** (5.00)', '408   : ***** (4.95)', '187   : ***** (4.92)', '12    : ***** (4.89)', '1449  : ***** (4.87)']\n",
            "Для користувача: 166, найкращі 5 рекомендацій: ['169   : ***** (4.66)', '318   : ***** (4.64)', '174   : ***** (4.63)', '408   : ***** (4.58)', '22    : ***** (4.57)']\n",
            "Для користувача: 298, найкращі 5 рекомендацій: ['408   : ***** (4.68)', '169   : ***** (4.67)', '64    : ***** (4.65)', '114   : ***** (4.52)', '515   : ***** (4.51)']\n",
            "Для користувача: 115, найкращі 5 рекомендацій: ['408   : ***** (5.00)', '179   : ***** (4.96)', '285   : ***** (4.85)', '134   : ***** (4.84)', '474   : ***** (4.81)']\n",
            "Для користувача: 253, найкращі 5 рекомендацій: ['174   : ***** (4.69)', '272   : ***** (4.60)', '313   : ***** (4.59)', '603   : ***** (4.58)', '169   : ***** (4.56)']\n",
            "Для користувача: 305, найкращі 5 рекомендацій: ['657   : ****  (4.19)', '515   : ****  (4.15)', '114   : ****  (4.13)', '603   : ****  (4.13)', '513   : ****  (4.07)']\n",
            "Для користувача: 6 , найкращі 5 рекомендацій: ['603   : ****  (4.46)', '657   : ****  (4.32)', '923   : ****  (4.31)', '251   : ****  (4.29)', '48    : ****  (4.28)']\n",
            "Для користувача: 62, найкращі 5 рекомендацій: ['169   : ****  (4.39)', '654   : ****  (4.32)', '963   : ****  (4.30)', '408   : ****  (4.29)', '187   : ****  (4.28)']\n",
            "Для користувача: 286, найкращі 5 рекомендацій: ['318   : ***** (4.80)', '480   : ***** (4.66)', '114   : ***** (4.64)', '515   : ***** (4.62)', '134   : ***** (4.61)']\n",
            "Для користувача: 200, найкращі 5 рекомендацій: ['181   : ***** (5.00)', '64    : ***** (5.00)', '12    : ***** (4.92)', '272   : ***** (4.88)', '316   : ***** (4.79)']\n",
            "Для користувача: 210, найкращі 5 рекомендацій: ['64    : ***** (4.85)', '603   : ***** (4.80)', '318   : ***** (4.79)', '169   : ***** (4.77)', '12    : ***** (4.77)']\n",
            "Для користувача: 224, найкращі 5 рекомендацій: ['174   : ****  (4.31)', '121   : ****  (4.29)', '96    : ****  (4.16)', '210   : ****  (4.12)', '117   : ****  (4.08)']\n"
          ]
        }
      ]
    },
    {
      "cell_type": "markdown",
      "source": [
        "### Decode name of movies"
      ],
      "metadata": {
        "id": "st-VpfsOHfV7"
      }
    },
    {
      "cell_type": "code",
      "source": [
        "if laod_mode == \"load_builtin\":\n",
        "  movie_list = pd.read_csv(movies_csv ) # index_col=\"movieId\"\n",
        "else:\n",
        "    movie_list = pd.read_csv(movies_csv, index_col=\"movieId\")\n",
        "movie_list.sample(3)"
      ],
      "metadata": {
        "colab": {
          "base_uri": "https://localhost:8080/",
          "height": 143
        },
        "id": "2P4cU4v11CpR",
        "outputId": "20fb3b33-b5d2-4b18-8d5e-df2a7e166bab"
      },
      "execution_count": 68,
      "outputs": [
        {
          "output_type": "execute_result",
          "data": {
            "text/plain": [
              "      movieId                             title                      genres\n",
              "4338     6337             Owning Mahowny (2003)        Crime|Drama|Thriller\n",
              "221       257                 Just Cause (1995)            Mystery|Thriller\n",
              "8346   108188  Jack Ryan: Shadow Recruit (2014)  Action|Drama|Thriller|IMAX"
            ],
            "text/html": [
              "\n",
              "  <div id=\"df-474d4545-ef69-4d05-9990-9a6207138f1b\" class=\"colab-df-container\">\n",
              "    <div>\n",
              "<style scoped>\n",
              "    .dataframe tbody tr th:only-of-type {\n",
              "        vertical-align: middle;\n",
              "    }\n",
              "\n",
              "    .dataframe tbody tr th {\n",
              "        vertical-align: top;\n",
              "    }\n",
              "\n",
              "    .dataframe thead th {\n",
              "        text-align: right;\n",
              "    }\n",
              "</style>\n",
              "<table border=\"1\" class=\"dataframe\">\n",
              "  <thead>\n",
              "    <tr style=\"text-align: right;\">\n",
              "      <th></th>\n",
              "      <th>movieId</th>\n",
              "      <th>title</th>\n",
              "      <th>genres</th>\n",
              "    </tr>\n",
              "  </thead>\n",
              "  <tbody>\n",
              "    <tr>\n",
              "      <th>4338</th>\n",
              "      <td>6337</td>\n",
              "      <td>Owning Mahowny (2003)</td>\n",
              "      <td>Crime|Drama|Thriller</td>\n",
              "    </tr>\n",
              "    <tr>\n",
              "      <th>221</th>\n",
              "      <td>257</td>\n",
              "      <td>Just Cause (1995)</td>\n",
              "      <td>Mystery|Thriller</td>\n",
              "    </tr>\n",
              "    <tr>\n",
              "      <th>8346</th>\n",
              "      <td>108188</td>\n",
              "      <td>Jack Ryan: Shadow Recruit (2014)</td>\n",
              "      <td>Action|Drama|Thriller|IMAX</td>\n",
              "    </tr>\n",
              "  </tbody>\n",
              "</table>\n",
              "</div>\n",
              "    <div class=\"colab-df-buttons\">\n",
              "\n",
              "  <div class=\"colab-df-container\">\n",
              "    <button class=\"colab-df-convert\" onclick=\"convertToInteractive('df-474d4545-ef69-4d05-9990-9a6207138f1b')\"\n",
              "            title=\"Convert this dataframe to an interactive table.\"\n",
              "            style=\"display:none;\">\n",
              "\n",
              "  <svg xmlns=\"http://www.w3.org/2000/svg\" height=\"24px\" viewBox=\"0 -960 960 960\">\n",
              "    <path d=\"M120-120v-720h720v720H120Zm60-500h600v-160H180v160Zm220 220h160v-160H400v160Zm0 220h160v-160H400v160ZM180-400h160v-160H180v160Zm440 0h160v-160H620v160ZM180-180h160v-160H180v160Zm440 0h160v-160H620v160Z\"/>\n",
              "  </svg>\n",
              "    </button>\n",
              "\n",
              "  <style>\n",
              "    .colab-df-container {\n",
              "      display:flex;\n",
              "      gap: 12px;\n",
              "    }\n",
              "\n",
              "    .colab-df-convert {\n",
              "      background-color: #E8F0FE;\n",
              "      border: none;\n",
              "      border-radius: 50%;\n",
              "      cursor: pointer;\n",
              "      display: none;\n",
              "      fill: #1967D2;\n",
              "      height: 32px;\n",
              "      padding: 0 0 0 0;\n",
              "      width: 32px;\n",
              "    }\n",
              "\n",
              "    .colab-df-convert:hover {\n",
              "      background-color: #E2EBFA;\n",
              "      box-shadow: 0px 1px 2px rgba(60, 64, 67, 0.3), 0px 1px 3px 1px rgba(60, 64, 67, 0.15);\n",
              "      fill: #174EA6;\n",
              "    }\n",
              "\n",
              "    .colab-df-buttons div {\n",
              "      margin-bottom: 4px;\n",
              "    }\n",
              "\n",
              "    [theme=dark] .colab-df-convert {\n",
              "      background-color: #3B4455;\n",
              "      fill: #D2E3FC;\n",
              "    }\n",
              "\n",
              "    [theme=dark] .colab-df-convert:hover {\n",
              "      background-color: #434B5C;\n",
              "      box-shadow: 0px 1px 3px 1px rgba(0, 0, 0, 0.15);\n",
              "      filter: drop-shadow(0px 1px 2px rgba(0, 0, 0, 0.3));\n",
              "      fill: #FFFFFF;\n",
              "    }\n",
              "  </style>\n",
              "\n",
              "    <script>\n",
              "      const buttonEl =\n",
              "        document.querySelector('#df-474d4545-ef69-4d05-9990-9a6207138f1b button.colab-df-convert');\n",
              "      buttonEl.style.display =\n",
              "        google.colab.kernel.accessAllowed ? 'block' : 'none';\n",
              "\n",
              "      async function convertToInteractive(key) {\n",
              "        const element = document.querySelector('#df-474d4545-ef69-4d05-9990-9a6207138f1b');\n",
              "        const dataTable =\n",
              "          await google.colab.kernel.invokeFunction('convertToInteractive',\n",
              "                                                    [key], {});\n",
              "        if (!dataTable) return;\n",
              "\n",
              "        const docLinkHtml = 'Like what you see? Visit the ' +\n",
              "          '<a target=\"_blank\" href=https://colab.research.google.com/notebooks/data_table.ipynb>data table notebook</a>'\n",
              "          + ' to learn more about interactive tables.';\n",
              "        element.innerHTML = '';\n",
              "        dataTable['output_type'] = 'display_data';\n",
              "        await google.colab.output.renderOutput(dataTable, element);\n",
              "        const docLink = document.createElement('div');\n",
              "        docLink.innerHTML = docLinkHtml;\n",
              "        element.appendChild(docLink);\n",
              "      }\n",
              "    </script>\n",
              "  </div>\n",
              "\n",
              "\n",
              "<div id=\"df-f0a68313-d577-43cf-a7fd-1f53f0209023\">\n",
              "  <button class=\"colab-df-quickchart\" onclick=\"quickchart('df-f0a68313-d577-43cf-a7fd-1f53f0209023')\"\n",
              "            title=\"Suggest charts\"\n",
              "            style=\"display:none;\">\n",
              "\n",
              "<svg xmlns=\"http://www.w3.org/2000/svg\" height=\"24px\"viewBox=\"0 0 24 24\"\n",
              "     width=\"24px\">\n",
              "    <g>\n",
              "        <path d=\"M19 3H5c-1.1 0-2 .9-2 2v14c0 1.1.9 2 2 2h14c1.1 0 2-.9 2-2V5c0-1.1-.9-2-2-2zM9 17H7v-7h2v7zm4 0h-2V7h2v10zm4 0h-2v-4h2v4z\"/>\n",
              "    </g>\n",
              "</svg>\n",
              "  </button>\n",
              "\n",
              "<style>\n",
              "  .colab-df-quickchart {\n",
              "      --bg-color: #E8F0FE;\n",
              "      --fill-color: #1967D2;\n",
              "      --hover-bg-color: #E2EBFA;\n",
              "      --hover-fill-color: #174EA6;\n",
              "      --disabled-fill-color: #AAA;\n",
              "      --disabled-bg-color: #DDD;\n",
              "  }\n",
              "\n",
              "  [theme=dark] .colab-df-quickchart {\n",
              "      --bg-color: #3B4455;\n",
              "      --fill-color: #D2E3FC;\n",
              "      --hover-bg-color: #434B5C;\n",
              "      --hover-fill-color: #FFFFFF;\n",
              "      --disabled-bg-color: #3B4455;\n",
              "      --disabled-fill-color: #666;\n",
              "  }\n",
              "\n",
              "  .colab-df-quickchart {\n",
              "    background-color: var(--bg-color);\n",
              "    border: none;\n",
              "    border-radius: 50%;\n",
              "    cursor: pointer;\n",
              "    display: none;\n",
              "    fill: var(--fill-color);\n",
              "    height: 32px;\n",
              "    padding: 0;\n",
              "    width: 32px;\n",
              "  }\n",
              "\n",
              "  .colab-df-quickchart:hover {\n",
              "    background-color: var(--hover-bg-color);\n",
              "    box-shadow: 0 1px 2px rgba(60, 64, 67, 0.3), 0 1px 3px 1px rgba(60, 64, 67, 0.15);\n",
              "    fill: var(--button-hover-fill-color);\n",
              "  }\n",
              "\n",
              "  .colab-df-quickchart-complete:disabled,\n",
              "  .colab-df-quickchart-complete:disabled:hover {\n",
              "    background-color: var(--disabled-bg-color);\n",
              "    fill: var(--disabled-fill-color);\n",
              "    box-shadow: none;\n",
              "  }\n",
              "\n",
              "  .colab-df-spinner {\n",
              "    border: 2px solid var(--fill-color);\n",
              "    border-color: transparent;\n",
              "    border-bottom-color: var(--fill-color);\n",
              "    animation:\n",
              "      spin 1s steps(1) infinite;\n",
              "  }\n",
              "\n",
              "  @keyframes spin {\n",
              "    0% {\n",
              "      border-color: transparent;\n",
              "      border-bottom-color: var(--fill-color);\n",
              "      border-left-color: var(--fill-color);\n",
              "    }\n",
              "    20% {\n",
              "      border-color: transparent;\n",
              "      border-left-color: var(--fill-color);\n",
              "      border-top-color: var(--fill-color);\n",
              "    }\n",
              "    30% {\n",
              "      border-color: transparent;\n",
              "      border-left-color: var(--fill-color);\n",
              "      border-top-color: var(--fill-color);\n",
              "      border-right-color: var(--fill-color);\n",
              "    }\n",
              "    40% {\n",
              "      border-color: transparent;\n",
              "      border-right-color: var(--fill-color);\n",
              "      border-top-color: var(--fill-color);\n",
              "    }\n",
              "    60% {\n",
              "      border-color: transparent;\n",
              "      border-right-color: var(--fill-color);\n",
              "    }\n",
              "    80% {\n",
              "      border-color: transparent;\n",
              "      border-right-color: var(--fill-color);\n",
              "      border-bottom-color: var(--fill-color);\n",
              "    }\n",
              "    90% {\n",
              "      border-color: transparent;\n",
              "      border-bottom-color: var(--fill-color);\n",
              "    }\n",
              "  }\n",
              "</style>\n",
              "\n",
              "  <script>\n",
              "    async function quickchart(key) {\n",
              "      const quickchartButtonEl =\n",
              "        document.querySelector('#' + key + ' button');\n",
              "      quickchartButtonEl.disabled = true;  // To prevent multiple clicks.\n",
              "      quickchartButtonEl.classList.add('colab-df-spinner');\n",
              "      try {\n",
              "        const charts = await google.colab.kernel.invokeFunction(\n",
              "            'suggestCharts', [key], {});\n",
              "      } catch (error) {\n",
              "        console.error('Error during call to suggestCharts:', error);\n",
              "      }\n",
              "      quickchartButtonEl.classList.remove('colab-df-spinner');\n",
              "      quickchartButtonEl.classList.add('colab-df-quickchart-complete');\n",
              "    }\n",
              "    (() => {\n",
              "      let quickchartButtonEl =\n",
              "        document.querySelector('#df-f0a68313-d577-43cf-a7fd-1f53f0209023 button');\n",
              "      quickchartButtonEl.style.display =\n",
              "        google.colab.kernel.accessAllowed ? 'block' : 'none';\n",
              "    })();\n",
              "  </script>\n",
              "</div>\n",
              "    </div>\n",
              "  </div>\n"
            ]
          },
          "metadata": {},
          "execution_count": 68
        }
      ]
    },
    {
      "cell_type": "code",
      "source": [
        "recomendations = 5\n",
        "# top_n = get_top_n(predictions, n=recomendations)\n",
        "\n",
        "counter=4\n",
        "# Print the recommended items for each user\n",
        "print(f\"Найкращі рекомендації для перших {counter} користувачів:\\n\")\n",
        "\n",
        "for uid, user_ratings in top_n.items():\n",
        "    print(f\"Для користувача: {uid}, найкращі {recomendations} рекомендацій:\")\n",
        "    for (iid, est) in user_ratings:\n",
        "      title = movie_list['title'].get(int(iid), f\"ID: {iid}\")\n",
        "      genre = movie_list['genres'].get(int(iid))\n",
        "      if genre:\n",
        "        genre = genre.split('|')[0]\n",
        "      print(f\" - {'*'*round(est):5} ({est:.2f}): {title}, [{genre}]\")\n",
        "    counter -= 1\n",
        "    if counter <= 0:\n",
        "      break"
      ],
      "metadata": {
        "colab": {
          "base_uri": "https://localhost:8080/"
        },
        "id": "WYBFE850AlC8",
        "outputId": "3150ba2b-f741-45c6-bb91-6619e5715807"
      },
      "execution_count": 66,
      "outputs": [
        {
          "output_type": "stream",
          "name": "stdout",
          "text": [
            "Найкращі рекомендації для перших 4 користувачів:\n",
            "\n",
            "Для користувача: 196, найкращі 5 рекомендацій:\n",
            " - ****  (4.44): I Love Trouble (1994), [Action]\n",
            " - ****  (4.43): Three Wishes (1995), [Drama]\n",
            " - ****  (4.37): House Party 3 (1994), [Comedy]\n",
            " - ****  (4.33): Nightmare Before Christmas, The (1993), [Animation]\n",
            " - ****  (4.29): Wild Bunch, The (1969), [Adventure]\n",
            "Для користувача: 186, найкращі 5 рекомендацій:\n",
            " - ****  (4.49): I Love Trouble (1994), [Action]\n",
            " - ****  (4.38): Unzipped (1995), [Documentary]\n",
            " - ****  (4.37): Kicking and Screaming (1995), [Comedy]\n",
            " - ****  (4.34): Jeffrey (1995), [Comedy]\n",
            " - ****  (4.31): Three Wishes (1995), [Drama]\n",
            "Для користувача: 22, найкращі 5 рекомендацій:\n",
            " - ***** (4.94): Three Wishes (1995), [Drama]\n",
            " - ***** (4.85): Kicking and Screaming (1995), [Comedy]\n",
            " - ***** (4.77): House Party 3 (1994), [Comedy]\n",
            " - ***** (4.75): Exotica (1994), [Drama]\n",
            " - ***** (4.74): Flintstones, The (1994), [Children]\n",
            "Для користувача: 244, найкращі 5 рекомендацій:\n",
            " - ***** (5.00): Beauty of the Day (Belle de jour) (1967), [Drama]\n",
            " - ***** (4.95): House Party 3 (1994), [Comedy]\n",
            " - ***** (4.92): Cure, The (1995), [Drama]\n",
            " - ***** (4.89): Balto (1995), [Adventure]\n",
            " - ***** (4.87): Nightmare on Elm Street 5: The Dream Child, A (1989), [Horror]\n"
          ]
        }
      ]
    }
  ]
}