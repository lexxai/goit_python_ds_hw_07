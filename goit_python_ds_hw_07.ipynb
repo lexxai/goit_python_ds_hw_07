{
  "nbformat": 4,
  "nbformat_minor": 0,
  "metadata": {
    "colab": {
      "provenance": [],
      "collapsed_sections": [
        "4TrQTNYlL-zX"
      ],
      "authorship_tag": "ABX9TyPr2W7p152pbDEyFhb6K7u3",
      "include_colab_link": true
    },
    "kernelspec": {
      "name": "python3",
      "display_name": "Python 3"
    },
    "language_info": {
      "name": "python"
    }
  },
  "cells": [
    {
      "cell_type": "markdown",
      "metadata": {
        "id": "view-in-github",
        "colab_type": "text"
      },
      "source": [
        "<a href=\"https://colab.research.google.com/github/lexxai/goit_python_ds_hw_07/blob/main/goit_python_ds_hw_07.ipynb\" target=\"_parent\"><img src=\"https://colab.research.google.com/assets/colab-badge.svg\" alt=\"Open In Colab\"/></a>"
      ]
    },
    {
      "cell_type": "markdown",
      "source": [
        "# Модуль 7. Рекомендаційні системи.\n",
        "\n",
        "*З циклу [домашніх завдань Python Data Science](https://github.com/lexxai/goit_python_data_sciense_homework).*\n",
        "\n",
        "# Домашнє завдання"
      ],
      "metadata": {
        "id": "VTvBpLm5Jqyj"
      }
    },
    {
      "cell_type": "markdown",
      "source": [
        "## LOAD DATASET"
      ],
      "metadata": {
        "id": "OLW2WK4cK08b"
      }
    },
    {
      "cell_type": "code",
      "source": [
        "!pip install scikit-surprise"
      ],
      "metadata": {
        "colab": {
          "base_uri": "https://localhost:8080/"
        },
        "id": "IQlrrC64Ei_D",
        "outputId": "a8168f97-b778-422f-e92b-21f02fb010c9"
      },
      "execution_count": 90,
      "outputs": [
        {
          "output_type": "stream",
          "name": "stdout",
          "text": [
            "Requirement already satisfied: scikit-surprise in /usr/local/lib/python3.10/dist-packages (1.1.3)\n",
            "Requirement already satisfied: joblib>=1.0.0 in /usr/local/lib/python3.10/dist-packages (from scikit-surprise) (1.3.2)\n",
            "Requirement already satisfied: numpy>=1.17.3 in /usr/local/lib/python3.10/dist-packages (from scikit-surprise) (1.23.5)\n",
            "Requirement already satisfied: scipy>=1.3.2 in /usr/local/lib/python3.10/dist-packages (from scikit-surprise) (1.11.4)\n"
          ]
        }
      ]
    },
    {
      "cell_type": "code",
      "source": [
        "from surprise import accuracy, Dataset, Reader, SVD\n",
        "from surprise.model_selection import cross_validate, train_test_split\n",
        "import pandas as pd\n",
        "import numpy as np\n",
        "from pathlib import Path"
      ],
      "metadata": {
        "id": "m63KlyHSprCX"
      },
      "execution_count": 91,
      "outputs": []
    },
    {
      "cell_type": "code",
      "source": [
        "laod_mode = \"load_from_df\""
      ],
      "metadata": {
        "id": "8_JhmJld6eFR"
      },
      "execution_count": 92,
      "outputs": []
    },
    {
      "cell_type": "code",
      "execution_count": 194,
      "metadata": {
        "id": "6SaBHI8tEE-8"
      },
      "outputs": [],
      "source": [
        "if laod_mode == \"load_builtin\":\n",
        "  # Load the movielens-100k dataset (download it if needed).\n",
        "  data = Dataset.load_builtin('ml-100k', prompt=False)"
      ]
    },
    {
      "cell_type": "code",
      "source": [
        "if laod_mode == \"load_builtin\":\n",
        "  !ls -1  /root/.surprise_data/ml-100k/ml-100k/u* | sed  's/\\/root\\/\\.surprise_data\\/ml-100k\\/ml-100k\\///g' | sort"
      ],
      "metadata": {
        "id": "T0DErstIgFzd"
      },
      "execution_count": 94,
      "outputs": []
    },
    {
      "cell_type": "code",
      "source": [
        "if laod_mode == \"load_builtin\":\n",
        "  base_path = Path(\"/root/.surprise_data/ml-100k/ml-100k\")\n",
        "  filelist =  list(map(lambda x: x.name, sorted(base_path.glob(\"u*\"))))\n",
        "  types = {\n",
        "      \"test\": \"Test_files\",\n",
        "      \"base\": \"Train_files\"\n",
        "  }\n",
        "  for f, d in types.items():\n",
        "    print(f\"\\n{d}:\")\n",
        "    print(list(filter(lambda x : x.endswith(f\".{f}\") ,filelist)))"
      ],
      "metadata": {
        "id": "z-K7JzgVjES4"
      },
      "execution_count": 95,
      "outputs": []
    },
    {
      "cell_type": "code",
      "source": [
        "  latest_url = \"https://files.grouplens.org/datasets/movielens/ml-latest-small.zip\"\n",
        "  latest_zip_file = Path(\"ml-latest-small.zip\")\n",
        "  if not latest_zip_file.exists():\n",
        "    !wget $latest_url\n",
        "    !unzip $latest_zip_file\n",
        "  base_path = Path(\"/content/ml-latest-small/\")\n",
        "  rating_csv = base_path.joinpath(\"ratings.csv\")\n",
        "  tags_csv = base_path.joinpath(\"tags.csv\")\n",
        "  movies_csv = base_path.joinpath(\"movies.csv\")"
      ],
      "metadata": {
        "id": "oVTS5xZsmyJS"
      },
      "execution_count": 96,
      "outputs": []
    },
    {
      "cell_type": "code",
      "source": [
        "if laod_mode == \"load_from_file\":\n",
        "  reader = Reader(line_format=u'user item rating timestamp', sep=',', rating_scale=(1, 5), skip_lines=1)\n",
        "  data = Dataset.load_from_file(rating_csv, reader=reader)"
      ],
      "metadata": {
        "id": "dNYxkIYrpWZE"
      },
      "execution_count": 97,
      "outputs": []
    },
    {
      "cell_type": "code",
      "source": [
        "if laod_mode == \"load_from_df\":\n",
        "  df = pd.read_csv(rating_csv)\n",
        "\n",
        "  # A reader is still needed but only the rating_scale param is requiered.\n",
        "  reader = Reader(rating_scale=(1, 5))\n",
        "\n",
        "  # The columns must correspond to user id, item id and ratings (in that order).\n",
        "  data = Dataset.load_from_df(df[[\"userId\", \"movieId\",  \"rating\"]], reader)"
      ],
      "metadata": {
        "id": "NEEvbfqBquBr"
      },
      "execution_count": 98,
      "outputs": []
    },
    {
      "cell_type": "code",
      "source": [
        "type(data)"
      ],
      "metadata": {
        "id": "zk4mZ2b0cx7F",
        "colab": {
          "base_uri": "https://localhost:8080/"
        },
        "outputId": "6b2a1795-4818-4e6a-ec80-c7053264d7ca"
      },
      "execution_count": 99,
      "outputs": [
        {
          "output_type": "execute_result",
          "data": {
            "text/plain": [
              "surprise.dataset.DatasetAutoFolds"
            ]
          },
          "metadata": {},
          "execution_count": 99
        }
      ]
    },
    {
      "cell_type": "markdown",
      "source": [
        "### Аналіз записів"
      ],
      "metadata": {
        "id": "VumP61raGOTE"
      }
    },
    {
      "cell_type": "markdown",
      "source": [
        "Неважлива інофромаційна частина для пошуку реальних значень з датасету: uid, iid, ur. А також для уявлення змісту даних датасету."
      ],
      "metadata": {
        "id": "DjEBc7AqBy9O"
      }
    },
    {
      "cell_type": "code",
      "source": [
        "from datetime import date\n",
        "\n",
        "dater = None\n",
        "\n",
        "# Access dataset attributes\n",
        "raw_ratings = data.raw_ratings\n",
        "print(\"Number of ratings:\", len(raw_ratings))\n",
        "\n",
        "# Print a sample of raw ratings\n",
        "print(\"\\nTop 5 samples of raw ratings:\")\n",
        "for rating in raw_ratings[:5]:\n",
        "  uid, iid, ur, timestamp = rating\n",
        "  if timestamp:\n",
        "    dater = date.fromtimestamp(int(timestamp))\n",
        "  print(f\"UserID: {uid:5}, ItemID: {iid:5}, UserRateForItem: {ur:5}, date: {dater}\")\n",
        "\n",
        "search_uid = uid\n",
        "count_uid = 5\n",
        "print(f\"\\nTop {count_uid} ratings of user: {search_uid}\")\n",
        "\n",
        "for rating in raw_ratings:\n",
        "  uid, iid, ur, timestamp = rating\n",
        "  if uid == search_uid:\n",
        "    if timestamp:\n",
        "      dater = date.fromtimestamp(int(timestamp))\n",
        "    count_uid -= 1;\n",
        "    print(f\"UserID: {uid:5}, ItemID: {iid:5}, UserRateForItem: {ur:5}, date: {dater}\")\n",
        "    if count_uid <= 0:\n",
        "      break\n",
        "\n",
        "search_iid = iid\n",
        "count_iid = 5\n",
        "print(f\"\\nTop {count_iid} ratings of item: {search_iid}\")\n",
        "\n",
        "for rating in raw_ratings:\n",
        "  uid, iid, ur, timestamp = rating\n",
        "  if iid == search_iid:\n",
        "    if timestamp:\n",
        "      dater = date.fromtimestamp(int(timestamp))\n",
        "    count_iid -= 1;\n",
        "    print(f\"UserID: {uid:5}, ItemID: {iid:5}, UserRateForItem: {ur:5}, date: {dater}\")\n",
        "    if count_iid <= 0:\n",
        "      break"
      ],
      "metadata": {
        "id": "HPNxTcHLbyWK",
        "colab": {
          "base_uri": "https://localhost:8080/"
        },
        "outputId": "1aad4e5b-579c-4a2a-e088-b68913f5e438"
      },
      "execution_count": 100,
      "outputs": [
        {
          "output_type": "stream",
          "name": "stdout",
          "text": [
            "Number of ratings: 100836\n",
            "\n",
            "Top 5 samples of raw ratings:\n",
            "UserID:     1, ItemID:     1, UserRateForItem:   4.0, date: None\n",
            "UserID:     1, ItemID:     3, UserRateForItem:   4.0, date: None\n",
            "UserID:     1, ItemID:     6, UserRateForItem:   4.0, date: None\n",
            "UserID:     1, ItemID:    47, UserRateForItem:   5.0, date: None\n",
            "UserID:     1, ItemID:    50, UserRateForItem:   5.0, date: None\n",
            "\n",
            "Top 5 ratings of user: 1\n",
            "UserID:     1, ItemID:     1, UserRateForItem:   4.0, date: None\n",
            "UserID:     1, ItemID:     3, UserRateForItem:   4.0, date: None\n",
            "UserID:     1, ItemID:     6, UserRateForItem:   4.0, date: None\n",
            "UserID:     1, ItemID:    47, UserRateForItem:   5.0, date: None\n",
            "UserID:     1, ItemID:    50, UserRateForItem:   5.0, date: None\n",
            "\n",
            "Top 5 ratings of item: 50\n",
            "UserID:     1, ItemID:    50, UserRateForItem:   5.0, date: None\n",
            "UserID:     5, ItemID:    50, UserRateForItem:   4.0, date: None\n",
            "UserID:     6, ItemID:    50, UserRateForItem:   1.0, date: None\n",
            "UserID:     7, ItemID:    50, UserRateForItem:   4.5, date: None\n",
            "UserID:     8, ItemID:    50, UserRateForItem:   5.0, date: None\n"
          ]
        }
      ]
    },
    {
      "cell_type": "markdown",
      "source": [
        "Використовуєтьс прямий відгук (Explicit feedback) - це оцінка, яку користувач поставив, щоб висловити свою задоволеність товаром."
      ],
      "metadata": {
        "id": "UGbdKhLZGOTI"
      }
    },
    {
      "cell_type": "markdown",
      "source": [
        "Для оцінки що базується на спільній інформації про користувачів  та їхню взаємодію з об'єктами (Collaborative Filtering) вибранно модель матричної факторизації (Matrix Factorization)."
      ],
      "metadata": {
        "id": "vd_a5Z0QGOTI"
      }
    },
    {
      "cell_type": "code",
      "source": [
        "# uid = 6\n",
        "# iid = 258\n",
        "# ur = 2.0\n",
        "# dater = \"1997-12-28\""
      ],
      "metadata": {
        "id": "djCv_xDbDPFc"
      },
      "execution_count": 101,
      "outputs": []
    },
    {
      "cell_type": "markdown",
      "source": [
        "Ми використовуємо об'єкт ***DatasetAutoFolds*** у Surprise, це означає, що ми працюємо з набором даних, який вже було розбито на файли (folds) для перехресної перевірки.\n",
        "\n",
        "\n",
        "\n",
        "Мета цього методу - охопити загальний випадок використання, коли набір даних вже розбито на попередньо визначені складові, наприклад, набір даних movielens-100k ('ml-100k'), який визначає файли u1.base, u1.test, u2.base, u2.test і т.д... Його також можна використовувати, коли ми не хочемо виконувати перехресну перевірку, але все одно хочемо вказати наші навчальні та тестові дані (що в будь-якому випадку зводиться до 1-кратної перехресної перевірки)."
      ],
      "metadata": {
        "id": "yzuccKchc2ji"
      }
    },
    {
      "cell_type": "markdown",
      "source": [
        "## Mоделі матричної факторизації"
      ],
      "metadata": {
        "id": "PYbeZAPjtK1_"
      }
    },
    {
      "cell_type": "markdown",
      "source": [
        "### Algorithm SVD.\n",
        "\n",
        "Метод SVD може бути адаптований до наборів даних з неявним зворотним зв'язком (implicit feedback)."
      ],
      "metadata": {
        "id": "ueUxG3LaLG4I"
      }
    },
    {
      "cell_type": "markdown",
      "source": [
        "\n",
        "- RMSE - root-mean-square error\n",
        "- MAE - mean absolute error"
      ],
      "metadata": {
        "id": "uyQ5s_mFwxP5"
      }
    },
    {
      "cell_type": "code",
      "source": [
        "SEED = 42\n",
        "algo_cv = {}\n",
        "algo_split = {}\n",
        "# Use the SVD algorithm.\n",
        "algo = SVD(random_state=SEED)"
      ],
      "metadata": {
        "id": "xtGVOa9MvqW-"
      },
      "execution_count": 102,
      "outputs": []
    },
    {
      "cell_type": "markdown",
      "source": [
        "#### Прогноз"
      ],
      "metadata": {
        "id": "AXSz9le_xsT4"
      }
    },
    {
      "cell_type": "markdown",
      "source": [
        "#### Full_trainset та він же і testset. Accuracy RMSE (root-mean-square error).\n"
      ],
      "metadata": {
        "id": "eCXw_cYz2z45"
      }
    },
    {
      "cell_type": "code",
      "source": [
        "def data_full_trainset(algo, data):\n",
        "  algorithm_name = algo.__class__.__name__\n",
        "  print(f\"Algo: {algorithm_name}, UserID: {uid:5}, ItemID: {iid:5}, UserRateForItem: {ur:5}, date: {dater}\")\n",
        "\n",
        "  #trainset, testset = train_test_split(data, test_size=0.25)\n",
        "  trainset = data.build_full_trainset()\n",
        "\n",
        "  print(\"Number of train ratings:\", len(list(trainset.all_ratings())))\n",
        "  algo.fit(trainset)\n",
        "  pred = algo.predict(uid, iid, r_ui=ur, verbose=True)\n",
        "\n",
        "  testset = trainset.build_testset()\n",
        "  print(\"Number of test ratings:\", len(testset))\n",
        "\n",
        "  predictions = algo.test(testset)\n",
        "  # RMSE має бути низьким, оскільки ми є упередженими\n",
        "  accuracy.rmse(predictions, verbose=True)  # ~ 0.68 (що є низьким показником)"
      ],
      "metadata": {
        "id": "Vqp3Qyoivlrg"
      },
      "execution_count": 103,
      "outputs": []
    },
    {
      "cell_type": "code",
      "source": [
        "data_full_trainset(algo, data)"
      ],
      "metadata": {
        "id": "IA0MEHsC_pac",
        "colab": {
          "base_uri": "https://localhost:8080/"
        },
        "outputId": "8ae84072-08e8-41c4-c1b7-98e7cd43f344"
      },
      "execution_count": 104,
      "outputs": [
        {
          "output_type": "stream",
          "name": "stdout",
          "text": [
            "Algo: SVD, UserID:     8, ItemID:    50, UserRateForItem:   5.0, date: None\n",
            "Number of train ratings: 100836\n",
            "user: 8          item: 50         r_ui = 5.00   est = 4.39   {'was_impossible': False}\n",
            "Number of test ratings: 100836\n",
            "RMSE: 0.6390\n"
          ]
        }
      ]
    },
    {
      "cell_type": "markdown",
      "source": [
        "#### Train_test_split 25%. Accuracy RMSE (root-mean-square error).\n"
      ],
      "metadata": {
        "id": "Q9A4q5cF3OF0"
      }
    },
    {
      "cell_type": "code",
      "source": [
        "def data_train_test_split(algo, data, test_size=0.25):\n",
        "  algorithm_name = algo.__class__.__name__\n",
        "  print(f\"Algo: {algorithm_name}, UserID: {uid:5}, ItemID: {iid:5}, UserRateForItem: {ur:5}, date: {dater}\")\n",
        "  trainset, testset = train_test_split(data, test_size=test_size)\n",
        "\n",
        "  print(\"Number of train ratings:\", len(list(trainset.all_ratings())))\n",
        "  algo.fit(trainset)\n",
        "  pred = algo.predict(uid, iid, r_ui=ur, verbose=True)\n",
        "\n",
        "  print(\"Number of test ratings:\", len(testset))\n",
        "\n",
        "  predictions = algo.test(testset)\n",
        "  # RMSE має бути більшим\n",
        "  rmse = accuracy.rmse(predictions, verbose=True)  # ~ 0.94 (що є високим показником)\n",
        "  return {algorithm_name: rmse}"
      ],
      "metadata": {
        "id": "LdeuubKe2U_G"
      },
      "execution_count": 105,
      "outputs": []
    },
    {
      "cell_type": "code",
      "source": [
        "algo_split.update(data_train_test_split(algo, data))"
      ],
      "metadata": {
        "id": "glUST0_nAXnR",
        "colab": {
          "base_uri": "https://localhost:8080/"
        },
        "outputId": "10c6ccc0-046a-474b-d887-5764908e4e91"
      },
      "execution_count": 106,
      "outputs": [
        {
          "output_type": "stream",
          "name": "stdout",
          "text": [
            "Algo: SVD, UserID:     8, ItemID:    50, UserRateForItem:   5.0, date: None\n",
            "Number of train ratings: 75627\n",
            "user: 8          item: 50         r_ui = 5.00   est = 4.39   {'was_impossible': False}\n",
            "Number of test ratings: 25209\n",
            "RMSE: 0.8845\n"
          ]
        }
      ]
    },
    {
      "cell_type": "markdown",
      "source": [
        "#### Cross Validate, cv = 5"
      ],
      "metadata": {
        "id": "O_uWjxHB2OVX"
      }
    },
    {
      "cell_type": "code",
      "source": [
        "import numpy as np\n",
        "\n",
        "def data_cross_validate(algo, data, cv=5):\n",
        "  algorithm_name = algo.__class__.__name__\n",
        "  print(f\"Algo: {algorithm_name}. Cross Validate: {cv}\")\n",
        "  # Run 5-fold cross-validation and print results.\n",
        "  cv_result = cross_validate(algo, data, measures=['RMSE', 'MAE'], cv=cv, verbose=True)\n",
        "  mean_rmse = np.array(cv_result.get('test_rmse')).mean()\n",
        "  mean_fit = np.array(cv_result.get('fit_time')).mean()\n",
        "  mean_test = np.array(cv_result.get('test_time')).mean()\n",
        "\n",
        "  print(f\"{mean_rmse=}\")\n",
        "  return {algorithm_name: (mean_rmse, mean_fit, mean_test)}"
      ],
      "metadata": {
        "id": "s2Kyk9JeGBJy"
      },
      "execution_count": 107,
      "outputs": []
    },
    {
      "cell_type": "code",
      "source": [
        "algo_cv.update(data_cross_validate(algo, data))"
      ],
      "metadata": {
        "colab": {
          "base_uri": "https://localhost:8080/"
        },
        "id": "NxWiH8bUWrk3",
        "outputId": "d149c014-5924-4d02-9ad4-c54dd6b64336"
      },
      "execution_count": 108,
      "outputs": [
        {
          "output_type": "stream",
          "name": "stdout",
          "text": [
            "Algo: SVD. Cross Validate: 5\n",
            "Evaluating RMSE, MAE of algorithm SVD on 5 split(s).\n",
            "\n",
            "                  Fold 1  Fold 2  Fold 3  Fold 4  Fold 5  Mean    Std     \n",
            "RMSE (testset)    0.8684  0.8724  0.8792  0.8838  0.8769  0.8761  0.0053  \n",
            "MAE (testset)     0.6680  0.6728  0.6746  0.6772  0.6744  0.6734  0.0030  \n",
            "Fit time          1.73    2.98    3.55    3.53    4.92    3.34    1.03    \n",
            "Test time         0.12    0.57    0.28    0.27    0.21    0.29    0.15    \n",
            "mean_rmse=0.8761268456602316\n"
          ]
        }
      ]
    },
    {
      "cell_type": "markdown",
      "source": [
        "### Algorithm SVD++ (SVDpp)\n",
        "\n",
        "Алгоритм SVD++ можна використовувати, коли ми маємо доступ як до явного (explicit), так і до неявного (implicit) зворотного зв'язку. Це може бути дуже корисно, тому що зазвичай користувачі взаємодіють з багатьма елементами (= неявний зворотній зв'язок), але оцінюють лише невелику підмножину з них (= явний зворотній зв'язок).\n"
      ],
      "metadata": {
        "id": "xUP_-6eYM_1T"
      }
    },
    {
      "cell_type": "code",
      "source": [
        " # surprise.prediction_algorithms.matrix_factorization.SVDpp\n",
        "from surprise import SVDpp\n",
        "\n",
        "# Use the SVDpp algorithm.\n",
        "algo = SVDpp()"
      ],
      "metadata": {
        "id": "QxLJcJhUNA2o"
      },
      "execution_count": 109,
      "outputs": []
    },
    {
      "cell_type": "code",
      "source": [
        "data_full_trainset(algo, data)"
      ],
      "metadata": {
        "id": "IS0gaLu--bMW",
        "colab": {
          "base_uri": "https://localhost:8080/"
        },
        "outputId": "8bae658f-620f-438e-dffb-3aeedd60acc6"
      },
      "execution_count": 110,
      "outputs": [
        {
          "output_type": "stream",
          "name": "stdout",
          "text": [
            "Algo: SVDpp, UserID:     8, ItemID:    50, UserRateForItem:   5.0, date: None\n",
            "Number of train ratings: 100836\n",
            "user: 8          item: 50         r_ui = 5.00   est = 4.36   {'was_impossible': False}\n",
            "Number of test ratings: 100836\n",
            "RMSE: 0.6804\n"
          ]
        }
      ]
    },
    {
      "cell_type": "code",
      "source": [
        "algo_split.update(data_train_test_split(algo, data))"
      ],
      "metadata": {
        "id": "F9aQtziO-fTA",
        "colab": {
          "base_uri": "https://localhost:8080/"
        },
        "outputId": "901bb87b-4f7a-4eb7-cda0-5b9301eae9bc"
      },
      "execution_count": 111,
      "outputs": [
        {
          "output_type": "stream",
          "name": "stdout",
          "text": [
            "Algo: SVDpp, UserID:     8, ItemID:    50, UserRateForItem:   5.0, date: None\n",
            "Number of train ratings: 75627\n",
            "user: 8          item: 50         r_ui = 5.00   est = 4.26   {'was_impossible': False}\n",
            "Number of test ratings: 25209\n",
            "RMSE: 0.8550\n"
          ]
        }
      ]
    },
    {
      "cell_type": "code",
      "source": [
        "algo_cv.update(data_cross_validate(algo, data))"
      ],
      "metadata": {
        "id": "D1mlY6C_-WWh",
        "colab": {
          "base_uri": "https://localhost:8080/"
        },
        "outputId": "a7fd6ea8-1182-4bba-b910-ff1b17b04aed"
      },
      "execution_count": 112,
      "outputs": [
        {
          "output_type": "stream",
          "name": "stdout",
          "text": [
            "Algo: SVDpp. Cross Validate: 5\n",
            "Evaluating RMSE, MAE of algorithm SVDpp on 5 split(s).\n",
            "\n",
            "                  Fold 1  Fold 2  Fold 3  Fold 4  Fold 5  Mean    Std     \n",
            "RMSE (testset)    0.8606  0.8589  0.8639  0.8646  0.8568  0.8609  0.0029  \n",
            "MAE (testset)     0.6604  0.6585  0.6616  0.6620  0.6592  0.6604  0.0013  \n",
            "Fit time          87.49   90.68   87.69   97.83   98.22   92.38   4.75    \n",
            "Test time         12.65   12.48   12.65   12.57   12.21   12.51   0.16    \n",
            "mean_rmse=0.8609489445932184\n"
          ]
        }
      ]
    },
    {
      "cell_type": "markdown",
      "source": [
        "### Algorithm NMF"
      ],
      "metadata": {
        "id": "7yAcmVTsMtDD"
      }
    },
    {
      "cell_type": "code",
      "source": [
        "# surprise.prediction_algorithms.matrix_factorization.NMF\n",
        "from surprise import NMF\n",
        "\n",
        "# Use the NMF algorithm.\n",
        "algo = NMF()"
      ],
      "metadata": {
        "id": "fsbcpEK5MuMz"
      },
      "execution_count": 113,
      "outputs": []
    },
    {
      "cell_type": "code",
      "source": [
        "data_full_trainset(algo, data)"
      ],
      "metadata": {
        "colab": {
          "base_uri": "https://localhost:8080/"
        },
        "id": "Hnz2KCaC_EDw",
        "outputId": "4e65f664-fbed-4462-903f-4d0a7466cf5d"
      },
      "execution_count": 114,
      "outputs": [
        {
          "output_type": "stream",
          "name": "stdout",
          "text": [
            "Algo: NMF, UserID:     8, ItemID:    50, UserRateForItem:   5.0, date: None\n",
            "Number of train ratings: 100836\n",
            "user: 8          item: 50         r_ui = 5.00   est = 4.42   {'was_impossible': False}\n",
            "Number of test ratings: 100836\n",
            "RMSE: 0.6408\n"
          ]
        }
      ]
    },
    {
      "cell_type": "code",
      "source": [
        "algo_split.update(data_train_test_split(algo, data))"
      ],
      "metadata": {
        "colab": {
          "base_uri": "https://localhost:8080/"
        },
        "id": "u92zY9Yi_ILp",
        "outputId": "767106d6-6d9a-49f0-f8cc-91f1059393cb"
      },
      "execution_count": 115,
      "outputs": [
        {
          "output_type": "stream",
          "name": "stdout",
          "text": [
            "Algo: NMF, UserID:     8, ItemID:    50, UserRateForItem:   5.0, date: None\n",
            "Number of train ratings: 75627\n",
            "user: 8          item: 50         r_ui = 5.00   est = 4.23   {'was_impossible': False}\n",
            "Number of test ratings: 25209\n",
            "RMSE: 0.9239\n"
          ]
        }
      ]
    },
    {
      "cell_type": "code",
      "source": [
        "algo_cv.update(data_cross_validate(algo, data))"
      ],
      "metadata": {
        "colab": {
          "base_uri": "https://localhost:8080/"
        },
        "id": "bnuu_byH_Hiw",
        "outputId": "801e0842-d43e-4b9e-91f8-55fb19bc9080"
      },
      "execution_count": 116,
      "outputs": [
        {
          "output_type": "stream",
          "name": "stdout",
          "text": [
            "Algo: NMF. Cross Validate: 5\n",
            "Evaluating RMSE, MAE of algorithm NMF on 5 split(s).\n",
            "\n",
            "                  Fold 1  Fold 2  Fold 3  Fold 4  Fold 5  Mean    Std     \n",
            "RMSE (testset)    0.9199  0.9248  0.9203  0.9218  0.9199  0.9214  0.0019  \n",
            "MAE (testset)     0.7028  0.7072  0.7046  0.7073  0.7054  0.7055  0.0017  \n",
            "Fit time          2.82    3.13    2.98    2.70    2.79    2.88    0.15    \n",
            "Test time         0.11    0.35    0.13    0.24    0.12    0.19    0.09    \n",
            "mean_rmse=0.9213600143709174\n"
          ]
        }
      ]
    },
    {
      "cell_type": "markdown",
      "source": [
        "## Сімейство алгоритмів k-NN\n"
      ],
      "metadata": {
        "id": "7GiwVM6d_pBf"
      }
    },
    {
      "cell_type": "markdown",
      "source": [
        "\n",
        "Ці алгоритми безпосередньо випливають з базового методу найближчих сусідів.\n"
      ],
      "metadata": {
        "id": "sa_CWfroAVwO"
      }
    },
    {
      "cell_type": "markdown",
      "source": [
        "### Algorithm KNNBasic."
      ],
      "metadata": {
        "id": "4TrQTNYlL-zX"
      }
    },
    {
      "cell_type": "markdown",
      "source": [
        "\"Сусідів\" до: k=40"
      ],
      "metadata": {
        "id": "7R243CJgBPdY"
      }
    },
    {
      "cell_type": "code",
      "source": [
        "from surprise import KNNBasic\n",
        "\n",
        "# Build an algorithm, and train it.\n",
        "algo = KNNBasic()"
      ],
      "metadata": {
        "id": "vr_csvEwI1f0"
      },
      "execution_count": 117,
      "outputs": []
    },
    {
      "cell_type": "code",
      "source": [
        "data_full_trainset(algo, data)"
      ],
      "metadata": {
        "colab": {
          "base_uri": "https://localhost:8080/"
        },
        "id": "8QwLukw-JGdP",
        "outputId": "d6101e83-ac3d-4b94-8133-0f5d7911b99c"
      },
      "execution_count": 118,
      "outputs": [
        {
          "output_type": "stream",
          "name": "stdout",
          "text": [
            "Algo: KNNBasic, UserID:     8, ItemID:    50, UserRateForItem:   5.0, date: None\n",
            "Number of train ratings: 100836\n",
            "Computing the msd similarity matrix...\n",
            "Done computing similarity matrix.\n",
            "user: 8          item: 50         r_ui = 5.00   est = 4.64   {'actual_k': 40, 'was_impossible': False}\n",
            "Number of test ratings: 100836\n",
            "RMSE: 0.7265\n"
          ]
        }
      ]
    },
    {
      "cell_type": "code",
      "source": [
        "algo_split.update(data_train_test_split(algo, data))"
      ],
      "metadata": {
        "colab": {
          "base_uri": "https://localhost:8080/"
        },
        "id": "uNmfqM4I97wW",
        "outputId": "7ef2587a-e363-4bdf-b22e-ce6bd66d9d86"
      },
      "execution_count": 119,
      "outputs": [
        {
          "output_type": "stream",
          "name": "stdout",
          "text": [
            "Algo: KNNBasic, UserID:     8, ItemID:    50, UserRateForItem:   5.0, date: None\n",
            "Number of train ratings: 75627\n",
            "Computing the msd similarity matrix...\n",
            "Done computing similarity matrix.\n",
            "user: 8          item: 50         r_ui = 5.00   est = 4.31   {'actual_k': 40, 'was_impossible': False}\n",
            "Number of test ratings: 25209\n",
            "RMSE: 0.9490\n"
          ]
        }
      ]
    },
    {
      "cell_type": "code",
      "source": [
        "algo_cv.update(data_cross_validate(algo, data))"
      ],
      "metadata": {
        "colab": {
          "base_uri": "https://localhost:8080/"
        },
        "id": "ZrM3m5dh-MTt",
        "outputId": "2c560e14-a9bd-4e13-cd9b-402e172f8055"
      },
      "execution_count": 120,
      "outputs": [
        {
          "output_type": "stream",
          "name": "stdout",
          "text": [
            "Algo: KNNBasic. Cross Validate: 5\n",
            "Computing the msd similarity matrix...\n",
            "Done computing similarity matrix.\n",
            "Computing the msd similarity matrix...\n",
            "Done computing similarity matrix.\n",
            "Computing the msd similarity matrix...\n",
            "Done computing similarity matrix.\n",
            "Computing the msd similarity matrix...\n",
            "Done computing similarity matrix.\n",
            "Computing the msd similarity matrix...\n",
            "Done computing similarity matrix.\n",
            "Evaluating RMSE, MAE of algorithm KNNBasic on 5 split(s).\n",
            "\n",
            "                  Fold 1  Fold 2  Fold 3  Fold 4  Fold 5  Mean    Std     \n",
            "RMSE (testset)    0.9440  0.9563  0.9512  0.9550  0.9366  0.9486  0.0074  \n",
            "MAE (testset)     0.7253  0.7340  0.7280  0.7279  0.7190  0.7268  0.0048  \n",
            "Fit time          0.14    0.15    0.16    0.15    0.16    0.15    0.00    \n",
            "Test time         1.36    2.22    1.37    1.33    1.35    1.52    0.35    \n",
            "mean_rmse=0.9486138698730862\n"
          ]
        }
      ]
    },
    {
      "cell_type": "markdown",
      "source": [
        "## Результати accuracy для різних алгоритмів"
      ],
      "metadata": {
        "id": "ZEf1LzGQH1qZ"
      }
    },
    {
      "cell_type": "code",
      "source": [
        "algo_split"
      ],
      "metadata": {
        "colab": {
          "base_uri": "https://localhost:8080/"
        },
        "id": "0s7f5PcQH_lH",
        "outputId": "57196611-3585-4d7e-898d-3d2c0da11c27"
      },
      "execution_count": 121,
      "outputs": [
        {
          "output_type": "execute_result",
          "data": {
            "text/plain": [
              "{'SVD': 0.8845328826142023,\n",
              " 'SVDpp': 0.854963027038533,\n",
              " 'NMF': 0.9238722015638993,\n",
              " 'KNNBasic': 0.9490405549770013}"
            ]
          },
          "metadata": {},
          "execution_count": 121
        }
      ]
    },
    {
      "cell_type": "code",
      "source": [
        "algo_split_s = dict(sorted(algo_split.items(), key=lambda x: x[1]))"
      ],
      "metadata": {
        "id": "QslxVHDiIj8S"
      },
      "execution_count": 122,
      "outputs": []
    },
    {
      "cell_type": "code",
      "source": [
        "import matplotlib.pyplot as plt\n",
        "\n",
        "def plot_algo(input_data: dict, title_type: str = \"\", ylabel_type: str=\"RMSE\", column=None):\n",
        "  x = list(input_data.keys())\n",
        "  if column is None:\n",
        "    y = list(input_data.values())\n",
        "  else:\n",
        "    y = [v[column] for v in input_data.values()]\n",
        "\n",
        "  plt.figure(figsize=(16, 5))\n",
        "  max_y = y[-1]*1.02\n",
        "  min_y = y[0]*.95\n",
        "  plt.ylim(min_y, max_y)\n",
        "  plt.title(f\"Результати {title_type} для різних алгоритмів\")\n",
        "\n",
        "  cmap = plt.get_cmap('Paired')\n",
        "  num_colors = len(x)\n",
        "  colors_map = [cmap(i / num_colors) for i in range(num_colors)]\n",
        "  custom_colors = {key: colors_map[i] for i,key in enumerate(sorted(x))}\n",
        "  colors = [custom_colors.get(x_v, 'blue') for x_v in x]\n",
        "\n",
        "  plt.bar(x, height=y, width=0.6, label=x, color=colors)\n",
        "  plt.plot(x, y, \"o-\")\n",
        "  plt.xlabel(\"Назва алгоритму\")\n",
        "  plt.ylabel(ylabel_type)\n",
        "  plt.vlines(x[0], min_y, max_y, color=\"red\", linestyle=\"-.\", label=\"Best Algo, lower value\")\n",
        "  plt.hlines(y[0], -0.3, x[-1], color=\"red\", linestyle=\"-.\")\n",
        "  diff_y = np.diff(y) / y[:-1] * 100\n",
        "  for i, val in enumerate(y):\n",
        "      text = str(round(val,4))\n",
        "      if i>0:\n",
        "        text += f\" [{round(diff_y[i-1],1):+}%]\"\n",
        "      plt.text(x[i], val * 1.01, text, ha='center', bbox=dict(facecolor='white', alpha=0.95))\n",
        "  plt.legend(loc=\"best\")\n",
        "  plt.show()\n",
        "  print(f\"Best algo: {x[0]}, with value: {y[0]:.4f}\")"
      ],
      "metadata": {
        "id": "SojB-No_IrpS"
      },
      "execution_count": 254,
      "outputs": []
    },
    {
      "cell_type": "code",
      "source": [
        "plot_algo(algo_split_s, \"predict accuracy\", \" Значення RMSE\")"
      ],
      "metadata": {
        "colab": {
          "base_uri": "https://localhost:8080/",
          "height": 504
        },
        "id": "orw3cpgESMTs",
        "outputId": "78311def-53be-4a0c-c704-d60b4bf4dadd"
      },
      "execution_count": 255,
      "outputs": [
        {
          "output_type": "display_data",
          "data": {
            "text/plain": [
              "<Figure size 1600x500 with 1 Axes>"
            ],
            "image/png": "[encoded data removed]"
          },
          "metadata": {}
        },
        {
          "output_type": "stream",
          "name": "stdout",
          "text": [
            "Best algo: SVDpp, with value: 0.8550\n"
          ]
        }
      ]
    },
    {
      "cell_type": "markdown",
      "source": [
        "## Результати кросвалідації для різних алгоритмів"
      ],
      "metadata": {
        "id": "9oZbFr2xZnyM"
      }
    },
    {
      "cell_type": "code",
      "source": [
        "algo_cv"
      ],
      "metadata": {
        "colab": {
          "base_uri": "https://localhost:8080/"
        },
        "id": "5l5ekHeqZnba",
        "outputId": "3cd21744-3bf6-4d4d-88fd-f66e00bcf133"
      },
      "execution_count": 125,
      "outputs": [
        {
          "output_type": "stream",
          "name": "stdout",
          "text": [
            "Best algo: SVDpp, with value: 0.8550\n"
          ]
        },
        {
          "output_type": "execute_result",
          "data": {
            "text/plain": [
              "{'SVD': (0.8761268456602316, 3.340492916107178, 0.29151358604431155),\n",
              " 'SVDpp': (0.8609489445932184, 92.3836612701416, 12.512887954711914),\n",
              " 'NMF': (0.9213600143709174, 2.8842977046966554, 0.1874476909637451),\n",
              " 'KNNBasic': (0.9486138698730862, 0.15097012519836425, 1.524953508377075)}"
            ]
          },
          "metadata": {},
          "execution_count": 125
        }
      ]
    },
    {
      "cell_type": "code",
      "source": [
        "column = 0\n",
        "algo_cv_s_rmse = dict(sorted(algo_cv.items(), key=lambda x: x[1][column]))\n",
        "plot_algo(algo_cv_s_rmse, \"кросвалідації\", \"Середнє значення RMSE\", column=column)"
      ],
      "metadata": {
        "id": "yUon2b_nbUFS",
        "colab": {
          "base_uri": "https://localhost:8080/",
          "height": 576
        },
        "outputId": "693f96c0-1f41-42ee-d027-3b695593d050"
      },
      "execution_count": 249,
      "outputs": [
        {
          "output_type": "stream",
          "name": "stdout",
          "text": [
            "['KNNBasic' 'NMF' 'SVD' 'SVDpp']\n",
            "[3 2 1 0]\n",
            "{'KNNBasic': (0.6509803921568628, 0.807843137254902, 0.8901960784313725, 1.0), 'NMF': (0.2, 0.6274509803921569, 0.17254901960784313, 1.0), 'SVD': (0.9921568627450981, 0.7490196078431373, 0.43529411764705883, 1.0), 'SVDpp': (0.41568627450980394, 0.23921568627450981, 0.6039215686274509, 1.0)}\n"
          ]
        },
        {
          "output_type": "display_data",
          "data": {
            "text/plain": [
              "<Figure size 1600x500 with 1 Axes>"
            ],
            "image/png": "[encoded data removed]"
          },
          "metadata": {}
        },
        {
          "output_type": "stream",
          "name": "stdout",
          "text": [
            "Best algo: SVDpp, with value: 0.8609\n"
          ]
        }
      ]
    },
    {
      "cell_type": "code",
      "source": [
        "column = 1\n",
        "algo_cv_s_fit = dict(sorted(algo_cv.items(), key=lambda x: x[1][column]))\n",
        "plot_algo(algo_cv_s_fit, \"часу кросвалідації\", \"Середнє значення часу навчання (fit), сек\", column=column)"
      ],
      "metadata": {
        "colab": {
          "base_uri": "https://localhost:8080/",
          "height": 576
        },
        "id": "He1I-qal5Oh8",
        "outputId": "241dcd98-a05a-4b1e-fb90-1f72d3bd3e6f"
      },
      "execution_count": 250,
      "outputs": [
        {
          "output_type": "stream",
          "name": "stdout",
          "text": [
            "['KNNBasic' 'NMF' 'SVD' 'SVDpp']\n",
            "[0 1 2 3]\n",
            "{'KNNBasic': (0.6509803921568628, 0.807843137254902, 0.8901960784313725, 1.0), 'NMF': (0.2, 0.6274509803921569, 0.17254901960784313, 1.0), 'SVD': (0.9921568627450981, 0.7490196078431373, 0.43529411764705883, 1.0), 'SVDpp': (0.41568627450980394, 0.23921568627450981, 0.6039215686274509, 1.0)}\n"
          ]
        },
        {
          "output_type": "display_data",
          "data": {
            "text/plain": [
              "<Figure size 1600x500 with 1 Axes>"
            ],
            "image/png": "[encoded data removed]"
          },
          "metadata": {}
        },
        {
          "output_type": "stream",
          "name": "stdout",
          "text": [
            "Best algo: KNNBasic, with value: 0.1510\n"
          ]
        }
      ]
    },
    {
      "cell_type": "code",
      "source": [
        "column = 2\n",
        "algo_cv_s_test = dict(sorted(algo_cv.items(), key=lambda x: x[1][column]))\n",
        "plot_algo(algo_cv_s_test, \"часу кросвалідації\", \"Середнє значення часу тестування (test), сек\",  column=column)"
      ],
      "metadata": {
        "colab": {
          "base_uri": "https://localhost:8080/",
          "height": 576
        },
        "id": "4rRRGBOf5jis",
        "outputId": "6890c7cc-271d-48f0-d839-5f5f5c787fa8"
      },
      "execution_count": 251,
      "outputs": [
        {
          "output_type": "stream",
          "name": "stdout",
          "text": [
            "['KNNBasic' 'NMF' 'SVD' 'SVDpp']\n",
            "[2 0 1 3]\n",
            "{'KNNBasic': (0.6509803921568628, 0.807843137254902, 0.8901960784313725, 1.0), 'NMF': (0.2, 0.6274509803921569, 0.17254901960784313, 1.0), 'SVD': (0.9921568627450981, 0.7490196078431373, 0.43529411764705883, 1.0), 'SVDpp': (0.41568627450980394, 0.23921568627450981, 0.6039215686274509, 1.0)}\n"
          ]
        },
        {
          "output_type": "display_data",
          "data": {
            "text/plain": [
              "<Figure size 1600x500 with 1 Axes>"
            ],
            "image/png": "[encoded data removed]"
          },
          "metadata": {}
        },
        {
          "output_type": "stream",
          "name": "stdout",
          "text": [
            "Best algo: NMF, with value: 0.1874\n"
          ]
        }
      ]
    },
    {
      "cell_type": "markdown",
      "source": [
        "## Найкращій алгорим"
      ],
      "metadata": {
        "id": "UfO5MUvEABAK"
      }
    },
    {
      "cell_type": "markdown",
      "source": [
        "- за точністю предбачення: SVD++, SVD\n",
        "- за часом навчання моделі: KNNBasic, SVD\n",
        "- за часом тестування моделі: NMF,SVD\n",
        "\n",
        "Тому вибираємо для подальшіх розрахунків за критерієм точності: SVD++, але за критерієм швидкісті та точності вибриаємо: SVD."
      ],
      "metadata": {
        "id": "nav4ol5M-YkZ"
      }
    },
    {
      "cell_type": "code",
      "source": [
        "best_algo = SVDpp"
      ],
      "metadata": {
        "id": "qodh0GyF6zry"
      },
      "execution_count": 129,
      "outputs": []
    },
    {
      "cell_type": "markdown",
      "source": [
        "## Пошук оптимальних параметрів використовуючи GridSearchCV для SVD++ (SVDpp)"
      ],
      "metadata": {
        "id": "t9xezE86PB4A"
      }
    },
    {
      "cell_type": "code",
      "source": [
        "from surprise.model_selection import GridSearchCV\n",
        "\n",
        "param_grid = {\"random_state\": [SEED],\n",
        "              \"n_epochs\": [15, 20], \"lr_all\": [0.007], \"reg_all\": [0.02, 0.2]\n",
        "              }\n",
        "gs = GridSearchCV(best_algo, param_grid, measures=[\"rmse\"], cv=5, n_jobs=-1)\n",
        "\n",
        "%time gs.fit(data)\n",
        "\n",
        "# best RMSE score\n",
        "print(gs.best_score[\"rmse\"])\n",
        "\n",
        "# combination of parameters that gave the best RMSE score\n",
        "best_params = gs.best_params[\"rmse\"]\n",
        "print(f\"{best_params=}\")"
      ],
      "metadata": {
        "colab": {
          "base_uri": "https://localhost:8080/"
        },
        "id": "3xG17GmmPClu",
        "outputId": "4e62f51d-5f43-4900-ef11-17b3d36fa5b4"
      },
      "execution_count": 130,
      "outputs": [
        {
          "output_type": "stream",
          "name": "stdout",
          "text": [
            "CPU times: user 16 s, sys: 2.88 s, total: 18.9 s\n",
            "Wall time: 23min 55s\n",
            "0.8601591251668891\n",
            "best_params={'random_state': 42, 'n_epochs': 15, 'lr_all': 0.007, 'reg_all': 0.02}\n"
          ]
        }
      ]
    },
    {
      "cell_type": "markdown",
      "source": [
        "#### Звіт роботи GridSearchCV для всіх комбінацій параметрів"
      ],
      "metadata": {
        "id": "-hEdiA9J8XbC"
      }
    },
    {
      "cell_type": "code",
      "source": [
        "results_df = pd.DataFrame.from_dict(gs.cv_results)\n",
        "results_df.head(10)"
      ],
      "metadata": {
        "colab": {
          "base_uri": "https://localhost:8080/",
          "height": 334
        },
        "id": "RE51ObkqRAua",
        "outputId": "7ac28cf4-54f1-426a-9c07-321aa3e9ee46"
      },
      "execution_count": 131,
      "outputs": [
        {
          "output_type": "execute_result",
          "data": {
            "text/plain": [
              "   split0_test_rmse  split1_test_rmse  split2_test_rmse  split3_test_rmse  \\\n",
              "0          0.849822          0.866591          0.861338          0.858759   \n",
              "1          0.861668          0.879245          0.875025          0.872400   \n",
              "2          0.851373          0.867429          0.861217          0.857870   \n",
              "3          0.859667          0.877133          0.873002          0.870068   \n",
              "\n",
              "   split4_test_rmse  mean_test_rmse  std_test_rmse  rank_test_rmse  \\\n",
              "0          0.864285        0.860159       0.005807               1   \n",
              "1          0.879619        0.873591       0.006541               4   \n",
              "2          0.863819        0.860342       0.005470               2   \n",
              "3          0.877709        0.871516       0.006552               3   \n",
              "\n",
              "   mean_fit_time  std_fit_time  mean_test_time  std_test_time  \\\n",
              "0     108.221180      0.793481       16.967878       0.576956   \n",
              "1     108.487505      1.351501       16.819253       0.694223   \n",
              "2     144.561456      0.511957       16.480368       0.626242   \n",
              "3     144.454865      0.756842       15.305020       1.416840   \n",
              "\n",
              "                                              params  param_random_state  \\\n",
              "0  {'random_state': 42, 'n_epochs': 15, 'lr_all':...                  42   \n",
              "1  {'random_state': 42, 'n_epochs': 15, 'lr_all':...                  42   \n",
              "2  {'random_state': 42, 'n_epochs': 20, 'lr_all':...                  42   \n",
              "3  {'random_state': 42, 'n_epochs': 20, 'lr_all':...                  42   \n",
              "\n",
              "   param_n_epochs  param_lr_all  param_reg_all  \n",
              "0              15         0.007           0.02  \n",
              "1              15         0.007           0.20  \n",
              "2              20         0.007           0.02  \n",
              "3              20         0.007           0.20  "
            ],
            "text/html": [
              "\n",
              "  <div id=\"df-5514c567-b5f0-43aa-859d-8bee2cece38c\" class=\"colab-df-container\">\n",
              "    <div>\n",
              "<style scoped>\n",
              "    .dataframe tbody tr th:only-of-type {\n",
              "        vertical-align: middle;\n",
              "    }\n",
              "\n",
              "    .dataframe tbody tr th {\n",
              "        vertical-align: top;\n",
              "    }\n",
              "\n",
              "    .dataframe thead th {\n",
              "        text-align: right;\n",
              "    }\n",
              "</style>\n",
              "<table border=\"1\" class=\"dataframe\">\n",
              "  <thead>\n",
              "    <tr style=\"text-align: right;\">\n",
              "      <th></th>\n",
              "      <th>split0_test_rmse</th>\n",
              "      <th>split1_test_rmse</th>\n",
              "      <th>split2_test_rmse</th>\n",
              "      <th>split3_test_rmse</th>\n",
              "      <th>split4_test_rmse</th>\n",
              "      <th>mean_test_rmse</th>\n",
              "      <th>std_test_rmse</th>\n",
              "      <th>rank_test_rmse</th>\n",
              "      <th>mean_fit_time</th>\n",
              "      <th>std_fit_time</th>\n",
              "      <th>mean_test_time</th>\n",
              "      <th>std_test_time</th>\n",
              "      <th>params</th>\n",
              "      <th>param_random_state</th>\n",
              "      <th>param_n_epochs</th>\n",
              "      <th>param_lr_all</th>\n",
              "      <th>param_reg_all</th>\n",
              "    </tr>\n",
              "  </thead>\n",
              "  <tbody>\n",
              "    <tr>\n",
              "      <th>0</th>\n",
              "      <td>0.849822</td>\n",
              "      <td>0.866591</td>\n",
              "      <td>0.861338</td>\n",
              "      <td>0.858759</td>\n",
              "      <td>0.864285</td>\n",
              "      <td>0.860159</td>\n",
              "      <td>0.005807</td>\n",
              "      <td>1</td>\n",
              "      <td>108.221180</td>\n",
              "      <td>0.793481</td>\n",
              "      <td>16.967878</td>\n",
              "      <td>0.576956</td>\n",
              "      <td>{'random_state': 42, 'n_epochs': 15, 'lr_all':...</td>\n",
              "      <td>42</td>\n",
              "      <td>15</td>\n",
              "      <td>0.007</td>\n",
              "      <td>0.02</td>\n",
              "    </tr>\n",
              "    <tr>\n",
              "      <th>1</th>\n",
              "      <td>0.861668</td>\n",
              "      <td>0.879245</td>\n",
              "      <td>0.875025</td>\n",
              "      <td>0.872400</td>\n",
              "      <td>0.879619</td>\n",
              "      <td>0.873591</td>\n",
              "      <td>0.006541</td>\n",
              "      <td>4</td>\n",
              "      <td>108.487505</td>\n",
              "      <td>1.351501</td>\n",
              "      <td>16.819253</td>\n",
              "      <td>0.694223</td>\n",
              "      <td>{'random_state': 42, 'n_epochs': 15, 'lr_all':...</td>\n",
              "      <td>42</td>\n",
              "      <td>15</td>\n",
              "      <td>0.007</td>\n",
              "      <td>0.20</td>\n",
              "    </tr>\n",
              "    <tr>\n",
              "      <th>2</th>\n",
              "      <td>0.851373</td>\n",
              "      <td>0.867429</td>\n",
              "      <td>0.861217</td>\n",
              "      <td>0.857870</td>\n",
              "      <td>0.863819</td>\n",
              "      <td>0.860342</td>\n",
              "      <td>0.005470</td>\n",
              "      <td>2</td>\n",
              "      <td>144.561456</td>\n",
              "      <td>0.511957</td>\n",
              "      <td>16.480368</td>\n",
              "      <td>0.626242</td>\n",
              "      <td>{'random_state': 42, 'n_epochs': 20, 'lr_all':...</td>\n",
              "      <td>42</td>\n",
              "      <td>20</td>\n",
              "      <td>0.007</td>\n",
              "      <td>0.02</td>\n",
              "    </tr>\n",
              "    <tr>\n",
              "      <th>3</th>\n",
              "      <td>0.859667</td>\n",
              "      <td>0.877133</td>\n",
              "      <td>0.873002</td>\n",
              "      <td>0.870068</td>\n",
              "      <td>0.877709</td>\n",
              "      <td>0.871516</td>\n",
              "      <td>0.006552</td>\n",
              "      <td>3</td>\n",
              "      <td>144.454865</td>\n",
              "      <td>0.756842</td>\n",
              "      <td>15.305020</td>\n",
              "      <td>1.416840</td>\n",
              "      <td>{'random_state': 42, 'n_epochs': 20, 'lr_all':...</td>\n",
              "      <td>42</td>\n",
              "      <td>20</td>\n",
              "      <td>0.007</td>\n",
              "      <td>0.20</td>\n",
              "    </tr>\n",
              "  </tbody>\n",
              "</table>\n",
              "</div>\n",
              "    <div class=\"colab-df-buttons\">\n",
              "\n",
              "  <div class=\"colab-df-container\">\n",
              "    <button class=\"colab-df-convert\" onclick=\"convertToInteractive('df-5514c567-b5f0-43aa-859d-8bee2cece38c')\"\n",
              "            title=\"Convert this dataframe to an interactive table.\"\n",
              "            style=\"display:none;\">\n",
              "\n",
              "  <svg xmlns=\"http://www.w3.org/2000/svg\" height=\"24px\" viewBox=\"0 -960 960 960\">\n",
              "    <path d=\"M120-120v-720h720v720H120Zm60-500h600v-160H180v160Zm220 220h160v-160H400v160Zm0 220h160v-160H400v160ZM180-400h160v-160H180v160Zm440 0h160v-160H620v160ZM180-180h160v-160H180v160Zm440 0h160v-160H620v160Z\"/>\n",
              "  </svg>\n",
              "    </button>\n",
              "\n",
              "  <style>\n",
              "    .colab-df-container {\n",
              "      display:flex;\n",
              "      gap: 12px;\n",
              "    }\n",
              "\n",
              "    .colab-df-convert {\n",
              "      background-color: #E8F0FE;\n",
              "      border: none;\n",
              "      border-radius: 50%;\n",
              "      cursor: pointer;\n",
              "      display: none;\n",
              "      fill: #1967D2;\n",
              "      height: 32px;\n",
              "      padding: 0 0 0 0;\n",
              "      width: 32px;\n",
              "    }\n",
              "\n",
              "    .colab-df-convert:hover {\n",
              "      background-color: #E2EBFA;\n",
              "      box-shadow: 0px 1px 2px rgba(60, 64, 67, 0.3), 0px 1px 3px 1px rgba(60, 64, 67, 0.15);\n",
              "      fill: #174EA6;\n",
              "    }\n",
              "\n",
              "    .colab-df-buttons div {\n",
              "      margin-bottom: 4px;\n",
              "    }\n",
              "\n",
              "    [theme=dark] .colab-df-convert {\n",
              "      background-color: #3B4455;\n",
              "      fill: #D2E3FC;\n",
              "    }\n",
              "\n",
              "    [theme=dark] .colab-df-convert:hover {\n",
              "      background-color: #434B5C;\n",
              "      box-shadow: 0px 1px 3px 1px rgba(0, 0, 0, 0.15);\n",
              "      filter: drop-shadow(0px 1px 2px rgba(0, 0, 0, 0.3));\n",
              "      fill: #FFFFFF;\n",
              "    }\n",
              "  </style>\n",
              "\n",
              "    <script>\n",
              "      const buttonEl =\n",
              "        document.querySelector('#df-5514c567-b5f0-43aa-859d-8bee2cece38c button.colab-df-convert');\n",
              "      buttonEl.style.display =\n",
              "        google.colab.kernel.accessAllowed ? 'block' : 'none';\n",
              "\n",
              "      async function convertToInteractive(key) {\n",
              "        const element = document.querySelector('#df-5514c567-b5f0-43aa-859d-8bee2cece38c');\n",
              "        const dataTable =\n",
              "          await google.colab.kernel.invokeFunction('convertToInteractive',\n",
              "                                                    [key], {});\n",
              "        if (!dataTable) return;\n",
              "\n",
              "        const docLinkHtml = 'Like what you see? Visit the ' +\n",
              "          '<a target=\"_blank\" href=https://colab.research.google.com/notebooks/data_table.ipynb>data table notebook</a>'\n",
              "          + ' to learn more about interactive tables.';\n",
              "        element.innerHTML = '';\n",
              "        dataTable['output_type'] = 'display_data';\n",
              "        await google.colab.output.renderOutput(dataTable, element);\n",
              "        const docLink = document.createElement('div');\n",
              "        docLink.innerHTML = docLinkHtml;\n",
              "        element.appendChild(docLink);\n",
              "      }\n",
              "    </script>\n",
              "  </div>\n",
              "\n",
              "\n",
              "<div id=\"df-ce6b94cb-3939-442b-a018-412876a71ef4\">\n",
              "  <button class=\"colab-df-quickchart\" onclick=\"quickchart('df-ce6b94cb-3939-442b-a018-412876a71ef4')\"\n",
              "            title=\"Suggest charts\"\n",
              "            style=\"display:none;\">\n",
              "\n",
              "<svg xmlns=\"http://www.w3.org/2000/svg\" height=\"24px\"viewBox=\"0 0 24 24\"\n",
              "     width=\"24px\">\n",
              "    <g>\n",
              "        <path d=\"M19 3H5c-1.1 0-2 .9-2 2v14c0 1.1.9 2 2 2h14c1.1 0 2-.9 2-2V5c0-1.1-.9-2-2-2zM9 17H7v-7h2v7zm4 0h-2V7h2v10zm4 0h-2v-4h2v4z\"/>\n",
              "    </g>\n",
              "</svg>\n",
              "  </button>\n",
              "\n",
              "<style>\n",
              "  .colab-df-quickchart {\n",
              "      --bg-color: #E8F0FE;\n",
              "      --fill-color: #1967D2;\n",
              "      --hover-bg-color: #E2EBFA;\n",
              "      --hover-fill-color: #174EA6;\n",
              "      --disabled-fill-color: #AAA;\n",
              "      --disabled-bg-color: #DDD;\n",
              "  }\n",
              "\n",
              "  [theme=dark] .colab-df-quickchart {\n",
              "      --bg-color: #3B4455;\n",
              "      --fill-color: #D2E3FC;\n",
              "      --hover-bg-color: #434B5C;\n",
              "      --hover-fill-color: #FFFFFF;\n",
              "      --disabled-bg-color: #3B4455;\n",
              "      --disabled-fill-color: #666;\n",
              "  }\n",
              "\n",
              "  .colab-df-quickchart {\n",
              "    background-color: var(--bg-color);\n",
              "    border: none;\n",
              "    border-radius: 50%;\n",
              "    cursor: pointer;\n",
              "    display: none;\n",
              "    fill: var(--fill-color);\n",
              "    height: 32px;\n",
              "    padding: 0;\n",
              "    width: 32px;\n",
              "  }\n",
              "\n",
              "  .colab-df-quickchart:hover {\n",
              "    background-color: var(--hover-bg-color);\n",
              "    box-shadow: 0 1px 2px rgba(60, 64, 67, 0.3), 0 1px 3px 1px rgba(60, 64, 67, 0.15);\n",
              "    fill: var(--button-hover-fill-color);\n",
              "  }\n",
              "\n",
              "  .colab-df-quickchart-complete:disabled,\n",
              "  .colab-df-quickchart-complete:disabled:hover {\n",
              "    background-color: var(--disabled-bg-color);\n",
              "    fill: var(--disabled-fill-color);\n",
              "    box-shadow: none;\n",
              "  }\n",
              "\n",
              "  .colab-df-spinner {\n",
              "    border: 2px solid var(--fill-color);\n",
              "    border-color: transparent;\n",
              "    border-bottom-color: var(--fill-color);\n",
              "    animation:\n",
              "      spin 1s steps(1) infinite;\n",
              "  }\n",
              "\n",
              "  @keyframes spin {\n",
              "    0% {\n",
              "      border-color: transparent;\n",
              "      border-bottom-color: var(--fill-color);\n",
              "      border-left-color: var(--fill-color);\n",
              "    }\n",
              "    20% {\n",
              "      border-color: transparent;\n",
              "      border-left-color: var(--fill-color);\n",
              "      border-top-color: var(--fill-color);\n",
              "    }\n",
              "    30% {\n",
              "      border-color: transparent;\n",
              "      border-left-color: var(--fill-color);\n",
              "      border-top-color: var(--fill-color);\n",
              "      border-right-color: var(--fill-color);\n",
              "    }\n",
              "    40% {\n",
              "      border-color: transparent;\n",
              "      border-right-color: var(--fill-color);\n",
              "      border-top-color: var(--fill-color);\n",
              "    }\n",
              "    60% {\n",
              "      border-color: transparent;\n",
              "      border-right-color: var(--fill-color);\n",
              "    }\n",
              "    80% {\n",
              "      border-color: transparent;\n",
              "      border-right-color: var(--fill-color);\n",
              "      border-bottom-color: var(--fill-color);\n",
              "    }\n",
              "    90% {\n",
              "      border-color: transparent;\n",
              "      border-bottom-color: var(--fill-color);\n",
              "    }\n",
              "  }\n",
              "</style>\n",
              "\n",
              "  <script>\n",
              "    async function quickchart(key) {\n",
              "      const quickchartButtonEl =\n",
              "        document.querySelector('#' + key + ' button');\n",
              "      quickchartButtonEl.disabled = true;  // To prevent multiple clicks.\n",
              "      quickchartButtonEl.classList.add('colab-df-spinner');\n",
              "      try {\n",
              "        const charts = await google.colab.kernel.invokeFunction(\n",
              "            'suggestCharts', [key], {});\n",
              "      } catch (error) {\n",
              "        console.error('Error during call to suggestCharts:', error);\n",
              "      }\n",
              "      quickchartButtonEl.classList.remove('colab-df-spinner');\n",
              "      quickchartButtonEl.classList.add('colab-df-quickchart-complete');\n",
              "    }\n",
              "    (() => {\n",
              "      let quickchartButtonEl =\n",
              "        document.querySelector('#df-ce6b94cb-3939-442b-a018-412876a71ef4 button');\n",
              "      quickchartButtonEl.style.display =\n",
              "        google.colab.kernel.accessAllowed ? 'block' : 'none';\n",
              "    })();\n",
              "  </script>\n",
              "</div>\n",
              "    </div>\n",
              "  </div>\n"
            ]
          },
          "metadata": {},
          "execution_count": 131
        }
      ]
    },
    {
      "cell_type": "markdown",
      "source": [
        "#### навчання на full_trainset для найкращого алгоритму"
      ],
      "metadata": {
        "id": "7bF8ur3t79PC"
      }
    },
    {
      "cell_type": "code",
      "source": [
        "# We can now use the algorithm that yields the best rmse:\n",
        "algo = gs.best_estimator[\"rmse\"]"
      ],
      "metadata": {
        "id": "rwvpU1k9Qtgf"
      },
      "execution_count": 132,
      "outputs": []
    },
    {
      "cell_type": "markdown",
      "source": [
        "## Найкращі рекомендації для користувачів (SVDpp):"
      ],
      "metadata": {
        "id": "NmFGtg1lSWng"
      }
    },
    {
      "cell_type": "code",
      "source": [
        "from collections import defaultdict\n",
        "\n",
        "\n",
        "def get_top_n(predictions, n=10):\n",
        "    \"\"\"Return the top-N recommendation for each user from a set of predictions.\n",
        "\n",
        "    Args:\n",
        "        predictions(list of Prediction objects): The list of predictions, as\n",
        "            returned by the test method of an algorithm.\n",
        "        n(int): The number of recommendation to output for each user. Default\n",
        "            is 10.\n",
        "\n",
        "    Returns:\n",
        "    A dict where keys are user (raw) ids and values are lists of tuples:\n",
        "        [(raw item id, rating estimation), ...] of size n.\n",
        "    \"\"\"\n",
        "\n",
        "    # First map the predictions to each user.\n",
        "    top_n = defaultdict(list)\n",
        "    for uid, iid, true_r, est, _ in predictions:\n",
        "        top_n[uid].append((iid, est))\n",
        "\n",
        "    # Then sort the predictions for each user and retrieve the k highest ones.\n",
        "    for uid, user_ratings in top_n.items():\n",
        "        user_ratings.sort(key=lambda x: x[1], reverse=True)\n",
        "        top_n[uid] = user_ratings[:n]\n",
        "\n",
        "    return top_n"
      ],
      "metadata": {
        "id": "sUtJHoN-SXaz"
      },
      "execution_count": 133,
      "outputs": []
    },
    {
      "cell_type": "code",
      "source": [
        "# First train an SVD algorithm on the movielens dataset.\n",
        "trainset = data.build_full_trainset()\n",
        "\n",
        "# # best value from GridSearchCV\n",
        "# algo_param = {'random_state': SEED, 'n_epochs': 20, 'lr_all': 0.005, 'reg_all': 0.02}\n",
        "print(algo.__class__.__name__, \"params:\", best_params)\n",
        "# algo = SVDpp(**algo_param)\n",
        "%time algo.fit(trainset)\n",
        "\n",
        "# Than predict ratings for all pairs (u, i) that are NOT in the training set.\n",
        "testset = trainset.build_anti_testset()\n",
        "%time predictions = algo.test(testset)"
      ],
      "metadata": {
        "colab": {
          "base_uri": "https://localhost:8080/"
        },
        "id": "Qc14fUnHGuVi",
        "outputId": "fab8727f-8e2c-4e44-cf0b-fb20a3bf26e0"
      },
      "execution_count": 134,
      "outputs": [
        {
          "output_type": "stream",
          "name": "stdout",
          "text": [
            "SVDpp params: {'random_state': 42, 'n_epochs': 15, 'lr_all': 0.007, 'reg_all': 0.02}\n",
            "CPU times: user 1min 36s, sys: 198 ms, total: 1min 37s\n",
            "Wall time: 1min 37s\n",
            "CPU times: user 18min 48s, sys: 30.4 s, total: 19min 19s\n",
            "Wall time: 19min 13s\n"
          ]
        }
      ]
    },
    {
      "cell_type": "code",
      "source": [
        "recomendations = 5\n",
        "top_n = get_top_n(predictions, n=recomendations)"
      ],
      "metadata": {
        "id": "2wgCVlumNEit"
      },
      "execution_count": null,
      "outputs": []
    },
    {
      "cell_type": "code",
      "source": [
        "counter=15\n",
        "# Print the recommended items for each user\n",
        "print(f\"Найкращі рекомендації для перших {counter} користувачів:\\n\")\n",
        "\n",
        "for uid, user_ratings in top_n.items():\n",
        "    recomend = [f\"{iid:6}: {'*'*round(est):5} ({est:.2f})\" for (iid, est) in user_ratings]\n",
        "    print(f\"Для користувача: {uid:2}, найкращі {recomendations} рекомендацій: {recomend}\")\n",
        "    counter -= 1\n",
        "    if counter <= 0:\n",
        "      break"
      ],
      "metadata": {
        "colab": {
          "base_uri": "https://localhost:8080/"
        },
        "id": "_692eM54DUzj",
        "outputId": "0d79d017-9bd5-4365-efa9-4ce893f936c2"
      },
      "execution_count": 154,
      "outputs": [
        {
          "output_type": "stream",
          "name": "stdout",
          "text": [
            "Найкращі рекомендації для перших 15 користувачів:\n",
            "\n",
            "Для користувача:  1, найкращі 5 рекомендацій: ['   318: ***** (5.00)', ' 58559: ***** (5.00)', '   720: ***** (5.00)', '   914: ***** (5.00)', '   898: ***** (5.00)']\n",
            "Для користувача:  2, найкращі 5 рекомендацій: ['  1204: ****  (4.41)', '   750: ****  (4.41)', '  3451: ****  (4.35)', '  2324: ****  (4.34)', '   933: ****  (4.34)']\n",
            "Для користувача:  3, найкращі 5 рекомендацій: ['   356: ****  (3.64)', '   318: ****  (3.56)', '  1204: ****  (3.54)', '   457: ****  (3.50)', '  1223: ***   (3.50)']\n",
            "Для користувача:  4, найкращі 5 рекомендацій: [' 56782: ****  (4.34)', '   922: ****  (4.28)', '  6016: ****  (4.23)', '  1228: ****  (4.22)', '  1276: ****  (4.20)']\n",
            "Для користувача:  5, найкращі 5 рекомендацій: ['   933: ****  (4.24)', '  1204: ****  (4.20)', '  3451: ****  (4.19)', '   898: ****  (4.19)', '  1276: ****  (4.18)']\n",
            "Для користувача:  6, найкращі 5 рекомендацій: ['  1197: ****  (4.49)', '  1203: ****  (4.35)', '  1223: ****  (4.35)', '   922: ****  (4.34)', '   910: ****  (4.34)']\n",
            "Для користувача:  7, найкращі 5 рекомендацій: ['   296: ****  (4.29)', '  1203: ****  (4.22)', '  2959: ****  (4.11)', '   318: ****  (4.09)', '  1291: ****  (4.09)']\n",
            "Для користувача:  8, найкращі 5 рекомендацій: ['   750: ****  (4.49)', '  1204: ****  (4.44)', '  2959: ****  (4.42)', '  7361: ****  (4.37)', '  2858: ****  (4.36)']\n",
            "Для користувача:  9, найкращі 5 рекомендацій: ['   296: ****  (4.35)', '   858: ****  (4.33)', '  3030: ****  (4.20)', '  4973: ****  (4.19)', '   898: ****  (4.18)']\n",
            "Для користувача: 10, найкращі 5 рекомендацій: ['  2572: ****  (4.05)', '  3451: ****  (4.03)', '  1584: ****  (3.96)', '    58: ****  (3.96)', '  2580: ****  (3.91)']\n",
            "Для користувача: 11, найкращі 5 рекомендацій: ['   898: ***** (4.60)', '  2571: ***** (4.58)', '  1262: ***** (4.58)', '   904: ***** (4.56)', '  1248: ***** (4.56)']\n",
            "Для користувача: 12, найкращі 5 рекомендацій: ['    50: ***** (5.00)', '   260: ***** (5.00)', '   954: ***** (5.00)', '  1197: ***** (5.00)', '  1219: ***** (5.00)']\n",
            "Для користувача: 13, найкращі 5 рекомендацій: ['   318: ****  (4.50)', '   898: ****  (4.45)', '   922: ****  (4.45)', '  1204: ****  (4.45)', '   246: ****  (4.41)']\n",
            "Для користувача: 14, найкращі 5 рекомендацій: ['  1204: ****  (4.31)', '  3451: ****  (4.30)', '105504: ****  (4.21)', '  1104: ****  (4.19)', '   908: ****  (4.18)']\n",
            "Для користувача: 15, найкращі 5 рекомендацій: ['  1204: ****  (4.04)', '   922: ****  (4.00)', '  1704: ****  (3.99)', '   750: ****  (3.96)', '  1203: ****  (3.95)']\n"
          ]
        }
      ]
    },
    {
      "cell_type": "markdown",
      "source": [
        "### Decode name of movies"
      ],
      "metadata": {
        "id": "st-VpfsOHfV7"
      }
    },
    {
      "cell_type": "code",
      "source": [
        "if laod_mode == \"load_builtin\":\n",
        "  movie_list = pd.read_csv(movies_csv ) # index_col=\"movieId\"\n",
        "else:\n",
        "    movie_list = pd.read_csv(movies_csv, index_col=\"movieId\")\n",
        "movie_list.sample(3)"
      ],
      "metadata": {
        "colab": {
          "base_uri": "https://localhost:8080/",
          "height": 175
        },
        "id": "2P4cU4v11CpR",
        "outputId": "5f94e32a-08f6-49c0-8c7f-a0b9726d54dc"
      },
      "execution_count": 196,
      "outputs": [
        {
          "output_type": "execute_result",
          "data": {
            "text/plain": [
              "                                                     title  \\\n",
              "movieId                                                      \n",
              "173145               War for the Planet of the Apes (2017)   \n",
              "74510    Girl Who Played with Fire, The (Flickan som le...   \n",
              "285                                   Beyond Bedlam (1993)   \n",
              "\n",
              "                                      genres  \n",
              "movieId                                       \n",
              "173145         Action|Adventure|Drama|Sci-Fi  \n",
              "74510    Action|Crime|Drama|Mystery|Thriller  \n",
              "285                             Drama|Horror  "
            ],
            "text/html": [
              "\n",
              "  <div id=\"df-54883152-0729-4fc6-bba3-cf805f0c20d5\" class=\"colab-df-container\">\n",
              "    <div>\n",
              "<style scoped>\n",
              "    .dataframe tbody tr th:only-of-type {\n",
              "        vertical-align: middle;\n",
              "    }\n",
              "\n",
              "    .dataframe tbody tr th {\n",
              "        vertical-align: top;\n",
              "    }\n",
              "\n",
              "    .dataframe thead th {\n",
              "        text-align: right;\n",
              "    }\n",
              "</style>\n",
              "<table border=\"1\" class=\"dataframe\">\n",
              "  <thead>\n",
              "    <tr style=\"text-align: right;\">\n",
              "      <th></th>\n",
              "      <th>title</th>\n",
              "      <th>genres</th>\n",
              "    </tr>\n",
              "    <tr>\n",
              "      <th>movieId</th>\n",
              "      <th></th>\n",
              "      <th></th>\n",
              "    </tr>\n",
              "  </thead>\n",
              "  <tbody>\n",
              "    <tr>\n",
              "      <th>173145</th>\n",
              "      <td>War for the Planet of the Apes (2017)</td>\n",
              "      <td>Action|Adventure|Drama|Sci-Fi</td>\n",
              "    </tr>\n",
              "    <tr>\n",
              "      <th>74510</th>\n",
              "      <td>Girl Who Played with Fire, The (Flickan som le...</td>\n",
              "      <td>Action|Crime|Drama|Mystery|Thriller</td>\n",
              "    </tr>\n",
              "    <tr>\n",
              "      <th>285</th>\n",
              "      <td>Beyond Bedlam (1993)</td>\n",
              "      <td>Drama|Horror</td>\n",
              "    </tr>\n",
              "  </tbody>\n",
              "</table>\n",
              "</div>\n",
              "    <div class=\"colab-df-buttons\">\n",
              "\n",
              "  <div class=\"colab-df-container\">\n",
              "    <button class=\"colab-df-convert\" onclick=\"convertToInteractive('df-54883152-0729-4fc6-bba3-cf805f0c20d5')\"\n",
              "            title=\"Convert this dataframe to an interactive table.\"\n",
              "            style=\"display:none;\">\n",
              "\n",
              "  <svg xmlns=\"http://www.w3.org/2000/svg\" height=\"24px\" viewBox=\"0 -960 960 960\">\n",
              "    <path d=\"M120-120v-720h720v720H120Zm60-500h600v-160H180v160Zm220 220h160v-160H400v160Zm0 220h160v-160H400v160ZM180-400h160v-160H180v160Zm440 0h160v-160H620v160ZM180-180h160v-160H180v160Zm440 0h160v-160H620v160Z\"/>\n",
              "  </svg>\n",
              "    </button>\n",
              "\n",
              "  <style>\n",
              "    .colab-df-container {\n",
              "      display:flex;\n",
              "      gap: 12px;\n",
              "    }\n",
              "\n",
              "    .colab-df-convert {\n",
              "      background-color: #E8F0FE;\n",
              "      border: none;\n",
              "      border-radius: 50%;\n",
              "      cursor: pointer;\n",
              "      display: none;\n",
              "      fill: #1967D2;\n",
              "      height: 32px;\n",
              "      padding: 0 0 0 0;\n",
              "      width: 32px;\n",
              "    }\n",
              "\n",
              "    .colab-df-convert:hover {\n",
              "      background-color: #E2EBFA;\n",
              "      box-shadow: 0px 1px 2px rgba(60, 64, 67, 0.3), 0px 1px 3px 1px rgba(60, 64, 67, 0.15);\n",
              "      fill: #174EA6;\n",
              "    }\n",
              "\n",
              "    .colab-df-buttons div {\n",
              "      margin-bottom: 4px;\n",
              "    }\n",
              "\n",
              "    [theme=dark] .colab-df-convert {\n",
              "      background-color: #3B4455;\n",
              "      fill: #D2E3FC;\n",
              "    }\n",
              "\n",
              "    [theme=dark] .colab-df-convert:hover {\n",
              "      background-color: #434B5C;\n",
              "      box-shadow: 0px 1px 3px 1px rgba(0, 0, 0, 0.15);\n",
              "      filter: drop-shadow(0px 1px 2px rgba(0, 0, 0, 0.3));\n",
              "      fill: #FFFFFF;\n",
              "    }\n",
              "  </style>\n",
              "\n",
              "    <script>\n",
              "      const buttonEl =\n",
              "        document.querySelector('#df-54883152-0729-4fc6-bba3-cf805f0c20d5 button.colab-df-convert');\n",
              "      buttonEl.style.display =\n",
              "        google.colab.kernel.accessAllowed ? 'block' : 'none';\n",
              "\n",
              "      async function convertToInteractive(key) {\n",
              "        const element = document.querySelector('#df-54883152-0729-4fc6-bba3-cf805f0c20d5');\n",
              "        const dataTable =\n",
              "          await google.colab.kernel.invokeFunction('convertToInteractive',\n",
              "                                                    [key], {});\n",
              "        if (!dataTable) return;\n",
              "\n",
              "        const docLinkHtml = 'Like what you see? Visit the ' +\n",
              "          '<a target=\"_blank\" href=https://colab.research.google.com/notebooks/data_table.ipynb>data table notebook</a>'\n",
              "          + ' to learn more about interactive tables.';\n",
              "        element.innerHTML = '';\n",
              "        dataTable['output_type'] = 'display_data';\n",
              "        await google.colab.output.renderOutput(dataTable, element);\n",
              "        const docLink = document.createElement('div');\n",
              "        docLink.innerHTML = docLinkHtml;\n",
              "        element.appendChild(docLink);\n",
              "      }\n",
              "    </script>\n",
              "  </div>\n",
              "\n",
              "\n",
              "<div id=\"df-1a1d1ccc-1597-4b83-9559-6c373f46ec50\">\n",
              "  <button class=\"colab-df-quickchart\" onclick=\"quickchart('df-1a1d1ccc-1597-4b83-9559-6c373f46ec50')\"\n",
              "            title=\"Suggest charts\"\n",
              "            style=\"display:none;\">\n",
              "\n",
              "<svg xmlns=\"http://www.w3.org/2000/svg\" height=\"24px\"viewBox=\"0 0 24 24\"\n",
              "     width=\"24px\">\n",
              "    <g>\n",
              "        <path d=\"M19 3H5c-1.1 0-2 .9-2 2v14c0 1.1.9 2 2 2h14c1.1 0 2-.9 2-2V5c0-1.1-.9-2-2-2zM9 17H7v-7h2v7zm4 0h-2V7h2v10zm4 0h-2v-4h2v4z\"/>\n",
              "    </g>\n",
              "</svg>\n",
              "  </button>\n",
              "\n",
              "<style>\n",
              "  .colab-df-quickchart {\n",
              "      --bg-color: #E8F0FE;\n",
              "      --fill-color: #1967D2;\n",
              "      --hover-bg-color: #E2EBFA;\n",
              "      --hover-fill-color: #174EA6;\n",
              "      --disabled-fill-color: #AAA;\n",
              "      --disabled-bg-color: #DDD;\n",
              "  }\n",
              "\n",
              "  [theme=dark] .colab-df-quickchart {\n",
              "      --bg-color: #3B4455;\n",
              "      --fill-color: #D2E3FC;\n",
              "      --hover-bg-color: #434B5C;\n",
              "      --hover-fill-color: #FFFFFF;\n",
              "      --disabled-bg-color: #3B4455;\n",
              "      --disabled-fill-color: #666;\n",
              "  }\n",
              "\n",
              "  .colab-df-quickchart {\n",
              "    background-color: var(--bg-color);\n",
              "    border: none;\n",
              "    border-radius: 50%;\n",
              "    cursor: pointer;\n",
              "    display: none;\n",
              "    fill: var(--fill-color);\n",
              "    height: 32px;\n",
              "    padding: 0;\n",
              "    width: 32px;\n",
              "  }\n",
              "\n",
              "  .colab-df-quickchart:hover {\n",
              "    background-color: var(--hover-bg-color);\n",
              "    box-shadow: 0 1px 2px rgba(60, 64, 67, 0.3), 0 1px 3px 1px rgba(60, 64, 67, 0.15);\n",
              "    fill: var(--button-hover-fill-color);\n",
              "  }\n",
              "\n",
              "  .colab-df-quickchart-complete:disabled,\n",
              "  .colab-df-quickchart-complete:disabled:hover {\n",
              "    background-color: var(--disabled-bg-color);\n",
              "    fill: var(--disabled-fill-color);\n",
              "    box-shadow: none;\n",
              "  }\n",
              "\n",
              "  .colab-df-spinner {\n",
              "    border: 2px solid var(--fill-color);\n",
              "    border-color: transparent;\n",
              "    border-bottom-color: var(--fill-color);\n",
              "    animation:\n",
              "      spin 1s steps(1) infinite;\n",
              "  }\n",
              "\n",
              "  @keyframes spin {\n",
              "    0% {\n",
              "      border-color: transparent;\n",
              "      border-bottom-color: var(--fill-color);\n",
              "      border-left-color: var(--fill-color);\n",
              "    }\n",
              "    20% {\n",
              "      border-color: transparent;\n",
              "      border-left-color: var(--fill-color);\n",
              "      border-top-color: var(--fill-color);\n",
              "    }\n",
              "    30% {\n",
              "      border-color: transparent;\n",
              "      border-left-color: var(--fill-color);\n",
              "      border-top-color: var(--fill-color);\n",
              "      border-right-color: var(--fill-color);\n",
              "    }\n",
              "    40% {\n",
              "      border-color: transparent;\n",
              "      border-right-color: var(--fill-color);\n",
              "      border-top-color: var(--fill-color);\n",
              "    }\n",
              "    60% {\n",
              "      border-color: transparent;\n",
              "      border-right-color: var(--fill-color);\n",
              "    }\n",
              "    80% {\n",
              "      border-color: transparent;\n",
              "      border-right-color: var(--fill-color);\n",
              "      border-bottom-color: var(--fill-color);\n",
              "    }\n",
              "    90% {\n",
              "      border-color: transparent;\n",
              "      border-bottom-color: var(--fill-color);\n",
              "    }\n",
              "  }\n",
              "</style>\n",
              "\n",
              "  <script>\n",
              "    async function quickchart(key) {\n",
              "      const quickchartButtonEl =\n",
              "        document.querySelector('#' + key + ' button');\n",
              "      quickchartButtonEl.disabled = true;  // To prevent multiple clicks.\n",
              "      quickchartButtonEl.classList.add('colab-df-spinner');\n",
              "      try {\n",
              "        const charts = await google.colab.kernel.invokeFunction(\n",
              "            'suggestCharts', [key], {});\n",
              "      } catch (error) {\n",
              "        console.error('Error during call to suggestCharts:', error);\n",
              "      }\n",
              "      quickchartButtonEl.classList.remove('colab-df-spinner');\n",
              "      quickchartButtonEl.classList.add('colab-df-quickchart-complete');\n",
              "    }\n",
              "    (() => {\n",
              "      let quickchartButtonEl =\n",
              "        document.querySelector('#df-1a1d1ccc-1597-4b83-9559-6c373f46ec50 button');\n",
              "      quickchartButtonEl.style.display =\n",
              "        google.colab.kernel.accessAllowed ? 'block' : 'none';\n",
              "    })();\n",
              "  </script>\n",
              "</div>\n",
              "    </div>\n",
              "  </div>\n"
            ]
          },
          "metadata": {},
          "execution_count": 196
        }
      ]
    },
    {
      "cell_type": "code",
      "source": [
        "recomendations = 5\n",
        "# top_n = get_top_n(predictions, n=recomendations)\n",
        "\n",
        "counter=4\n",
        "# Print the recommended items for each user\n",
        "print(f\"Найкращі рекомендації для перших {counter} користувачів:\\n\")\n",
        "\n",
        "for uid, user_ratings in top_n.items():\n",
        "    print(f\"Для користувача: {uid}, найкращі {recomendations} рекомендацій:\")\n",
        "    for (iid, est) in user_ratings:\n",
        "      title = movie_list['title'].get(int(iid), f\"ID: {iid}\")\n",
        "      genre = movie_list['genres'].get(int(iid))\n",
        "      if genre:\n",
        "        genre = genre.split('|')[0]\n",
        "      print(f\" - {'*'*round(est):5} ({est:.2f}): {title}, [{genre}]\")\n",
        "    counter -= 1\n",
        "    if counter <= 0:\n",
        "      break"
      ],
      "metadata": {
        "colab": {
          "base_uri": "https://localhost:8080/"
        },
        "id": "WYBFE850AlC8",
        "outputId": "1c403797-1038-4c64-d2a4-86cb5c1269e8"
      },
      "execution_count": 197,
      "outputs": [
        {
          "output_type": "stream",
          "name": "stdout",
          "text": [
            "Найкращі рекомендації для перших 4 користувачів:\n",
            "\n",
            "Для користувача: 1, найкращі 5 рекомендацій:\n",
            " - ***** (5.00): Shawshank Redemption, The (1994), [Crime]\n",
            " - ***** (5.00): Dark Knight, The (2008), [Action]\n",
            " - ***** (5.00): Wallace & Gromit: The Best of Aardman Animation (1996), [Adventure]\n",
            " - ***** (5.00): My Fair Lady (1964), [Comedy]\n",
            " - ***** (5.00): Philadelphia Story, The (1940), [Comedy]\n",
            "Для користувача: 2, найкращі 5 рекомендацій:\n",
            " - ****  (4.41): Lawrence of Arabia (1962), [Adventure]\n",
            " - ****  (4.41): Dr. Strangelove or: How I Learned to Stop Worrying and Love the Bomb (1964), [Comedy]\n",
            " - ****  (4.35): Guess Who's Coming to Dinner (1967), [Drama]\n",
            " - ****  (4.34): Life Is Beautiful (La Vita è bella) (1997), [Comedy]\n",
            " - ****  (4.34): To Catch a Thief (1955), [Crime]\n",
            "Для користувача: 3, найкращі 5 рекомендацій:\n",
            " - ****  (3.64): Forrest Gump (1994), [Comedy]\n",
            " - ****  (3.56): Shawshank Redemption, The (1994), [Crime]\n",
            " - ****  (3.54): Lawrence of Arabia (1962), [Adventure]\n",
            " - ****  (3.50): Fugitive, The (1993), [Thriller]\n",
            " - ***   (3.50): Grand Day Out with Wallace and Gromit, A (1989), [Adventure]\n",
            "Для користувача: 4, найкращі 5 рекомендацій:\n",
            " - ****  (4.34): There Will Be Blood (2007), [Drama]\n",
            " - ****  (4.28): Sunset Blvd. (a.k.a. Sunset Boulevard) (1950), [Drama]\n",
            " - ****  (4.23): City of God (Cidade de Deus) (2002), [Action]\n",
            " - ****  (4.22): Raging Bull (1980), [Drama]\n",
            " - ****  (4.20): Cool Hand Luke (1967), [Drama]\n"
          ]
        }
      ]
    }
  ]
}