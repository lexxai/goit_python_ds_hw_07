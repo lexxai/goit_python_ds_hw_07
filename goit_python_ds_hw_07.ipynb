{
  "nbformat": 4,
  "nbformat_minor": 0,
  "metadata": {
    "colab": {
      "provenance": [],
      "collapsed_sections": [
        "OLW2WK4cK08b",
        "4TrQTNYlL-zX",
        "xUP_-6eYM_1T",
        "7yAcmVTsMtDD"
      ],
      "authorship_tag": "ABX9TyOTD0wgzxjFWo4mH+inbZeI",
      "include_colab_link": true
    },
    "kernelspec": {
      "name": "python3",
      "display_name": "Python 3"
    },
    "language_info": {
      "name": "python"
    }
  },
  "cells": [
    {
      "cell_type": "markdown",
      "metadata": {
        "id": "view-in-github",
        "colab_type": "text"
      },
      "source": [
        "<a href=\"https://colab.research.google.com/github/lexxai/goit_python_ds_hw_07/blob/main/goit_python_ds_hw_07.ipynb\" target=\"_parent\"><img src=\"https://colab.research.google.com/assets/colab-badge.svg\" alt=\"Open In Colab\"/></a>"
      ]
    },
    {
      "cell_type": "markdown",
      "source": [
        "# Модуль 7. Рекомендаційні системи.\n",
        "\n",
        "*З циклу [домашніх завдань Python Data Science](https://github.com/lexxai/goit_python_data_sciense_homework).*\n",
        "\n",
        "# Домашнє завдання"
      ],
      "metadata": {
        "id": "VTvBpLm5Jqyj"
      }
    },
    {
      "cell_type": "markdown",
      "source": [
        "## LOAD DATASET"
      ],
      "metadata": {
        "id": "OLW2WK4cK08b"
      }
    },
    {
      "cell_type": "code",
      "source": [
        "!pip install scikit-surprise"
      ],
      "metadata": {
        "colab": {
          "base_uri": "https://localhost:8080/"
        },
        "id": "IQlrrC64Ei_D",
        "outputId": "ee4c67e7-024c-4e8b-df77-b606c532b7e9"
      },
      "execution_count": 181,
      "outputs": [
        {
          "output_type": "stream",
          "name": "stdout",
          "text": [
            "Requirement already satisfied: scikit-surprise in /usr/local/lib/python3.10/dist-packages (1.1.3)\n",
            "Requirement already satisfied: joblib>=1.0.0 in /usr/local/lib/python3.10/dist-packages (from scikit-surprise) (1.3.2)\n",
            "Requirement already satisfied: numpy>=1.17.3 in /usr/local/lib/python3.10/dist-packages (from scikit-surprise) (1.23.5)\n",
            "Requirement already satisfied: scipy>=1.3.2 in /usr/local/lib/python3.10/dist-packages (from scikit-surprise) (1.11.4)\n"
          ]
        }
      ]
    },
    {
      "cell_type": "code",
      "execution_count": 182,
      "metadata": {
        "id": "6SaBHI8tEE-8"
      },
      "outputs": [],
      "source": [
        "from surprise.model_selection import cross_validate\n",
        "from surprise import accuracy, Dataset, SVD\n",
        "from surprise.model_selection import train_test_split\n",
        "import pandas as pd\n",
        "\n",
        "# Load the movielens-100k dataset (download it if needed).\n",
        "data = Dataset.load_builtin('ml-100k', prompt=False)"
      ]
    },
    {
      "cell_type": "code",
      "source": [
        "!ls -1  /root/.surprise_data/ml-100k/ml-100k/u* | sed  's/\\/root\\/\\.surprise_data\\/ml-100k\\/ml-100k\\///g' | sort"
      ],
      "metadata": {
        "colab": {
          "base_uri": "https://localhost:8080/"
        },
        "id": "T0DErstIgFzd",
        "outputId": "93c17b36-9cc7-4001-d946-e8217caa9038"
      },
      "execution_count": 183,
      "outputs": [
        {
          "output_type": "stream",
          "name": "stdout",
          "text": [
            "u1.base\n",
            "u1.test\n",
            "u2.base\n",
            "u2.test\n",
            "u3.base\n",
            "u3.test\n",
            "u4.base\n",
            "u4.test\n",
            "u5.base\n",
            "u5.test\n",
            "ua.base\n",
            "ua.test\n",
            "ub.base\n",
            "ub.test\n",
            "u.data\n",
            "u.genre\n",
            "u.info\n",
            "u.item\n",
            "u.occupation\n",
            "u.user\n"
          ]
        }
      ]
    },
    {
      "cell_type": "code",
      "source": [
        "from pathlib import Path\n",
        "\n",
        "base_path = Path(\"/root/.surprise_data/ml-100k/ml-100k\")\n",
        "filelist =  list(map(lambda x: x.name, sorted(base_path.glob(\"u*\"))))\n",
        "types = {\n",
        "    \"test\": \"Test_files\",\n",
        "    \"base\": \"Train_files\"\n",
        "}\n",
        "for f, d in types.items():\n",
        "   print(f\"\\n{d}:\")\n",
        "   print(list(filter(lambda x : x.endswith(f\".{f}\") ,filelist)))"
      ],
      "metadata": {
        "colab": {
          "base_uri": "https://localhost:8080/"
        },
        "id": "z-K7JzgVjES4",
        "outputId": "e1f56748-801b-4983-ac6b-fb4367dcb6e3"
      },
      "execution_count": 184,
      "outputs": [
        {
          "output_type": "stream",
          "name": "stdout",
          "text": [
            "\n",
            "Test_files:\n",
            "['u1.test', 'u2.test', 'u3.test', 'u4.test', 'u5.test', 'ua.test', 'ub.test']\n",
            "\n",
            "Train_files:\n",
            "['u1.base', 'u2.base', 'u3.base', 'u4.base', 'u5.base', 'ua.base', 'ub.base']\n"
          ]
        }
      ]
    },
    {
      "cell_type": "code",
      "source": [
        "type(data)"
      ],
      "metadata": {
        "colab": {
          "base_uri": "https://localhost:8080/"
        },
        "id": "zk4mZ2b0cx7F",
        "outputId": "739d3601-0083-4db7-9c39-590b96995856"
      },
      "execution_count": 185,
      "outputs": [
        {
          "output_type": "execute_result",
          "data": {
            "text/plain": [
              "surprise.dataset.DatasetAutoFolds"
            ]
          },
          "metadata": {},
          "execution_count": 185
        }
      ]
    },
    {
      "cell_type": "markdown",
      "source": [
        "Ми використовуємо об'єкт ***DatasetAutoFolds*** у Surprise, це означає, що ми працюємо з набором даних, який вже було розбито на файли (folds) для перехресної перевірки.\n",
        "\n",
        "\n",
        "\n",
        "Мета цього методу - охопити загальний випадок використання, коли набір даних вже розбито на попередньо визначені складові, наприклад, набір даних movielens-100k ('ml-100k'), який визначає файли u1.base, u1.test, u2.base, u2.test і т.д... Його також можна використовувати, коли ми не хочемо виконувати перехресну перевірку, але все одно хочемо вказати наші навчальні та тестові дані (що в будь-якому випадку зводиться до 1-кратної перехресної перевірки)."
      ],
      "metadata": {
        "id": "yzuccKchc2ji"
      }
    },
    {
      "cell_type": "markdown",
      "source": [
        "### Аналіз записів"
      ],
      "metadata": {
        "id": "8WxFxGgrxjAX"
      }
    },
    {
      "cell_type": "code",
      "source": [
        "from datetime import date\n",
        "\n",
        "# Access dataset attributes\n",
        "raw_ratings = data.raw_ratings\n",
        "print(\"Number of ratings:\", len(raw_ratings))\n",
        "\n",
        "# Print a sample of raw ratings\n",
        "print(\"\\nTop 5 samples of raw ratings:\")\n",
        "for rating in raw_ratings[:5]:\n",
        "  uid, iid, ur, timestamp = rating\n",
        "  dater = date.fromtimestamp(int(timestamp))\n",
        "  print(f\"UserID: {uid:5}, ItemID: {iid:5}, UserRateForItem: {ur:5}, date: {dater}\")\n",
        "\n",
        "search_uid = uid\n",
        "count_uid = 5\n",
        "print(f\"\\nTop {count_uid} ratings of user: {search_uid}\")\n",
        "\n",
        "for rating in raw_ratings:\n",
        "  uid, iid, ur, timestamp = rating\n",
        "  if uid == search_uid:\n",
        "    dater = date.fromtimestamp(int(timestamp))\n",
        "    count_uid -= 1;\n",
        "    print(f\"UserID: {uid:5}, ItemID: {iid:5}, UserRateForItem: {ur:5}, date: {dater}\")\n",
        "    if count_uid <= 0:\n",
        "      break\n",
        "\n",
        "search_iid = iid\n",
        "count_iid = 5\n",
        "print(f\"\\nTop {count_iid} ratings of item: {search_iid}\")\n",
        "\n",
        "for rating in raw_ratings:\n",
        "  uid, iid, ur, timestamp = rating\n",
        "  if iid == search_iid:\n",
        "    dater = date.fromtimestamp(int(timestamp))\n",
        "    count_iid -= 1;\n",
        "    print(f\"UserID: {uid:5}, ItemID: {iid:5}, UserRateForItem: {ur:5}, date: {dater}\")\n",
        "    if count_iid <= 0:\n",
        "      break"
      ],
      "metadata": {
        "colab": {
          "base_uri": "https://localhost:8080/"
        },
        "id": "HPNxTcHLbyWK",
        "outputId": "ea4bd0c4-2b24-4cf9-d2f8-ff8aca26df60"
      },
      "execution_count": 186,
      "outputs": [
        {
          "output_type": "stream",
          "name": "stdout",
          "text": [
            "Number of ratings: 100000\n",
            "\n",
            "Top 5 samples of raw ratings:\n",
            "UserID: 196  , ItemID: 242  , UserRateForItem:   3.0, date: 1997-12-04\n",
            "UserID: 186  , ItemID: 302  , UserRateForItem:   3.0, date: 1998-04-04\n",
            "UserID: 22   , ItemID: 377  , UserRateForItem:   1.0, date: 1997-11-07\n",
            "UserID: 244  , ItemID: 51   , UserRateForItem:   2.0, date: 1997-11-27\n",
            "UserID: 166  , ItemID: 346  , UserRateForItem:   1.0, date: 1998-02-02\n",
            "\n",
            "Top 5 ratings of user: 166\n",
            "UserID: 166  , ItemID: 346  , UserRateForItem:   1.0, date: 1998-02-02\n",
            "UserID: 166  , ItemID: 328  , UserRateForItem:   5.0, date: 1998-02-02\n",
            "UserID: 166  , ItemID: 322  , UserRateForItem:   5.0, date: 1998-02-02\n",
            "UserID: 166  , ItemID: 288  , UserRateForItem:   3.0, date: 1998-02-02\n",
            "UserID: 166  , ItemID: 258  , UserRateForItem:   4.0, date: 1998-02-02\n",
            "\n",
            "Top 5 ratings of item: 258\n",
            "UserID: 26   , ItemID: 258  , UserRateForItem:   3.0, date: 1998-03-31\n",
            "UserID: 66   , ItemID: 258  , UserRateForItem:   4.0, date: 1997-12-31\n",
            "UserID: 207  , ItemID: 258  , UserRateForItem:   4.0, date: 1997-10-26\n",
            "UserID: 90   , ItemID: 258  , UserRateForItem:   3.0, date: 1998-03-31\n",
            "UserID: 6    , ItemID: 258  , UserRateForItem:   2.0, date: 1997-12-28\n"
          ]
        }
      ]
    },
    {
      "cell_type": "markdown",
      "source": [
        "Використовуєтьс прямий відгук (Explicit feedback) - це оцінка, яку користувач поставив, щоб висловити свою задоволеність товаром."
      ],
      "metadata": {
        "id": "ojR5Wlb_qlJl"
      }
    },
    {
      "cell_type": "markdown",
      "source": [
        "Для оцінки що базується на спільній інформації про користувачів  та їхню взаємодію з об'єктами (Collaborative Filtering) вибранно модель матричної факторизації (Matrix Factorization)."
      ],
      "metadata": {
        "id": "0cVZus2_rYtz"
      }
    },
    {
      "cell_type": "markdown",
      "source": [
        "## Mоделі матричної факторизації"
      ],
      "metadata": {
        "id": "PYbeZAPjtK1_"
      }
    },
    {
      "cell_type": "markdown",
      "source": [
        "### Algorithm SVD.\n",
        "\n",
        "Метод SVD може бути адаптований до наборів даних з неявним зворотним зв'язком (implicit feedback)."
      ],
      "metadata": {
        "id": "ueUxG3LaLG4I"
      }
    },
    {
      "cell_type": "markdown",
      "source": [
        "\n",
        "- RMSE - root-mean-square error\n",
        "- MAE - mean absolute error"
      ],
      "metadata": {
        "id": "uyQ5s_mFwxP5"
      }
    },
    {
      "cell_type": "code",
      "source": [
        "SEED = 42\n",
        "algo_cv = {}\n",
        "\n",
        "# Use the SVD algorithm.\n",
        "algo = SVD(random_state=SEED)"
      ],
      "metadata": {
        "id": "xtGVOa9MvqW-"
      },
      "execution_count": 224,
      "outputs": []
    },
    {
      "cell_type": "markdown",
      "source": [
        "#### Прогноз"
      ],
      "metadata": {
        "id": "AXSz9le_xsT4"
      }
    },
    {
      "cell_type": "markdown",
      "source": [
        "#### Full_trainset та він же і testset. Accuracy RMSE (root-mean-square error).\n"
      ],
      "metadata": {
        "id": "eCXw_cYz2z45"
      }
    },
    {
      "cell_type": "code",
      "source": [
        "def data_full_trainset(algo, data):\n",
        "  algorithm_name = algo.__class__.__name__\n",
        "  print(f\"Algo: {algorithm_name}, UserID: {uid:5}, ItemID: {iid:5}, UserRateForItem: {ur:5}, date: {dater}\")\n",
        "\n",
        "  #trainset, testset = train_test_split(data, test_size=0.25)\n",
        "  trainset = data.build_full_trainset()\n",
        "\n",
        "  print(\"Number of train ratings:\", len(list(trainset.all_ratings())))\n",
        "  algo.fit(trainset)\n",
        "  pred = algo.predict(uid, iid, r_ui=ur, verbose=True)\n",
        "\n",
        "  testset = trainset.build_testset()\n",
        "  print(\"Number of test ratings:\", len(testset))\n",
        "\n",
        "  predictions = algo.test(testset)\n",
        "  # RMSE має бути низьким, оскільки ми є упередженими\n",
        "  accuracy.rmse(predictions, verbose=True)  # ~ 0.68 (що є низьким показником)"
      ],
      "metadata": {
        "id": "Vqp3Qyoivlrg"
      },
      "execution_count": 233,
      "outputs": []
    },
    {
      "cell_type": "code",
      "source": [
        "data_full_trainset(algo, data)"
      ],
      "metadata": {
        "colab": {
          "base_uri": "https://localhost:8080/"
        },
        "id": "IA0MEHsC_pac",
        "outputId": "439e7984-c1b6-46bf-eac5-51e7b423e591"
      },
      "execution_count": 234,
      "outputs": [
        {
          "output_type": "stream",
          "name": "stdout",
          "text": [
            "Algo: SVD, UserID: 224  , ItemID: 258  , UserRateForItem:   2.0, date: 1997-12-28\n",
            "Number of train ratings: 100000\n",
            "user: 224        item: 258        r_ui = 2.00   est = 3.17   {'was_impossible': False}\n",
            "Number of test ratings: 100000\n",
            "RMSE: 0.6752\n"
          ]
        }
      ]
    },
    {
      "cell_type": "markdown",
      "source": [
        "#### Train_test_split 25%. Accuracy RMSE (root-mean-square error).\n"
      ],
      "metadata": {
        "id": "Q9A4q5cF3OF0"
      }
    },
    {
      "cell_type": "code",
      "source": [
        "def data_train_test_split(algo, data, test_size=0.25):\n",
        "  algorithm_name = algo.__class__.__name__\n",
        "  print(f\"Algo: {algorithm_name}, UserID: {uid:5}, ItemID: {iid:5}, UserRateForItem: {ur:5}, date: {dater}\")\n",
        "  trainset, testset = train_test_split(data, test_size=test_size)\n",
        "\n",
        "  print(\"Number of train ratings:\", len(list(trainset.all_ratings())))\n",
        "  algo.fit(trainset)\n",
        "  pred = algo.predict(uid, iid, r_ui=ur, verbose=True)\n",
        "\n",
        "  print(\"Number of test ratings:\", len(testset))\n",
        "\n",
        "  predictions = algo.test(testset)\n",
        "  # RMSE має бути більшим\n",
        "  accuracy.rmse(predictions, verbose=True)  # ~ 0.94 (що є високим показником)"
      ],
      "metadata": {
        "id": "LdeuubKe2U_G"
      },
      "execution_count": 235,
      "outputs": []
    },
    {
      "cell_type": "code",
      "source": [
        "data_train_test_split(algo, data)"
      ],
      "metadata": {
        "colab": {
          "base_uri": "https://localhost:8080/"
        },
        "id": "glUST0_nAXnR",
        "outputId": "14ff0aa9-0775-4014-9da6-52c77eb7e0c8"
      },
      "execution_count": 236,
      "outputs": [
        {
          "output_type": "stream",
          "name": "stdout",
          "text": [
            "Algo: SVD, UserID: 224  , ItemID: 258  , UserRateForItem:   2.0, date: 1997-12-28\n",
            "Number of train ratings: 75000\n",
            "user: 224        item: 258        r_ui = 2.00   est = 3.65   {'was_impossible': False}\n",
            "Number of test ratings: 25000\n",
            "RMSE: 0.9423\n"
          ]
        }
      ]
    },
    {
      "cell_type": "markdown",
      "source": [
        "#### Cross Validate, cv = 5"
      ],
      "metadata": {
        "id": "O_uWjxHB2OVX"
      }
    },
    {
      "cell_type": "code",
      "source": [
        "import numpy as np\n",
        "\n",
        "def data_cross_validate(algo, data, cv=5):\n",
        "  algorithm_name = algo.__class__.__name__\n",
        "  print(f\"Algo: {algorithm_name}. Cross Validate: {cv}\")\n",
        "  # Run 5-fold cross-validation and print results.\n",
        "  cv_result = cross_validate(algo, data, measures=['RMSE', 'MAE'], cv=cv, verbose=True)\n",
        "  mean_rmse = np.array(cv_result.get('test_rmse')).mean()\n",
        "  print(f\"{mean_rmse=}\")\n",
        "  return {algorithm_name: mean_rmse}"
      ],
      "metadata": {
        "id": "s2Kyk9JeGBJy"
      },
      "execution_count": 237,
      "outputs": []
    },
    {
      "cell_type": "code",
      "source": [
        "algo_cv.update(data_cross_validate(algo, data))"
      ],
      "metadata": {
        "colab": {
          "base_uri": "https://localhost:8080/"
        },
        "id": "NxWiH8bUWrk3",
        "outputId": "7379b7d4-f2b5-4842-9909-ec3d73dae26c"
      },
      "execution_count": 238,
      "outputs": [
        {
          "output_type": "stream",
          "name": "stdout",
          "text": [
            "Algo: SVD. Cross Validate: 5\n",
            "Evaluating RMSE, MAE of algorithm SVD on 5 split(s).\n",
            "\n",
            "                  Fold 1  Fold 2  Fold 3  Fold 4  Fold 5  Mean    Std     \n",
            "RMSE (testset)    0.9408  0.9331  0.9375  0.9364  0.9355  0.9367  0.0025  \n",
            "MAE (testset)     0.7428  0.7372  0.7374  0.7378  0.7391  0.7389  0.0021  \n",
            "Fit time          1.45    1.43    1.40    1.72    1.64    1.53    0.13    \n",
            "Test time         0.19    0.13    0.13    0.22    0.13    0.16    0.04    \n",
            "mean_rmse=0.9366566146279542\n"
          ]
        }
      ]
    },
    {
      "cell_type": "markdown",
      "source": [
        "### Algorithm KNNBasic."
      ],
      "metadata": {
        "id": "4TrQTNYlL-zX"
      }
    },
    {
      "cell_type": "code",
      "source": [
        "from surprise import KNNBasic\n",
        "\n",
        "# Build an algorithm, and train it.\n",
        "algo = KNNBasic()"
      ],
      "metadata": {
        "id": "vr_csvEwI1f0"
      },
      "execution_count": 242,
      "outputs": []
    },
    {
      "cell_type": "code",
      "source": [
        "data_full_trainset(algo, data)"
      ],
      "metadata": {
        "colab": {
          "base_uri": "https://localhost:8080/"
        },
        "id": "8QwLukw-JGdP",
        "outputId": "2b8c3267-0b18-4b84-c2b2-34836a85f76d"
      },
      "execution_count": 243,
      "outputs": [
        {
          "output_type": "stream",
          "name": "stdout",
          "text": [
            "Algo: KNNBasic, UserID: 224  , ItemID: 258  , UserRateForItem:   2.0, date: 1997-12-28\n",
            "Number of train ratings: 100000\n",
            "Computing the msd similarity matrix...\n",
            "Done computing similarity matrix.\n",
            "user: 224        item: 258        r_ui = 2.00   est = 3.35   {'actual_k': 40, 'was_impossible': False}\n",
            "Number of test ratings: 100000\n",
            "RMSE: 0.7781\n"
          ]
        }
      ]
    },
    {
      "cell_type": "code",
      "source": [
        "data_train_test_split(algo, data)"
      ],
      "metadata": {
        "colab": {
          "base_uri": "https://localhost:8080/"
        },
        "id": "uNmfqM4I97wW",
        "outputId": "6321a7f3-6896-413f-80e5-3ae7885cbe21"
      },
      "execution_count": 244,
      "outputs": [
        {
          "output_type": "stream",
          "name": "stdout",
          "text": [
            "Algo: KNNBasic, UserID: 224  , ItemID: 258  , UserRateForItem:   2.0, date: 1997-12-28\n",
            "Number of train ratings: 75000\n",
            "Computing the msd similarity matrix...\n",
            "Done computing similarity matrix.\n",
            "user: 224        item: 258        r_ui = 2.00   est = 3.60   {'actual_k': 40, 'was_impossible': False}\n",
            "Number of test ratings: 25000\n",
            "RMSE: 0.9820\n"
          ]
        }
      ]
    },
    {
      "cell_type": "code",
      "source": [
        "algo_cv.update(data_cross_validate(algo, data))"
      ],
      "metadata": {
        "colab": {
          "base_uri": "https://localhost:8080/"
        },
        "id": "ZrM3m5dh-MTt",
        "outputId": "83a1f2a6-51c9-45d7-d1d0-bc1cc22064ff"
      },
      "execution_count": 245,
      "outputs": [
        {
          "output_type": "stream",
          "name": "stdout",
          "text": [
            "Algo: KNNBasic. Cross Validate: 5\n",
            "Computing the msd similarity matrix...\n",
            "Done computing similarity matrix.\n",
            "Computing the msd similarity matrix...\n",
            "Done computing similarity matrix.\n",
            "Computing the msd similarity matrix...\n",
            "Done computing similarity matrix.\n",
            "Computing the msd similarity matrix...\n",
            "Done computing similarity matrix.\n",
            "Computing the msd similarity matrix...\n",
            "Done computing similarity matrix.\n",
            "Evaluating RMSE, MAE of algorithm KNNBasic on 5 split(s).\n",
            "\n",
            "                  Fold 1  Fold 2  Fold 3  Fold 4  Fold 5  Mean    Std     \n",
            "RMSE (testset)    0.9768  0.9713  0.9811  0.9755  0.9830  0.9775  0.0041  \n",
            "MAE (testset)     0.7709  0.7682  0.7740  0.7697  0.7782  0.7722  0.0035  \n",
            "Fit time          0.36    0.35    0.33    0.35    0.37    0.35    0.01    \n",
            "Test time         4.12    3.08    3.09    3.91    3.10    3.46    0.46    \n",
            "mean_rmse=0.9775457372186199\n"
          ]
        }
      ]
    },
    {
      "cell_type": "markdown",
      "source": [
        "### Algorithm SVD++ (SVDpp)\n",
        "\n",
        "Алгоритм SVD++ можна використовувати, коли ми маємо доступ як до явного (explicit), так і до неявного (implicit) зворотного зв'язку. Це може бути дуже корисно, тому що зазвичай користувачі взаємодіють з багатьма елементами (= неявний зворотній зв'язок), але оцінюють лише невелику підмножину з них (= явний зворотній зв'язок).\n"
      ],
      "metadata": {
        "id": "xUP_-6eYM_1T"
      }
    },
    {
      "cell_type": "code",
      "source": [
        " # surprise.prediction_algorithms.matrix_factorization.SVDpp\n",
        "from surprise import SVDpp\n",
        "\n",
        "# Use the SVDpp algorithm.\n",
        "algo = SVDpp()"
      ],
      "metadata": {
        "id": "QxLJcJhUNA2o"
      },
      "execution_count": null,
      "outputs": []
    },
    {
      "cell_type": "code",
      "source": [
        "data_full_trainset(algo, data)"
      ],
      "metadata": {
        "id": "IS0gaLu--bMW"
      },
      "execution_count": null,
      "outputs": []
    },
    {
      "cell_type": "code",
      "source": [
        "data_train_test_split(algo, data)"
      ],
      "metadata": {
        "id": "F9aQtziO-fTA"
      },
      "execution_count": null,
      "outputs": []
    },
    {
      "cell_type": "code",
      "source": [
        "algo_cv.update(data_cross_validate(algo, data))"
      ],
      "metadata": {
        "id": "D1mlY6C_-WWh"
      },
      "execution_count": null,
      "outputs": []
    },
    {
      "cell_type": "markdown",
      "source": [
        "### Algorithm NMF"
      ],
      "metadata": {
        "id": "7yAcmVTsMtDD"
      }
    },
    {
      "cell_type": "code",
      "source": [
        "# surprise.prediction_algorithms.matrix_factorization.NMF\n",
        "from surprise import NMF\n",
        "\n",
        "# Use the NMF algorithm.\n",
        "algo = NMF()"
      ],
      "metadata": {
        "id": "fsbcpEK5MuMz"
      },
      "execution_count": 250,
      "outputs": []
    },
    {
      "cell_type": "code",
      "source": [
        "data_full_trainset(algo, data)"
      ],
      "metadata": {
        "colab": {
          "base_uri": "https://localhost:8080/"
        },
        "id": "Hnz2KCaC_EDw",
        "outputId": "4930ae40-a047-4722-daf9-a7e33567e5aa"
      },
      "execution_count": 251,
      "outputs": [
        {
          "output_type": "stream",
          "name": "stdout",
          "text": [
            "Algo: NMF, UserID: 224  , ItemID: 258  , UserRateForItem:   2.0, date: 1997-12-28\n",
            "Number of train ratings: 100000\n",
            "user: 224        item: 258        r_ui = 2.00   est = 3.45   {'was_impossible': False}\n",
            "Number of test ratings: 100000\n",
            "RMSE: 0.8227\n"
          ]
        }
      ]
    },
    {
      "cell_type": "code",
      "source": [
        "data_train_test_split(algo, data)"
      ],
      "metadata": {
        "colab": {
          "base_uri": "https://localhost:8080/"
        },
        "id": "u92zY9Yi_ILp",
        "outputId": "0ddea89b-e38f-4906-9dd9-1016088cc549"
      },
      "execution_count": 252,
      "outputs": [
        {
          "output_type": "stream",
          "name": "stdout",
          "text": [
            "Algo: NMF, UserID: 224  , ItemID: 258  , UserRateForItem:   2.0, date: 1997-12-28\n",
            "Number of train ratings: 75000\n",
            "user: 224        item: 258        r_ui = 2.00   est = 3.22   {'was_impossible': False}\n",
            "Number of test ratings: 25000\n",
            "RMSE: 0.9762\n"
          ]
        }
      ]
    },
    {
      "cell_type": "code",
      "source": [
        "algo_cv.update(data_cross_validate(algo, data))"
      ],
      "metadata": {
        "colab": {
          "base_uri": "https://localhost:8080/"
        },
        "id": "bnuu_byH_Hiw",
        "outputId": "c373ed4c-29b7-4c88-9689-cd317ef762ae"
      },
      "execution_count": 253,
      "outputs": [
        {
          "output_type": "stream",
          "name": "stdout",
          "text": [
            "Algo: NMF. Cross Validate: 5\n",
            "Evaluating RMSE, MAE of algorithm NMF on 5 split(s).\n",
            "\n",
            "                  Fold 1  Fold 2  Fold 3  Fold 4  Fold 5  Mean    Std     \n",
            "RMSE (testset)    0.9580  0.9583  0.9574  0.9709  0.9716  0.9632  0.0066  \n",
            "MAE (testset)     0.7551  0.7527  0.7530  0.7616  0.7649  0.7575  0.0049  \n",
            "Fit time          2.09    2.60    2.06    2.08    2.07    2.18    0.21    \n",
            "Test time         0.11    0.20    0.11    0.12    0.12    0.13    0.03    \n",
            "mean_rmse=0.9632386209754499\n"
          ]
        }
      ]
    },
    {
      "cell_type": "markdown",
      "source": [
        "## Результати кросвалідації для різних алгоритмів матричної факторизації"
      ],
      "metadata": {
        "id": "9oZbFr2xZnyM"
      }
    },
    {
      "cell_type": "code",
      "source": [
        "algo_cv"
      ],
      "metadata": {
        "colab": {
          "base_uri": "https://localhost:8080/"
        },
        "id": "5l5ekHeqZnba",
        "outputId": "7909e9ed-b45a-459d-91d6-87f640bb66cf"
      },
      "execution_count": 254,
      "outputs": [
        {
          "output_type": "execute_result",
          "data": {
            "text/plain": [
              "{'SVD': 0.9366566146279542,\n",
              " 'KNNBasic': 0.9775457372186199,\n",
              " 'SVDpp': 0.9195611554025968,\n",
              " 'NMF': 0.9632386209754499}"
            ]
          },
          "metadata": {},
          "execution_count": 254
        }
      ]
    },
    {
      "cell_type": "code",
      "source": [
        "algo_cv_s = dict(sorted(algo_cv.items(), key=lambda x: x[1]))\n"
      ],
      "metadata": {
        "id": "yUon2b_nbUFS"
      },
      "execution_count": 265,
      "outputs": []
    },
    {
      "cell_type": "code",
      "source": [
        "import matplotlib.pyplot as plt\n",
        "\n",
        "x = list(algo_cv_s.keys())\n",
        "y = list(algo_cv_s.values())\n",
        "plt.figure(figsize=(16, 5))\n",
        "plt.title(\"Результати кросвалідації для різних алгоритмів\")\n",
        "plt.plot(x, y, \"o-\")\n",
        "plt.xlabel(\"Назва алгоритму\")\n",
        "plt.ylabel(\"Середнє значення RMSE\")\n",
        "plt.vlines(x[0], y[0], y[-1], color=\"red\", linestyle=\"-.\", label=\"Best Algo, lower RMSE\")\n",
        "plt.hlines(y[0], x[0], x[-1], color=\"red\", linestyle=\"-.\", )\n",
        "\n",
        "plt.legend(loc=\"center right\")\n",
        "plt.show()"
      ],
      "metadata": {
        "colab": {
          "base_uri": "https://localhost:8080/",
          "height": 487
        },
        "id": "gv1Tal8FZyiC",
        "outputId": "fbba9c70-2142-4c8d-bb43-470809c0ea68"
      },
      "execution_count": 314,
      "outputs": [
        {
          "output_type": "display_data",
          "data": {
            "text/plain": [
              "<Figure size 1600x500 with 1 Axes>"
            ],
            "image/png": "[encoded data removed]"
          },
          "metadata": {}
        }
      ]
    },
    {
      "cell_type": "code",
      "source": [
        "print(f\"Best algo: {x[0]}, with RMSE: {y[0]:.4f}\")"
      ],
      "metadata": {
        "colab": {
          "base_uri": "https://localhost:8080/"
        },
        "id": "8zrVmBPKoSj_",
        "outputId": "7da818b0-1928-49e5-e9d0-3ea7f1c8f556"
      },
      "execution_count": 334,
      "outputs": [
        {
          "output_type": "stream",
          "name": "stdout",
          "text": [
            "Best algo: SVDpp, with RMSE: 0.9196\n"
          ]
        }
      ]
    },
    {
      "cell_type": "code",
      "source": [
        "best_algo = SVDpp"
      ],
      "metadata": {
        "id": "qodh0GyF6zry"
      },
      "execution_count": null,
      "outputs": []
    },
    {
      "cell_type": "markdown",
      "source": [
        "## GridSearchCV (SVDpp)"
      ],
      "metadata": {
        "id": "t9xezE86PB4A"
      }
    },
    {
      "cell_type": "code",
      "source": [
        "from surprise.model_selection import GridSearchCV\n",
        "\n",
        "param_grid = {\"random_state\": [SEED],\n",
        "              \"n_epochs\": [15, 20], \"lr_all\": [0.007], \"reg_all\": [0.02, 0.2]\n",
        "              }\n",
        "gs = GridSearchCV(best_algo, param_grid, measures=[\"rmse\"], cv=5, n_jobs=-1)\n",
        "\n",
        "%time gs.fit(data)\n",
        "\n",
        "# best RMSE score\n",
        "print(gs.best_score[\"rmse\"])\n",
        "\n",
        "# combination of parameters that gave the best RMSE score\n",
        "best_params = gs.best_params[\"rmse\"]\n",
        "print(f\"{best_params=}\")"
      ],
      "metadata": {
        "colab": {
          "base_uri": "https://localhost:8080/"
        },
        "id": "3xG17GmmPClu",
        "outputId": "7d9c9528-0271-4d5b-da99-baf73acacaeb"
      },
      "execution_count": 336,
      "outputs": [
        {
          "output_type": "stream",
          "name": "stdout",
          "text": [
            "0.9176930973292479\n",
            "best_params={'random_state': 42, 'n_epochs': 15, 'lr_all': 0.007, 'reg_all': 0.02}\n"
          ]
        }
      ]
    },
    {
      "cell_type": "markdown",
      "source": [
        "#### Звіт роботи GridSearchCV для всіх комбінацій параметрів"
      ],
      "metadata": {
        "id": "-hEdiA9J8XbC"
      }
    },
    {
      "cell_type": "code",
      "source": [
        "results_df = pd.DataFrame.from_dict(gs.cv_results)\n",
        "results_df.head(10)"
      ],
      "metadata": {
        "colab": {
          "base_uri": "https://localhost:8080/",
          "height": 268
        },
        "id": "RE51ObkqRAua",
        "outputId": "a6d0d5aa-68af-4888-c0ac-4915f1e68bf9"
      },
      "execution_count": 337,
      "outputs": [
        {
          "output_type": "execute_result",
          "data": {
            "text/plain": [
              "   split0_test_rmse  split1_test_rmse  split2_test_rmse  split3_test_rmse  \\\n",
              "0          0.914383          0.914344          0.923263          0.916318   \n",
              "1          0.916977          0.915574          0.923985          0.917307   \n",
              "2          0.925468          0.923226          0.931288          0.925301   \n",
              "\n",
              "   split4_test_rmse  mean_test_rmse  std_test_rmse  rank_test_rmse  \\\n",
              "0          0.920158        0.917693       0.003498               1   \n",
              "1          0.921287        0.919026       0.003123               2   \n",
              "2          0.929070        0.926870       0.002901               3   \n",
              "\n",
              "   mean_fit_time  std_fit_time  mean_test_time  std_test_time  \\\n",
              "0      32.797209      0.471785        6.631619       0.333615   \n",
              "1      44.830591      1.146526        6.035298       0.787245   \n",
              "2      50.805933      7.701918        4.810882       1.093525   \n",
              "\n",
              "                                              params  param_random_state  \\\n",
              "0  {'random_state': 42, 'n_epochs': 15, 'lr_all':...                  42   \n",
              "1  {'random_state': 42, 'n_epochs': 20, 'lr_all':...                  42   \n",
              "2  {'random_state': 42, 'n_epochs': 25, 'lr_all':...                  42   \n",
              "\n",
              "   param_n_epochs  param_lr_all  param_reg_all  \n",
              "0              15         0.007           0.02  \n",
              "1              20         0.007           0.02  \n",
              "2              25         0.007           0.02  "
            ],
            "text/html": [
              "\n",
              "  <div id=\"df-0b6c8689-81bc-4299-a9eb-8ad49c72317d\" class=\"colab-df-container\">\n",
              "    <div>\n",
              "<style scoped>\n",
              "    .dataframe tbody tr th:only-of-type {\n",
              "        vertical-align: middle;\n",
              "    }\n",
              "\n",
              "    .dataframe tbody tr th {\n",
              "        vertical-align: top;\n",
              "    }\n",
              "\n",
              "    .dataframe thead th {\n",
              "        text-align: right;\n",
              "    }\n",
              "</style>\n",
              "<table border=\"1\" class=\"dataframe\">\n",
              "  <thead>\n",
              "    <tr style=\"text-align: right;\">\n",
              "      <th></th>\n",
              "      <th>split0_test_rmse</th>\n",
              "      <th>split1_test_rmse</th>\n",
              "      <th>split2_test_rmse</th>\n",
              "      <th>split3_test_rmse</th>\n",
              "      <th>split4_test_rmse</th>\n",
              "      <th>mean_test_rmse</th>\n",
              "      <th>std_test_rmse</th>\n",
              "      <th>rank_test_rmse</th>\n",
              "      <th>mean_fit_time</th>\n",
              "      <th>std_fit_time</th>\n",
              "      <th>mean_test_time</th>\n",
              "      <th>std_test_time</th>\n",
              "      <th>params</th>\n",
              "      <th>param_random_state</th>\n",
              "      <th>param_n_epochs</th>\n",
              "      <th>param_lr_all</th>\n",
              "      <th>param_reg_all</th>\n",
              "    </tr>\n",
              "  </thead>\n",
              "  <tbody>\n",
              "    <tr>\n",
              "      <th>0</th>\n",
              "      <td>0.914383</td>\n",
              "      <td>0.914344</td>\n",
              "      <td>0.923263</td>\n",
              "      <td>0.916318</td>\n",
              "      <td>0.920158</td>\n",
              "      <td>0.917693</td>\n",
              "      <td>0.003498</td>\n",
              "      <td>1</td>\n",
              "      <td>32.797209</td>\n",
              "      <td>0.471785</td>\n",
              "      <td>6.631619</td>\n",
              "      <td>0.333615</td>\n",
              "      <td>{'random_state': 42, 'n_epochs': 15, 'lr_all':...</td>\n",
              "      <td>42</td>\n",
              "      <td>15</td>\n",
              "      <td>0.007</td>\n",
              "      <td>0.02</td>\n",
              "    </tr>\n",
              "    <tr>\n",
              "      <th>1</th>\n",
              "      <td>0.916977</td>\n",
              "      <td>0.915574</td>\n",
              "      <td>0.923985</td>\n",
              "      <td>0.917307</td>\n",
              "      <td>0.921287</td>\n",
              "      <td>0.919026</td>\n",
              "      <td>0.003123</td>\n",
              "      <td>2</td>\n",
              "      <td>44.830591</td>\n",
              "      <td>1.146526</td>\n",
              "      <td>6.035298</td>\n",
              "      <td>0.787245</td>\n",
              "      <td>{'random_state': 42, 'n_epochs': 20, 'lr_all':...</td>\n",
              "      <td>42</td>\n",
              "      <td>20</td>\n",
              "      <td>0.007</td>\n",
              "      <td>0.02</td>\n",
              "    </tr>\n",
              "    <tr>\n",
              "      <th>2</th>\n",
              "      <td>0.925468</td>\n",
              "      <td>0.923226</td>\n",
              "      <td>0.931288</td>\n",
              "      <td>0.925301</td>\n",
              "      <td>0.929070</td>\n",
              "      <td>0.926870</td>\n",
              "      <td>0.002901</td>\n",
              "      <td>3</td>\n",
              "      <td>50.805933</td>\n",
              "      <td>7.701918</td>\n",
              "      <td>4.810882</td>\n",
              "      <td>1.093525</td>\n",
              "      <td>{'random_state': 42, 'n_epochs': 25, 'lr_all':...</td>\n",
              "      <td>42</td>\n",
              "      <td>25</td>\n",
              "      <td>0.007</td>\n",
              "      <td>0.02</td>\n",
              "    </tr>\n",
              "  </tbody>\n",
              "</table>\n",
              "</div>\n",
              "    <div class=\"colab-df-buttons\">\n",
              "\n",
              "  <div class=\"colab-df-container\">\n",
              "    <button class=\"colab-df-convert\" onclick=\"convertToInteractive('df-0b6c8689-81bc-4299-a9eb-8ad49c72317d')\"\n",
              "            title=\"Convert this dataframe to an interactive table.\"\n",
              "            style=\"display:none;\">\n",
              "\n",
              "  <svg xmlns=\"http://www.w3.org/2000/svg\" height=\"24px\" viewBox=\"0 -960 960 960\">\n",
              "    <path d=\"M120-120v-720h720v720H120Zm60-500h600v-160H180v160Zm220 220h160v-160H400v160Zm0 220h160v-160H400v160ZM180-400h160v-160H180v160Zm440 0h160v-160H620v160ZM180-180h160v-160H180v160Zm440 0h160v-160H620v160Z\"/>\n",
              "  </svg>\n",
              "    </button>\n",
              "\n",
              "  <style>\n",
              "    .colab-df-container {\n",
              "      display:flex;\n",
              "      gap: 12px;\n",
              "    }\n",
              "\n",
              "    .colab-df-convert {\n",
              "      background-color: #E8F0FE;\n",
              "      border: none;\n",
              "      border-radius: 50%;\n",
              "      cursor: pointer;\n",
              "      display: none;\n",
              "      fill: #1967D2;\n",
              "      height: 32px;\n",
              "      padding: 0 0 0 0;\n",
              "      width: 32px;\n",
              "    }\n",
              "\n",
              "    .colab-df-convert:hover {\n",
              "      background-color: #E2EBFA;\n",
              "      box-shadow: 0px 1px 2px rgba(60, 64, 67, 0.3), 0px 1px 3px 1px rgba(60, 64, 67, 0.15);\n",
              "      fill: #174EA6;\n",
              "    }\n",
              "\n",
              "    .colab-df-buttons div {\n",
              "      margin-bottom: 4px;\n",
              "    }\n",
              "\n",
              "    [theme=dark] .colab-df-convert {\n",
              "      background-color: #3B4455;\n",
              "      fill: #D2E3FC;\n",
              "    }\n",
              "\n",
              "    [theme=dark] .colab-df-convert:hover {\n",
              "      background-color: #434B5C;\n",
              "      box-shadow: 0px 1px 3px 1px rgba(0, 0, 0, 0.15);\n",
              "      filter: drop-shadow(0px 1px 2px rgba(0, 0, 0, 0.3));\n",
              "      fill: #FFFFFF;\n",
              "    }\n",
              "  </style>\n",
              "\n",
              "    <script>\n",
              "      const buttonEl =\n",
              "        document.querySelector('#df-0b6c8689-81bc-4299-a9eb-8ad49c72317d button.colab-df-convert');\n",
              "      buttonEl.style.display =\n",
              "        google.colab.kernel.accessAllowed ? 'block' : 'none';\n",
              "\n",
              "      async function convertToInteractive(key) {\n",
              "        const element = document.querySelector('#df-0b6c8689-81bc-4299-a9eb-8ad49c72317d');\n",
              "        const dataTable =\n",
              "          await google.colab.kernel.invokeFunction('convertToInteractive',\n",
              "                                                    [key], {});\n",
              "        if (!dataTable) return;\n",
              "\n",
              "        const docLinkHtml = 'Like what you see? Visit the ' +\n",
              "          '<a target=\"_blank\" href=https://colab.research.google.com/notebooks/data_table.ipynb>data table notebook</a>'\n",
              "          + ' to learn more about interactive tables.';\n",
              "        element.innerHTML = '';\n",
              "        dataTable['output_type'] = 'display_data';\n",
              "        await google.colab.output.renderOutput(dataTable, element);\n",
              "        const docLink = document.createElement('div');\n",
              "        docLink.innerHTML = docLinkHtml;\n",
              "        element.appendChild(docLink);\n",
              "      }\n",
              "    </script>\n",
              "  </div>\n",
              "\n",
              "\n",
              "<div id=\"df-e2a399ee-c6be-4024-a128-63e43ccce95b\">\n",
              "  <button class=\"colab-df-quickchart\" onclick=\"quickchart('df-e2a399ee-c6be-4024-a128-63e43ccce95b')\"\n",
              "            title=\"Suggest charts\"\n",
              "            style=\"display:none;\">\n",
              "\n",
              "<svg xmlns=\"http://www.w3.org/2000/svg\" height=\"24px\"viewBox=\"0 0 24 24\"\n",
              "     width=\"24px\">\n",
              "    <g>\n",
              "        <path d=\"M19 3H5c-1.1 0-2 .9-2 2v14c0 1.1.9 2 2 2h14c1.1 0 2-.9 2-2V5c0-1.1-.9-2-2-2zM9 17H7v-7h2v7zm4 0h-2V7h2v10zm4 0h-2v-4h2v4z\"/>\n",
              "    </g>\n",
              "</svg>\n",
              "  </button>\n",
              "\n",
              "<style>\n",
              "  .colab-df-quickchart {\n",
              "      --bg-color: #E8F0FE;\n",
              "      --fill-color: #1967D2;\n",
              "      --hover-bg-color: #E2EBFA;\n",
              "      --hover-fill-color: #174EA6;\n",
              "      --disabled-fill-color: #AAA;\n",
              "      --disabled-bg-color: #DDD;\n",
              "  }\n",
              "\n",
              "  [theme=dark] .colab-df-quickchart {\n",
              "      --bg-color: #3B4455;\n",
              "      --fill-color: #D2E3FC;\n",
              "      --hover-bg-color: #434B5C;\n",
              "      --hover-fill-color: #FFFFFF;\n",
              "      --disabled-bg-color: #3B4455;\n",
              "      --disabled-fill-color: #666;\n",
              "  }\n",
              "\n",
              "  .colab-df-quickchart {\n",
              "    background-color: var(--bg-color);\n",
              "    border: none;\n",
              "    border-radius: 50%;\n",
              "    cursor: pointer;\n",
              "    display: none;\n",
              "    fill: var(--fill-color);\n",
              "    height: 32px;\n",
              "    padding: 0;\n",
              "    width: 32px;\n",
              "  }\n",
              "\n",
              "  .colab-df-quickchart:hover {\n",
              "    background-color: var(--hover-bg-color);\n",
              "    box-shadow: 0 1px 2px rgba(60, 64, 67, 0.3), 0 1px 3px 1px rgba(60, 64, 67, 0.15);\n",
              "    fill: var(--button-hover-fill-color);\n",
              "  }\n",
              "\n",
              "  .colab-df-quickchart-complete:disabled,\n",
              "  .colab-df-quickchart-complete:disabled:hover {\n",
              "    background-color: var(--disabled-bg-color);\n",
              "    fill: var(--disabled-fill-color);\n",
              "    box-shadow: none;\n",
              "  }\n",
              "\n",
              "  .colab-df-spinner {\n",
              "    border: 2px solid var(--fill-color);\n",
              "    border-color: transparent;\n",
              "    border-bottom-color: var(--fill-color);\n",
              "    animation:\n",
              "      spin 1s steps(1) infinite;\n",
              "  }\n",
              "\n",
              "  @keyframes spin {\n",
              "    0% {\n",
              "      border-color: transparent;\n",
              "      border-bottom-color: var(--fill-color);\n",
              "      border-left-color: var(--fill-color);\n",
              "    }\n",
              "    20% {\n",
              "      border-color: transparent;\n",
              "      border-left-color: var(--fill-color);\n",
              "      border-top-color: var(--fill-color);\n",
              "    }\n",
              "    30% {\n",
              "      border-color: transparent;\n",
              "      border-left-color: var(--fill-color);\n",
              "      border-top-color: var(--fill-color);\n",
              "      border-right-color: var(--fill-color);\n",
              "    }\n",
              "    40% {\n",
              "      border-color: transparent;\n",
              "      border-right-color: var(--fill-color);\n",
              "      border-top-color: var(--fill-color);\n",
              "    }\n",
              "    60% {\n",
              "      border-color: transparent;\n",
              "      border-right-color: var(--fill-color);\n",
              "    }\n",
              "    80% {\n",
              "      border-color: transparent;\n",
              "      border-right-color: var(--fill-color);\n",
              "      border-bottom-color: var(--fill-color);\n",
              "    }\n",
              "    90% {\n",
              "      border-color: transparent;\n",
              "      border-bottom-color: var(--fill-color);\n",
              "    }\n",
              "  }\n",
              "</style>\n",
              "\n",
              "  <script>\n",
              "    async function quickchart(key) {\n",
              "      const quickchartButtonEl =\n",
              "        document.querySelector('#' + key + ' button');\n",
              "      quickchartButtonEl.disabled = true;  // To prevent multiple clicks.\n",
              "      quickchartButtonEl.classList.add('colab-df-spinner');\n",
              "      try {\n",
              "        const charts = await google.colab.kernel.invokeFunction(\n",
              "            'suggestCharts', [key], {});\n",
              "      } catch (error) {\n",
              "        console.error('Error during call to suggestCharts:', error);\n",
              "      }\n",
              "      quickchartButtonEl.classList.remove('colab-df-spinner');\n",
              "      quickchartButtonEl.classList.add('colab-df-quickchart-complete');\n",
              "    }\n",
              "    (() => {\n",
              "      let quickchartButtonEl =\n",
              "        document.querySelector('#df-e2a399ee-c6be-4024-a128-63e43ccce95b button');\n",
              "      quickchartButtonEl.style.display =\n",
              "        google.colab.kernel.accessAllowed ? 'block' : 'none';\n",
              "    })();\n",
              "  </script>\n",
              "</div>\n",
              "    </div>\n",
              "  </div>\n"
            ]
          },
          "metadata": {},
          "execution_count": 337
        }
      ]
    },
    {
      "cell_type": "markdown",
      "source": [
        "#### навчання на full_trainset для найкращого алгоритму"
      ],
      "metadata": {
        "id": "7bF8ur3t79PC"
      }
    },
    {
      "cell_type": "code",
      "source": [
        "# We can now use the algorithm that yields the best rmse:\n",
        "algo = gs.best_estimator[\"rmse\"]"
      ],
      "metadata": {
        "id": "rwvpU1k9Qtgf"
      },
      "execution_count": 342,
      "outputs": []
    },
    {
      "cell_type": "markdown",
      "source": [
        "## Найкращі рекомендації для користувачів (SVDpp):"
      ],
      "metadata": {
        "id": "NmFGtg1lSWng"
      }
    },
    {
      "cell_type": "code",
      "source": [
        "from collections import defaultdict\n",
        "\n",
        "\n",
        "def get_top_n(predictions, n=10):\n",
        "    \"\"\"Return the top-N recommendation for each user from a set of predictions.\n",
        "\n",
        "    Args:\n",
        "        predictions(list of Prediction objects): The list of predictions, as\n",
        "            returned by the test method of an algorithm.\n",
        "        n(int): The number of recommendation to output for each user. Default\n",
        "            is 10.\n",
        "\n",
        "    Returns:\n",
        "    A dict where keys are user (raw) ids and values are lists of tuples:\n",
        "        [(raw item id, rating estimation), ...] of size n.\n",
        "    \"\"\"\n",
        "\n",
        "    # First map the predictions to each user.\n",
        "    top_n = defaultdict(list)\n",
        "    for uid, iid, true_r, est, _ in predictions:\n",
        "        top_n[uid].append((iid, est))\n",
        "\n",
        "    # Then sort the predictions for each user and retrieve the k highest ones.\n",
        "    for uid, user_ratings in top_n.items():\n",
        "        user_ratings.sort(key=lambda x: x[1], reverse=True)\n",
        "        top_n[uid] = user_ratings[:n]\n",
        "\n",
        "    return top_n"
      ],
      "metadata": {
        "id": "sUtJHoN-SXaz"
      },
      "execution_count": 339,
      "outputs": []
    },
    {
      "cell_type": "code",
      "source": [
        "# First train an SVD algorithm on the movielens dataset.\n",
        "trainset = data.build_full_trainset()\n",
        "\n",
        "# # best value from GridSearchCV\n",
        "# algo_param = {'random_state': SEED, 'n_epochs': 20, 'lr_all': 0.005, 'reg_all': 0.02}\n",
        "print(algo.__class__.__name__, \"params:\", best_params)\n",
        "# algo = SVDpp(**algo_param)\n",
        "%time algo.fit(trainset)\n",
        "\n",
        "# Than predict ratings for all pairs (u, i) that are NOT in the training set.\n",
        "testset = trainset.build_anti_testset()\n",
        "%time predictions = algo.test(testset)"
      ],
      "metadata": {
        "colab": {
          "base_uri": "https://localhost:8080/"
        },
        "id": "Qc14fUnHGuVi",
        "outputId": "fec7aba9-7fd2-40b4-cf4b-ba658b2a58c9"
      },
      "execution_count": 340,
      "outputs": [
        {
          "output_type": "stream",
          "name": "stdout",
          "text": [
            "SVDpp params: {'random_state': 42, 'n_epochs': 15, 'lr_all': 0.007, 'reg_all': 0.02}\n"
          ]
        }
      ]
    },
    {
      "cell_type": "code",
      "source": [
        "recomendations = 5\n",
        "top_n = get_top_n(predictions, n=recomendations)\n",
        "\n",
        "counter=15\n",
        "# Print the recommended items for each user\n",
        "print(f\"Найкращі рекомендації для перших {counter} користувачів:\\n\")\n",
        "\n",
        "for uid, user_ratings in top_n.items():\n",
        "    recomend = [f\"{iid:5}: {'*'*round(est):5} ({est:.2f})\" for (iid, est) in user_ratings]\n",
        "    print(f\"Для користувача: {uid:5} ,  Найкращі {recomendations} рекомендацій: {recomend}\")\n",
        "    counter -= 1\n",
        "    if counter <=0:\n",
        "      break"
      ],
      "metadata": {
        "colab": {
          "base_uri": "https://localhost:8080/"
        },
        "id": "_692eM54DUzj",
        "outputId": "ed107b33-46e8-4c1c-c3fc-2c6f3d54a1cb"
      },
      "execution_count": 343,
      "outputs": [
        {
          "output_type": "stream",
          "name": "stdout",
          "text": [
            "Найкращі рекомендації для перших 15 користувачів:\n",
            "\n",
            "Для користувача: 196   ,  Найкращі 5 рекомендацій: ['318  : ****  (4.44)', '169  : ****  (4.43)', '408  : ****  (4.37)', '483  : ****  (4.33)', '515  : ****  (4.29)']\n",
            "Для користувача: 186   ,  Найкращі 5 рекомендацій: ['318  : ****  (4.49)', '174  : ****  (4.38)', '64   : ****  (4.37)', '143  : ****  (4.34)', '169  : ****  (4.31)']\n",
            "Для користувача: 22    ,  Найкращі 5 рекомендацій: ['169  : ***** (4.94)', '64   : ***** (4.85)', '408  : ***** (4.77)', '199  : ***** (4.75)', '313  : ***** (4.74)']\n",
            "Для користувача: 244   ,  Найкращі 5 рекомендацій: ['127  : ***** (5.00)', '408  : ***** (4.95)', '187  : ***** (4.92)', '12   : ***** (4.89)', '1449 : ***** (4.87)']\n",
            "Для користувача: 166   ,  Найкращі 5 рекомендацій: ['169  : ***** (4.66)', '318  : ***** (4.64)', '174  : ***** (4.63)', '408  : ***** (4.58)', '22   : ***** (4.57)']\n",
            "Для користувача: 298   ,  Найкращі 5 рекомендацій: ['408  : ***** (4.68)', '169  : ***** (4.67)', '64   : ***** (4.65)', '114  : ***** (4.52)', '515  : ***** (4.51)']\n",
            "Для користувача: 115   ,  Найкращі 5 рекомендацій: ['408  : ***** (5.00)', '179  : ***** (4.96)', '285  : ***** (4.85)', '134  : ***** (4.84)', '474  : ***** (4.81)']\n",
            "Для користувача: 253   ,  Найкращі 5 рекомендацій: ['174  : ***** (4.69)', '272  : ***** (4.60)', '313  : ***** (4.59)', '603  : ***** (4.58)', '169  : ***** (4.56)']\n",
            "Для користувача: 305   ,  Найкращі 5 рекомендацій: ['657  : ****  (4.19)', '515  : ****  (4.15)', '114  : ****  (4.13)', '603  : ****  (4.13)', '513  : ****  (4.07)']\n",
            "Для користувача: 6     ,  Найкращі 5 рекомендацій: ['603  : ****  (4.46)', '657  : ****  (4.32)', '923  : ****  (4.31)', '251  : ****  (4.29)', '48   : ****  (4.28)']\n",
            "Для користувача: 62    ,  Найкращі 5 рекомендацій: ['169  : ****  (4.39)', '654  : ****  (4.32)', '963  : ****  (4.30)', '408  : ****  (4.29)', '187  : ****  (4.28)']\n",
            "Для користувача: 286   ,  Найкращі 5 рекомендацій: ['318  : ***** (4.80)', '480  : ***** (4.66)', '114  : ***** (4.64)', '515  : ***** (4.62)', '134  : ***** (4.61)']\n",
            "Для користувача: 200   ,  Найкращі 5 рекомендацій: ['181  : ***** (5.00)', '64   : ***** (5.00)', '12   : ***** (4.92)', '272  : ***** (4.88)', '316  : ***** (4.79)']\n",
            "Для користувача: 210   ,  Найкращі 5 рекомендацій: ['64   : ***** (4.85)', '603  : ***** (4.80)', '318  : ***** (4.79)', '169  : ***** (4.77)', '12   : ***** (4.77)']\n",
            "Для користувача: 224   ,  Найкращі 5 рекомендацій: ['174  : ****  (4.31)', '121  : ****  (4.29)', '96   : ****  (4.16)', '210  : ****  (4.12)', '117  : ****  (4.08)']\n"
          ]
        }
      ]
    }
  ]
}