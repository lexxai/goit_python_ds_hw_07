{
  "nbformat": 4,
  "nbformat_minor": 0,
  "metadata": {
    "colab": {
      "provenance": [],
      "collapsed_sections": [
        "OLW2WK4cK08b",
        "8WxFxGgrxjAX",
        "PYbeZAPjtK1_",
        "7GiwVM6d_pBf",
        "ZEf1LzGQH1qZ",
        "9oZbFr2xZnyM",
        "t9xezE86PB4A"
      ],
      "authorship_tag": "ABX9TyMm4vg+xXdrcvCqapHjEiWf",
      "include_colab_link": true
    },
    "kernelspec": {
      "name": "python3",
      "display_name": "Python 3"
    },
    "language_info": {
      "name": "python"
    }
  },
  "cells": [
    {
      "cell_type": "markdown",
      "metadata": {
        "id": "view-in-github",
        "colab_type": "text"
      },
      "source": [
        "<a href=\"https://colab.research.google.com/github/lexxai/goit_python_ds_hw_07/blob/main/goit_python_ds_hw_07.ipynb\" target=\"_parent\"><img src=\"https://colab.research.google.com/assets/colab-badge.svg\" alt=\"Open In Colab\"/></a>"
      ]
    },
    {
      "cell_type": "markdown",
      "source": [
        "# Модуль 7. Рекомендаційні системи.\n",
        "\n",
        "*З циклу [домашніх завдань Python Data Science](https://github.com/lexxai/goit_python_data_sciense_homework).*\n",
        "\n",
        "# Домашнє завдання"
      ],
      "metadata": {
        "id": "VTvBpLm5Jqyj"
      }
    },
    {
      "cell_type": "markdown",
      "source": [
        "## LOAD DATASET"
      ],
      "metadata": {
        "id": "OLW2WK4cK08b"
      }
    },
    {
      "cell_type": "code",
      "source": [
        "!pip install scikit-surprise"
      ],
      "metadata": {
        "colab": {
          "base_uri": "https://localhost:8080/"
        },
        "id": "IQlrrC64Ei_D",
        "outputId": "c37d853d-303a-497f-e678-38f9da8017ce"
      },
      "execution_count": null,
      "outputs": [
        {
          "output_type": "stream",
          "name": "stdout",
          "text": [
            "Requirement already satisfied: scikit-surprise in /usr/local/lib/python3.10/dist-packages (1.1.3)\n",
            "Requirement already satisfied: joblib>=1.0.0 in /usr/local/lib/python3.10/dist-packages (from scikit-surprise) (1.3.2)\n",
            "Requirement already satisfied: numpy>=1.17.3 in /usr/local/lib/python3.10/dist-packages (from scikit-surprise) (1.23.5)\n",
            "Requirement already satisfied: scipy>=1.3.2 in /usr/local/lib/python3.10/dist-packages (from scikit-surprise) (1.11.4)\n"
          ]
        }
      ]
    },
    {
      "cell_type": "code",
      "execution_count": null,
      "metadata": {
        "id": "6SaBHI8tEE-8"
      },
      "outputs": [],
      "source": [
        "from surprise.model_selection import cross_validate\n",
        "from surprise import accuracy, Dataset, SVD\n",
        "from surprise.model_selection import train_test_split\n",
        "import pandas as pd\n",
        "\n",
        "# Load the movielens-100k dataset (download it if needed).\n",
        "data = Dataset.load_builtin('ml-100k', prompt=False)"
      ]
    },
    {
      "cell_type": "code",
      "source": [
        "!ls -1  /root/.surprise_data/ml-100k/ml-100k/u* | sed  's/\\/root\\/\\.surprise_data\\/ml-100k\\/ml-100k\\///g' | sort"
      ],
      "metadata": {
        "colab": {
          "base_uri": "https://localhost:8080/"
        },
        "id": "T0DErstIgFzd",
        "outputId": "4676345b-6dd9-4d94-ae69-da6f439e69d2"
      },
      "execution_count": null,
      "outputs": [
        {
          "output_type": "stream",
          "name": "stdout",
          "text": [
            "u1.base\n",
            "u1.test\n",
            "u2.base\n",
            "u2.test\n",
            "u3.base\n",
            "u3.test\n",
            "u4.base\n",
            "u4.test\n",
            "u5.base\n",
            "u5.test\n",
            "ua.base\n",
            "ua.test\n",
            "ub.base\n",
            "ub.test\n",
            "u.data\n",
            "u.genre\n",
            "u.info\n",
            "u.item\n",
            "u.occupation\n",
            "u.user\n"
          ]
        }
      ]
    },
    {
      "cell_type": "code",
      "source": [
        "from pathlib import Path\n",
        "\n",
        "base_path = Path(\"/root/.surprise_data/ml-100k/ml-100k\")\n",
        "filelist =  list(map(lambda x: x.name, sorted(base_path.glob(\"u*\"))))\n",
        "types = {\n",
        "    \"test\": \"Test_files\",\n",
        "    \"base\": \"Train_files\"\n",
        "}\n",
        "for f, d in types.items():\n",
        "   print(f\"\\n{d}:\")\n",
        "   print(list(filter(lambda x : x.endswith(f\".{f}\") ,filelist)))"
      ],
      "metadata": {
        "colab": {
          "base_uri": "https://localhost:8080/"
        },
        "id": "z-K7JzgVjES4",
        "outputId": "b649fe37-aa24-46fb-9df7-97b01b737eef"
      },
      "execution_count": null,
      "outputs": [
        {
          "output_type": "stream",
          "name": "stdout",
          "text": [
            "\n",
            "Test_files:\n",
            "['u1.test', 'u2.test', 'u3.test', 'u4.test', 'u5.test', 'ua.test', 'ub.test']\n",
            "\n",
            "Train_files:\n",
            "['u1.base', 'u2.base', 'u3.base', 'u4.base', 'u5.base', 'ua.base', 'ub.base']\n"
          ]
        }
      ]
    },
    {
      "cell_type": "code",
      "source": [
        "type(data)"
      ],
      "metadata": {
        "colab": {
          "base_uri": "https://localhost:8080/"
        },
        "id": "zk4mZ2b0cx7F",
        "outputId": "c909a3a2-7cb1-4c3f-df9b-3fdd21f23686"
      },
      "execution_count": null,
      "outputs": [
        {
          "output_type": "execute_result",
          "data": {
            "text/plain": [
              "surprise.dataset.DatasetAutoFolds"
            ]
          },
          "metadata": {},
          "execution_count": 348
        }
      ]
    },
    {
      "cell_type": "markdown",
      "source": [
        "Ми використовуємо об'єкт ***DatasetAutoFolds*** у Surprise, це означає, що ми працюємо з набором даних, який вже було розбито на файли (folds) для перехресної перевірки.\n",
        "\n",
        "\n",
        "\n",
        "Мета цього методу - охопити загальний випадок використання, коли набір даних вже розбито на попередньо визначені складові, наприклад, набір даних movielens-100k ('ml-100k'), який визначає файли u1.base, u1.test, u2.base, u2.test і т.д... Його також можна використовувати, коли ми не хочемо виконувати перехресну перевірку, але все одно хочемо вказати наші навчальні та тестові дані (що в будь-якому випадку зводиться до 1-кратної перехресної перевірки)."
      ],
      "metadata": {
        "id": "yzuccKchc2ji"
      }
    },
    {
      "cell_type": "markdown",
      "source": [
        "### Аналіз записів"
      ],
      "metadata": {
        "id": "8WxFxGgrxjAX"
      }
    },
    {
      "cell_type": "markdown",
      "source": [
        "Використовуєтьс прямий відгук (Explicit feedback) - це оцінка, яку користувач поставив, щоб висловити свою задоволеність товаром."
      ],
      "metadata": {
        "id": "ojR5Wlb_qlJl"
      }
    },
    {
      "cell_type": "markdown",
      "source": [
        "Для оцінки що базується на спільній інформації про користувачів  та їхню взаємодію з об'єктами (Collaborative Filtering) вибранно модель матричної факторизації (Matrix Factorization)."
      ],
      "metadata": {
        "id": "0cVZus2_rYtz"
      }
    },
    {
      "cell_type": "markdown",
      "source": [
        "## Mоделі матричної факторизації"
      ],
      "metadata": {
        "id": "PYbeZAPjtK1_"
      }
    },
    {
      "cell_type": "markdown",
      "source": [
        "### Algorithm SVD.\n",
        "\n",
        "Метод SVD може бути адаптований до наборів даних з неявним зворотним зв'язком (implicit feedback)."
      ],
      "metadata": {
        "id": "ueUxG3LaLG4I"
      }
    },
    {
      "cell_type": "markdown",
      "source": [
        "\n",
        "- RMSE - root-mean-square error\n",
        "- MAE - mean absolute error"
      ],
      "metadata": {
        "id": "uyQ5s_mFwxP5"
      }
    },
    {
      "cell_type": "code",
      "source": [
        "SEED = 42\n",
        "algo_cv = {}\n",
        "algo_split = {}\n",
        "# Use the SVD algorithm.\n",
        "algo = SVD(random_state=SEED)"
      ],
      "metadata": {
        "id": "xtGVOa9MvqW-"
      },
      "execution_count": null,
      "outputs": []
    },
    {
      "cell_type": "markdown",
      "source": [
        "#### Прогноз"
      ],
      "metadata": {
        "id": "AXSz9le_xsT4"
      }
    },
    {
      "cell_type": "markdown",
      "source": [
        "#### Full_trainset та він же і testset. Accuracy RMSE (root-mean-square error).\n"
      ],
      "metadata": {
        "id": "eCXw_cYz2z45"
      }
    },
    {
      "cell_type": "code",
      "source": [
        "def data_full_trainset(algo, data):\n",
        "  algorithm_name = algo.__class__.__name__\n",
        "  print(f\"Algo: {algorithm_name}, UserID: {uid:5}, ItemID: {iid:5}, UserRateForItem: {ur:5}, date: {dater}\")\n",
        "\n",
        "  #trainset, testset = train_test_split(data, test_size=0.25)\n",
        "  trainset = data.build_full_trainset()\n",
        "\n",
        "  print(\"Number of train ratings:\", len(list(trainset.all_ratings())))\n",
        "  algo.fit(trainset)\n",
        "  pred = algo.predict(uid, iid, r_ui=ur, verbose=True)\n",
        "\n",
        "  testset = trainset.build_testset()\n",
        "  print(\"Number of test ratings:\", len(testset))\n",
        "\n",
        "  predictions = algo.test(testset)\n",
        "  # RMSE має бути низьким, оскільки ми є упередженими\n",
        "  accuracy.rmse(predictions, verbose=True)  # ~ 0.68 (що є низьким показником)"
      ],
      "metadata": {
        "id": "Vqp3Qyoivlrg"
      },
      "execution_count": null,
      "outputs": []
    },
    {
      "cell_type": "code",
      "source": [
        "data_full_trainset(algo, data)"
      ],
      "metadata": {
        "colab": {
          "base_uri": "https://localhost:8080/"
        },
        "id": "IA0MEHsC_pac",
        "outputId": "db45b26a-9f73-42e7-bb5d-70b3291cfcd5"
      },
      "execution_count": null,
      "outputs": [
        {
          "output_type": "stream",
          "name": "stdout",
          "text": [
            "Algo: SVD, UserID: 6    , ItemID: 258  , UserRateForItem:   2.0, date: 1997-12-28\n",
            "Number of train ratings: 100000\n",
            "user: 6          item: 258        r_ui = 2.00   est = 2.60   {'was_impossible': False}\n",
            "Number of test ratings: 100000\n",
            "RMSE: 0.6752\n"
          ]
        }
      ]
    },
    {
      "cell_type": "markdown",
      "source": [
        "#### Train_test_split 25%. Accuracy RMSE (root-mean-square error).\n"
      ],
      "metadata": {
        "id": "Q9A4q5cF3OF0"
      }
    },
    {
      "cell_type": "code",
      "source": [
        "def data_train_test_split(algo, data, test_size=0.25):\n",
        "  algorithm_name = algo.__class__.__name__\n",
        "  print(f\"Algo: {algorithm_name}, UserID: {uid:5}, ItemID: {iid:5}, UserRateForItem: {ur:5}, date: {dater}\")\n",
        "  trainset, testset = train_test_split(data, test_size=test_size)\n",
        "\n",
        "  print(\"Number of train ratings:\", len(list(trainset.all_ratings())))\n",
        "  algo.fit(trainset)\n",
        "  pred = algo.predict(uid, iid, r_ui=ur, verbose=True)\n",
        "\n",
        "  print(\"Number of test ratings:\", len(testset))\n",
        "\n",
        "  predictions = algo.test(testset)\n",
        "  # RMSE має бути більшим\n",
        "  rmse = accuracy.rmse(predictions, verbose=True)  # ~ 0.94 (що є високим показником)\n",
        "  return {algorithm_name: rmse}"
      ],
      "metadata": {
        "id": "LdeuubKe2U_G"
      },
      "execution_count": null,
      "outputs": []
    },
    {
      "cell_type": "code",
      "source": [
        "algo_split.update(data_train_test_split(algo, data))"
      ],
      "metadata": {
        "colab": {
          "base_uri": "https://localhost:8080/"
        },
        "id": "glUST0_nAXnR",
        "outputId": "182f1d49-be97-43d4-8c9b-6f927c604e2b"
      },
      "execution_count": null,
      "outputs": [
        {
          "output_type": "stream",
          "name": "stdout",
          "text": [
            "Algo: SVD, UserID: 224  , ItemID: 258  , UserRateForItem:   2.0, date: 1997-12-28\n",
            "Number of train ratings: 75000\n",
            "user: 224        item: 258        r_ui = 2.00   est = 3.44   {'was_impossible': False}\n",
            "Number of test ratings: 25000\n",
            "RMSE: 0.9394\n"
          ]
        }
      ]
    },
    {
      "cell_type": "markdown",
      "source": [
        "#### Cross Validate, cv = 5"
      ],
      "metadata": {
        "id": "O_uWjxHB2OVX"
      }
    },
    {
      "cell_type": "code",
      "source": [
        "import numpy as np\n",
        "\n",
        "def data_cross_validate(algo, data, cv=5):\n",
        "  algorithm_name = algo.__class__.__name__\n",
        "  print(f\"Algo: {algorithm_name}. Cross Validate: {cv}\")\n",
        "  # Run 5-fold cross-validation and print results.\n",
        "  %time cv_result = cross_validate(algo, data, measures=['RMSE', 'MAE'], cv=cv, verbose=True)\n",
        "  mean_rmse = np.array(cv_result.get('test_rmse')).mean()\n",
        "  print(f\"{mean_rmse=}\")\n",
        "  return {algorithm_name: mean_rmse}"
      ],
      "metadata": {
        "id": "s2Kyk9JeGBJy"
      },
      "execution_count": null,
      "outputs": []
    },
    {
      "cell_type": "code",
      "source": [
        "algo_cv.update(data_cross_validate(algo, data))"
      ],
      "metadata": {
        "colab": {
          "base_uri": "https://localhost:8080/"
        },
        "id": "NxWiH8bUWrk3",
        "outputId": "637ad9fe-5830-4544-a564-1e68014360a2"
      },
      "execution_count": null,
      "outputs": [
        {
          "output_type": "stream",
          "name": "stdout",
          "text": [
            "Algo: SVD. Cross Validate: 5\n",
            "Evaluating RMSE, MAE of algorithm SVD on 5 split(s).\n",
            "\n",
            "                  Fold 1  Fold 2  Fold 3  Fold 4  Fold 5  Mean    Std     \n",
            "RMSE (testset)    0.9349  0.9373  0.9387  0.9292  0.9476  0.9375  0.0060  \n",
            "MAE (testset)     0.7367  0.7397  0.7362  0.7340  0.7468  0.7387  0.0044  \n",
            "Fit time          1.67    2.84    4.22    3.13    2.09    2.79    0.89    \n",
            "Test time         0.28    0.30    0.31    0.42    0.16    0.29    0.08    \n",
            "mean_rmse=0.9375348177440541\n"
          ]
        }
      ]
    },
    {
      "cell_type": "markdown",
      "source": [
        "### Algorithm SVD++ (SVDpp)\n",
        "\n",
        "Алгоритм SVD++ можна використовувати, коли ми маємо доступ як до явного (explicit), так і до неявного (implicit) зворотного зв'язку. Це може бути дуже корисно, тому що зазвичай користувачі взаємодіють з багатьма елементами (= неявний зворотній зв'язок), але оцінюють лише невелику підмножину з них (= явний зворотній зв'язок).\n"
      ],
      "metadata": {
        "id": "xUP_-6eYM_1T"
      }
    },
    {
      "cell_type": "code",
      "source": [
        " # surprise.prediction_algorithms.matrix_factorization.SVDpp\n",
        "from surprise import SVDpp\n",
        "\n",
        "# Use the SVDpp algorithm.\n",
        "algo = SVDpp()"
      ],
      "metadata": {
        "id": "QxLJcJhUNA2o"
      },
      "execution_count": null,
      "outputs": []
    },
    {
      "cell_type": "code",
      "source": [
        "data_full_trainset(algo, data)"
      ],
      "metadata": {
        "id": "IS0gaLu--bMW",
        "colab": {
          "base_uri": "https://localhost:8080/"
        },
        "outputId": "8a97115c-365a-48f4-f10b-5fb54292bafe"
      },
      "execution_count": null,
      "outputs": [
        {
          "output_type": "stream",
          "name": "stdout",
          "text": [
            "Algo: SVDpp, UserID: 6    , ItemID: 258  , UserRateForItem:   2.0, date: 1997-12-28\n",
            "Number of train ratings: 100000\n",
            "user: 6          item: 258        r_ui = 2.00   est = 2.94   {'was_impossible': False}\n",
            "Number of test ratings: 100000\n",
            "RMSE: 0.7567\n"
          ]
        }
      ]
    },
    {
      "cell_type": "code",
      "source": [
        "algo_split.update(data_train_test_split(algo, data))"
      ],
      "metadata": {
        "id": "F9aQtziO-fTA",
        "colab": {
          "base_uri": "https://localhost:8080/"
        },
        "outputId": "e8ae5e1d-a479-4db5-967c-095a847e33de"
      },
      "execution_count": null,
      "outputs": [
        {
          "output_type": "stream",
          "name": "stdout",
          "text": [
            "Algo: SVDpp, UserID: 224  , ItemID: 258  , UserRateForItem:   2.0, date: 1997-12-28\n",
            "Number of train ratings: 75000\n",
            "user: 224        item: 258        r_ui = 2.00   est = 3.96   {'was_impossible': False}\n",
            "Number of test ratings: 25000\n",
            "RMSE: 0.9257\n"
          ]
        }
      ]
    },
    {
      "cell_type": "code",
      "source": [
        "algo_cv.update(data_cross_validate(algo, data))"
      ],
      "metadata": {
        "id": "D1mlY6C_-WWh",
        "colab": {
          "base_uri": "https://localhost:8080/"
        },
        "outputId": "eee35e8c-1b3f-4a31-c166-7402b95ecd6e"
      },
      "execution_count": null,
      "outputs": [
        {
          "output_type": "stream",
          "name": "stdout",
          "text": [
            "Algo: SVDpp. Cross Validate: 5\n",
            "Evaluating RMSE, MAE of algorithm SVDpp on 5 split(s).\n",
            "\n",
            "                  Fold 1  Fold 2  Fold 3  Fold 4  Fold 5  Mean    Std     \n",
            "RMSE (testset)    0.9228  0.9168  0.9186  0.9232  0.9140  0.9191  0.0035  \n",
            "MAE (testset)     0.7267  0.7196  0.7178  0.7211  0.7174  0.7205  0.0034  \n",
            "Fit time          26.90   26.44   26.76   27.16   29.74   27.40   1.19    \n",
            "Test time         4.20    5.05    4.04    5.05    5.07    4.68    0.46    \n",
            "mean_rmse=0.9190770510482373\n"
          ]
        }
      ]
    },
    {
      "cell_type": "markdown",
      "source": [
        "### Algorithm NMF"
      ],
      "metadata": {
        "id": "7yAcmVTsMtDD"
      }
    },
    {
      "cell_type": "code",
      "source": [
        "# surprise.prediction_algorithms.matrix_factorization.NMF\n",
        "from surprise import NMF\n",
        "\n",
        "# Use the NMF algorithm.\n",
        "algo = NMF()"
      ],
      "metadata": {
        "id": "fsbcpEK5MuMz"
      },
      "execution_count": null,
      "outputs": []
    },
    {
      "cell_type": "code",
      "source": [
        "data_full_trainset(algo, data)"
      ],
      "metadata": {
        "colab": {
          "base_uri": "https://localhost:8080/"
        },
        "id": "Hnz2KCaC_EDw",
        "outputId": "0faaa38a-02b3-4d91-9bdb-8061c6634981"
      },
      "execution_count": null,
      "outputs": [
        {
          "output_type": "stream",
          "name": "stdout",
          "text": [
            "Algo: NMF, UserID: 6    , ItemID: 258  , UserRateForItem:   2.0, date: 1997-12-28\n",
            "Number of train ratings: 100000\n",
            "user: 6          item: 258        r_ui = 2.00   est = 3.73   {'was_impossible': False}\n",
            "Number of test ratings: 100000\n",
            "RMSE: 0.8145\n"
          ]
        }
      ]
    },
    {
      "cell_type": "code",
      "source": [
        "algo_split.update(data_train_test_split(algo, data))"
      ],
      "metadata": {
        "colab": {
          "base_uri": "https://localhost:8080/"
        },
        "id": "u92zY9Yi_ILp",
        "outputId": "cedf5fc1-8539-40aa-b390-124bc880c1ab"
      },
      "execution_count": null,
      "outputs": [
        {
          "output_type": "stream",
          "name": "stdout",
          "text": [
            "Algo: NMF, UserID: 224  , ItemID: 258  , UserRateForItem:   2.0, date: 1997-12-28\n",
            "Number of train ratings: 75000\n",
            "user: 224        item: 258        r_ui = 2.00   est = 2.68   {'was_impossible': False}\n",
            "Number of test ratings: 25000\n",
            "RMSE: 0.9721\n"
          ]
        }
      ]
    },
    {
      "cell_type": "code",
      "source": [
        "algo_cv.update(data_cross_validate(algo, data))"
      ],
      "metadata": {
        "colab": {
          "base_uri": "https://localhost:8080/"
        },
        "id": "bnuu_byH_Hiw",
        "outputId": "8c26e36f-dbd0-4826-9aa2-e2eac8f5e023"
      },
      "execution_count": null,
      "outputs": [
        {
          "output_type": "stream",
          "name": "stdout",
          "text": [
            "Algo: NMF. Cross Validate: 5\n",
            "Evaluating RMSE, MAE of algorithm NMF on 5 split(s).\n",
            "\n",
            "                  Fold 1  Fold 2  Fold 3  Fold 4  Fold 5  Mean    Std     \n",
            "RMSE (testset)    0.9601  0.9608  0.9625  0.9606  0.9654  0.9619  0.0019  \n",
            "MAE (testset)     0.7568  0.7551  0.7526  0.7559  0.7579  0.7557  0.0018  \n",
            "Fit time          2.22    2.84    2.16    2.12    2.18    2.30    0.27    \n",
            "Test time         0.11    0.11    0.15    0.11    0.11    0.12    0.02    \n",
            "mean_rmse=0.9618929341717644\n"
          ]
        }
      ]
    },
    {
      "cell_type": "markdown",
      "source": [
        "## k-NN inspired algorithms"
      ],
      "metadata": {
        "id": "7GiwVM6d_pBf"
      }
    },
    {
      "cell_type": "markdown",
      "source": [
        "\n",
        "Ці алгоритми безпосередньо випливають з базового методу найближчих сусідів.\n",
        "\n"
      ],
      "metadata": {
        "id": "sa_CWfroAVwO"
      }
    },
    {
      "cell_type": "markdown",
      "source": [
        "### Algorithm KNNBasic."
      ],
      "metadata": {
        "id": "4TrQTNYlL-zX"
      }
    },
    {
      "cell_type": "code",
      "source": [
        "from surprise import KNNBasic\n",
        "\n",
        "# Build an algorithm, and train it.\n",
        "algo = KNNBasic()"
      ],
      "metadata": {
        "id": "vr_csvEwI1f0"
      },
      "execution_count": null,
      "outputs": []
    },
    {
      "cell_type": "code",
      "source": [
        "data_full_trainset(algo, data)"
      ],
      "metadata": {
        "colab": {
          "base_uri": "https://localhost:8080/"
        },
        "id": "8QwLukw-JGdP",
        "outputId": "6145656f-b1f4-4dca-cf63-569bfe63804f"
      },
      "execution_count": null,
      "outputs": [
        {
          "output_type": "stream",
          "name": "stdout",
          "text": [
            "Algo: KNNBasic, UserID: 6    , ItemID: 258  , UserRateForItem:   2.0, date: 1997-12-28\n",
            "Number of train ratings: 100000\n",
            "Computing the msd similarity matrix...\n",
            "Done computing similarity matrix.\n",
            "user: 6          item: 258        r_ui = 2.00   est = 3.34   {'actual_k': 40, 'was_impossible': False}\n",
            "Number of test ratings: 100000\n",
            "RMSE: 0.7781\n"
          ]
        }
      ]
    },
    {
      "cell_type": "code",
      "source": [
        "algo_split.update(data_train_test_split(algo, data))"
      ],
      "metadata": {
        "colab": {
          "base_uri": "https://localhost:8080/"
        },
        "id": "uNmfqM4I97wW",
        "outputId": "15ab105d-4a6e-4421-d760-0a2338c28926"
      },
      "execution_count": null,
      "outputs": [
        {
          "output_type": "stream",
          "name": "stdout",
          "text": [
            "Algo: KNNBasic, UserID: 224  , ItemID: 258  , UserRateForItem:   2.0, date: 1997-12-28\n",
            "Number of train ratings: 75000\n",
            "Computing the msd similarity matrix...\n",
            "Done computing similarity matrix.\n",
            "user: 224        item: 258        r_ui = 2.00   est = 3.44   {'actual_k': 40, 'was_impossible': False}\n",
            "Number of test ratings: 25000\n",
            "RMSE: 0.9797\n"
          ]
        }
      ]
    },
    {
      "cell_type": "code",
      "source": [
        "algo_cv.update(data_cross_validate(algo, data))"
      ],
      "metadata": {
        "colab": {
          "base_uri": "https://localhost:8080/"
        },
        "id": "ZrM3m5dh-MTt",
        "outputId": "cbaf198c-5296-4715-d68f-d7421e0c8546"
      },
      "execution_count": null,
      "outputs": [
        {
          "output_type": "stream",
          "name": "stdout",
          "text": [
            "Algo: KNNBasic. Cross Validate: 5\n",
            "Computing the msd similarity matrix...\n",
            "Done computing similarity matrix.\n",
            "Computing the msd similarity matrix...\n",
            "Done computing similarity matrix.\n",
            "Computing the msd similarity matrix...\n",
            "Done computing similarity matrix.\n",
            "Computing the msd similarity matrix...\n",
            "Done computing similarity matrix.\n",
            "Computing the msd similarity matrix...\n",
            "Done computing similarity matrix.\n",
            "Evaluating RMSE, MAE of algorithm KNNBasic on 5 split(s).\n",
            "\n",
            "                  Fold 1  Fold 2  Fold 3  Fold 4  Fold 5  Mean    Std     \n",
            "RMSE (testset)    0.9836  0.9760  0.9811  0.9824  0.9656  0.9777  0.0066  \n",
            "MAE (testset)     0.7784  0.7710  0.7716  0.7761  0.7635  0.7721  0.0051  \n",
            "Fit time          0.36    0.36    0.36    0.34    0.34    0.35    0.01    \n",
            "Test time         3.21    3.14    4.16    3.51    3.18    3.44    0.38    \n",
            "mean_rmse=0.9777414456341657\n"
          ]
        }
      ]
    },
    {
      "cell_type": "markdown",
      "source": [
        "## Результати accuracy для різних алгоритмів"
      ],
      "metadata": {
        "id": "ZEf1LzGQH1qZ"
      }
    },
    {
      "cell_type": "code",
      "source": [
        "algo_split"
      ],
      "metadata": {
        "colab": {
          "base_uri": "https://localhost:8080/"
        },
        "id": "0s7f5PcQH_lH",
        "outputId": "b3db73e6-e0fc-4b65-9378-4d7e3b0c9986"
      },
      "execution_count": null,
      "outputs": [
        {
          "output_type": "execute_result",
          "data": {
            "text/plain": [
              "{'SVD': 0.939350013033626,\n",
              " 'SVDpp': 0.9256757440930949,\n",
              " 'NMF': 0.972056900155822,\n",
              " 'KNNBasic': 0.9796729617415642}"
            ]
          },
          "metadata": {},
          "execution_count": 391
        }
      ]
    },
    {
      "cell_type": "code",
      "source": [
        "algo_split_s = dict(sorted(algo_split.items(), key=lambda x: x[1]))"
      ],
      "metadata": {
        "id": "QslxVHDiIj8S"
      },
      "execution_count": null,
      "outputs": []
    },
    {
      "cell_type": "code",
      "source": [
        "import matplotlib.pyplot as plt\n",
        "\n",
        "def plot_algo(input_data: dict, title_type: str = \"\", ylabel_type: str=\"RMSE\"):\n",
        "  x = list(input_data.keys())\n",
        "  y = list(input_data.values())\n",
        "  plt.figure(figsize=(16, 5))\n",
        "  max_y = y[-1]*1.02\n",
        "  min_y = y[0]*.95\n",
        "  plt.ylim(min_y, max_y)\n",
        "  plt.title(f\"Результати {title_type} для різних алгоритмів\")\n",
        "  cmap = plt.get_cmap('Paired')\n",
        "  plt.bar(x, height=y, width=0.6, label=x, color=cmap(np.linspace(0, 1, len(x))))\n",
        "  plt.plot(x, y, \"o-\")\n",
        "  plt.xlabel(\"Назва алгоритму\")\n",
        "  plt.ylabel(ylabel_type)\n",
        "  plt.vlines(x[0], min_y, max_y, color=\"red\", linestyle=\"-.\", label=\"Best Algo, lower RMSE\")\n",
        "  plt.hlines(y[0], -0.3, x[-1], color=\"red\", linestyle=\"-.\")\n",
        "  for i, val in enumerate(y):\n",
        "      plt.text(x[i], val * 1.01, str(round(val,4)), ha='center', bbox=dict(facecolor='white', alpha=0.95))\n",
        "  plt.legend(loc=\"best\")\n",
        "  plt.show()"
      ],
      "metadata": {
        "id": "SojB-No_IrpS"
      },
      "execution_count": 451,
      "outputs": []
    },
    {
      "cell_type": "code",
      "source": [
        "plot_algo(algo_split_s, \"predict accuracy\", \" Значення RMSE\")"
      ],
      "metadata": {
        "colab": {
          "base_uri": "https://localhost:8080/",
          "height": 487
        },
        "id": "orw3cpgESMTs",
        "outputId": "c1d551b0-0814-4883-fc62-7a33000bb04d"
      },
      "execution_count": 452,
      "outputs": [
        {
          "output_type": "display_data",
          "data": {
            "text/plain": [
              "<Figure size 1600x500 with 1 Axes>"
            ],
            "image/png": "[encoded data removed]"
          },
          "metadata": {}
        }
      ]
    },
    {
      "cell_type": "markdown",
      "source": [
        "## Результати кросвалідації для різних алгоритмів"
      ],
      "metadata": {
        "id": "9oZbFr2xZnyM"
      }
    },
    {
      "cell_type": "code",
      "source": [
        "algo_cv"
      ],
      "metadata": {
        "colab": {
          "base_uri": "https://localhost:8080/"
        },
        "id": "5l5ekHeqZnba",
        "outputId": "d5440e00-98db-4e8a-c8f4-340e01311340"
      },
      "execution_count": null,
      "outputs": [
        {
          "output_type": "execute_result",
          "data": {
            "text/plain": [
              "{'SVD': 0.9375348177440541,\n",
              " 'SVDpp': 0.9190770510482373,\n",
              " 'NMF': 0.9618929341717644,\n",
              " 'KNNBasic': 0.9777414456341657}"
            ]
          },
          "metadata": {},
          "execution_count": 369
        }
      ]
    },
    {
      "cell_type": "code",
      "source": [
        "algo_cv_s = dict(sorted(algo_cv.items(), key=lambda x: x[1]))\n"
      ],
      "metadata": {
        "id": "yUon2b_nbUFS"
      },
      "execution_count": null,
      "outputs": []
    },
    {
      "cell_type": "code",
      "source": [
        "plot_algo(algo_cv_s, \"кросвалідації\", \"Середнє значення RMSE\")"
      ],
      "metadata": {
        "colab": {
          "base_uri": "https://localhost:8080/",
          "height": 487
        },
        "id": "ml6zoeumTjff",
        "outputId": "177cb0fa-d93d-4c1e-e942-b0ee0c53f15a"
      },
      "execution_count": 453,
      "outputs": [
        {
          "output_type": "display_data",
          "data": {
            "text/plain": [
              "<Figure size 1600x500 with 1 Axes>"
            ],
            "image/png": "[encoded data removed]"
          },
          "metadata": {}
        }
      ]
    },
    {
      "cell_type": "code",
      "source": [
        "print(f\"Best algo: {x[0]}, with RMSE: {y[0]:.4f}\")"
      ],
      "metadata": {
        "colab": {
          "base_uri": "https://localhost:8080/"
        },
        "id": "8zrVmBPKoSj_",
        "outputId": "50f5bec2-1304-4f06-e10e-40840dde9f27"
      },
      "execution_count": null,
      "outputs": [
        {
          "output_type": "stream",
          "name": "stdout",
          "text": [
            "Best algo: SVDpp, with RMSE: 0.9191\n"
          ]
        }
      ]
    },
    {
      "cell_type": "code",
      "source": [
        "best_algo = SVDpp"
      ],
      "metadata": {
        "id": "qodh0GyF6zry"
      },
      "execution_count": null,
      "outputs": []
    },
    {
      "cell_type": "markdown",
      "source": [
        "## GridSearchCV (SVDpp)"
      ],
      "metadata": {
        "id": "t9xezE86PB4A"
      }
    },
    {
      "cell_type": "code",
      "source": [
        "from surprise.model_selection import GridSearchCV\n",
        "\n",
        "param_grid = {\"random_state\": [SEED],\n",
        "              \"n_epochs\": [15, 20], \"lr_all\": [0.007], \"reg_all\": [0.02, 0.2]\n",
        "              }\n",
        "gs = GridSearchCV(best_algo, param_grid, measures=[\"rmse\"], cv=5, n_jobs=-1)\n",
        "\n",
        "%time gs.fit(data)\n",
        "\n",
        "# best RMSE score\n",
        "print(gs.best_score[\"rmse\"])\n",
        "\n",
        "# combination of parameters that gave the best RMSE score\n",
        "best_params = gs.best_params[\"rmse\"]\n",
        "print(f\"{best_params=}\")"
      ],
      "metadata": {
        "colab": {
          "base_uri": "https://localhost:8080/"
        },
        "id": "3xG17GmmPClu",
        "outputId": "956796d2-7b6b-495f-9ee7-5b609290aea4"
      },
      "execution_count": 454,
      "outputs": [
        {
          "output_type": "stream",
          "name": "stdout",
          "text": [
            "CPU times: user 7.5 s, sys: 793 ms, total: 8.29 s\n",
            "Wall time: 7min 35s\n",
            "0.9169145917193713\n",
            "best_params={'random_state': 42, 'n_epochs': 15, 'lr_all': 0.007, 'reg_all': 0.02}\n"
          ]
        }
      ]
    },
    {
      "cell_type": "markdown",
      "source": [
        "#### Звіт роботи GridSearchCV для всіх комбінацій параметрів"
      ],
      "metadata": {
        "id": "-hEdiA9J8XbC"
      }
    },
    {
      "cell_type": "code",
      "source": [
        "results_df = pd.DataFrame.from_dict(gs.cv_results)\n",
        "results_df.head(10)"
      ],
      "metadata": {
        "colab": {
          "base_uri": "https://localhost:8080/",
          "height": 333
        },
        "id": "RE51ObkqRAua",
        "outputId": "3b4a195a-1ff2-4dae-9f7b-434e1df41d79"
      },
      "execution_count": null,
      "outputs": [
        {
          "output_type": "execute_result",
          "data": {
            "text/plain": [
              "   split0_test_rmse  split1_test_rmse  split2_test_rmse  split3_test_rmse  \\\n",
              "0          0.915988          0.918206          0.917581          0.916643   \n",
              "1          0.946464          0.943990          0.947322          0.947242   \n",
              "2          0.917198          0.920777          0.918599          0.917463   \n",
              "3          0.945470          0.942564          0.946170          0.945809   \n",
              "\n",
              "   split4_test_rmse  mean_test_rmse  std_test_rmse  rank_test_rmse  \\\n",
              "0          0.920528        0.917789       0.001567               1   \n",
              "1          0.949369        0.946877       0.001735               4   \n",
              "2          0.923271        0.919462       0.002285               2   \n",
              "3          0.948102        0.945623       0.001781               3   \n",
              "\n",
              "   mean_fit_time  std_fit_time  mean_test_time  std_test_time  \\\n",
              "0      35.155508      2.427322        6.803699       0.751259   \n",
              "1      33.710876      0.480302        5.618330       0.249269   \n",
              "2      43.763857      0.469235        6.281698       0.499217   \n",
              "3      43.403884      0.194075        6.666643       0.288080   \n",
              "\n",
              "                                              params  param_random_state  \\\n",
              "0  {'random_state': 42, 'n_epochs': 15, 'lr_all':...                  42   \n",
              "1  {'random_state': 42, 'n_epochs': 15, 'lr_all':...                  42   \n",
              "2  {'random_state': 42, 'n_epochs': 20, 'lr_all':...                  42   \n",
              "3  {'random_state': 42, 'n_epochs': 20, 'lr_all':...                  42   \n",
              "\n",
              "   param_n_epochs  param_lr_all  param_reg_all  \n",
              "0              15         0.007           0.02  \n",
              "1              15         0.007           0.20  \n",
              "2              20         0.007           0.02  \n",
              "3              20         0.007           0.20  "
            ],
            "text/html": [
              "\n",
              "  <div id=\"df-3d0d6d61-20a8-41de-85cd-d89b172782d6\" class=\"colab-df-container\">\n",
              "    <div>\n",
              "<style scoped>\n",
              "    .dataframe tbody tr th:only-of-type {\n",
              "        vertical-align: middle;\n",
              "    }\n",
              "\n",
              "    .dataframe tbody tr th {\n",
              "        vertical-align: top;\n",
              "    }\n",
              "\n",
              "    .dataframe thead th {\n",
              "        text-align: right;\n",
              "    }\n",
              "</style>\n",
              "<table border=\"1\" class=\"dataframe\">\n",
              "  <thead>\n",
              "    <tr style=\"text-align: right;\">\n",
              "      <th></th>\n",
              "      <th>split0_test_rmse</th>\n",
              "      <th>split1_test_rmse</th>\n",
              "      <th>split2_test_rmse</th>\n",
              "      <th>split3_test_rmse</th>\n",
              "      <th>split4_test_rmse</th>\n",
              "      <th>mean_test_rmse</th>\n",
              "      <th>std_test_rmse</th>\n",
              "      <th>rank_test_rmse</th>\n",
              "      <th>mean_fit_time</th>\n",
              "      <th>std_fit_time</th>\n",
              "      <th>mean_test_time</th>\n",
              "      <th>std_test_time</th>\n",
              "      <th>params</th>\n",
              "      <th>param_random_state</th>\n",
              "      <th>param_n_epochs</th>\n",
              "      <th>param_lr_all</th>\n",
              "      <th>param_reg_all</th>\n",
              "    </tr>\n",
              "  </thead>\n",
              "  <tbody>\n",
              "    <tr>\n",
              "      <th>0</th>\n",
              "      <td>0.915988</td>\n",
              "      <td>0.918206</td>\n",
              "      <td>0.917581</td>\n",
              "      <td>0.916643</td>\n",
              "      <td>0.920528</td>\n",
              "      <td>0.917789</td>\n",
              "      <td>0.001567</td>\n",
              "      <td>1</td>\n",
              "      <td>35.155508</td>\n",
              "      <td>2.427322</td>\n",
              "      <td>6.803699</td>\n",
              "      <td>0.751259</td>\n",
              "      <td>{'random_state': 42, 'n_epochs': 15, 'lr_all':...</td>\n",
              "      <td>42</td>\n",
              "      <td>15</td>\n",
              "      <td>0.007</td>\n",
              "      <td>0.02</td>\n",
              "    </tr>\n",
              "    <tr>\n",
              "      <th>1</th>\n",
              "      <td>0.946464</td>\n",
              "      <td>0.943990</td>\n",
              "      <td>0.947322</td>\n",
              "      <td>0.947242</td>\n",
              "      <td>0.949369</td>\n",
              "      <td>0.946877</td>\n",
              "      <td>0.001735</td>\n",
              "      <td>4</td>\n",
              "      <td>33.710876</td>\n",
              "      <td>0.480302</td>\n",
              "      <td>5.618330</td>\n",
              "      <td>0.249269</td>\n",
              "      <td>{'random_state': 42, 'n_epochs': 15, 'lr_all':...</td>\n",
              "      <td>42</td>\n",
              "      <td>15</td>\n",
              "      <td>0.007</td>\n",
              "      <td>0.20</td>\n",
              "    </tr>\n",
              "    <tr>\n",
              "      <th>2</th>\n",
              "      <td>0.917198</td>\n",
              "      <td>0.920777</td>\n",
              "      <td>0.918599</td>\n",
              "      <td>0.917463</td>\n",
              "      <td>0.923271</td>\n",
              "      <td>0.919462</td>\n",
              "      <td>0.002285</td>\n",
              "      <td>2</td>\n",
              "      <td>43.763857</td>\n",
              "      <td>0.469235</td>\n",
              "      <td>6.281698</td>\n",
              "      <td>0.499217</td>\n",
              "      <td>{'random_state': 42, 'n_epochs': 20, 'lr_all':...</td>\n",
              "      <td>42</td>\n",
              "      <td>20</td>\n",
              "      <td>0.007</td>\n",
              "      <td>0.02</td>\n",
              "    </tr>\n",
              "    <tr>\n",
              "      <th>3</th>\n",
              "      <td>0.945470</td>\n",
              "      <td>0.942564</td>\n",
              "      <td>0.946170</td>\n",
              "      <td>0.945809</td>\n",
              "      <td>0.948102</td>\n",
              "      <td>0.945623</td>\n",
              "      <td>0.001781</td>\n",
              "      <td>3</td>\n",
              "      <td>43.403884</td>\n",
              "      <td>0.194075</td>\n",
              "      <td>6.666643</td>\n",
              "      <td>0.288080</td>\n",
              "      <td>{'random_state': 42, 'n_epochs': 20, 'lr_all':...</td>\n",
              "      <td>42</td>\n",
              "      <td>20</td>\n",
              "      <td>0.007</td>\n",
              "      <td>0.20</td>\n",
              "    </tr>\n",
              "  </tbody>\n",
              "</table>\n",
              "</div>\n",
              "    <div class=\"colab-df-buttons\">\n",
              "\n",
              "  <div class=\"colab-df-container\">\n",
              "    <button class=\"colab-df-convert\" onclick=\"convertToInteractive('df-3d0d6d61-20a8-41de-85cd-d89b172782d6')\"\n",
              "            title=\"Convert this dataframe to an interactive table.\"\n",
              "            style=\"display:none;\">\n",
              "\n",
              "  <svg xmlns=\"http://www.w3.org/2000/svg\" height=\"24px\" viewBox=\"0 -960 960 960\">\n",
              "    <path d=\"M120-120v-720h720v720H120Zm60-500h600v-160H180v160Zm220 220h160v-160H400v160Zm0 220h160v-160H400v160ZM180-400h160v-160H180v160Zm440 0h160v-160H620v160ZM180-180h160v-160H180v160Zm440 0h160v-160H620v160Z\"/>\n",
              "  </svg>\n",
              "    </button>\n",
              "\n",
              "  <style>\n",
              "    .colab-df-container {\n",
              "      display:flex;\n",
              "      gap: 12px;\n",
              "    }\n",
              "\n",
              "    .colab-df-convert {\n",
              "      background-color: #E8F0FE;\n",
              "      border: none;\n",
              "      border-radius: 50%;\n",
              "      cursor: pointer;\n",
              "      display: none;\n",
              "      fill: #1967D2;\n",
              "      height: 32px;\n",
              "      padding: 0 0 0 0;\n",
              "      width: 32px;\n",
              "    }\n",
              "\n",
              "    .colab-df-convert:hover {\n",
              "      background-color: #E2EBFA;\n",
              "      box-shadow: 0px 1px 2px rgba(60, 64, 67, 0.3), 0px 1px 3px 1px rgba(60, 64, 67, 0.15);\n",
              "      fill: #174EA6;\n",
              "    }\n",
              "\n",
              "    .colab-df-buttons div {\n",
              "      margin-bottom: 4px;\n",
              "    }\n",
              "\n",
              "    [theme=dark] .colab-df-convert {\n",
              "      background-color: #3B4455;\n",
              "      fill: #D2E3FC;\n",
              "    }\n",
              "\n",
              "    [theme=dark] .colab-df-convert:hover {\n",
              "      background-color: #434B5C;\n",
              "      box-shadow: 0px 1px 3px 1px rgba(0, 0, 0, 0.15);\n",
              "      filter: drop-shadow(0px 1px 2px rgba(0, 0, 0, 0.3));\n",
              "      fill: #FFFFFF;\n",
              "    }\n",
              "  </style>\n",
              "\n",
              "    <script>\n",
              "      const buttonEl =\n",
              "        document.querySelector('#df-3d0d6d61-20a8-41de-85cd-d89b172782d6 button.colab-df-convert');\n",
              "      buttonEl.style.display =\n",
              "        google.colab.kernel.accessAllowed ? 'block' : 'none';\n",
              "\n",
              "      async function convertToInteractive(key) {\n",
              "        const element = document.querySelector('#df-3d0d6d61-20a8-41de-85cd-d89b172782d6');\n",
              "        const dataTable =\n",
              "          await google.colab.kernel.invokeFunction('convertToInteractive',\n",
              "                                                    [key], {});\n",
              "        if (!dataTable) return;\n",
              "\n",
              "        const docLinkHtml = 'Like what you see? Visit the ' +\n",
              "          '<a target=\"_blank\" href=https://colab.research.google.com/notebooks/data_table.ipynb>data table notebook</a>'\n",
              "          + ' to learn more about interactive tables.';\n",
              "        element.innerHTML = '';\n",
              "        dataTable['output_type'] = 'display_data';\n",
              "        await google.colab.output.renderOutput(dataTable, element);\n",
              "        const docLink = document.createElement('div');\n",
              "        docLink.innerHTML = docLinkHtml;\n",
              "        element.appendChild(docLink);\n",
              "      }\n",
              "    </script>\n",
              "  </div>\n",
              "\n",
              "\n",
              "<div id=\"df-2591ea58-0747-43b3-a3bf-afe7db9e9359\">\n",
              "  <button class=\"colab-df-quickchart\" onclick=\"quickchart('df-2591ea58-0747-43b3-a3bf-afe7db9e9359')\"\n",
              "            title=\"Suggest charts\"\n",
              "            style=\"display:none;\">\n",
              "\n",
              "<svg xmlns=\"http://www.w3.org/2000/svg\" height=\"24px\"viewBox=\"0 0 24 24\"\n",
              "     width=\"24px\">\n",
              "    <g>\n",
              "        <path d=\"M19 3H5c-1.1 0-2 .9-2 2v14c0 1.1.9 2 2 2h14c1.1 0 2-.9 2-2V5c0-1.1-.9-2-2-2zM9 17H7v-7h2v7zm4 0h-2V7h2v10zm4 0h-2v-4h2v4z\"/>\n",
              "    </g>\n",
              "</svg>\n",
              "  </button>\n",
              "\n",
              "<style>\n",
              "  .colab-df-quickchart {\n",
              "      --bg-color: #E8F0FE;\n",
              "      --fill-color: #1967D2;\n",
              "      --hover-bg-color: #E2EBFA;\n",
              "      --hover-fill-color: #174EA6;\n",
              "      --disabled-fill-color: #AAA;\n",
              "      --disabled-bg-color: #DDD;\n",
              "  }\n",
              "\n",
              "  [theme=dark] .colab-df-quickchart {\n",
              "      --bg-color: #3B4455;\n",
              "      --fill-color: #D2E3FC;\n",
              "      --hover-bg-color: #434B5C;\n",
              "      --hover-fill-color: #FFFFFF;\n",
              "      --disabled-bg-color: #3B4455;\n",
              "      --disabled-fill-color: #666;\n",
              "  }\n",
              "\n",
              "  .colab-df-quickchart {\n",
              "    background-color: var(--bg-color);\n",
              "    border: none;\n",
              "    border-radius: 50%;\n",
              "    cursor: pointer;\n",
              "    display: none;\n",
              "    fill: var(--fill-color);\n",
              "    height: 32px;\n",
              "    padding: 0;\n",
              "    width: 32px;\n",
              "  }\n",
              "\n",
              "  .colab-df-quickchart:hover {\n",
              "    background-color: var(--hover-bg-color);\n",
              "    box-shadow: 0 1px 2px rgba(60, 64, 67, 0.3), 0 1px 3px 1px rgba(60, 64, 67, 0.15);\n",
              "    fill: var(--button-hover-fill-color);\n",
              "  }\n",
              "\n",
              "  .colab-df-quickchart-complete:disabled,\n",
              "  .colab-df-quickchart-complete:disabled:hover {\n",
              "    background-color: var(--disabled-bg-color);\n",
              "    fill: var(--disabled-fill-color);\n",
              "    box-shadow: none;\n",
              "  }\n",
              "\n",
              "  .colab-df-spinner {\n",
              "    border: 2px solid var(--fill-color);\n",
              "    border-color: transparent;\n",
              "    border-bottom-color: var(--fill-color);\n",
              "    animation:\n",
              "      spin 1s steps(1) infinite;\n",
              "  }\n",
              "\n",
              "  @keyframes spin {\n",
              "    0% {\n",
              "      border-color: transparent;\n",
              "      border-bottom-color: var(--fill-color);\n",
              "      border-left-color: var(--fill-color);\n",
              "    }\n",
              "    20% {\n",
              "      border-color: transparent;\n",
              "      border-left-color: var(--fill-color);\n",
              "      border-top-color: var(--fill-color);\n",
              "    }\n",
              "    30% {\n",
              "      border-color: transparent;\n",
              "      border-left-color: var(--fill-color);\n",
              "      border-top-color: var(--fill-color);\n",
              "      border-right-color: var(--fill-color);\n",
              "    }\n",
              "    40% {\n",
              "      border-color: transparent;\n",
              "      border-right-color: var(--fill-color);\n",
              "      border-top-color: var(--fill-color);\n",
              "    }\n",
              "    60% {\n",
              "      border-color: transparent;\n",
              "      border-right-color: var(--fill-color);\n",
              "    }\n",
              "    80% {\n",
              "      border-color: transparent;\n",
              "      border-right-color: var(--fill-color);\n",
              "      border-bottom-color: var(--fill-color);\n",
              "    }\n",
              "    90% {\n",
              "      border-color: transparent;\n",
              "      border-bottom-color: var(--fill-color);\n",
              "    }\n",
              "  }\n",
              "</style>\n",
              "\n",
              "  <script>\n",
              "    async function quickchart(key) {\n",
              "      const quickchartButtonEl =\n",
              "        document.querySelector('#' + key + ' button');\n",
              "      quickchartButtonEl.disabled = true;  // To prevent multiple clicks.\n",
              "      quickchartButtonEl.classList.add('colab-df-spinner');\n",
              "      try {\n",
              "        const charts = await google.colab.kernel.invokeFunction(\n",
              "            'suggestCharts', [key], {});\n",
              "      } catch (error) {\n",
              "        console.error('Error during call to suggestCharts:', error);\n",
              "      }\n",
              "      quickchartButtonEl.classList.remove('colab-df-spinner');\n",
              "      quickchartButtonEl.classList.add('colab-df-quickchart-complete');\n",
              "    }\n",
              "    (() => {\n",
              "      let quickchartButtonEl =\n",
              "        document.querySelector('#df-2591ea58-0747-43b3-a3bf-afe7db9e9359 button');\n",
              "      quickchartButtonEl.style.display =\n",
              "        google.colab.kernel.accessAllowed ? 'block' : 'none';\n",
              "    })();\n",
              "  </script>\n",
              "</div>\n",
              "    </div>\n",
              "  </div>\n"
            ]
          },
          "metadata": {},
          "execution_count": 375
        }
      ]
    },
    {
      "cell_type": "markdown",
      "source": [
        "#### навчання на full_trainset для найкращого алгоритму"
      ],
      "metadata": {
        "id": "7bF8ur3t79PC"
      }
    },
    {
      "cell_type": "code",
      "source": [
        "# We can now use the algorithm that yields the best rmse:\n",
        "algo = gs.best_estimator[\"rmse\"]"
      ],
      "metadata": {
        "id": "rwvpU1k9Qtgf"
      },
      "execution_count": 455,
      "outputs": []
    },
    {
      "cell_type": "markdown",
      "source": [
        "## Найкращі рекомендації для користувачів (SVDpp):"
      ],
      "metadata": {
        "id": "NmFGtg1lSWng"
      }
    },
    {
      "cell_type": "code",
      "source": [
        "from collections import defaultdict\n",
        "\n",
        "\n",
        "def get_top_n(predictions, n=10):\n",
        "    \"\"\"Return the top-N recommendation for each user from a set of predictions.\n",
        "\n",
        "    Args:\n",
        "        predictions(list of Prediction objects): The list of predictions, as\n",
        "            returned by the test method of an algorithm.\n",
        "        n(int): The number of recommendation to output for each user. Default\n",
        "            is 10.\n",
        "\n",
        "    Returns:\n",
        "    A dict where keys are user (raw) ids and values are lists of tuples:\n",
        "        [(raw item id, rating estimation), ...] of size n.\n",
        "    \"\"\"\n",
        "\n",
        "    # First map the predictions to each user.\n",
        "    top_n = defaultdict(list)\n",
        "    for uid, iid, true_r, est, _ in predictions:\n",
        "        top_n[uid].append((iid, est))\n",
        "\n",
        "    # Then sort the predictions for each user and retrieve the k highest ones.\n",
        "    for uid, user_ratings in top_n.items():\n",
        "        user_ratings.sort(key=lambda x: x[1], reverse=True)\n",
        "        top_n[uid] = user_ratings[:n]\n",
        "\n",
        "    return top_n"
      ],
      "metadata": {
        "id": "sUtJHoN-SXaz"
      },
      "execution_count": 456,
      "outputs": []
    },
    {
      "cell_type": "code",
      "source": [
        "# First train an SVD algorithm on the movielens dataset.\n",
        "trainset = data.build_full_trainset()\n",
        "\n",
        "# # best value from GridSearchCV\n",
        "# algo_param = {'random_state': SEED, 'n_epochs': 20, 'lr_all': 0.005, 'reg_all': 0.02}\n",
        "print(algo.__class__.__name__, \"params:\", best_params)\n",
        "# algo = SVDpp(**algo_param)\n",
        "%time algo.fit(trainset)\n",
        "\n",
        "# Than predict ratings for all pairs (u, i) that are NOT in the training set.\n",
        "testset = trainset.build_anti_testset()\n",
        "%time predictions = algo.test(testset)"
      ],
      "metadata": {
        "colab": {
          "base_uri": "https://localhost:8080/"
        },
        "id": "Qc14fUnHGuVi",
        "outputId": "f0e3a5e0-fd10-425b-df6c-6dda35fd88ef"
      },
      "execution_count": 457,
      "outputs": [
        {
          "output_type": "stream",
          "name": "stdout",
          "text": [
            "SVDpp params: {'random_state': 42, 'n_epochs': 15, 'lr_all': 0.007, 'reg_all': 0.02}\n",
            "CPU times: user 32.3 s, sys: 66.7 ms, total: 32.4 s\n",
            "Wall time: 33.4 s\n",
            "CPU times: user 3min 6s, sys: 7.3 s, total: 3min 13s\n",
            "Wall time: 3min 9s\n"
          ]
        }
      ]
    },
    {
      "cell_type": "code",
      "source": [
        "recomendations = 5\n",
        "top_n = get_top_n(predictions, n=recomendations)\n",
        "\n",
        "counter=15\n",
        "# Print the recommended items for each user\n",
        "print(f\"Найкращі рекомендації для перших {counter} користувачів:\\n\")\n",
        "\n",
        "for uid, user_ratings in top_n.items():\n",
        "    recomend = [f\"{iid:5}: {'*'*round(est):5} ({est:.2f})\" for (iid, est) in user_ratings]\n",
        "    print(f\"Для користувача: {uid:5} ,  Найкращі {recomendations} рекомендацій: {recomend}\")\n",
        "    counter -= 1\n",
        "    if counter <= 0:\n",
        "      break"
      ],
      "metadata": {
        "colab": {
          "base_uri": "https://localhost:8080/"
        },
        "id": "_692eM54DUzj",
        "outputId": "c2a1a40c-b813-49c4-c896-47dbc2826feb"
      },
      "execution_count": 458,
      "outputs": [
        {
          "output_type": "stream",
          "name": "stdout",
          "text": [
            "Найкращі рекомендації для перших 15 користувачів:\n",
            "\n",
            "Для користувача: 196   ,  Найкращі 5 рекомендацій: ['318  : ****  (4.44)', '169  : ****  (4.43)', '408  : ****  (4.37)', '483  : ****  (4.33)', '515  : ****  (4.29)']\n",
            "Для користувача: 186   ,  Найкращі 5 рекомендацій: ['318  : ****  (4.49)', '174  : ****  (4.38)', '64   : ****  (4.37)', '143  : ****  (4.34)', '169  : ****  (4.31)']\n",
            "Для користувача: 22    ,  Найкращі 5 рекомендацій: ['169  : ***** (4.94)', '64   : ***** (4.85)', '408  : ***** (4.77)', '199  : ***** (4.75)', '313  : ***** (4.74)']\n",
            "Для користувача: 244   ,  Найкращі 5 рекомендацій: ['127  : ***** (5.00)', '408  : ***** (4.95)', '187  : ***** (4.92)', '12   : ***** (4.89)', '1449 : ***** (4.87)']\n",
            "Для користувача: 166   ,  Найкращі 5 рекомендацій: ['169  : ***** (4.66)', '318  : ***** (4.64)', '174  : ***** (4.63)', '408  : ***** (4.58)', '22   : ***** (4.57)']\n",
            "Для користувача: 298   ,  Найкращі 5 рекомендацій: ['408  : ***** (4.68)', '169  : ***** (4.67)', '64   : ***** (4.65)', '114  : ***** (4.52)', '515  : ***** (4.51)']\n",
            "Для користувача: 115   ,  Найкращі 5 рекомендацій: ['408  : ***** (5.00)', '179  : ***** (4.96)', '285  : ***** (4.85)', '134  : ***** (4.84)', '474  : ***** (4.81)']\n",
            "Для користувача: 253   ,  Найкращі 5 рекомендацій: ['174  : ***** (4.69)', '272  : ***** (4.60)', '313  : ***** (4.59)', '603  : ***** (4.58)', '169  : ***** (4.56)']\n",
            "Для користувача: 305   ,  Найкращі 5 рекомендацій: ['657  : ****  (4.19)', '515  : ****  (4.15)', '114  : ****  (4.13)', '603  : ****  (4.13)', '513  : ****  (4.07)']\n",
            "Для користувача: 6     ,  Найкращі 5 рекомендацій: ['603  : ****  (4.46)', '657  : ****  (4.32)', '923  : ****  (4.31)', '251  : ****  (4.29)', '48   : ****  (4.28)']\n",
            "Для користувача: 62    ,  Найкращі 5 рекомендацій: ['169  : ****  (4.39)', '654  : ****  (4.32)', '963  : ****  (4.30)', '408  : ****  (4.29)', '187  : ****  (4.28)']\n",
            "Для користувача: 286   ,  Найкращі 5 рекомендацій: ['318  : ***** (4.80)', '480  : ***** (4.66)', '114  : ***** (4.64)', '515  : ***** (4.62)', '134  : ***** (4.61)']\n",
            "Для користувача: 200   ,  Найкращі 5 рекомендацій: ['181  : ***** (5.00)', '64   : ***** (5.00)', '12   : ***** (4.92)', '272  : ***** (4.88)', '316  : ***** (4.79)']\n",
            "Для користувача: 210   ,  Найкращі 5 рекомендацій: ['64   : ***** (4.85)', '603  : ***** (4.80)', '318  : ***** (4.79)', '169  : ***** (4.77)', '12   : ***** (4.77)']\n",
            "Для користувача: 224   ,  Найкращі 5 рекомендацій: ['174  : ****  (4.31)', '121  : ****  (4.29)', '96   : ****  (4.16)', '210  : ****  (4.12)', '117  : ****  (4.08)']\n"
          ]
        }
      ]
    }
  ]
}